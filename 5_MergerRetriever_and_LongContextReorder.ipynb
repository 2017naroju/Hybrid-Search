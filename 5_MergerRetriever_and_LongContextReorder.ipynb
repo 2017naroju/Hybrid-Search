{
  "nbformat": 4,
  "nbformat_minor": 0,
  "metadata": {
    "colab": {
      "provenance": [],
      "gpuType": "T4"
    },
    "kernelspec": {
      "name": "python3",
      "display_name": "Python 3"
    },
    "language_info": {
      "name": "python"
    },
    "accelerator": "GPU",
    "widgets": {
      "application/vnd.jupyter.widget-state+json": {
        "f0199c681da84d4fb74ad46d237fc6b7": {
          "model_module": "@jupyter-widgets/controls",
          "model_name": "HBoxModel",
          "model_module_version": "1.5.0",
          "state": {
            "_dom_classes": [],
            "_model_module": "@jupyter-widgets/controls",
            "_model_module_version": "1.5.0",
            "_model_name": "HBoxModel",
            "_view_count": null,
            "_view_module": "@jupyter-widgets/controls",
            "_view_module_version": "1.5.0",
            "_view_name": "HBoxView",
            "box_style": "",
            "children": [
              "IPY_MODEL_0b30467c57d044aa80d216f2ff54fb6d",
              "IPY_MODEL_f6919fa8b7994711824c54cf6658d604",
              "IPY_MODEL_20e890e1656145259854218263188697"
            ],
            "layout": "IPY_MODEL_940f6aaa684f44b9b7dcc4503f2b76f4"
          }
        },
        "0b30467c57d044aa80d216f2ff54fb6d": {
          "model_module": "@jupyter-widgets/controls",
          "model_name": "HTMLModel",
          "model_module_version": "1.5.0",
          "state": {
            "_dom_classes": [],
            "_model_module": "@jupyter-widgets/controls",
            "_model_module_version": "1.5.0",
            "_model_name": "HTMLModel",
            "_view_count": null,
            "_view_module": "@jupyter-widgets/controls",
            "_view_module_version": "1.5.0",
            "_view_name": "HTMLView",
            "description": "",
            "description_tooltip": null,
            "layout": "IPY_MODEL_dd076b753c0341e0861c60b8a56fe7fc",
            "placeholder": "​",
            "style": "IPY_MODEL_a187c8f68a5c408198d0ca4f1d19cb98",
            "value": "modules.json: 100%"
          }
        },
        "f6919fa8b7994711824c54cf6658d604": {
          "model_module": "@jupyter-widgets/controls",
          "model_name": "FloatProgressModel",
          "model_module_version": "1.5.0",
          "state": {
            "_dom_classes": [],
            "_model_module": "@jupyter-widgets/controls",
            "_model_module_version": "1.5.0",
            "_model_name": "FloatProgressModel",
            "_view_count": null,
            "_view_module": "@jupyter-widgets/controls",
            "_view_module_version": "1.5.0",
            "_view_name": "ProgressView",
            "bar_style": "success",
            "description": "",
            "description_tooltip": null,
            "layout": "IPY_MODEL_259108a082b14c5fa26d59f5f7b76e30",
            "max": 349,
            "min": 0,
            "orientation": "horizontal",
            "style": "IPY_MODEL_cf4f0b9f27bc4f99b5cf97763734835a",
            "value": 349
          }
        },
        "20e890e1656145259854218263188697": {
          "model_module": "@jupyter-widgets/controls",
          "model_name": "HTMLModel",
          "model_module_version": "1.5.0",
          "state": {
            "_dom_classes": [],
            "_model_module": "@jupyter-widgets/controls",
            "_model_module_version": "1.5.0",
            "_model_name": "HTMLModel",
            "_view_count": null,
            "_view_module": "@jupyter-widgets/controls",
            "_view_module_version": "1.5.0",
            "_view_name": "HTMLView",
            "description": "",
            "description_tooltip": null,
            "layout": "IPY_MODEL_b21edc56ba194b8695cb10b666940d92",
            "placeholder": "​",
            "style": "IPY_MODEL_be29fb81d3cb4ef48a7b1c4952cdd705",
            "value": " 349/349 [00:00&lt;00:00, 24.0kB/s]"
          }
        },
        "940f6aaa684f44b9b7dcc4503f2b76f4": {
          "model_module": "@jupyter-widgets/base",
          "model_name": "LayoutModel",
          "model_module_version": "1.2.0",
          "state": {
            "_model_module": "@jupyter-widgets/base",
            "_model_module_version": "1.2.0",
            "_model_name": "LayoutModel",
            "_view_count": null,
            "_view_module": "@jupyter-widgets/base",
            "_view_module_version": "1.2.0",
            "_view_name": "LayoutView",
            "align_content": null,
            "align_items": null,
            "align_self": null,
            "border": null,
            "bottom": null,
            "display": null,
            "flex": null,
            "flex_flow": null,
            "grid_area": null,
            "grid_auto_columns": null,
            "grid_auto_flow": null,
            "grid_auto_rows": null,
            "grid_column": null,
            "grid_gap": null,
            "grid_row": null,
            "grid_template_areas": null,
            "grid_template_columns": null,
            "grid_template_rows": null,
            "height": null,
            "justify_content": null,
            "justify_items": null,
            "left": null,
            "margin": null,
            "max_height": null,
            "max_width": null,
            "min_height": null,
            "min_width": null,
            "object_fit": null,
            "object_position": null,
            "order": null,
            "overflow": null,
            "overflow_x": null,
            "overflow_y": null,
            "padding": null,
            "right": null,
            "top": null,
            "visibility": null,
            "width": null
          }
        },
        "dd076b753c0341e0861c60b8a56fe7fc": {
          "model_module": "@jupyter-widgets/base",
          "model_name": "LayoutModel",
          "model_module_version": "1.2.0",
          "state": {
            "_model_module": "@jupyter-widgets/base",
            "_model_module_version": "1.2.0",
            "_model_name": "LayoutModel",
            "_view_count": null,
            "_view_module": "@jupyter-widgets/base",
            "_view_module_version": "1.2.0",
            "_view_name": "LayoutView",
            "align_content": null,
            "align_items": null,
            "align_self": null,
            "border": null,
            "bottom": null,
            "display": null,
            "flex": null,
            "flex_flow": null,
            "grid_area": null,
            "grid_auto_columns": null,
            "grid_auto_flow": null,
            "grid_auto_rows": null,
            "grid_column": null,
            "grid_gap": null,
            "grid_row": null,
            "grid_template_areas": null,
            "grid_template_columns": null,
            "grid_template_rows": null,
            "height": null,
            "justify_content": null,
            "justify_items": null,
            "left": null,
            "margin": null,
            "max_height": null,
            "max_width": null,
            "min_height": null,
            "min_width": null,
            "object_fit": null,
            "object_position": null,
            "order": null,
            "overflow": null,
            "overflow_x": null,
            "overflow_y": null,
            "padding": null,
            "right": null,
            "top": null,
            "visibility": null,
            "width": null
          }
        },
        "a187c8f68a5c408198d0ca4f1d19cb98": {
          "model_module": "@jupyter-widgets/controls",
          "model_name": "DescriptionStyleModel",
          "model_module_version": "1.5.0",
          "state": {
            "_model_module": "@jupyter-widgets/controls",
            "_model_module_version": "1.5.0",
            "_model_name": "DescriptionStyleModel",
            "_view_count": null,
            "_view_module": "@jupyter-widgets/base",
            "_view_module_version": "1.2.0",
            "_view_name": "StyleView",
            "description_width": ""
          }
        },
        "259108a082b14c5fa26d59f5f7b76e30": {
          "model_module": "@jupyter-widgets/base",
          "model_name": "LayoutModel",
          "model_module_version": "1.2.0",
          "state": {
            "_model_module": "@jupyter-widgets/base",
            "_model_module_version": "1.2.0",
            "_model_name": "LayoutModel",
            "_view_count": null,
            "_view_module": "@jupyter-widgets/base",
            "_view_module_version": "1.2.0",
            "_view_name": "LayoutView",
            "align_content": null,
            "align_items": null,
            "align_self": null,
            "border": null,
            "bottom": null,
            "display": null,
            "flex": null,
            "flex_flow": null,
            "grid_area": null,
            "grid_auto_columns": null,
            "grid_auto_flow": null,
            "grid_auto_rows": null,
            "grid_column": null,
            "grid_gap": null,
            "grid_row": null,
            "grid_template_areas": null,
            "grid_template_columns": null,
            "grid_template_rows": null,
            "height": null,
            "justify_content": null,
            "justify_items": null,
            "left": null,
            "margin": null,
            "max_height": null,
            "max_width": null,
            "min_height": null,
            "min_width": null,
            "object_fit": null,
            "object_position": null,
            "order": null,
            "overflow": null,
            "overflow_x": null,
            "overflow_y": null,
            "padding": null,
            "right": null,
            "top": null,
            "visibility": null,
            "width": null
          }
        },
        "cf4f0b9f27bc4f99b5cf97763734835a": {
          "model_module": "@jupyter-widgets/controls",
          "model_name": "ProgressStyleModel",
          "model_module_version": "1.5.0",
          "state": {
            "_model_module": "@jupyter-widgets/controls",
            "_model_module_version": "1.5.0",
            "_model_name": "ProgressStyleModel",
            "_view_count": null,
            "_view_module": "@jupyter-widgets/base",
            "_view_module_version": "1.2.0",
            "_view_name": "StyleView",
            "bar_color": null,
            "description_width": ""
          }
        },
        "b21edc56ba194b8695cb10b666940d92": {
          "model_module": "@jupyter-widgets/base",
          "model_name": "LayoutModel",
          "model_module_version": "1.2.0",
          "state": {
            "_model_module": "@jupyter-widgets/base",
            "_model_module_version": "1.2.0",
            "_model_name": "LayoutModel",
            "_view_count": null,
            "_view_module": "@jupyter-widgets/base",
            "_view_module_version": "1.2.0",
            "_view_name": "LayoutView",
            "align_content": null,
            "align_items": null,
            "align_self": null,
            "border": null,
            "bottom": null,
            "display": null,
            "flex": null,
            "flex_flow": null,
            "grid_area": null,
            "grid_auto_columns": null,
            "grid_auto_flow": null,
            "grid_auto_rows": null,
            "grid_column": null,
            "grid_gap": null,
            "grid_row": null,
            "grid_template_areas": null,
            "grid_template_columns": null,
            "grid_template_rows": null,
            "height": null,
            "justify_content": null,
            "justify_items": null,
            "left": null,
            "margin": null,
            "max_height": null,
            "max_width": null,
            "min_height": null,
            "min_width": null,
            "object_fit": null,
            "object_position": null,
            "order": null,
            "overflow": null,
            "overflow_x": null,
            "overflow_y": null,
            "padding": null,
            "right": null,
            "top": null,
            "visibility": null,
            "width": null
          }
        },
        "be29fb81d3cb4ef48a7b1c4952cdd705": {
          "model_module": "@jupyter-widgets/controls",
          "model_name": "DescriptionStyleModel",
          "model_module_version": "1.5.0",
          "state": {
            "_model_module": "@jupyter-widgets/controls",
            "_model_module_version": "1.5.0",
            "_model_name": "DescriptionStyleModel",
            "_view_count": null,
            "_view_module": "@jupyter-widgets/base",
            "_view_module_version": "1.2.0",
            "_view_name": "StyleView",
            "description_width": ""
          }
        },
        "03ebd7cdaa9f4d618f2ca585356f708d": {
          "model_module": "@jupyter-widgets/controls",
          "model_name": "HBoxModel",
          "model_module_version": "1.5.0",
          "state": {
            "_dom_classes": [],
            "_model_module": "@jupyter-widgets/controls",
            "_model_module_version": "1.5.0",
            "_model_name": "HBoxModel",
            "_view_count": null,
            "_view_module": "@jupyter-widgets/controls",
            "_view_module_version": "1.5.0",
            "_view_name": "HBoxView",
            "box_style": "",
            "children": [
              "IPY_MODEL_82f7c92f75e84d54826e70f31b05c4d2",
              "IPY_MODEL_7d40c30f88d54a339c27c30a84814fe1",
              "IPY_MODEL_b5bf3296df244efc9d0e8b29f7ed44f4"
            ],
            "layout": "IPY_MODEL_773bcaaef01d482f850bfa2b284c9333"
          }
        },
        "82f7c92f75e84d54826e70f31b05c4d2": {
          "model_module": "@jupyter-widgets/controls",
          "model_name": "HTMLModel",
          "model_module_version": "1.5.0",
          "state": {
            "_dom_classes": [],
            "_model_module": "@jupyter-widgets/controls",
            "_model_module_version": "1.5.0",
            "_model_name": "HTMLModel",
            "_view_count": null,
            "_view_module": "@jupyter-widgets/controls",
            "_view_module_version": "1.5.0",
            "_view_name": "HTMLView",
            "description": "",
            "description_tooltip": null,
            "layout": "IPY_MODEL_809645df2c1546e6a54ce61f50e85d2d",
            "placeholder": "​",
            "style": "IPY_MODEL_0a504b5b7a8f4d3fb241ca545aed7cda",
            "value": "config_sentence_transformers.json: 100%"
          }
        },
        "7d40c30f88d54a339c27c30a84814fe1": {
          "model_module": "@jupyter-widgets/controls",
          "model_name": "FloatProgressModel",
          "model_module_version": "1.5.0",
          "state": {
            "_dom_classes": [],
            "_model_module": "@jupyter-widgets/controls",
            "_model_module_version": "1.5.0",
            "_model_name": "FloatProgressModel",
            "_view_count": null,
            "_view_module": "@jupyter-widgets/controls",
            "_view_module_version": "1.5.0",
            "_view_name": "ProgressView",
            "bar_style": "success",
            "description": "",
            "description_tooltip": null,
            "layout": "IPY_MODEL_caa0373c4502457fbd76e1628954ad0d",
            "max": 124,
            "min": 0,
            "orientation": "horizontal",
            "style": "IPY_MODEL_7812e1ea257a4b8ab8c5ce24e57a3a40",
            "value": 124
          }
        },
        "b5bf3296df244efc9d0e8b29f7ed44f4": {
          "model_module": "@jupyter-widgets/controls",
          "model_name": "HTMLModel",
          "model_module_version": "1.5.0",
          "state": {
            "_dom_classes": [],
            "_model_module": "@jupyter-widgets/controls",
            "_model_module_version": "1.5.0",
            "_model_name": "HTMLModel",
            "_view_count": null,
            "_view_module": "@jupyter-widgets/controls",
            "_view_module_version": "1.5.0",
            "_view_name": "HTMLView",
            "description": "",
            "description_tooltip": null,
            "layout": "IPY_MODEL_28e1b65ad3dd4d1b9f057b4742d7e449",
            "placeholder": "​",
            "style": "IPY_MODEL_fd8fe5a209dd4fb8a183610e08abf007",
            "value": " 124/124 [00:00&lt;00:00, 7.81kB/s]"
          }
        },
        "773bcaaef01d482f850bfa2b284c9333": {
          "model_module": "@jupyter-widgets/base",
          "model_name": "LayoutModel",
          "model_module_version": "1.2.0",
          "state": {
            "_model_module": "@jupyter-widgets/base",
            "_model_module_version": "1.2.0",
            "_model_name": "LayoutModel",
            "_view_count": null,
            "_view_module": "@jupyter-widgets/base",
            "_view_module_version": "1.2.0",
            "_view_name": "LayoutView",
            "align_content": null,
            "align_items": null,
            "align_self": null,
            "border": null,
            "bottom": null,
            "display": null,
            "flex": null,
            "flex_flow": null,
            "grid_area": null,
            "grid_auto_columns": null,
            "grid_auto_flow": null,
            "grid_auto_rows": null,
            "grid_column": null,
            "grid_gap": null,
            "grid_row": null,
            "grid_template_areas": null,
            "grid_template_columns": null,
            "grid_template_rows": null,
            "height": null,
            "justify_content": null,
            "justify_items": null,
            "left": null,
            "margin": null,
            "max_height": null,
            "max_width": null,
            "min_height": null,
            "min_width": null,
            "object_fit": null,
            "object_position": null,
            "order": null,
            "overflow": null,
            "overflow_x": null,
            "overflow_y": null,
            "padding": null,
            "right": null,
            "top": null,
            "visibility": null,
            "width": null
          }
        },
        "809645df2c1546e6a54ce61f50e85d2d": {
          "model_module": "@jupyter-widgets/base",
          "model_name": "LayoutModel",
          "model_module_version": "1.2.0",
          "state": {
            "_model_module": "@jupyter-widgets/base",
            "_model_module_version": "1.2.0",
            "_model_name": "LayoutModel",
            "_view_count": null,
            "_view_module": "@jupyter-widgets/base",
            "_view_module_version": "1.2.0",
            "_view_name": "LayoutView",
            "align_content": null,
            "align_items": null,
            "align_self": null,
            "border": null,
            "bottom": null,
            "display": null,
            "flex": null,
            "flex_flow": null,
            "grid_area": null,
            "grid_auto_columns": null,
            "grid_auto_flow": null,
            "grid_auto_rows": null,
            "grid_column": null,
            "grid_gap": null,
            "grid_row": null,
            "grid_template_areas": null,
            "grid_template_columns": null,
            "grid_template_rows": null,
            "height": null,
            "justify_content": null,
            "justify_items": null,
            "left": null,
            "margin": null,
            "max_height": null,
            "max_width": null,
            "min_height": null,
            "min_width": null,
            "object_fit": null,
            "object_position": null,
            "order": null,
            "overflow": null,
            "overflow_x": null,
            "overflow_y": null,
            "padding": null,
            "right": null,
            "top": null,
            "visibility": null,
            "width": null
          }
        },
        "0a504b5b7a8f4d3fb241ca545aed7cda": {
          "model_module": "@jupyter-widgets/controls",
          "model_name": "DescriptionStyleModel",
          "model_module_version": "1.5.0",
          "state": {
            "_model_module": "@jupyter-widgets/controls",
            "_model_module_version": "1.5.0",
            "_model_name": "DescriptionStyleModel",
            "_view_count": null,
            "_view_module": "@jupyter-widgets/base",
            "_view_module_version": "1.2.0",
            "_view_name": "StyleView",
            "description_width": ""
          }
        },
        "caa0373c4502457fbd76e1628954ad0d": {
          "model_module": "@jupyter-widgets/base",
          "model_name": "LayoutModel",
          "model_module_version": "1.2.0",
          "state": {
            "_model_module": "@jupyter-widgets/base",
            "_model_module_version": "1.2.0",
            "_model_name": "LayoutModel",
            "_view_count": null,
            "_view_module": "@jupyter-widgets/base",
            "_view_module_version": "1.2.0",
            "_view_name": "LayoutView",
            "align_content": null,
            "align_items": null,
            "align_self": null,
            "border": null,
            "bottom": null,
            "display": null,
            "flex": null,
            "flex_flow": null,
            "grid_area": null,
            "grid_auto_columns": null,
            "grid_auto_flow": null,
            "grid_auto_rows": null,
            "grid_column": null,
            "grid_gap": null,
            "grid_row": null,
            "grid_template_areas": null,
            "grid_template_columns": null,
            "grid_template_rows": null,
            "height": null,
            "justify_content": null,
            "justify_items": null,
            "left": null,
            "margin": null,
            "max_height": null,
            "max_width": null,
            "min_height": null,
            "min_width": null,
            "object_fit": null,
            "object_position": null,
            "order": null,
            "overflow": null,
            "overflow_x": null,
            "overflow_y": null,
            "padding": null,
            "right": null,
            "top": null,
            "visibility": null,
            "width": null
          }
        },
        "7812e1ea257a4b8ab8c5ce24e57a3a40": {
          "model_module": "@jupyter-widgets/controls",
          "model_name": "ProgressStyleModel",
          "model_module_version": "1.5.0",
          "state": {
            "_model_module": "@jupyter-widgets/controls",
            "_model_module_version": "1.5.0",
            "_model_name": "ProgressStyleModel",
            "_view_count": null,
            "_view_module": "@jupyter-widgets/base",
            "_view_module_version": "1.2.0",
            "_view_name": "StyleView",
            "bar_color": null,
            "description_width": ""
          }
        },
        "28e1b65ad3dd4d1b9f057b4742d7e449": {
          "model_module": "@jupyter-widgets/base",
          "model_name": "LayoutModel",
          "model_module_version": "1.2.0",
          "state": {
            "_model_module": "@jupyter-widgets/base",
            "_model_module_version": "1.2.0",
            "_model_name": "LayoutModel",
            "_view_count": null,
            "_view_module": "@jupyter-widgets/base",
            "_view_module_version": "1.2.0",
            "_view_name": "LayoutView",
            "align_content": null,
            "align_items": null,
            "align_self": null,
            "border": null,
            "bottom": null,
            "display": null,
            "flex": null,
            "flex_flow": null,
            "grid_area": null,
            "grid_auto_columns": null,
            "grid_auto_flow": null,
            "grid_auto_rows": null,
            "grid_column": null,
            "grid_gap": null,
            "grid_row": null,
            "grid_template_areas": null,
            "grid_template_columns": null,
            "grid_template_rows": null,
            "height": null,
            "justify_content": null,
            "justify_items": null,
            "left": null,
            "margin": null,
            "max_height": null,
            "max_width": null,
            "min_height": null,
            "min_width": null,
            "object_fit": null,
            "object_position": null,
            "order": null,
            "overflow": null,
            "overflow_x": null,
            "overflow_y": null,
            "padding": null,
            "right": null,
            "top": null,
            "visibility": null,
            "width": null
          }
        },
        "fd8fe5a209dd4fb8a183610e08abf007": {
          "model_module": "@jupyter-widgets/controls",
          "model_name": "DescriptionStyleModel",
          "model_module_version": "1.5.0",
          "state": {
            "_model_module": "@jupyter-widgets/controls",
            "_model_module_version": "1.5.0",
            "_model_name": "DescriptionStyleModel",
            "_view_count": null,
            "_view_module": "@jupyter-widgets/base",
            "_view_module_version": "1.2.0",
            "_view_name": "StyleView",
            "description_width": ""
          }
        },
        "b3d0d5460f8e4a7d9cae549a814d1ad5": {
          "model_module": "@jupyter-widgets/controls",
          "model_name": "HBoxModel",
          "model_module_version": "1.5.0",
          "state": {
            "_dom_classes": [],
            "_model_module": "@jupyter-widgets/controls",
            "_model_module_version": "1.5.0",
            "_model_name": "HBoxModel",
            "_view_count": null,
            "_view_module": "@jupyter-widgets/controls",
            "_view_module_version": "1.5.0",
            "_view_name": "HBoxView",
            "box_style": "",
            "children": [
              "IPY_MODEL_ef31cf4a03334f18b8c149bfc6d59f42",
              "IPY_MODEL_d15b06b7f3274b41a5cc424da07bcbb8",
              "IPY_MODEL_2d849954c56f484fb5291d55df36337e"
            ],
            "layout": "IPY_MODEL_573651266d7e48ce9a35bccb02a4c5d5"
          }
        },
        "ef31cf4a03334f18b8c149bfc6d59f42": {
          "model_module": "@jupyter-widgets/controls",
          "model_name": "HTMLModel",
          "model_module_version": "1.5.0",
          "state": {
            "_dom_classes": [],
            "_model_module": "@jupyter-widgets/controls",
            "_model_module_version": "1.5.0",
            "_model_name": "HTMLModel",
            "_view_count": null,
            "_view_module": "@jupyter-widgets/controls",
            "_view_module_version": "1.5.0",
            "_view_name": "HTMLView",
            "description": "",
            "description_tooltip": null,
            "layout": "IPY_MODEL_1e4e0bdab9224bd8a65a95fc4e20a830",
            "placeholder": "​",
            "style": "IPY_MODEL_40737818700c4581a6dae153a1c2e1b2",
            "value": "README.md: 100%"
          }
        },
        "d15b06b7f3274b41a5cc424da07bcbb8": {
          "model_module": "@jupyter-widgets/controls",
          "model_name": "FloatProgressModel",
          "model_module_version": "1.5.0",
          "state": {
            "_dom_classes": [],
            "_model_module": "@jupyter-widgets/controls",
            "_model_module_version": "1.5.0",
            "_model_name": "FloatProgressModel",
            "_view_count": null,
            "_view_module": "@jupyter-widgets/controls",
            "_view_module_version": "1.5.0",
            "_view_name": "ProgressView",
            "bar_style": "success",
            "description": "",
            "description_tooltip": null,
            "layout": "IPY_MODEL_c8a8b485e2d34e5f9161efb66517ced0",
            "max": 90272,
            "min": 0,
            "orientation": "horizontal",
            "style": "IPY_MODEL_a5c52d8263b848c48b419874abdfe806",
            "value": 90272
          }
        },
        "2d849954c56f484fb5291d55df36337e": {
          "model_module": "@jupyter-widgets/controls",
          "model_name": "HTMLModel",
          "model_module_version": "1.5.0",
          "state": {
            "_dom_classes": [],
            "_model_module": "@jupyter-widgets/controls",
            "_model_module_version": "1.5.0",
            "_model_name": "HTMLModel",
            "_view_count": null,
            "_view_module": "@jupyter-widgets/controls",
            "_view_module_version": "1.5.0",
            "_view_name": "HTMLView",
            "description": "",
            "description_tooltip": null,
            "layout": "IPY_MODEL_d84086694d2b4e69b926c6273f18e158",
            "placeholder": "​",
            "style": "IPY_MODEL_ae943ce02f164039803fb5610020de9b",
            "value": " 90.3k/90.3k [00:00&lt;00:00, 399kB/s]"
          }
        },
        "573651266d7e48ce9a35bccb02a4c5d5": {
          "model_module": "@jupyter-widgets/base",
          "model_name": "LayoutModel",
          "model_module_version": "1.2.0",
          "state": {
            "_model_module": "@jupyter-widgets/base",
            "_model_module_version": "1.2.0",
            "_model_name": "LayoutModel",
            "_view_count": null,
            "_view_module": "@jupyter-widgets/base",
            "_view_module_version": "1.2.0",
            "_view_name": "LayoutView",
            "align_content": null,
            "align_items": null,
            "align_self": null,
            "border": null,
            "bottom": null,
            "display": null,
            "flex": null,
            "flex_flow": null,
            "grid_area": null,
            "grid_auto_columns": null,
            "grid_auto_flow": null,
            "grid_auto_rows": null,
            "grid_column": null,
            "grid_gap": null,
            "grid_row": null,
            "grid_template_areas": null,
            "grid_template_columns": null,
            "grid_template_rows": null,
            "height": null,
            "justify_content": null,
            "justify_items": null,
            "left": null,
            "margin": null,
            "max_height": null,
            "max_width": null,
            "min_height": null,
            "min_width": null,
            "object_fit": null,
            "object_position": null,
            "order": null,
            "overflow": null,
            "overflow_x": null,
            "overflow_y": null,
            "padding": null,
            "right": null,
            "top": null,
            "visibility": null,
            "width": null
          }
        },
        "1e4e0bdab9224bd8a65a95fc4e20a830": {
          "model_module": "@jupyter-widgets/base",
          "model_name": "LayoutModel",
          "model_module_version": "1.2.0",
          "state": {
            "_model_module": "@jupyter-widgets/base",
            "_model_module_version": "1.2.0",
            "_model_name": "LayoutModel",
            "_view_count": null,
            "_view_module": "@jupyter-widgets/base",
            "_view_module_version": "1.2.0",
            "_view_name": "LayoutView",
            "align_content": null,
            "align_items": null,
            "align_self": null,
            "border": null,
            "bottom": null,
            "display": null,
            "flex": null,
            "flex_flow": null,
            "grid_area": null,
            "grid_auto_columns": null,
            "grid_auto_flow": null,
            "grid_auto_rows": null,
            "grid_column": null,
            "grid_gap": null,
            "grid_row": null,
            "grid_template_areas": null,
            "grid_template_columns": null,
            "grid_template_rows": null,
            "height": null,
            "justify_content": null,
            "justify_items": null,
            "left": null,
            "margin": null,
            "max_height": null,
            "max_width": null,
            "min_height": null,
            "min_width": null,
            "object_fit": null,
            "object_position": null,
            "order": null,
            "overflow": null,
            "overflow_x": null,
            "overflow_y": null,
            "padding": null,
            "right": null,
            "top": null,
            "visibility": null,
            "width": null
          }
        },
        "40737818700c4581a6dae153a1c2e1b2": {
          "model_module": "@jupyter-widgets/controls",
          "model_name": "DescriptionStyleModel",
          "model_module_version": "1.5.0",
          "state": {
            "_model_module": "@jupyter-widgets/controls",
            "_model_module_version": "1.5.0",
            "_model_name": "DescriptionStyleModel",
            "_view_count": null,
            "_view_module": "@jupyter-widgets/base",
            "_view_module_version": "1.2.0",
            "_view_name": "StyleView",
            "description_width": ""
          }
        },
        "c8a8b485e2d34e5f9161efb66517ced0": {
          "model_module": "@jupyter-widgets/base",
          "model_name": "LayoutModel",
          "model_module_version": "1.2.0",
          "state": {
            "_model_module": "@jupyter-widgets/base",
            "_model_module_version": "1.2.0",
            "_model_name": "LayoutModel",
            "_view_count": null,
            "_view_module": "@jupyter-widgets/base",
            "_view_module_version": "1.2.0",
            "_view_name": "LayoutView",
            "align_content": null,
            "align_items": null,
            "align_self": null,
            "border": null,
            "bottom": null,
            "display": null,
            "flex": null,
            "flex_flow": null,
            "grid_area": null,
            "grid_auto_columns": null,
            "grid_auto_flow": null,
            "grid_auto_rows": null,
            "grid_column": null,
            "grid_gap": null,
            "grid_row": null,
            "grid_template_areas": null,
            "grid_template_columns": null,
            "grid_template_rows": null,
            "height": null,
            "justify_content": null,
            "justify_items": null,
            "left": null,
            "margin": null,
            "max_height": null,
            "max_width": null,
            "min_height": null,
            "min_width": null,
            "object_fit": null,
            "object_position": null,
            "order": null,
            "overflow": null,
            "overflow_x": null,
            "overflow_y": null,
            "padding": null,
            "right": null,
            "top": null,
            "visibility": null,
            "width": null
          }
        },
        "a5c52d8263b848c48b419874abdfe806": {
          "model_module": "@jupyter-widgets/controls",
          "model_name": "ProgressStyleModel",
          "model_module_version": "1.5.0",
          "state": {
            "_model_module": "@jupyter-widgets/controls",
            "_model_module_version": "1.5.0",
            "_model_name": "ProgressStyleModel",
            "_view_count": null,
            "_view_module": "@jupyter-widgets/base",
            "_view_module_version": "1.2.0",
            "_view_name": "StyleView",
            "bar_color": null,
            "description_width": ""
          }
        },
        "d84086694d2b4e69b926c6273f18e158": {
          "model_module": "@jupyter-widgets/base",
          "model_name": "LayoutModel",
          "model_module_version": "1.2.0",
          "state": {
            "_model_module": "@jupyter-widgets/base",
            "_model_module_version": "1.2.0",
            "_model_name": "LayoutModel",
            "_view_count": null,
            "_view_module": "@jupyter-widgets/base",
            "_view_module_version": "1.2.0",
            "_view_name": "LayoutView",
            "align_content": null,
            "align_items": null,
            "align_self": null,
            "border": null,
            "bottom": null,
            "display": null,
            "flex": null,
            "flex_flow": null,
            "grid_area": null,
            "grid_auto_columns": null,
            "grid_auto_flow": null,
            "grid_auto_rows": null,
            "grid_column": null,
            "grid_gap": null,
            "grid_row": null,
            "grid_template_areas": null,
            "grid_template_columns": null,
            "grid_template_rows": null,
            "height": null,
            "justify_content": null,
            "justify_items": null,
            "left": null,
            "margin": null,
            "max_height": null,
            "max_width": null,
            "min_height": null,
            "min_width": null,
            "object_fit": null,
            "object_position": null,
            "order": null,
            "overflow": null,
            "overflow_x": null,
            "overflow_y": null,
            "padding": null,
            "right": null,
            "top": null,
            "visibility": null,
            "width": null
          }
        },
        "ae943ce02f164039803fb5610020de9b": {
          "model_module": "@jupyter-widgets/controls",
          "model_name": "DescriptionStyleModel",
          "model_module_version": "1.5.0",
          "state": {
            "_model_module": "@jupyter-widgets/controls",
            "_model_module_version": "1.5.0",
            "_model_name": "DescriptionStyleModel",
            "_view_count": null,
            "_view_module": "@jupyter-widgets/base",
            "_view_module_version": "1.2.0",
            "_view_name": "StyleView",
            "description_width": ""
          }
        },
        "87a8008f2f7f46368efc5534cdb6d0ca": {
          "model_module": "@jupyter-widgets/controls",
          "model_name": "HBoxModel",
          "model_module_version": "1.5.0",
          "state": {
            "_dom_classes": [],
            "_model_module": "@jupyter-widgets/controls",
            "_model_module_version": "1.5.0",
            "_model_name": "HBoxModel",
            "_view_count": null,
            "_view_module": "@jupyter-widgets/controls",
            "_view_module_version": "1.5.0",
            "_view_name": "HBoxView",
            "box_style": "",
            "children": [
              "IPY_MODEL_f4fab0980b5c4df7860e6e436acbeb5d",
              "IPY_MODEL_7660f3118ac8454e9f20be681769172d",
              "IPY_MODEL_c50abc07e35a4d598417aa9abff95045"
            ],
            "layout": "IPY_MODEL_762f60eb1213403b9e1f248b3019cbda"
          }
        },
        "f4fab0980b5c4df7860e6e436acbeb5d": {
          "model_module": "@jupyter-widgets/controls",
          "model_name": "HTMLModel",
          "model_module_version": "1.5.0",
          "state": {
            "_dom_classes": [],
            "_model_module": "@jupyter-widgets/controls",
            "_model_module_version": "1.5.0",
            "_model_name": "HTMLModel",
            "_view_count": null,
            "_view_module": "@jupyter-widgets/controls",
            "_view_module_version": "1.5.0",
            "_view_name": "HTMLView",
            "description": "",
            "description_tooltip": null,
            "layout": "IPY_MODEL_8289ab30fc17460aa7dcc8750b272e0b",
            "placeholder": "​",
            "style": "IPY_MODEL_8c2852ee79a4459bb4933c2152c90ba4",
            "value": "sentence_bert_config.json: 100%"
          }
        },
        "7660f3118ac8454e9f20be681769172d": {
          "model_module": "@jupyter-widgets/controls",
          "model_name": "FloatProgressModel",
          "model_module_version": "1.5.0",
          "state": {
            "_dom_classes": [],
            "_model_module": "@jupyter-widgets/controls",
            "_model_module_version": "1.5.0",
            "_model_name": "FloatProgressModel",
            "_view_count": null,
            "_view_module": "@jupyter-widgets/controls",
            "_view_module_version": "1.5.0",
            "_view_name": "ProgressView",
            "bar_style": "success",
            "description": "",
            "description_tooltip": null,
            "layout": "IPY_MODEL_14445da052ce4cc6a0e19e8a71cbf5bb",
            "max": 52,
            "min": 0,
            "orientation": "horizontal",
            "style": "IPY_MODEL_1a5114b92b5445d0a17e5f6e638bf375",
            "value": 52
          }
        },
        "c50abc07e35a4d598417aa9abff95045": {
          "model_module": "@jupyter-widgets/controls",
          "model_name": "HTMLModel",
          "model_module_version": "1.5.0",
          "state": {
            "_dom_classes": [],
            "_model_module": "@jupyter-widgets/controls",
            "_model_module_version": "1.5.0",
            "_model_name": "HTMLModel",
            "_view_count": null,
            "_view_module": "@jupyter-widgets/controls",
            "_view_module_version": "1.5.0",
            "_view_name": "HTMLView",
            "description": "",
            "description_tooltip": null,
            "layout": "IPY_MODEL_061087a3721645ad996a58e361062d02",
            "placeholder": "​",
            "style": "IPY_MODEL_e50c70cb121b4aa0a292e1d69f181c6c",
            "value": " 52.0/52.0 [00:00&lt;00:00, 3.48kB/s]"
          }
        },
        "762f60eb1213403b9e1f248b3019cbda": {
          "model_module": "@jupyter-widgets/base",
          "model_name": "LayoutModel",
          "model_module_version": "1.2.0",
          "state": {
            "_model_module": "@jupyter-widgets/base",
            "_model_module_version": "1.2.0",
            "_model_name": "LayoutModel",
            "_view_count": null,
            "_view_module": "@jupyter-widgets/base",
            "_view_module_version": "1.2.0",
            "_view_name": "LayoutView",
            "align_content": null,
            "align_items": null,
            "align_self": null,
            "border": null,
            "bottom": null,
            "display": null,
            "flex": null,
            "flex_flow": null,
            "grid_area": null,
            "grid_auto_columns": null,
            "grid_auto_flow": null,
            "grid_auto_rows": null,
            "grid_column": null,
            "grid_gap": null,
            "grid_row": null,
            "grid_template_areas": null,
            "grid_template_columns": null,
            "grid_template_rows": null,
            "height": null,
            "justify_content": null,
            "justify_items": null,
            "left": null,
            "margin": null,
            "max_height": null,
            "max_width": null,
            "min_height": null,
            "min_width": null,
            "object_fit": null,
            "object_position": null,
            "order": null,
            "overflow": null,
            "overflow_x": null,
            "overflow_y": null,
            "padding": null,
            "right": null,
            "top": null,
            "visibility": null,
            "width": null
          }
        },
        "8289ab30fc17460aa7dcc8750b272e0b": {
          "model_module": "@jupyter-widgets/base",
          "model_name": "LayoutModel",
          "model_module_version": "1.2.0",
          "state": {
            "_model_module": "@jupyter-widgets/base",
            "_model_module_version": "1.2.0",
            "_model_name": "LayoutModel",
            "_view_count": null,
            "_view_module": "@jupyter-widgets/base",
            "_view_module_version": "1.2.0",
            "_view_name": "LayoutView",
            "align_content": null,
            "align_items": null,
            "align_self": null,
            "border": null,
            "bottom": null,
            "display": null,
            "flex": null,
            "flex_flow": null,
            "grid_area": null,
            "grid_auto_columns": null,
            "grid_auto_flow": null,
            "grid_auto_rows": null,
            "grid_column": null,
            "grid_gap": null,
            "grid_row": null,
            "grid_template_areas": null,
            "grid_template_columns": null,
            "grid_template_rows": null,
            "height": null,
            "justify_content": null,
            "justify_items": null,
            "left": null,
            "margin": null,
            "max_height": null,
            "max_width": null,
            "min_height": null,
            "min_width": null,
            "object_fit": null,
            "object_position": null,
            "order": null,
            "overflow": null,
            "overflow_x": null,
            "overflow_y": null,
            "padding": null,
            "right": null,
            "top": null,
            "visibility": null,
            "width": null
          }
        },
        "8c2852ee79a4459bb4933c2152c90ba4": {
          "model_module": "@jupyter-widgets/controls",
          "model_name": "DescriptionStyleModel",
          "model_module_version": "1.5.0",
          "state": {
            "_model_module": "@jupyter-widgets/controls",
            "_model_module_version": "1.5.0",
            "_model_name": "DescriptionStyleModel",
            "_view_count": null,
            "_view_module": "@jupyter-widgets/base",
            "_view_module_version": "1.2.0",
            "_view_name": "StyleView",
            "description_width": ""
          }
        },
        "14445da052ce4cc6a0e19e8a71cbf5bb": {
          "model_module": "@jupyter-widgets/base",
          "model_name": "LayoutModel",
          "model_module_version": "1.2.0",
          "state": {
            "_model_module": "@jupyter-widgets/base",
            "_model_module_version": "1.2.0",
            "_model_name": "LayoutModel",
            "_view_count": null,
            "_view_module": "@jupyter-widgets/base",
            "_view_module_version": "1.2.0",
            "_view_name": "LayoutView",
            "align_content": null,
            "align_items": null,
            "align_self": null,
            "border": null,
            "bottom": null,
            "display": null,
            "flex": null,
            "flex_flow": null,
            "grid_area": null,
            "grid_auto_columns": null,
            "grid_auto_flow": null,
            "grid_auto_rows": null,
            "grid_column": null,
            "grid_gap": null,
            "grid_row": null,
            "grid_template_areas": null,
            "grid_template_columns": null,
            "grid_template_rows": null,
            "height": null,
            "justify_content": null,
            "justify_items": null,
            "left": null,
            "margin": null,
            "max_height": null,
            "max_width": null,
            "min_height": null,
            "min_width": null,
            "object_fit": null,
            "object_position": null,
            "order": null,
            "overflow": null,
            "overflow_x": null,
            "overflow_y": null,
            "padding": null,
            "right": null,
            "top": null,
            "visibility": null,
            "width": null
          }
        },
        "1a5114b92b5445d0a17e5f6e638bf375": {
          "model_module": "@jupyter-widgets/controls",
          "model_name": "ProgressStyleModel",
          "model_module_version": "1.5.0",
          "state": {
            "_model_module": "@jupyter-widgets/controls",
            "_model_module_version": "1.5.0",
            "_model_name": "ProgressStyleModel",
            "_view_count": null,
            "_view_module": "@jupyter-widgets/base",
            "_view_module_version": "1.2.0",
            "_view_name": "StyleView",
            "bar_color": null,
            "description_width": ""
          }
        },
        "061087a3721645ad996a58e361062d02": {
          "model_module": "@jupyter-widgets/base",
          "model_name": "LayoutModel",
          "model_module_version": "1.2.0",
          "state": {
            "_model_module": "@jupyter-widgets/base",
            "_model_module_version": "1.2.0",
            "_model_name": "LayoutModel",
            "_view_count": null,
            "_view_module": "@jupyter-widgets/base",
            "_view_module_version": "1.2.0",
            "_view_name": "LayoutView",
            "align_content": null,
            "align_items": null,
            "align_self": null,
            "border": null,
            "bottom": null,
            "display": null,
            "flex": null,
            "flex_flow": null,
            "grid_area": null,
            "grid_auto_columns": null,
            "grid_auto_flow": null,
            "grid_auto_rows": null,
            "grid_column": null,
            "grid_gap": null,
            "grid_row": null,
            "grid_template_areas": null,
            "grid_template_columns": null,
            "grid_template_rows": null,
            "height": null,
            "justify_content": null,
            "justify_items": null,
            "left": null,
            "margin": null,
            "max_height": null,
            "max_width": null,
            "min_height": null,
            "min_width": null,
            "object_fit": null,
            "object_position": null,
            "order": null,
            "overflow": null,
            "overflow_x": null,
            "overflow_y": null,
            "padding": null,
            "right": null,
            "top": null,
            "visibility": null,
            "width": null
          }
        },
        "e50c70cb121b4aa0a292e1d69f181c6c": {
          "model_module": "@jupyter-widgets/controls",
          "model_name": "DescriptionStyleModel",
          "model_module_version": "1.5.0",
          "state": {
            "_model_module": "@jupyter-widgets/controls",
            "_model_module_version": "1.5.0",
            "_model_name": "DescriptionStyleModel",
            "_view_count": null,
            "_view_module": "@jupyter-widgets/base",
            "_view_module_version": "1.2.0",
            "_view_name": "StyleView",
            "description_width": ""
          }
        },
        "9b9701080f3847c7a05a81f5eb700172": {
          "model_module": "@jupyter-widgets/controls",
          "model_name": "HBoxModel",
          "model_module_version": "1.5.0",
          "state": {
            "_dom_classes": [],
            "_model_module": "@jupyter-widgets/controls",
            "_model_module_version": "1.5.0",
            "_model_name": "HBoxModel",
            "_view_count": null,
            "_view_module": "@jupyter-widgets/controls",
            "_view_module_version": "1.5.0",
            "_view_name": "HBoxView",
            "box_style": "",
            "children": [
              "IPY_MODEL_82fba73ecd144162b7ffcfd50495d567",
              "IPY_MODEL_8c864b79388143f884029cbd1bf82954",
              "IPY_MODEL_1e0b87479b4a4a32902539428630a56e"
            ],
            "layout": "IPY_MODEL_93f5cba2795846cb9ab139eeb10c8131"
          }
        },
        "82fba73ecd144162b7ffcfd50495d567": {
          "model_module": "@jupyter-widgets/controls",
          "model_name": "HTMLModel",
          "model_module_version": "1.5.0",
          "state": {
            "_dom_classes": [],
            "_model_module": "@jupyter-widgets/controls",
            "_model_module_version": "1.5.0",
            "_model_name": "HTMLModel",
            "_view_count": null,
            "_view_module": "@jupyter-widgets/controls",
            "_view_module_version": "1.5.0",
            "_view_name": "HTMLView",
            "description": "",
            "description_tooltip": null,
            "layout": "IPY_MODEL_2b69e8f389ca460d807f9c40b9d9865e",
            "placeholder": "​",
            "style": "IPY_MODEL_e567cc191d614917be6d0fd441ade59c",
            "value": "config.json: 100%"
          }
        },
        "8c864b79388143f884029cbd1bf82954": {
          "model_module": "@jupyter-widgets/controls",
          "model_name": "FloatProgressModel",
          "model_module_version": "1.5.0",
          "state": {
            "_dom_classes": [],
            "_model_module": "@jupyter-widgets/controls",
            "_model_module_version": "1.5.0",
            "_model_name": "FloatProgressModel",
            "_view_count": null,
            "_view_module": "@jupyter-widgets/controls",
            "_view_module_version": "1.5.0",
            "_view_name": "ProgressView",
            "bar_style": "success",
            "description": "",
            "description_tooltip": null,
            "layout": "IPY_MODEL_0bbd77398cd24710994b4c47921dc877",
            "max": 720,
            "min": 0,
            "orientation": "horizontal",
            "style": "IPY_MODEL_b1c6c16df8bf44c69e47b8cb46603b17",
            "value": 720
          }
        },
        "1e0b87479b4a4a32902539428630a56e": {
          "model_module": "@jupyter-widgets/controls",
          "model_name": "HTMLModel",
          "model_module_version": "1.5.0",
          "state": {
            "_dom_classes": [],
            "_model_module": "@jupyter-widgets/controls",
            "_model_module_version": "1.5.0",
            "_model_name": "HTMLModel",
            "_view_count": null,
            "_view_module": "@jupyter-widgets/controls",
            "_view_module_version": "1.5.0",
            "_view_name": "HTMLView",
            "description": "",
            "description_tooltip": null,
            "layout": "IPY_MODEL_5fad16a55def44a89a5a926216ab3b41",
            "placeholder": "​",
            "style": "IPY_MODEL_864a39470ef34db49dfcc25dc9dfac75",
            "value": " 720/720 [00:00&lt;00:00, 42.6kB/s]"
          }
        },
        "93f5cba2795846cb9ab139eeb10c8131": {
          "model_module": "@jupyter-widgets/base",
          "model_name": "LayoutModel",
          "model_module_version": "1.2.0",
          "state": {
            "_model_module": "@jupyter-widgets/base",
            "_model_module_version": "1.2.0",
            "_model_name": "LayoutModel",
            "_view_count": null,
            "_view_module": "@jupyter-widgets/base",
            "_view_module_version": "1.2.0",
            "_view_name": "LayoutView",
            "align_content": null,
            "align_items": null,
            "align_self": null,
            "border": null,
            "bottom": null,
            "display": null,
            "flex": null,
            "flex_flow": null,
            "grid_area": null,
            "grid_auto_columns": null,
            "grid_auto_flow": null,
            "grid_auto_rows": null,
            "grid_column": null,
            "grid_gap": null,
            "grid_row": null,
            "grid_template_areas": null,
            "grid_template_columns": null,
            "grid_template_rows": null,
            "height": null,
            "justify_content": null,
            "justify_items": null,
            "left": null,
            "margin": null,
            "max_height": null,
            "max_width": null,
            "min_height": null,
            "min_width": null,
            "object_fit": null,
            "object_position": null,
            "order": null,
            "overflow": null,
            "overflow_x": null,
            "overflow_y": null,
            "padding": null,
            "right": null,
            "top": null,
            "visibility": null,
            "width": null
          }
        },
        "2b69e8f389ca460d807f9c40b9d9865e": {
          "model_module": "@jupyter-widgets/base",
          "model_name": "LayoutModel",
          "model_module_version": "1.2.0",
          "state": {
            "_model_module": "@jupyter-widgets/base",
            "_model_module_version": "1.2.0",
            "_model_name": "LayoutModel",
            "_view_count": null,
            "_view_module": "@jupyter-widgets/base",
            "_view_module_version": "1.2.0",
            "_view_name": "LayoutView",
            "align_content": null,
            "align_items": null,
            "align_self": null,
            "border": null,
            "bottom": null,
            "display": null,
            "flex": null,
            "flex_flow": null,
            "grid_area": null,
            "grid_auto_columns": null,
            "grid_auto_flow": null,
            "grid_auto_rows": null,
            "grid_column": null,
            "grid_gap": null,
            "grid_row": null,
            "grid_template_areas": null,
            "grid_template_columns": null,
            "grid_template_rows": null,
            "height": null,
            "justify_content": null,
            "justify_items": null,
            "left": null,
            "margin": null,
            "max_height": null,
            "max_width": null,
            "min_height": null,
            "min_width": null,
            "object_fit": null,
            "object_position": null,
            "order": null,
            "overflow": null,
            "overflow_x": null,
            "overflow_y": null,
            "padding": null,
            "right": null,
            "top": null,
            "visibility": null,
            "width": null
          }
        },
        "e567cc191d614917be6d0fd441ade59c": {
          "model_module": "@jupyter-widgets/controls",
          "model_name": "DescriptionStyleModel",
          "model_module_version": "1.5.0",
          "state": {
            "_model_module": "@jupyter-widgets/controls",
            "_model_module_version": "1.5.0",
            "_model_name": "DescriptionStyleModel",
            "_view_count": null,
            "_view_module": "@jupyter-widgets/base",
            "_view_module_version": "1.2.0",
            "_view_name": "StyleView",
            "description_width": ""
          }
        },
        "0bbd77398cd24710994b4c47921dc877": {
          "model_module": "@jupyter-widgets/base",
          "model_name": "LayoutModel",
          "model_module_version": "1.2.0",
          "state": {
            "_model_module": "@jupyter-widgets/base",
            "_model_module_version": "1.2.0",
            "_model_name": "LayoutModel",
            "_view_count": null,
            "_view_module": "@jupyter-widgets/base",
            "_view_module_version": "1.2.0",
            "_view_name": "LayoutView",
            "align_content": null,
            "align_items": null,
            "align_self": null,
            "border": null,
            "bottom": null,
            "display": null,
            "flex": null,
            "flex_flow": null,
            "grid_area": null,
            "grid_auto_columns": null,
            "grid_auto_flow": null,
            "grid_auto_rows": null,
            "grid_column": null,
            "grid_gap": null,
            "grid_row": null,
            "grid_template_areas": null,
            "grid_template_columns": null,
            "grid_template_rows": null,
            "height": null,
            "justify_content": null,
            "justify_items": null,
            "left": null,
            "margin": null,
            "max_height": null,
            "max_width": null,
            "min_height": null,
            "min_width": null,
            "object_fit": null,
            "object_position": null,
            "order": null,
            "overflow": null,
            "overflow_x": null,
            "overflow_y": null,
            "padding": null,
            "right": null,
            "top": null,
            "visibility": null,
            "width": null
          }
        },
        "b1c6c16df8bf44c69e47b8cb46603b17": {
          "model_module": "@jupyter-widgets/controls",
          "model_name": "ProgressStyleModel",
          "model_module_version": "1.5.0",
          "state": {
            "_model_module": "@jupyter-widgets/controls",
            "_model_module_version": "1.5.0",
            "_model_name": "ProgressStyleModel",
            "_view_count": null,
            "_view_module": "@jupyter-widgets/base",
            "_view_module_version": "1.2.0",
            "_view_name": "StyleView",
            "bar_color": null,
            "description_width": ""
          }
        },
        "5fad16a55def44a89a5a926216ab3b41": {
          "model_module": "@jupyter-widgets/base",
          "model_name": "LayoutModel",
          "model_module_version": "1.2.0",
          "state": {
            "_model_module": "@jupyter-widgets/base",
            "_model_module_version": "1.2.0",
            "_model_name": "LayoutModel",
            "_view_count": null,
            "_view_module": "@jupyter-widgets/base",
            "_view_module_version": "1.2.0",
            "_view_name": "LayoutView",
            "align_content": null,
            "align_items": null,
            "align_self": null,
            "border": null,
            "bottom": null,
            "display": null,
            "flex": null,
            "flex_flow": null,
            "grid_area": null,
            "grid_auto_columns": null,
            "grid_auto_flow": null,
            "grid_auto_rows": null,
            "grid_column": null,
            "grid_gap": null,
            "grid_row": null,
            "grid_template_areas": null,
            "grid_template_columns": null,
            "grid_template_rows": null,
            "height": null,
            "justify_content": null,
            "justify_items": null,
            "left": null,
            "margin": null,
            "max_height": null,
            "max_width": null,
            "min_height": null,
            "min_width": null,
            "object_fit": null,
            "object_position": null,
            "order": null,
            "overflow": null,
            "overflow_x": null,
            "overflow_y": null,
            "padding": null,
            "right": null,
            "top": null,
            "visibility": null,
            "width": null
          }
        },
        "864a39470ef34db49dfcc25dc9dfac75": {
          "model_module": "@jupyter-widgets/controls",
          "model_name": "DescriptionStyleModel",
          "model_module_version": "1.5.0",
          "state": {
            "_model_module": "@jupyter-widgets/controls",
            "_model_module_version": "1.5.0",
            "_model_name": "DescriptionStyleModel",
            "_view_count": null,
            "_view_module": "@jupyter-widgets/base",
            "_view_module_version": "1.2.0",
            "_view_name": "StyleView",
            "description_width": ""
          }
        },
        "a9feb4b9ef09469e8f5f188bdb04e78c": {
          "model_module": "@jupyter-widgets/controls",
          "model_name": "HBoxModel",
          "model_module_version": "1.5.0",
          "state": {
            "_dom_classes": [],
            "_model_module": "@jupyter-widgets/controls",
            "_model_module_version": "1.5.0",
            "_model_name": "HBoxModel",
            "_view_count": null,
            "_view_module": "@jupyter-widgets/controls",
            "_view_module_version": "1.5.0",
            "_view_name": "HBoxView",
            "box_style": "",
            "children": [
              "IPY_MODEL_e3c8f308badf4daab162736d6d12b7d7",
              "IPY_MODEL_efa201314d75401fb35486647752b372",
              "IPY_MODEL_827168713ce14230bc341924435a77b6"
            ],
            "layout": "IPY_MODEL_b7d6f5b8d7b54fd3a8ff500fc35b55f6"
          }
        },
        "e3c8f308badf4daab162736d6d12b7d7": {
          "model_module": "@jupyter-widgets/controls",
          "model_name": "HTMLModel",
          "model_module_version": "1.5.0",
          "state": {
            "_dom_classes": [],
            "_model_module": "@jupyter-widgets/controls",
            "_model_module_version": "1.5.0",
            "_model_name": "HTMLModel",
            "_view_count": null,
            "_view_module": "@jupyter-widgets/controls",
            "_view_module_version": "1.5.0",
            "_view_name": "HTMLView",
            "description": "",
            "description_tooltip": null,
            "layout": "IPY_MODEL_ab85330605004b75ad62accc641ea5d5",
            "placeholder": "​",
            "style": "IPY_MODEL_cb090eb5f6634d6f9b5a042db0e7ef34",
            "value": "model.safetensors: 100%"
          }
        },
        "efa201314d75401fb35486647752b372": {
          "model_module": "@jupyter-widgets/controls",
          "model_name": "FloatProgressModel",
          "model_module_version": "1.5.0",
          "state": {
            "_dom_classes": [],
            "_model_module": "@jupyter-widgets/controls",
            "_model_module_version": "1.5.0",
            "_model_name": "FloatProgressModel",
            "_view_count": null,
            "_view_module": "@jupyter-widgets/controls",
            "_view_module_version": "1.5.0",
            "_view_name": "ProgressView",
            "bar_style": "success",
            "description": "",
            "description_tooltip": null,
            "layout": "IPY_MODEL_39d3df745b5147fd9a321411642546db",
            "max": 1340616616,
            "min": 0,
            "orientation": "horizontal",
            "style": "IPY_MODEL_27b3a4cc4bb24ea997a3cb843edee8ed",
            "value": 1340616616
          }
        },
        "827168713ce14230bc341924435a77b6": {
          "model_module": "@jupyter-widgets/controls",
          "model_name": "HTMLModel",
          "model_module_version": "1.5.0",
          "state": {
            "_dom_classes": [],
            "_model_module": "@jupyter-widgets/controls",
            "_model_module_version": "1.5.0",
            "_model_name": "HTMLModel",
            "_view_count": null,
            "_view_module": "@jupyter-widgets/controls",
            "_view_module_version": "1.5.0",
            "_view_name": "HTMLView",
            "description": "",
            "description_tooltip": null,
            "layout": "IPY_MODEL_6092461e70fa438b9835a9357c77adb6",
            "placeholder": "​",
            "style": "IPY_MODEL_5c8cf3bdb2ab4402b512e3b0a4f422a5",
            "value": " 1.34G/1.34G [00:05&lt;00:00, 292MB/s]"
          }
        },
        "b7d6f5b8d7b54fd3a8ff500fc35b55f6": {
          "model_module": "@jupyter-widgets/base",
          "model_name": "LayoutModel",
          "model_module_version": "1.2.0",
          "state": {
            "_model_module": "@jupyter-widgets/base",
            "_model_module_version": "1.2.0",
            "_model_name": "LayoutModel",
            "_view_count": null,
            "_view_module": "@jupyter-widgets/base",
            "_view_module_version": "1.2.0",
            "_view_name": "LayoutView",
            "align_content": null,
            "align_items": null,
            "align_self": null,
            "border": null,
            "bottom": null,
            "display": null,
            "flex": null,
            "flex_flow": null,
            "grid_area": null,
            "grid_auto_columns": null,
            "grid_auto_flow": null,
            "grid_auto_rows": null,
            "grid_column": null,
            "grid_gap": null,
            "grid_row": null,
            "grid_template_areas": null,
            "grid_template_columns": null,
            "grid_template_rows": null,
            "height": null,
            "justify_content": null,
            "justify_items": null,
            "left": null,
            "margin": null,
            "max_height": null,
            "max_width": null,
            "min_height": null,
            "min_width": null,
            "object_fit": null,
            "object_position": null,
            "order": null,
            "overflow": null,
            "overflow_x": null,
            "overflow_y": null,
            "padding": null,
            "right": null,
            "top": null,
            "visibility": null,
            "width": null
          }
        },
        "ab85330605004b75ad62accc641ea5d5": {
          "model_module": "@jupyter-widgets/base",
          "model_name": "LayoutModel",
          "model_module_version": "1.2.0",
          "state": {
            "_model_module": "@jupyter-widgets/base",
            "_model_module_version": "1.2.0",
            "_model_name": "LayoutModel",
            "_view_count": null,
            "_view_module": "@jupyter-widgets/base",
            "_view_module_version": "1.2.0",
            "_view_name": "LayoutView",
            "align_content": null,
            "align_items": null,
            "align_self": null,
            "border": null,
            "bottom": null,
            "display": null,
            "flex": null,
            "flex_flow": null,
            "grid_area": null,
            "grid_auto_columns": null,
            "grid_auto_flow": null,
            "grid_auto_rows": null,
            "grid_column": null,
            "grid_gap": null,
            "grid_row": null,
            "grid_template_areas": null,
            "grid_template_columns": null,
            "grid_template_rows": null,
            "height": null,
            "justify_content": null,
            "justify_items": null,
            "left": null,
            "margin": null,
            "max_height": null,
            "max_width": null,
            "min_height": null,
            "min_width": null,
            "object_fit": null,
            "object_position": null,
            "order": null,
            "overflow": null,
            "overflow_x": null,
            "overflow_y": null,
            "padding": null,
            "right": null,
            "top": null,
            "visibility": null,
            "width": null
          }
        },
        "cb090eb5f6634d6f9b5a042db0e7ef34": {
          "model_module": "@jupyter-widgets/controls",
          "model_name": "DescriptionStyleModel",
          "model_module_version": "1.5.0",
          "state": {
            "_model_module": "@jupyter-widgets/controls",
            "_model_module_version": "1.5.0",
            "_model_name": "DescriptionStyleModel",
            "_view_count": null,
            "_view_module": "@jupyter-widgets/base",
            "_view_module_version": "1.2.0",
            "_view_name": "StyleView",
            "description_width": ""
          }
        },
        "39d3df745b5147fd9a321411642546db": {
          "model_module": "@jupyter-widgets/base",
          "model_name": "LayoutModel",
          "model_module_version": "1.2.0",
          "state": {
            "_model_module": "@jupyter-widgets/base",
            "_model_module_version": "1.2.0",
            "_model_name": "LayoutModel",
            "_view_count": null,
            "_view_module": "@jupyter-widgets/base",
            "_view_module_version": "1.2.0",
            "_view_name": "LayoutView",
            "align_content": null,
            "align_items": null,
            "align_self": null,
            "border": null,
            "bottom": null,
            "display": null,
            "flex": null,
            "flex_flow": null,
            "grid_area": null,
            "grid_auto_columns": null,
            "grid_auto_flow": null,
            "grid_auto_rows": null,
            "grid_column": null,
            "grid_gap": null,
            "grid_row": null,
            "grid_template_areas": null,
            "grid_template_columns": null,
            "grid_template_rows": null,
            "height": null,
            "justify_content": null,
            "justify_items": null,
            "left": null,
            "margin": null,
            "max_height": null,
            "max_width": null,
            "min_height": null,
            "min_width": null,
            "object_fit": null,
            "object_position": null,
            "order": null,
            "overflow": null,
            "overflow_x": null,
            "overflow_y": null,
            "padding": null,
            "right": null,
            "top": null,
            "visibility": null,
            "width": null
          }
        },
        "27b3a4cc4bb24ea997a3cb843edee8ed": {
          "model_module": "@jupyter-widgets/controls",
          "model_name": "ProgressStyleModel",
          "model_module_version": "1.5.0",
          "state": {
            "_model_module": "@jupyter-widgets/controls",
            "_model_module_version": "1.5.0",
            "_model_name": "ProgressStyleModel",
            "_view_count": null,
            "_view_module": "@jupyter-widgets/base",
            "_view_module_version": "1.2.0",
            "_view_name": "StyleView",
            "bar_color": null,
            "description_width": ""
          }
        },
        "6092461e70fa438b9835a9357c77adb6": {
          "model_module": "@jupyter-widgets/base",
          "model_name": "LayoutModel",
          "model_module_version": "1.2.0",
          "state": {
            "_model_module": "@jupyter-widgets/base",
            "_model_module_version": "1.2.0",
            "_model_name": "LayoutModel",
            "_view_count": null,
            "_view_module": "@jupyter-widgets/base",
            "_view_module_version": "1.2.0",
            "_view_name": "LayoutView",
            "align_content": null,
            "align_items": null,
            "align_self": null,
            "border": null,
            "bottom": null,
            "display": null,
            "flex": null,
            "flex_flow": null,
            "grid_area": null,
            "grid_auto_columns": null,
            "grid_auto_flow": null,
            "grid_auto_rows": null,
            "grid_column": null,
            "grid_gap": null,
            "grid_row": null,
            "grid_template_areas": null,
            "grid_template_columns": null,
            "grid_template_rows": null,
            "height": null,
            "justify_content": null,
            "justify_items": null,
            "left": null,
            "margin": null,
            "max_height": null,
            "max_width": null,
            "min_height": null,
            "min_width": null,
            "object_fit": null,
            "object_position": null,
            "order": null,
            "overflow": null,
            "overflow_x": null,
            "overflow_y": null,
            "padding": null,
            "right": null,
            "top": null,
            "visibility": null,
            "width": null
          }
        },
        "5c8cf3bdb2ab4402b512e3b0a4f422a5": {
          "model_module": "@jupyter-widgets/controls",
          "model_name": "DescriptionStyleModel",
          "model_module_version": "1.5.0",
          "state": {
            "_model_module": "@jupyter-widgets/controls",
            "_model_module_version": "1.5.0",
            "_model_name": "DescriptionStyleModel",
            "_view_count": null,
            "_view_module": "@jupyter-widgets/base",
            "_view_module_version": "1.2.0",
            "_view_name": "StyleView",
            "description_width": ""
          }
        },
        "8bba4d6d9c2e4628ac84084f988088b5": {
          "model_module": "@jupyter-widgets/controls",
          "model_name": "HBoxModel",
          "model_module_version": "1.5.0",
          "state": {
            "_dom_classes": [],
            "_model_module": "@jupyter-widgets/controls",
            "_model_module_version": "1.5.0",
            "_model_name": "HBoxModel",
            "_view_count": null,
            "_view_module": "@jupyter-widgets/controls",
            "_view_module_version": "1.5.0",
            "_view_name": "HBoxView",
            "box_style": "",
            "children": [
              "IPY_MODEL_ab8adc3487b64d30bbd1a9860274c650",
              "IPY_MODEL_980bb1b297994c2792141a6ed30955a1",
              "IPY_MODEL_7f7b570055274ca385b3345b38ec73f6"
            ],
            "layout": "IPY_MODEL_6dbe4686ba954182a14204b437ced7cf"
          }
        },
        "ab8adc3487b64d30bbd1a9860274c650": {
          "model_module": "@jupyter-widgets/controls",
          "model_name": "HTMLModel",
          "model_module_version": "1.5.0",
          "state": {
            "_dom_classes": [],
            "_model_module": "@jupyter-widgets/controls",
            "_model_module_version": "1.5.0",
            "_model_name": "HTMLModel",
            "_view_count": null,
            "_view_module": "@jupyter-widgets/controls",
            "_view_module_version": "1.5.0",
            "_view_name": "HTMLView",
            "description": "",
            "description_tooltip": null,
            "layout": "IPY_MODEL_81b8b7d1fa5d4a2fba2b1a676398b4bf",
            "placeholder": "​",
            "style": "IPY_MODEL_b0ba3ae1a09a4039b2ef598d8f4c41ff",
            "value": "tokenizer_config.json: 100%"
          }
        },
        "980bb1b297994c2792141a6ed30955a1": {
          "model_module": "@jupyter-widgets/controls",
          "model_name": "FloatProgressModel",
          "model_module_version": "1.5.0",
          "state": {
            "_dom_classes": [],
            "_model_module": "@jupyter-widgets/controls",
            "_model_module_version": "1.5.0",
            "_model_name": "FloatProgressModel",
            "_view_count": null,
            "_view_module": "@jupyter-widgets/controls",
            "_view_module_version": "1.5.0",
            "_view_name": "ProgressView",
            "bar_style": "success",
            "description": "",
            "description_tooltip": null,
            "layout": "IPY_MODEL_85e09e2c4eaa4f6f9a373c794b53b9e0",
            "max": 366,
            "min": 0,
            "orientation": "horizontal",
            "style": "IPY_MODEL_155a6a8ee8f1434d98c994e4809ec51a",
            "value": 366
          }
        },
        "7f7b570055274ca385b3345b38ec73f6": {
          "model_module": "@jupyter-widgets/controls",
          "model_name": "HTMLModel",
          "model_module_version": "1.5.0",
          "state": {
            "_dom_classes": [],
            "_model_module": "@jupyter-widgets/controls",
            "_model_module_version": "1.5.0",
            "_model_name": "HTMLModel",
            "_view_count": null,
            "_view_module": "@jupyter-widgets/controls",
            "_view_module_version": "1.5.0",
            "_view_name": "HTMLView",
            "description": "",
            "description_tooltip": null,
            "layout": "IPY_MODEL_dc103ad2e69a4d4394a89749763117d6",
            "placeholder": "​",
            "style": "IPY_MODEL_3da4bfed5e7445e4b7bffeff850e0082",
            "value": " 366/366 [00:00&lt;00:00, 23.6kB/s]"
          }
        },
        "6dbe4686ba954182a14204b437ced7cf": {
          "model_module": "@jupyter-widgets/base",
          "model_name": "LayoutModel",
          "model_module_version": "1.2.0",
          "state": {
            "_model_module": "@jupyter-widgets/base",
            "_model_module_version": "1.2.0",
            "_model_name": "LayoutModel",
            "_view_count": null,
            "_view_module": "@jupyter-widgets/base",
            "_view_module_version": "1.2.0",
            "_view_name": "LayoutView",
            "align_content": null,
            "align_items": null,
            "align_self": null,
            "border": null,
            "bottom": null,
            "display": null,
            "flex": null,
            "flex_flow": null,
            "grid_area": null,
            "grid_auto_columns": null,
            "grid_auto_flow": null,
            "grid_auto_rows": null,
            "grid_column": null,
            "grid_gap": null,
            "grid_row": null,
            "grid_template_areas": null,
            "grid_template_columns": null,
            "grid_template_rows": null,
            "height": null,
            "justify_content": null,
            "justify_items": null,
            "left": null,
            "margin": null,
            "max_height": null,
            "max_width": null,
            "min_height": null,
            "min_width": null,
            "object_fit": null,
            "object_position": null,
            "order": null,
            "overflow": null,
            "overflow_x": null,
            "overflow_y": null,
            "padding": null,
            "right": null,
            "top": null,
            "visibility": null,
            "width": null
          }
        },
        "81b8b7d1fa5d4a2fba2b1a676398b4bf": {
          "model_module": "@jupyter-widgets/base",
          "model_name": "LayoutModel",
          "model_module_version": "1.2.0",
          "state": {
            "_model_module": "@jupyter-widgets/base",
            "_model_module_version": "1.2.0",
            "_model_name": "LayoutModel",
            "_view_count": null,
            "_view_module": "@jupyter-widgets/base",
            "_view_module_version": "1.2.0",
            "_view_name": "LayoutView",
            "align_content": null,
            "align_items": null,
            "align_self": null,
            "border": null,
            "bottom": null,
            "display": null,
            "flex": null,
            "flex_flow": null,
            "grid_area": null,
            "grid_auto_columns": null,
            "grid_auto_flow": null,
            "grid_auto_rows": null,
            "grid_column": null,
            "grid_gap": null,
            "grid_row": null,
            "grid_template_areas": null,
            "grid_template_columns": null,
            "grid_template_rows": null,
            "height": null,
            "justify_content": null,
            "justify_items": null,
            "left": null,
            "margin": null,
            "max_height": null,
            "max_width": null,
            "min_height": null,
            "min_width": null,
            "object_fit": null,
            "object_position": null,
            "order": null,
            "overflow": null,
            "overflow_x": null,
            "overflow_y": null,
            "padding": null,
            "right": null,
            "top": null,
            "visibility": null,
            "width": null
          }
        },
        "b0ba3ae1a09a4039b2ef598d8f4c41ff": {
          "model_module": "@jupyter-widgets/controls",
          "model_name": "DescriptionStyleModel",
          "model_module_version": "1.5.0",
          "state": {
            "_model_module": "@jupyter-widgets/controls",
            "_model_module_version": "1.5.0",
            "_model_name": "DescriptionStyleModel",
            "_view_count": null,
            "_view_module": "@jupyter-widgets/base",
            "_view_module_version": "1.2.0",
            "_view_name": "StyleView",
            "description_width": ""
          }
        },
        "85e09e2c4eaa4f6f9a373c794b53b9e0": {
          "model_module": "@jupyter-widgets/base",
          "model_name": "LayoutModel",
          "model_module_version": "1.2.0",
          "state": {
            "_model_module": "@jupyter-widgets/base",
            "_model_module_version": "1.2.0",
            "_model_name": "LayoutModel",
            "_view_count": null,
            "_view_module": "@jupyter-widgets/base",
            "_view_module_version": "1.2.0",
            "_view_name": "LayoutView",
            "align_content": null,
            "align_items": null,
            "align_self": null,
            "border": null,
            "bottom": null,
            "display": null,
            "flex": null,
            "flex_flow": null,
            "grid_area": null,
            "grid_auto_columns": null,
            "grid_auto_flow": null,
            "grid_auto_rows": null,
            "grid_column": null,
            "grid_gap": null,
            "grid_row": null,
            "grid_template_areas": null,
            "grid_template_columns": null,
            "grid_template_rows": null,
            "height": null,
            "justify_content": null,
            "justify_items": null,
            "left": null,
            "margin": null,
            "max_height": null,
            "max_width": null,
            "min_height": null,
            "min_width": null,
            "object_fit": null,
            "object_position": null,
            "order": null,
            "overflow": null,
            "overflow_x": null,
            "overflow_y": null,
            "padding": null,
            "right": null,
            "top": null,
            "visibility": null,
            "width": null
          }
        },
        "155a6a8ee8f1434d98c994e4809ec51a": {
          "model_module": "@jupyter-widgets/controls",
          "model_name": "ProgressStyleModel",
          "model_module_version": "1.5.0",
          "state": {
            "_model_module": "@jupyter-widgets/controls",
            "_model_module_version": "1.5.0",
            "_model_name": "ProgressStyleModel",
            "_view_count": null,
            "_view_module": "@jupyter-widgets/base",
            "_view_module_version": "1.2.0",
            "_view_name": "StyleView",
            "bar_color": null,
            "description_width": ""
          }
        },
        "dc103ad2e69a4d4394a89749763117d6": {
          "model_module": "@jupyter-widgets/base",
          "model_name": "LayoutModel",
          "model_module_version": "1.2.0",
          "state": {
            "_model_module": "@jupyter-widgets/base",
            "_model_module_version": "1.2.0",
            "_model_name": "LayoutModel",
            "_view_count": null,
            "_view_module": "@jupyter-widgets/base",
            "_view_module_version": "1.2.0",
            "_view_name": "LayoutView",
            "align_content": null,
            "align_items": null,
            "align_self": null,
            "border": null,
            "bottom": null,
            "display": null,
            "flex": null,
            "flex_flow": null,
            "grid_area": null,
            "grid_auto_columns": null,
            "grid_auto_flow": null,
            "grid_auto_rows": null,
            "grid_column": null,
            "grid_gap": null,
            "grid_row": null,
            "grid_template_areas": null,
            "grid_template_columns": null,
            "grid_template_rows": null,
            "height": null,
            "justify_content": null,
            "justify_items": null,
            "left": null,
            "margin": null,
            "max_height": null,
            "max_width": null,
            "min_height": null,
            "min_width": null,
            "object_fit": null,
            "object_position": null,
            "order": null,
            "overflow": null,
            "overflow_x": null,
            "overflow_y": null,
            "padding": null,
            "right": null,
            "top": null,
            "visibility": null,
            "width": null
          }
        },
        "3da4bfed5e7445e4b7bffeff850e0082": {
          "model_module": "@jupyter-widgets/controls",
          "model_name": "DescriptionStyleModel",
          "model_module_version": "1.5.0",
          "state": {
            "_model_module": "@jupyter-widgets/controls",
            "_model_module_version": "1.5.0",
            "_model_name": "DescriptionStyleModel",
            "_view_count": null,
            "_view_module": "@jupyter-widgets/base",
            "_view_module_version": "1.2.0",
            "_view_name": "StyleView",
            "description_width": ""
          }
        },
        "06304f829258406987a1ca3623d3ef40": {
          "model_module": "@jupyter-widgets/controls",
          "model_name": "HBoxModel",
          "model_module_version": "1.5.0",
          "state": {
            "_dom_classes": [],
            "_model_module": "@jupyter-widgets/controls",
            "_model_module_version": "1.5.0",
            "_model_name": "HBoxModel",
            "_view_count": null,
            "_view_module": "@jupyter-widgets/controls",
            "_view_module_version": "1.5.0",
            "_view_name": "HBoxView",
            "box_style": "",
            "children": [
              "IPY_MODEL_07c448613be54019b73d864b2cbabe87",
              "IPY_MODEL_e42dab6071c64dbb88e9c7a8afda92e2",
              "IPY_MODEL_ea8a7ff93498466ba9e34e99bea7d635"
            ],
            "layout": "IPY_MODEL_039c550d03cb4980ac37f5a839affd97"
          }
        },
        "07c448613be54019b73d864b2cbabe87": {
          "model_module": "@jupyter-widgets/controls",
          "model_name": "HTMLModel",
          "model_module_version": "1.5.0",
          "state": {
            "_dom_classes": [],
            "_model_module": "@jupyter-widgets/controls",
            "_model_module_version": "1.5.0",
            "_model_name": "HTMLModel",
            "_view_count": null,
            "_view_module": "@jupyter-widgets/controls",
            "_view_module_version": "1.5.0",
            "_view_name": "HTMLView",
            "description": "",
            "description_tooltip": null,
            "layout": "IPY_MODEL_cf353dffe24544448590e1da5bee8d2e",
            "placeholder": "​",
            "style": "IPY_MODEL_ff9db870d87b44fd8ec04ea070bd2fd4",
            "value": "vocab.txt: 100%"
          }
        },
        "e42dab6071c64dbb88e9c7a8afda92e2": {
          "model_module": "@jupyter-widgets/controls",
          "model_name": "FloatProgressModel",
          "model_module_version": "1.5.0",
          "state": {
            "_dom_classes": [],
            "_model_module": "@jupyter-widgets/controls",
            "_model_module_version": "1.5.0",
            "_model_name": "FloatProgressModel",
            "_view_count": null,
            "_view_module": "@jupyter-widgets/controls",
            "_view_module_version": "1.5.0",
            "_view_name": "ProgressView",
            "bar_style": "success",
            "description": "",
            "description_tooltip": null,
            "layout": "IPY_MODEL_89ca7989646348f4b36ec886bc7bd033",
            "max": 231508,
            "min": 0,
            "orientation": "horizontal",
            "style": "IPY_MODEL_a0da78d715f24ffba934aea5a3294e39",
            "value": 231508
          }
        },
        "ea8a7ff93498466ba9e34e99bea7d635": {
          "model_module": "@jupyter-widgets/controls",
          "model_name": "HTMLModel",
          "model_module_version": "1.5.0",
          "state": {
            "_dom_classes": [],
            "_model_module": "@jupyter-widgets/controls",
            "_model_module_version": "1.5.0",
            "_model_name": "HTMLModel",
            "_view_count": null,
            "_view_module": "@jupyter-widgets/controls",
            "_view_module_version": "1.5.0",
            "_view_name": "HTMLView",
            "description": "",
            "description_tooltip": null,
            "layout": "IPY_MODEL_fa021d19c34443d7aa57fb7a562d25bb",
            "placeholder": "​",
            "style": "IPY_MODEL_f70e1e3b7ff84d9483fefcc31beb10e4",
            "value": " 232k/232k [00:00&lt;00:00, 519kB/s]"
          }
        },
        "039c550d03cb4980ac37f5a839affd97": {
          "model_module": "@jupyter-widgets/base",
          "model_name": "LayoutModel",
          "model_module_version": "1.2.0",
          "state": {
            "_model_module": "@jupyter-widgets/base",
            "_model_module_version": "1.2.0",
            "_model_name": "LayoutModel",
            "_view_count": null,
            "_view_module": "@jupyter-widgets/base",
            "_view_module_version": "1.2.0",
            "_view_name": "LayoutView",
            "align_content": null,
            "align_items": null,
            "align_self": null,
            "border": null,
            "bottom": null,
            "display": null,
            "flex": null,
            "flex_flow": null,
            "grid_area": null,
            "grid_auto_columns": null,
            "grid_auto_flow": null,
            "grid_auto_rows": null,
            "grid_column": null,
            "grid_gap": null,
            "grid_row": null,
            "grid_template_areas": null,
            "grid_template_columns": null,
            "grid_template_rows": null,
            "height": null,
            "justify_content": null,
            "justify_items": null,
            "left": null,
            "margin": null,
            "max_height": null,
            "max_width": null,
            "min_height": null,
            "min_width": null,
            "object_fit": null,
            "object_position": null,
            "order": null,
            "overflow": null,
            "overflow_x": null,
            "overflow_y": null,
            "padding": null,
            "right": null,
            "top": null,
            "visibility": null,
            "width": null
          }
        },
        "cf353dffe24544448590e1da5bee8d2e": {
          "model_module": "@jupyter-widgets/base",
          "model_name": "LayoutModel",
          "model_module_version": "1.2.0",
          "state": {
            "_model_module": "@jupyter-widgets/base",
            "_model_module_version": "1.2.0",
            "_model_name": "LayoutModel",
            "_view_count": null,
            "_view_module": "@jupyter-widgets/base",
            "_view_module_version": "1.2.0",
            "_view_name": "LayoutView",
            "align_content": null,
            "align_items": null,
            "align_self": null,
            "border": null,
            "bottom": null,
            "display": null,
            "flex": null,
            "flex_flow": null,
            "grid_area": null,
            "grid_auto_columns": null,
            "grid_auto_flow": null,
            "grid_auto_rows": null,
            "grid_column": null,
            "grid_gap": null,
            "grid_row": null,
            "grid_template_areas": null,
            "grid_template_columns": null,
            "grid_template_rows": null,
            "height": null,
            "justify_content": null,
            "justify_items": null,
            "left": null,
            "margin": null,
            "max_height": null,
            "max_width": null,
            "min_height": null,
            "min_width": null,
            "object_fit": null,
            "object_position": null,
            "order": null,
            "overflow": null,
            "overflow_x": null,
            "overflow_y": null,
            "padding": null,
            "right": null,
            "top": null,
            "visibility": null,
            "width": null
          }
        },
        "ff9db870d87b44fd8ec04ea070bd2fd4": {
          "model_module": "@jupyter-widgets/controls",
          "model_name": "DescriptionStyleModel",
          "model_module_version": "1.5.0",
          "state": {
            "_model_module": "@jupyter-widgets/controls",
            "_model_module_version": "1.5.0",
            "_model_name": "DescriptionStyleModel",
            "_view_count": null,
            "_view_module": "@jupyter-widgets/base",
            "_view_module_version": "1.2.0",
            "_view_name": "StyleView",
            "description_width": ""
          }
        },
        "89ca7989646348f4b36ec886bc7bd033": {
          "model_module": "@jupyter-widgets/base",
          "model_name": "LayoutModel",
          "model_module_version": "1.2.0",
          "state": {
            "_model_module": "@jupyter-widgets/base",
            "_model_module_version": "1.2.0",
            "_model_name": "LayoutModel",
            "_view_count": null,
            "_view_module": "@jupyter-widgets/base",
            "_view_module_version": "1.2.0",
            "_view_name": "LayoutView",
            "align_content": null,
            "align_items": null,
            "align_self": null,
            "border": null,
            "bottom": null,
            "display": null,
            "flex": null,
            "flex_flow": null,
            "grid_area": null,
            "grid_auto_columns": null,
            "grid_auto_flow": null,
            "grid_auto_rows": null,
            "grid_column": null,
            "grid_gap": null,
            "grid_row": null,
            "grid_template_areas": null,
            "grid_template_columns": null,
            "grid_template_rows": null,
            "height": null,
            "justify_content": null,
            "justify_items": null,
            "left": null,
            "margin": null,
            "max_height": null,
            "max_width": null,
            "min_height": null,
            "min_width": null,
            "object_fit": null,
            "object_position": null,
            "order": null,
            "overflow": null,
            "overflow_x": null,
            "overflow_y": null,
            "padding": null,
            "right": null,
            "top": null,
            "visibility": null,
            "width": null
          }
        },
        "a0da78d715f24ffba934aea5a3294e39": {
          "model_module": "@jupyter-widgets/controls",
          "model_name": "ProgressStyleModel",
          "model_module_version": "1.5.0",
          "state": {
            "_model_module": "@jupyter-widgets/controls",
            "_model_module_version": "1.5.0",
            "_model_name": "ProgressStyleModel",
            "_view_count": null,
            "_view_module": "@jupyter-widgets/base",
            "_view_module_version": "1.2.0",
            "_view_name": "StyleView",
            "bar_color": null,
            "description_width": ""
          }
        },
        "fa021d19c34443d7aa57fb7a562d25bb": {
          "model_module": "@jupyter-widgets/base",
          "model_name": "LayoutModel",
          "model_module_version": "1.2.0",
          "state": {
            "_model_module": "@jupyter-widgets/base",
            "_model_module_version": "1.2.0",
            "_model_name": "LayoutModel",
            "_view_count": null,
            "_view_module": "@jupyter-widgets/base",
            "_view_module_version": "1.2.0",
            "_view_name": "LayoutView",
            "align_content": null,
            "align_items": null,
            "align_self": null,
            "border": null,
            "bottom": null,
            "display": null,
            "flex": null,
            "flex_flow": null,
            "grid_area": null,
            "grid_auto_columns": null,
            "grid_auto_flow": null,
            "grid_auto_rows": null,
            "grid_column": null,
            "grid_gap": null,
            "grid_row": null,
            "grid_template_areas": null,
            "grid_template_columns": null,
            "grid_template_rows": null,
            "height": null,
            "justify_content": null,
            "justify_items": null,
            "left": null,
            "margin": null,
            "max_height": null,
            "max_width": null,
            "min_height": null,
            "min_width": null,
            "object_fit": null,
            "object_position": null,
            "order": null,
            "overflow": null,
            "overflow_x": null,
            "overflow_y": null,
            "padding": null,
            "right": null,
            "top": null,
            "visibility": null,
            "width": null
          }
        },
        "f70e1e3b7ff84d9483fefcc31beb10e4": {
          "model_module": "@jupyter-widgets/controls",
          "model_name": "DescriptionStyleModel",
          "model_module_version": "1.5.0",
          "state": {
            "_model_module": "@jupyter-widgets/controls",
            "_model_module_version": "1.5.0",
            "_model_name": "DescriptionStyleModel",
            "_view_count": null,
            "_view_module": "@jupyter-widgets/base",
            "_view_module_version": "1.2.0",
            "_view_name": "StyleView",
            "description_width": ""
          }
        },
        "cadf6bffdd66489eb0f0fa62bb1afc92": {
          "model_module": "@jupyter-widgets/controls",
          "model_name": "HBoxModel",
          "model_module_version": "1.5.0",
          "state": {
            "_dom_classes": [],
            "_model_module": "@jupyter-widgets/controls",
            "_model_module_version": "1.5.0",
            "_model_name": "HBoxModel",
            "_view_count": null,
            "_view_module": "@jupyter-widgets/controls",
            "_view_module_version": "1.5.0",
            "_view_name": "HBoxView",
            "box_style": "",
            "children": [
              "IPY_MODEL_3cdf5d674aa7419fbff5d1d3541079c3",
              "IPY_MODEL_3045946e040a4d4385bb04b52fb767f1",
              "IPY_MODEL_6c9de10fd26a438083827df73cc488ad"
            ],
            "layout": "IPY_MODEL_f66f5b9a6c8a4ee3b28901ab3b002528"
          }
        },
        "3cdf5d674aa7419fbff5d1d3541079c3": {
          "model_module": "@jupyter-widgets/controls",
          "model_name": "HTMLModel",
          "model_module_version": "1.5.0",
          "state": {
            "_dom_classes": [],
            "_model_module": "@jupyter-widgets/controls",
            "_model_module_version": "1.5.0",
            "_model_name": "HTMLModel",
            "_view_count": null,
            "_view_module": "@jupyter-widgets/controls",
            "_view_module_version": "1.5.0",
            "_view_name": "HTMLView",
            "description": "",
            "description_tooltip": null,
            "layout": "IPY_MODEL_12b970cb5cac4ccaa2229149e2b8b9a3",
            "placeholder": "​",
            "style": "IPY_MODEL_24064388b5844000a34151bb53a0910c",
            "value": "tokenizer.json: 100%"
          }
        },
        "3045946e040a4d4385bb04b52fb767f1": {
          "model_module": "@jupyter-widgets/controls",
          "model_name": "FloatProgressModel",
          "model_module_version": "1.5.0",
          "state": {
            "_dom_classes": [],
            "_model_module": "@jupyter-widgets/controls",
            "_model_module_version": "1.5.0",
            "_model_name": "FloatProgressModel",
            "_view_count": null,
            "_view_module": "@jupyter-widgets/controls",
            "_view_module_version": "1.5.0",
            "_view_name": "ProgressView",
            "bar_style": "success",
            "description": "",
            "description_tooltip": null,
            "layout": "IPY_MODEL_26056b62b9274f508f3c74c71f60eaa6",
            "max": 711396,
            "min": 0,
            "orientation": "horizontal",
            "style": "IPY_MODEL_5564ee9049704121a9b621a432cd1d70",
            "value": 711396
          }
        },
        "6c9de10fd26a438083827df73cc488ad": {
          "model_module": "@jupyter-widgets/controls",
          "model_name": "HTMLModel",
          "model_module_version": "1.5.0",
          "state": {
            "_dom_classes": [],
            "_model_module": "@jupyter-widgets/controls",
            "_model_module_version": "1.5.0",
            "_model_name": "HTMLModel",
            "_view_count": null,
            "_view_module": "@jupyter-widgets/controls",
            "_view_module_version": "1.5.0",
            "_view_name": "HTMLView",
            "description": "",
            "description_tooltip": null,
            "layout": "IPY_MODEL_d1027237c09944dc83487a5381c4be8c",
            "placeholder": "​",
            "style": "IPY_MODEL_a363ca5069e74f238afd49e3fdd64671",
            "value": " 711k/711k [00:00&lt;00:00, 828kB/s]"
          }
        },
        "f66f5b9a6c8a4ee3b28901ab3b002528": {
          "model_module": "@jupyter-widgets/base",
          "model_name": "LayoutModel",
          "model_module_version": "1.2.0",
          "state": {
            "_model_module": "@jupyter-widgets/base",
            "_model_module_version": "1.2.0",
            "_model_name": "LayoutModel",
            "_view_count": null,
            "_view_module": "@jupyter-widgets/base",
            "_view_module_version": "1.2.0",
            "_view_name": "LayoutView",
            "align_content": null,
            "align_items": null,
            "align_self": null,
            "border": null,
            "bottom": null,
            "display": null,
            "flex": null,
            "flex_flow": null,
            "grid_area": null,
            "grid_auto_columns": null,
            "grid_auto_flow": null,
            "grid_auto_rows": null,
            "grid_column": null,
            "grid_gap": null,
            "grid_row": null,
            "grid_template_areas": null,
            "grid_template_columns": null,
            "grid_template_rows": null,
            "height": null,
            "justify_content": null,
            "justify_items": null,
            "left": null,
            "margin": null,
            "max_height": null,
            "max_width": null,
            "min_height": null,
            "min_width": null,
            "object_fit": null,
            "object_position": null,
            "order": null,
            "overflow": null,
            "overflow_x": null,
            "overflow_y": null,
            "padding": null,
            "right": null,
            "top": null,
            "visibility": null,
            "width": null
          }
        },
        "12b970cb5cac4ccaa2229149e2b8b9a3": {
          "model_module": "@jupyter-widgets/base",
          "model_name": "LayoutModel",
          "model_module_version": "1.2.0",
          "state": {
            "_model_module": "@jupyter-widgets/base",
            "_model_module_version": "1.2.0",
            "_model_name": "LayoutModel",
            "_view_count": null,
            "_view_module": "@jupyter-widgets/base",
            "_view_module_version": "1.2.0",
            "_view_name": "LayoutView",
            "align_content": null,
            "align_items": null,
            "align_self": null,
            "border": null,
            "bottom": null,
            "display": null,
            "flex": null,
            "flex_flow": null,
            "grid_area": null,
            "grid_auto_columns": null,
            "grid_auto_flow": null,
            "grid_auto_rows": null,
            "grid_column": null,
            "grid_gap": null,
            "grid_row": null,
            "grid_template_areas": null,
            "grid_template_columns": null,
            "grid_template_rows": null,
            "height": null,
            "justify_content": null,
            "justify_items": null,
            "left": null,
            "margin": null,
            "max_height": null,
            "max_width": null,
            "min_height": null,
            "min_width": null,
            "object_fit": null,
            "object_position": null,
            "order": null,
            "overflow": null,
            "overflow_x": null,
            "overflow_y": null,
            "padding": null,
            "right": null,
            "top": null,
            "visibility": null,
            "width": null
          }
        },
        "24064388b5844000a34151bb53a0910c": {
          "model_module": "@jupyter-widgets/controls",
          "model_name": "DescriptionStyleModel",
          "model_module_version": "1.5.0",
          "state": {
            "_model_module": "@jupyter-widgets/controls",
            "_model_module_version": "1.5.0",
            "_model_name": "DescriptionStyleModel",
            "_view_count": null,
            "_view_module": "@jupyter-widgets/base",
            "_view_module_version": "1.2.0",
            "_view_name": "StyleView",
            "description_width": ""
          }
        },
        "26056b62b9274f508f3c74c71f60eaa6": {
          "model_module": "@jupyter-widgets/base",
          "model_name": "LayoutModel",
          "model_module_version": "1.2.0",
          "state": {
            "_model_module": "@jupyter-widgets/base",
            "_model_module_version": "1.2.0",
            "_model_name": "LayoutModel",
            "_view_count": null,
            "_view_module": "@jupyter-widgets/base",
            "_view_module_version": "1.2.0",
            "_view_name": "LayoutView",
            "align_content": null,
            "align_items": null,
            "align_self": null,
            "border": null,
            "bottom": null,
            "display": null,
            "flex": null,
            "flex_flow": null,
            "grid_area": null,
            "grid_auto_columns": null,
            "grid_auto_flow": null,
            "grid_auto_rows": null,
            "grid_column": null,
            "grid_gap": null,
            "grid_row": null,
            "grid_template_areas": null,
            "grid_template_columns": null,
            "grid_template_rows": null,
            "height": null,
            "justify_content": null,
            "justify_items": null,
            "left": null,
            "margin": null,
            "max_height": null,
            "max_width": null,
            "min_height": null,
            "min_width": null,
            "object_fit": null,
            "object_position": null,
            "order": null,
            "overflow": null,
            "overflow_x": null,
            "overflow_y": null,
            "padding": null,
            "right": null,
            "top": null,
            "visibility": null,
            "width": null
          }
        },
        "5564ee9049704121a9b621a432cd1d70": {
          "model_module": "@jupyter-widgets/controls",
          "model_name": "ProgressStyleModel",
          "model_module_version": "1.5.0",
          "state": {
            "_model_module": "@jupyter-widgets/controls",
            "_model_module_version": "1.5.0",
            "_model_name": "ProgressStyleModel",
            "_view_count": null,
            "_view_module": "@jupyter-widgets/base",
            "_view_module_version": "1.2.0",
            "_view_name": "StyleView",
            "bar_color": null,
            "description_width": ""
          }
        },
        "d1027237c09944dc83487a5381c4be8c": {
          "model_module": "@jupyter-widgets/base",
          "model_name": "LayoutModel",
          "model_module_version": "1.2.0",
          "state": {
            "_model_module": "@jupyter-widgets/base",
            "_model_module_version": "1.2.0",
            "_model_name": "LayoutModel",
            "_view_count": null,
            "_view_module": "@jupyter-widgets/base",
            "_view_module_version": "1.2.0",
            "_view_name": "LayoutView",
            "align_content": null,
            "align_items": null,
            "align_self": null,
            "border": null,
            "bottom": null,
            "display": null,
            "flex": null,
            "flex_flow": null,
            "grid_area": null,
            "grid_auto_columns": null,
            "grid_auto_flow": null,
            "grid_auto_rows": null,
            "grid_column": null,
            "grid_gap": null,
            "grid_row": null,
            "grid_template_areas": null,
            "grid_template_columns": null,
            "grid_template_rows": null,
            "height": null,
            "justify_content": null,
            "justify_items": null,
            "left": null,
            "margin": null,
            "max_height": null,
            "max_width": null,
            "min_height": null,
            "min_width": null,
            "object_fit": null,
            "object_position": null,
            "order": null,
            "overflow": null,
            "overflow_x": null,
            "overflow_y": null,
            "padding": null,
            "right": null,
            "top": null,
            "visibility": null,
            "width": null
          }
        },
        "a363ca5069e74f238afd49e3fdd64671": {
          "model_module": "@jupyter-widgets/controls",
          "model_name": "DescriptionStyleModel",
          "model_module_version": "1.5.0",
          "state": {
            "_model_module": "@jupyter-widgets/controls",
            "_model_module_version": "1.5.0",
            "_model_name": "DescriptionStyleModel",
            "_view_count": null,
            "_view_module": "@jupyter-widgets/base",
            "_view_module_version": "1.2.0",
            "_view_name": "StyleView",
            "description_width": ""
          }
        },
        "5b9085594da2415983ef00b7701ee1c2": {
          "model_module": "@jupyter-widgets/controls",
          "model_name": "HBoxModel",
          "model_module_version": "1.5.0",
          "state": {
            "_dom_classes": [],
            "_model_module": "@jupyter-widgets/controls",
            "_model_module_version": "1.5.0",
            "_model_name": "HBoxModel",
            "_view_count": null,
            "_view_module": "@jupyter-widgets/controls",
            "_view_module_version": "1.5.0",
            "_view_name": "HBoxView",
            "box_style": "",
            "children": [
              "IPY_MODEL_a611161904e343ebae915f8b56d03409",
              "IPY_MODEL_093d55ec7bcf4e90937053a85337990d",
              "IPY_MODEL_3f49c1a751af4b0d9ed6429100713a14"
            ],
            "layout": "IPY_MODEL_47572b4e39e04697a5726db6a62283c7"
          }
        },
        "a611161904e343ebae915f8b56d03409": {
          "model_module": "@jupyter-widgets/controls",
          "model_name": "HTMLModel",
          "model_module_version": "1.5.0",
          "state": {
            "_dom_classes": [],
            "_model_module": "@jupyter-widgets/controls",
            "_model_module_version": "1.5.0",
            "_model_name": "HTMLModel",
            "_view_count": null,
            "_view_module": "@jupyter-widgets/controls",
            "_view_module_version": "1.5.0",
            "_view_name": "HTMLView",
            "description": "",
            "description_tooltip": null,
            "layout": "IPY_MODEL_2276e8e5983a497d99d5fd2333c284aa",
            "placeholder": "​",
            "style": "IPY_MODEL_2bd264e858ba47ef9e88b0f4cf7ae181",
            "value": "special_tokens_map.json: 100%"
          }
        },
        "093d55ec7bcf4e90937053a85337990d": {
          "model_module": "@jupyter-widgets/controls",
          "model_name": "FloatProgressModel",
          "model_module_version": "1.5.0",
          "state": {
            "_dom_classes": [],
            "_model_module": "@jupyter-widgets/controls",
            "_model_module_version": "1.5.0",
            "_model_name": "FloatProgressModel",
            "_view_count": null,
            "_view_module": "@jupyter-widgets/controls",
            "_view_module_version": "1.5.0",
            "_view_name": "ProgressView",
            "bar_style": "success",
            "description": "",
            "description_tooltip": null,
            "layout": "IPY_MODEL_45a24e71f54a4ee6b7beb8b3532bd535",
            "max": 125,
            "min": 0,
            "orientation": "horizontal",
            "style": "IPY_MODEL_653e5a8de7254562ab7b732b9686ca75",
            "value": 125
          }
        },
        "3f49c1a751af4b0d9ed6429100713a14": {
          "model_module": "@jupyter-widgets/controls",
          "model_name": "HTMLModel",
          "model_module_version": "1.5.0",
          "state": {
            "_dom_classes": [],
            "_model_module": "@jupyter-widgets/controls",
            "_model_module_version": "1.5.0",
            "_model_name": "HTMLModel",
            "_view_count": null,
            "_view_module": "@jupyter-widgets/controls",
            "_view_module_version": "1.5.0",
            "_view_name": "HTMLView",
            "description": "",
            "description_tooltip": null,
            "layout": "IPY_MODEL_318f752a5895491d8307dcefbeaad742",
            "placeholder": "​",
            "style": "IPY_MODEL_38cc228083fb44a1a09b9aac8711bcfc",
            "value": " 125/125 [00:00&lt;00:00, 6.35kB/s]"
          }
        },
        "47572b4e39e04697a5726db6a62283c7": {
          "model_module": "@jupyter-widgets/base",
          "model_name": "LayoutModel",
          "model_module_version": "1.2.0",
          "state": {
            "_model_module": "@jupyter-widgets/base",
            "_model_module_version": "1.2.0",
            "_model_name": "LayoutModel",
            "_view_count": null,
            "_view_module": "@jupyter-widgets/base",
            "_view_module_version": "1.2.0",
            "_view_name": "LayoutView",
            "align_content": null,
            "align_items": null,
            "align_self": null,
            "border": null,
            "bottom": null,
            "display": null,
            "flex": null,
            "flex_flow": null,
            "grid_area": null,
            "grid_auto_columns": null,
            "grid_auto_flow": null,
            "grid_auto_rows": null,
            "grid_column": null,
            "grid_gap": null,
            "grid_row": null,
            "grid_template_areas": null,
            "grid_template_columns": null,
            "grid_template_rows": null,
            "height": null,
            "justify_content": null,
            "justify_items": null,
            "left": null,
            "margin": null,
            "max_height": null,
            "max_width": null,
            "min_height": null,
            "min_width": null,
            "object_fit": null,
            "object_position": null,
            "order": null,
            "overflow": null,
            "overflow_x": null,
            "overflow_y": null,
            "padding": null,
            "right": null,
            "top": null,
            "visibility": null,
            "width": null
          }
        },
        "2276e8e5983a497d99d5fd2333c284aa": {
          "model_module": "@jupyter-widgets/base",
          "model_name": "LayoutModel",
          "model_module_version": "1.2.0",
          "state": {
            "_model_module": "@jupyter-widgets/base",
            "_model_module_version": "1.2.0",
            "_model_name": "LayoutModel",
            "_view_count": null,
            "_view_module": "@jupyter-widgets/base",
            "_view_module_version": "1.2.0",
            "_view_name": "LayoutView",
            "align_content": null,
            "align_items": null,
            "align_self": null,
            "border": null,
            "bottom": null,
            "display": null,
            "flex": null,
            "flex_flow": null,
            "grid_area": null,
            "grid_auto_columns": null,
            "grid_auto_flow": null,
            "grid_auto_rows": null,
            "grid_column": null,
            "grid_gap": null,
            "grid_row": null,
            "grid_template_areas": null,
            "grid_template_columns": null,
            "grid_template_rows": null,
            "height": null,
            "justify_content": null,
            "justify_items": null,
            "left": null,
            "margin": null,
            "max_height": null,
            "max_width": null,
            "min_height": null,
            "min_width": null,
            "object_fit": null,
            "object_position": null,
            "order": null,
            "overflow": null,
            "overflow_x": null,
            "overflow_y": null,
            "padding": null,
            "right": null,
            "top": null,
            "visibility": null,
            "width": null
          }
        },
        "2bd264e858ba47ef9e88b0f4cf7ae181": {
          "model_module": "@jupyter-widgets/controls",
          "model_name": "DescriptionStyleModel",
          "model_module_version": "1.5.0",
          "state": {
            "_model_module": "@jupyter-widgets/controls",
            "_model_module_version": "1.5.0",
            "_model_name": "DescriptionStyleModel",
            "_view_count": null,
            "_view_module": "@jupyter-widgets/base",
            "_view_module_version": "1.2.0",
            "_view_name": "StyleView",
            "description_width": ""
          }
        },
        "45a24e71f54a4ee6b7beb8b3532bd535": {
          "model_module": "@jupyter-widgets/base",
          "model_name": "LayoutModel",
          "model_module_version": "1.2.0",
          "state": {
            "_model_module": "@jupyter-widgets/base",
            "_model_module_version": "1.2.0",
            "_model_name": "LayoutModel",
            "_view_count": null,
            "_view_module": "@jupyter-widgets/base",
            "_view_module_version": "1.2.0",
            "_view_name": "LayoutView",
            "align_content": null,
            "align_items": null,
            "align_self": null,
            "border": null,
            "bottom": null,
            "display": null,
            "flex": null,
            "flex_flow": null,
            "grid_area": null,
            "grid_auto_columns": null,
            "grid_auto_flow": null,
            "grid_auto_rows": null,
            "grid_column": null,
            "grid_gap": null,
            "grid_row": null,
            "grid_template_areas": null,
            "grid_template_columns": null,
            "grid_template_rows": null,
            "height": null,
            "justify_content": null,
            "justify_items": null,
            "left": null,
            "margin": null,
            "max_height": null,
            "max_width": null,
            "min_height": null,
            "min_width": null,
            "object_fit": null,
            "object_position": null,
            "order": null,
            "overflow": null,
            "overflow_x": null,
            "overflow_y": null,
            "padding": null,
            "right": null,
            "top": null,
            "visibility": null,
            "width": null
          }
        },
        "653e5a8de7254562ab7b732b9686ca75": {
          "model_module": "@jupyter-widgets/controls",
          "model_name": "ProgressStyleModel",
          "model_module_version": "1.5.0",
          "state": {
            "_model_module": "@jupyter-widgets/controls",
            "_model_module_version": "1.5.0",
            "_model_name": "ProgressStyleModel",
            "_view_count": null,
            "_view_module": "@jupyter-widgets/base",
            "_view_module_version": "1.2.0",
            "_view_name": "StyleView",
            "bar_color": null,
            "description_width": ""
          }
        },
        "318f752a5895491d8307dcefbeaad742": {
          "model_module": "@jupyter-widgets/base",
          "model_name": "LayoutModel",
          "model_module_version": "1.2.0",
          "state": {
            "_model_module": "@jupyter-widgets/base",
            "_model_module_version": "1.2.0",
            "_model_name": "LayoutModel",
            "_view_count": null,
            "_view_module": "@jupyter-widgets/base",
            "_view_module_version": "1.2.0",
            "_view_name": "LayoutView",
            "align_content": null,
            "align_items": null,
            "align_self": null,
            "border": null,
            "bottom": null,
            "display": null,
            "flex": null,
            "flex_flow": null,
            "grid_area": null,
            "grid_auto_columns": null,
            "grid_auto_flow": null,
            "grid_auto_rows": null,
            "grid_column": null,
            "grid_gap": null,
            "grid_row": null,
            "grid_template_areas": null,
            "grid_template_columns": null,
            "grid_template_rows": null,
            "height": null,
            "justify_content": null,
            "justify_items": null,
            "left": null,
            "margin": null,
            "max_height": null,
            "max_width": null,
            "min_height": null,
            "min_width": null,
            "object_fit": null,
            "object_position": null,
            "order": null,
            "overflow": null,
            "overflow_x": null,
            "overflow_y": null,
            "padding": null,
            "right": null,
            "top": null,
            "visibility": null,
            "width": null
          }
        },
        "38cc228083fb44a1a09b9aac8711bcfc": {
          "model_module": "@jupyter-widgets/controls",
          "model_name": "DescriptionStyleModel",
          "model_module_version": "1.5.0",
          "state": {
            "_model_module": "@jupyter-widgets/controls",
            "_model_module_version": "1.5.0",
            "_model_name": "DescriptionStyleModel",
            "_view_count": null,
            "_view_module": "@jupyter-widgets/base",
            "_view_module_version": "1.2.0",
            "_view_name": "StyleView",
            "description_width": ""
          }
        },
        "0a451fd9250c4242bc721b5787be4e2d": {
          "model_module": "@jupyter-widgets/controls",
          "model_name": "HBoxModel",
          "model_module_version": "1.5.0",
          "state": {
            "_dom_classes": [],
            "_model_module": "@jupyter-widgets/controls",
            "_model_module_version": "1.5.0",
            "_model_name": "HBoxModel",
            "_view_count": null,
            "_view_module": "@jupyter-widgets/controls",
            "_view_module_version": "1.5.0",
            "_view_name": "HBoxView",
            "box_style": "",
            "children": [
              "IPY_MODEL_63871415a568462f91f528657e08fdbf",
              "IPY_MODEL_00019ab7a4894a2e962f62f2647b441f",
              "IPY_MODEL_a2c349bed6824206ae55e40cfe471a99"
            ],
            "layout": "IPY_MODEL_3fc14a951c0e4710a42a5f63d506605d"
          }
        },
        "63871415a568462f91f528657e08fdbf": {
          "model_module": "@jupyter-widgets/controls",
          "model_name": "HTMLModel",
          "model_module_version": "1.5.0",
          "state": {
            "_dom_classes": [],
            "_model_module": "@jupyter-widgets/controls",
            "_model_module_version": "1.5.0",
            "_model_name": "HTMLModel",
            "_view_count": null,
            "_view_module": "@jupyter-widgets/controls",
            "_view_module_version": "1.5.0",
            "_view_name": "HTMLView",
            "description": "",
            "description_tooltip": null,
            "layout": "IPY_MODEL_600c2ae1b07547a081e4f279aa91d4b8",
            "placeholder": "​",
            "style": "IPY_MODEL_bab3a06e0f394ff89411eedb00499afb",
            "value": "1_Pooling/config.json: 100%"
          }
        },
        "00019ab7a4894a2e962f62f2647b441f": {
          "model_module": "@jupyter-widgets/controls",
          "model_name": "FloatProgressModel",
          "model_module_version": "1.5.0",
          "state": {
            "_dom_classes": [],
            "_model_module": "@jupyter-widgets/controls",
            "_model_module_version": "1.5.0",
            "_model_name": "FloatProgressModel",
            "_view_count": null,
            "_view_module": "@jupyter-widgets/controls",
            "_view_module_version": "1.5.0",
            "_view_name": "ProgressView",
            "bar_style": "success",
            "description": "",
            "description_tooltip": null,
            "layout": "IPY_MODEL_2095e9971a3c4fa6959eac81d0707996",
            "max": 191,
            "min": 0,
            "orientation": "horizontal",
            "style": "IPY_MODEL_7c051150b3c54786b177761007c2ef46",
            "value": 191
          }
        },
        "a2c349bed6824206ae55e40cfe471a99": {
          "model_module": "@jupyter-widgets/controls",
          "model_name": "HTMLModel",
          "model_module_version": "1.5.0",
          "state": {
            "_dom_classes": [],
            "_model_module": "@jupyter-widgets/controls",
            "_model_module_version": "1.5.0",
            "_model_name": "HTMLModel",
            "_view_count": null,
            "_view_module": "@jupyter-widgets/controls",
            "_view_module_version": "1.5.0",
            "_view_name": "HTMLView",
            "description": "",
            "description_tooltip": null,
            "layout": "IPY_MODEL_aaa89b8239da4178a8d10c82e2dd78b3",
            "placeholder": "​",
            "style": "IPY_MODEL_a2c2fed15b7b41508aeba180bfaa4fb0",
            "value": " 191/191 [00:00&lt;00:00, 15.2kB/s]"
          }
        },
        "3fc14a951c0e4710a42a5f63d506605d": {
          "model_module": "@jupyter-widgets/base",
          "model_name": "LayoutModel",
          "model_module_version": "1.2.0",
          "state": {
            "_model_module": "@jupyter-widgets/base",
            "_model_module_version": "1.2.0",
            "_model_name": "LayoutModel",
            "_view_count": null,
            "_view_module": "@jupyter-widgets/base",
            "_view_module_version": "1.2.0",
            "_view_name": "LayoutView",
            "align_content": null,
            "align_items": null,
            "align_self": null,
            "border": null,
            "bottom": null,
            "display": null,
            "flex": null,
            "flex_flow": null,
            "grid_area": null,
            "grid_auto_columns": null,
            "grid_auto_flow": null,
            "grid_auto_rows": null,
            "grid_column": null,
            "grid_gap": null,
            "grid_row": null,
            "grid_template_areas": null,
            "grid_template_columns": null,
            "grid_template_rows": null,
            "height": null,
            "justify_content": null,
            "justify_items": null,
            "left": null,
            "margin": null,
            "max_height": null,
            "max_width": null,
            "min_height": null,
            "min_width": null,
            "object_fit": null,
            "object_position": null,
            "order": null,
            "overflow": null,
            "overflow_x": null,
            "overflow_y": null,
            "padding": null,
            "right": null,
            "top": null,
            "visibility": null,
            "width": null
          }
        },
        "600c2ae1b07547a081e4f279aa91d4b8": {
          "model_module": "@jupyter-widgets/base",
          "model_name": "LayoutModel",
          "model_module_version": "1.2.0",
          "state": {
            "_model_module": "@jupyter-widgets/base",
            "_model_module_version": "1.2.0",
            "_model_name": "LayoutModel",
            "_view_count": null,
            "_view_module": "@jupyter-widgets/base",
            "_view_module_version": "1.2.0",
            "_view_name": "LayoutView",
            "align_content": null,
            "align_items": null,
            "align_self": null,
            "border": null,
            "bottom": null,
            "display": null,
            "flex": null,
            "flex_flow": null,
            "grid_area": null,
            "grid_auto_columns": null,
            "grid_auto_flow": null,
            "grid_auto_rows": null,
            "grid_column": null,
            "grid_gap": null,
            "grid_row": null,
            "grid_template_areas": null,
            "grid_template_columns": null,
            "grid_template_rows": null,
            "height": null,
            "justify_content": null,
            "justify_items": null,
            "left": null,
            "margin": null,
            "max_height": null,
            "max_width": null,
            "min_height": null,
            "min_width": null,
            "object_fit": null,
            "object_position": null,
            "order": null,
            "overflow": null,
            "overflow_x": null,
            "overflow_y": null,
            "padding": null,
            "right": null,
            "top": null,
            "visibility": null,
            "width": null
          }
        },
        "bab3a06e0f394ff89411eedb00499afb": {
          "model_module": "@jupyter-widgets/controls",
          "model_name": "DescriptionStyleModel",
          "model_module_version": "1.5.0",
          "state": {
            "_model_module": "@jupyter-widgets/controls",
            "_model_module_version": "1.5.0",
            "_model_name": "DescriptionStyleModel",
            "_view_count": null,
            "_view_module": "@jupyter-widgets/base",
            "_view_module_version": "1.2.0",
            "_view_name": "StyleView",
            "description_width": ""
          }
        },
        "2095e9971a3c4fa6959eac81d0707996": {
          "model_module": "@jupyter-widgets/base",
          "model_name": "LayoutModel",
          "model_module_version": "1.2.0",
          "state": {
            "_model_module": "@jupyter-widgets/base",
            "_model_module_version": "1.2.0",
            "_model_name": "LayoutModel",
            "_view_count": null,
            "_view_module": "@jupyter-widgets/base",
            "_view_module_version": "1.2.0",
            "_view_name": "LayoutView",
            "align_content": null,
            "align_items": null,
            "align_self": null,
            "border": null,
            "bottom": null,
            "display": null,
            "flex": null,
            "flex_flow": null,
            "grid_area": null,
            "grid_auto_columns": null,
            "grid_auto_flow": null,
            "grid_auto_rows": null,
            "grid_column": null,
            "grid_gap": null,
            "grid_row": null,
            "grid_template_areas": null,
            "grid_template_columns": null,
            "grid_template_rows": null,
            "height": null,
            "justify_content": null,
            "justify_items": null,
            "left": null,
            "margin": null,
            "max_height": null,
            "max_width": null,
            "min_height": null,
            "min_width": null,
            "object_fit": null,
            "object_position": null,
            "order": null,
            "overflow": null,
            "overflow_x": null,
            "overflow_y": null,
            "padding": null,
            "right": null,
            "top": null,
            "visibility": null,
            "width": null
          }
        },
        "7c051150b3c54786b177761007c2ef46": {
          "model_module": "@jupyter-widgets/controls",
          "model_name": "ProgressStyleModel",
          "model_module_version": "1.5.0",
          "state": {
            "_model_module": "@jupyter-widgets/controls",
            "_model_module_version": "1.5.0",
            "_model_name": "ProgressStyleModel",
            "_view_count": null,
            "_view_module": "@jupyter-widgets/base",
            "_view_module_version": "1.2.0",
            "_view_name": "StyleView",
            "bar_color": null,
            "description_width": ""
          }
        },
        "aaa89b8239da4178a8d10c82e2dd78b3": {
          "model_module": "@jupyter-widgets/base",
          "model_name": "LayoutModel",
          "model_module_version": "1.2.0",
          "state": {
            "_model_module": "@jupyter-widgets/base",
            "_model_module_version": "1.2.0",
            "_model_name": "LayoutModel",
            "_view_count": null,
            "_view_module": "@jupyter-widgets/base",
            "_view_module_version": "1.2.0",
            "_view_name": "LayoutView",
            "align_content": null,
            "align_items": null,
            "align_self": null,
            "border": null,
            "bottom": null,
            "display": null,
            "flex": null,
            "flex_flow": null,
            "grid_area": null,
            "grid_auto_columns": null,
            "grid_auto_flow": null,
            "grid_auto_rows": null,
            "grid_column": null,
            "grid_gap": null,
            "grid_row": null,
            "grid_template_areas": null,
            "grid_template_columns": null,
            "grid_template_rows": null,
            "height": null,
            "justify_content": null,
            "justify_items": null,
            "left": null,
            "margin": null,
            "max_height": null,
            "max_width": null,
            "min_height": null,
            "min_width": null,
            "object_fit": null,
            "object_position": null,
            "order": null,
            "overflow": null,
            "overflow_x": null,
            "overflow_y": null,
            "padding": null,
            "right": null,
            "top": null,
            "visibility": null,
            "width": null
          }
        },
        "a2c2fed15b7b41508aeba180bfaa4fb0": {
          "model_module": "@jupyter-widgets/controls",
          "model_name": "DescriptionStyleModel",
          "model_module_version": "1.5.0",
          "state": {
            "_model_module": "@jupyter-widgets/controls",
            "_model_module_version": "1.5.0",
            "_model_name": "DescriptionStyleModel",
            "_view_count": null,
            "_view_module": "@jupyter-widgets/base",
            "_view_module_version": "1.2.0",
            "_view_name": "StyleView",
            "description_width": ""
          }
        }
      }
    }
  },
  "cells": [
    {
      "cell_type": "markdown",
      "metadata": {
        "id": "view-in-github"
      },
      "source": [
        "<a href=\"https://colab.research.google.com/github/sunnysavita10/Generative-AI-Indepth-Basic-to-Advance/blob/main/MergerRetriever_and_LongContextReorder.ipynb\" target=\"_parent\"><img src=\"https://colab.research.google.com/assets/colab-badge.svg\" alt=\"Open In Colab\"/></a>"
      ]
    },
    {
      "cell_type": "markdown",
      "source": [
        "# Install the Require Libraries"
      ],
      "metadata": {
        "id": "1P1Vj3uQHRDt"
      }
    },
    {
      "cell_type": "code",
      "execution_count": 7,
      "metadata": {
        "id": "ei-8sHPAHFNZ",
        "colab": {
          "base_uri": "https://localhost:8080/"
        },
        "outputId": "fc1faa0c-91fc-49d3-a4b1-6d754ad26687"
      },
      "outputs": [
        {
          "output_type": "stream",
          "name": "stdout",
          "text": [
            "\u001b[?25l     \u001b[90m━━━━━━━━━━━━━━━━━━━━━━━━━━━━━━━━━━━━━━━━\u001b[0m \u001b[32m0.0/67.3 kB\u001b[0m \u001b[31m?\u001b[0m eta \u001b[36m-:--:--\u001b[0m\r\u001b[2K     \u001b[90m━━━━━━━━━━━━━━━━━━━━━━━━━━━━━━━━━━━━━━━━\u001b[0m \u001b[32m67.3/67.3 kB\u001b[0m \u001b[31m6.0 MB/s\u001b[0m eta \u001b[36m0:00:00\u001b[0m\n",
            "\u001b[?25h  Installing build dependencies ... \u001b[?25l\u001b[?25hdone\n",
            "  Getting requirements to build wheel ... \u001b[?25l\u001b[?25hdone\n",
            "  Preparing metadata (pyproject.toml) ... \u001b[?25l\u001b[?25hdone\n",
            "\u001b[2K     \u001b[90m━━━━━━━━━━━━━━━━━━━━━━━━━━━━━━━━━━━━━━━━\u001b[0m \u001b[32m50.4/50.4 kB\u001b[0m \u001b[31m3.7 MB/s\u001b[0m eta \u001b[36m0:00:00\u001b[0m\n",
            "\u001b[2K   \u001b[90m━━━━━━━━━━━━━━━━━━━━━━━━━━━━━━━━━━━━━━━━\u001b[0m \u001b[32m990.3/990.3 kB\u001b[0m \u001b[31m48.6 MB/s\u001b[0m eta \u001b[36m0:00:00\u001b[0m\n",
            "\u001b[2K   \u001b[90m━━━━━━━━━━━━━━━━━━━━━━━━━━━━━━━━━━━━━━━━\u001b[0m \u001b[32m584.3/584.3 kB\u001b[0m \u001b[31m39.0 MB/s\u001b[0m eta \u001b[36m0:00:00\u001b[0m\n",
            "\u001b[2K   \u001b[90m━━━━━━━━━━━━━━━━━━━━━━━━━━━━━━━━━━━━━━━━\u001b[0m \u001b[32m2.4/2.4 MB\u001b[0m \u001b[31m78.2 MB/s\u001b[0m eta \u001b[36m0:00:00\u001b[0m\n",
            "\u001b[2K   \u001b[90m━━━━━━━━━━━━━━━━━━━━━━━━━━━━━━━━━━━━━━━━\u001b[0m \u001b[32m417.5/417.5 kB\u001b[0m \u001b[31m31.7 MB/s\u001b[0m eta \u001b[36m0:00:00\u001b[0m\n",
            "\u001b[2K   \u001b[90m━━━━━━━━━━━━━━━━━━━━━━━━━━━━━━━━━━━━━━━━\u001b[0m \u001b[32m227.1/227.1 kB\u001b[0m \u001b[31m20.2 MB/s\u001b[0m eta \u001b[36m0:00:00\u001b[0m\n",
            "\u001b[2K   \u001b[90m━━━━━━━━━━━━━━━━━━━━━━━━━━━━━━━━━━━━━━━━\u001b[0m \u001b[32m295.8/295.8 kB\u001b[0m \u001b[31m24.4 MB/s\u001b[0m eta \u001b[36m0:00:00\u001b[0m\n",
            "\u001b[2K   \u001b[90m━━━━━━━━━━━━━━━━━━━━━━━━━━━━━━━━━━━━━━━━\u001b[0m \u001b[32m337.0/337.0 kB\u001b[0m \u001b[31m25.8 MB/s\u001b[0m eta \u001b[36m0:00:00\u001b[0m\n",
            "\u001b[2K   \u001b[90m━━━━━━━━━━━━━━━━━━━━━━━━━━━━━━━━━━━━━━━━\u001b[0m \u001b[32m1.1/1.1 MB\u001b[0m \u001b[31m44.9 MB/s\u001b[0m eta \u001b[36m0:00:00\u001b[0m\n",
            "\u001b[2K   \u001b[90m━━━━━━━━━━━━━━━━━━━━━━━━━━━━━━━━━━━━━━━━\u001b[0m \u001b[32m273.8/273.8 kB\u001b[0m \u001b[31m23.3 MB/s\u001b[0m eta \u001b[36m0:00:00\u001b[0m\n",
            "\u001b[2K   \u001b[90m━━━━━━━━━━━━━━━━━━━━━━━━━━━━━━━━━━━━━━━━\u001b[0m \u001b[32m92.2/92.2 kB\u001b[0m \u001b[31m7.9 MB/s\u001b[0m eta \u001b[36m0:00:00\u001b[0m\n",
            "\u001b[2K   \u001b[90m━━━━━━━━━━━━━━━━━━━━━━━━━━━━━━━━━━━━━━━━\u001b[0m \u001b[32m75.6/75.6 kB\u001b[0m \u001b[31m6.6 MB/s\u001b[0m eta \u001b[36m0:00:00\u001b[0m\n",
            "\u001b[2K   \u001b[90m━━━━━━━━━━━━━━━━━━━━━━━━━━━━━━━━━━━━━━━━\u001b[0m \u001b[32m77.9/77.9 kB\u001b[0m \u001b[31m6.2 MB/s\u001b[0m eta \u001b[36m0:00:00\u001b[0m\n",
            "\u001b[2K   \u001b[90m━━━━━━━━━━━━━━━━━━━━━━━━━━━━━━━━━━━━━━━━\u001b[0m \u001b[32m1.7/1.7 MB\u001b[0m \u001b[31m66.9 MB/s\u001b[0m eta \u001b[36m0:00:00\u001b[0m\n",
            "\u001b[2K   \u001b[90m━━━━━━━━━━━━━━━━━━━━━━━━━━━━━━━━━━━━━━━━\u001b[0m \u001b[32m379.8/379.8 kB\u001b[0m \u001b[31m27.8 MB/s\u001b[0m eta \u001b[36m0:00:00\u001b[0m\n",
            "\u001b[2K   \u001b[90m━━━━━━━━━━━━━━━━━━━━━━━━━━━━━━━━━━━━━━━━\u001b[0m \u001b[32m140.1/140.1 kB\u001b[0m \u001b[31m12.4 MB/s\u001b[0m eta \u001b[36m0:00:00\u001b[0m\n",
            "\u001b[2K   \u001b[90m━━━━━━━━━━━━━━━━━━━━━━━━━━━━━━━━━━━━━━━━\u001b[0m \u001b[32m67.6/67.6 kB\u001b[0m \u001b[31m5.1 MB/s\u001b[0m eta \u001b[36m0:00:00\u001b[0m\n",
            "\u001b[2K   \u001b[90m━━━━━━━━━━━━━━━━━━━━━━━━━━━━━━━━━━━━━━━━\u001b[0m \u001b[32m6.8/6.8 MB\u001b[0m \u001b[31m108.2 MB/s\u001b[0m eta \u001b[36m0:00:00\u001b[0m\n",
            "\u001b[2K   \u001b[90m━━━━━━━━━━━━━━━━━━━━━━━━━━━━━━━━━━━━━━━━\u001b[0m \u001b[32m61.5/61.5 kB\u001b[0m \u001b[31m4.8 MB/s\u001b[0m eta \u001b[36m0:00:00\u001b[0m\n",
            "\u001b[2K   \u001b[90m━━━━━━━━━━━━━━━━━━━━━━━━━━━━━━━━━━━━━━━━\u001b[0m \u001b[32m52.5/52.5 kB\u001b[0m \u001b[31m4.5 MB/s\u001b[0m eta \u001b[36m0:00:00\u001b[0m\n",
            "\u001b[2K   \u001b[90m━━━━━━━━━━━━━━━━━━━━━━━━━━━━━━━━━━━━━━━━\u001b[0m \u001b[32m138.0/138.0 kB\u001b[0m \u001b[31m4.1 MB/s\u001b[0m eta \u001b[36m0:00:00\u001b[0m\n",
            "\u001b[2K   \u001b[90m━━━━━━━━━━━━━━━━━━━━━━━━━━━━━━━━━━━━━━━━\u001b[0m \u001b[32m109.5/109.5 kB\u001b[0m \u001b[31m9.7 MB/s\u001b[0m eta \u001b[36m0:00:00\u001b[0m\n",
            "\u001b[2K   \u001b[90m━━━━━━━━━━━━━━━━━━━━━━━━━━━━━━━━━━━━━━━━\u001b[0m \u001b[32m141.1/141.1 kB\u001b[0m \u001b[31m12.4 MB/s\u001b[0m eta \u001b[36m0:00:00\u001b[0m\n",
            "\u001b[2K   \u001b[90m━━━━━━━━━━━━━━━━━━━━━━━━━━━━━━━━━━━━━━━━\u001b[0m \u001b[32m41.3/41.3 kB\u001b[0m \u001b[31m3.4 MB/s\u001b[0m eta \u001b[36m0:00:00\u001b[0m\n",
            "\u001b[2K   \u001b[90m━━━━━━━━━━━━━━━━━━━━━━━━━━━━━━━━━━━━━━━━\u001b[0m \u001b[32m62.8/62.8 kB\u001b[0m \u001b[31m126.6 kB/s\u001b[0m eta \u001b[36m0:00:00\u001b[0m\n",
            "\u001b[2K   \u001b[90m━━━━━━━━━━━━━━━━━━━━━━━━━━━━━━━━━━━━━━━━\u001b[0m \u001b[32m58.3/58.3 kB\u001b[0m \u001b[31m5.5 MB/s\u001b[0m eta \u001b[36m0:00:00\u001b[0m\n",
            "\u001b[2K   \u001b[90m━━━━━━━━━━━━━━━━━━━━━━━━━━━━━━━━━━━━━━━━\u001b[0m \u001b[32m341.4/341.4 kB\u001b[0m \u001b[31m28.6 MB/s\u001b[0m eta \u001b[36m0:00:00\u001b[0m\n",
            "\u001b[2K   \u001b[90m━━━━━━━━━━━━━━━━━━━━━━━━━━━━━━━━━━━━━━━━\u001b[0m \u001b[32m71.9/71.9 kB\u001b[0m \u001b[31m6.8 MB/s\u001b[0m eta \u001b[36m0:00:00\u001b[0m\n",
            "\u001b[2K   \u001b[90m━━━━━━━━━━━━━━━━━━━━━━━━━━━━━━━━━━━━━━━━\u001b[0m \u001b[32m3.4/3.4 MB\u001b[0m \u001b[31m85.9 MB/s\u001b[0m eta \u001b[36m0:00:00\u001b[0m\n",
            "\u001b[2K   \u001b[90m━━━━━━━━━━━━━━━━━━━━━━━━━━━━━━━━━━━━━━━━\u001b[0m \u001b[32m1.2/1.2 MB\u001b[0m \u001b[31m64.2 MB/s\u001b[0m eta \u001b[36m0:00:00\u001b[0m\n",
            "\u001b[2K   \u001b[90m━━━━━━━━━━━━━━━━━━━━━━━━━━━━━━━━━━━━━━━━\u001b[0m \u001b[32m130.2/130.2 kB\u001b[0m \u001b[31m12.9 MB/s\u001b[0m eta \u001b[36m0:00:00\u001b[0m\n",
            "\u001b[2K   \u001b[90m━━━━━━━━━━━━━━━━━━━━━━━━━━━━━━━━━━━━━━━━\u001b[0m \u001b[32m46.0/46.0 kB\u001b[0m \u001b[31m3.9 MB/s\u001b[0m eta \u001b[36m0:00:00\u001b[0m\n",
            "\u001b[2K   \u001b[90m━━━━━━━━━━━━━━━━━━━━━━━━━━━━━━━━━━━━━━━━\u001b[0m \u001b[32m307.7/307.7 kB\u001b[0m \u001b[31m26.5 MB/s\u001b[0m eta \u001b[36m0:00:00\u001b[0m\n",
            "\u001b[2K   \u001b[90m━━━━━━━━━━━━━━━━━━━━━━━━━━━━━━━━━━━━━━━━\u001b[0m \u001b[32m86.8/86.8 kB\u001b[0m \u001b[31m8.4 MB/s\u001b[0m eta \u001b[36m0:00:00\u001b[0m\n",
            "\u001b[2K   \u001b[90m━━━━━━━━━━━━━━━━━━━━━━━━━━━━━━━━━━━━━━━━\u001b[0m \u001b[32m19.7/19.7 MB\u001b[0m \u001b[31m80.3 MB/s\u001b[0m eta \u001b[36m0:00:00\u001b[0m\n",
            "\u001b[?25h  Building wheel for pypika (pyproject.toml) ... \u001b[?25l\u001b[?25hdone\n"
          ]
        }
      ],
      "source": [
        "!pip install -qU langchain chromadb huggingface_hub sentence-transformers pypdf openai tiktoken"
      ]
    },
    {
      "cell_type": "code",
      "source": [
        "!pip -q install -U langchain-community"
      ],
      "metadata": {
        "id": "I_V67Rx_HhWA",
        "colab": {
          "base_uri": "https://localhost:8080/"
        },
        "outputId": "7887156d-edaa-42a3-f32d-3d6967649048"
      },
      "execution_count": 8,
      "outputs": [
        {
          "output_type": "stream",
          "name": "stdout",
          "text": [
            "\u001b[?25l   \u001b[90m━━━━━━━━━━━━━━━━━━━━━━━━━━━━━━━━━━━━━━━━\u001b[0m \u001b[32m0.0/2.3 MB\u001b[0m \u001b[31m?\u001b[0m eta \u001b[36m-:--:--\u001b[0m\r\u001b[2K   \u001b[91m━━━━━━━━━━━━━━━━━━━━━━━━━━━━━━━━━━━━━━━\u001b[0m\u001b[91m╸\u001b[0m \u001b[32m2.3/2.3 MB\u001b[0m \u001b[31m138.3 MB/s\u001b[0m eta \u001b[36m0:00:01\u001b[0m\r\u001b[2K   \u001b[90m━━━━━━━━━━━━━━━━━━━━━━━━━━━━━━━━━━━━━━━━\u001b[0m \u001b[32m2.3/2.3 MB\u001b[0m \u001b[31m61.8 MB/s\u001b[0m eta \u001b[36m0:00:00\u001b[0m\n",
            "\u001b[?25h\u001b[?25l   \u001b[90m━━━━━━━━━━━━━━━━━━━━━━━━━━━━━━━━━━━━━━━━\u001b[0m \u001b[32m0.0/49.2 kB\u001b[0m \u001b[31m?\u001b[0m eta \u001b[36m-:--:--\u001b[0m\r\u001b[2K   \u001b[90m━━━━━━━━━━━━━━━━━━━━━━━━━━━━━━━━━━━━━━━━\u001b[0m \u001b[32m49.2/49.2 kB\u001b[0m \u001b[31m4.2 MB/s\u001b[0m eta \u001b[36m0:00:00\u001b[0m\n",
            "\u001b[?25h"
          ]
        }
      ]
    },
    {
      "cell_type": "markdown",
      "source": [
        "# Let's Load the Data Now..."
      ],
      "metadata": {
        "id": "TvshtPmCHgBm"
      }
    },
    {
      "cell_type": "code",
      "source": [
        "from langchain.document_loaders import PyPDFLoader"
      ],
      "metadata": {
        "id": "pNDOZg3VHfP0"
      },
      "execution_count": 9,
      "outputs": []
    },
    {
      "cell_type": "code",
      "source": [
        "# !mkdir model\n",
        "# !wget -O /content/model/zephyr-7b-beta.Q4_0.gguf  https://huggingface.co/TheBloke/zephyr-7B-beta-GGUF/resolve/main/zephyr-7b-beta.Q4_0.gguf?download=true"
      ],
      "metadata": {
        "id": "CGPMESJA_jkl"
      },
      "execution_count": 10,
      "outputs": []
    },
    {
      "cell_type": "code",
      "source": [
        "# from google.colab import drive\n",
        "# drive.mount('/content/drive')"
      ],
      "metadata": {
        "id": "5igjOcwZpWaZ"
      },
      "execution_count": 11,
      "outputs": []
    },
    {
      "cell_type": "code",
      "source": [
        "loader_rag  = PyPDFLoader(\"/content/Retrieval-Augmented-Generation-for-NLP.pdf\")"
      ],
      "metadata": {
        "id": "217952OxHfg3"
      },
      "execution_count": 13,
      "outputs": []
    },
    {
      "cell_type": "code",
      "source": [
        "documnet_rag = loader_rag.load()"
      ],
      "metadata": {
        "id": "S7lo4198Hu75"
      },
      "execution_count": 14,
      "outputs": []
    },
    {
      "cell_type": "code",
      "source": [
        "print(len(documnet_rag))"
      ],
      "metadata": {
        "colab": {
          "base_uri": "https://localhost:8080/"
        },
        "id": "wPqxvghoH3d9",
        "outputId": "a2ceb4dd-c0f3-4e49-ae9b-18194a07fd5d"
      },
      "execution_count": 15,
      "outputs": [
        {
          "output_type": "stream",
          "name": "stdout",
          "text": [
            "19\n"
          ]
        }
      ]
    },
    {
      "cell_type": "code",
      "source": [
        "loader_transf = PyPDFLoader(\"/content/Transformer.pdf\")"
      ],
      "metadata": {
        "id": "FNPa1j0yHxp6"
      },
      "execution_count": 16,
      "outputs": []
    },
    {
      "cell_type": "code",
      "source": [
        "documnet_transf = loader_transf.load()"
      ],
      "metadata": {
        "id": "mxAC2A2TH1KT"
      },
      "execution_count": 17,
      "outputs": []
    },
    {
      "cell_type": "code",
      "source": [
        "print(len(documnet_transf))\n"
      ],
      "metadata": {
        "colab": {
          "base_uri": "https://localhost:8080/"
        },
        "id": "qGTJQ0LvH2zh",
        "outputId": "f0bb8e9c-60dc-4fe6-d5e5-23709e84e748"
      },
      "execution_count": 18,
      "outputs": [
        {
          "output_type": "stream",
          "name": "stdout",
          "text": [
            "15\n"
          ]
        }
      ]
    },
    {
      "cell_type": "markdown",
      "source": [
        "# Let's create the text splitter for chunking"
      ],
      "metadata": {
        "id": "sfDKpYApH7zI"
      }
    },
    {
      "cell_type": "code",
      "source": [
        "from langchain.text_splitter import RecursiveCharacterTextSplitter"
      ],
      "metadata": {
        "id": "_QXMD3tFH7Rj"
      },
      "execution_count": 19,
      "outputs": []
    },
    {
      "cell_type": "code",
      "source": [
        "text_splitter = RecursiveCharacterTextSplitter(chunk_size=500,chunk_overlap=100)"
      ],
      "metadata": {
        "id": "oenh8PnUID5j"
      },
      "execution_count": 20,
      "outputs": []
    },
    {
      "cell_type": "code",
      "source": [
        "text_rag = text_splitter.split_documents(documnet_rag)"
      ],
      "metadata": {
        "id": "u4ZCHzbTID77"
      },
      "execution_count": 21,
      "outputs": []
    },
    {
      "cell_type": "code",
      "source": [
        "text_transf = text_splitter.split_documents(documnet_transf)"
      ],
      "metadata": {
        "id": "GatbtzNFID-n"
      },
      "execution_count": 22,
      "outputs": []
    },
    {
      "cell_type": "code",
      "source": [
        "print(len(text_rag))"
      ],
      "metadata": {
        "colab": {
          "base_uri": "https://localhost:8080/"
        },
        "id": "7Osyfco7IEBN",
        "outputId": "74576959-4108-4e5b-8759-7dee6a9aebfd"
      },
      "execution_count": 23,
      "outputs": [
        {
          "output_type": "stream",
          "name": "stdout",
          "text": [
            "184\n"
          ]
        }
      ]
    },
    {
      "cell_type": "code",
      "source": [
        "print(len(text_transf))"
      ],
      "metadata": {
        "colab": {
          "base_uri": "https://localhost:8080/"
        },
        "id": "5a8-6GJcIEDn",
        "outputId": "8f234215-1f69-45c5-9b44-4320cf19349b"
      },
      "execution_count": 24,
      "outputs": [
        {
          "output_type": "stream",
          "name": "stdout",
          "text": [
            "103\n"
          ]
        }
      ]
    },
    {
      "cell_type": "markdown",
      "source": [
        "# Load the Embedding Model to Convert the Data into Vector"
      ],
      "metadata": {
        "id": "hDE7LsSUI2sW"
      }
    },
    {
      "cell_type": "code",
      "source": [
        "from langchain.embeddings import HuggingFaceEmbeddings, OpenAIEmbeddings,HuggingFaceBgeEmbeddings"
      ],
      "metadata": {
        "id": "l6gA2KxKI16r"
      },
      "execution_count": 25,
      "outputs": []
    },
    {
      "cell_type": "code",
      "source": [
        "# hf_embeddings = HuggingFaceEmbeddings(model_name=\"sentence-transformers/all-MiniLM-L6-v2\")"
      ],
      "metadata": {
        "id": "aPRKRbjwI2Bq"
      },
      "execution_count": 27,
      "outputs": []
    },
    {
      "cell_type": "code",
      "source": [
        "hf_bge_embeddings = HuggingFaceBgeEmbeddings(model_name=\"BAAI/bge-large-en\")\n"
      ],
      "metadata": {
        "id": "xZXAeGj6I2ET",
        "colab": {
          "base_uri": "https://localhost:8080/",
          "height": 369,
          "referenced_widgets": [
            "f0199c681da84d4fb74ad46d237fc6b7",
            "0b30467c57d044aa80d216f2ff54fb6d",
            "f6919fa8b7994711824c54cf6658d604",
            "20e890e1656145259854218263188697",
            "940f6aaa684f44b9b7dcc4503f2b76f4",
            "dd076b753c0341e0861c60b8a56fe7fc",
            "a187c8f68a5c408198d0ca4f1d19cb98",
            "259108a082b14c5fa26d59f5f7b76e30",
            "cf4f0b9f27bc4f99b5cf97763734835a",
            "b21edc56ba194b8695cb10b666940d92",
            "be29fb81d3cb4ef48a7b1c4952cdd705",
            "03ebd7cdaa9f4d618f2ca585356f708d",
            "82f7c92f75e84d54826e70f31b05c4d2",
            "7d40c30f88d54a339c27c30a84814fe1",
            "b5bf3296df244efc9d0e8b29f7ed44f4",
            "773bcaaef01d482f850bfa2b284c9333",
            "809645df2c1546e6a54ce61f50e85d2d",
            "0a504b5b7a8f4d3fb241ca545aed7cda",
            "caa0373c4502457fbd76e1628954ad0d",
            "7812e1ea257a4b8ab8c5ce24e57a3a40",
            "28e1b65ad3dd4d1b9f057b4742d7e449",
            "fd8fe5a209dd4fb8a183610e08abf007",
            "b3d0d5460f8e4a7d9cae549a814d1ad5",
            "ef31cf4a03334f18b8c149bfc6d59f42",
            "d15b06b7f3274b41a5cc424da07bcbb8",
            "2d849954c56f484fb5291d55df36337e",
            "573651266d7e48ce9a35bccb02a4c5d5",
            "1e4e0bdab9224bd8a65a95fc4e20a830",
            "40737818700c4581a6dae153a1c2e1b2",
            "c8a8b485e2d34e5f9161efb66517ced0",
            "a5c52d8263b848c48b419874abdfe806",
            "d84086694d2b4e69b926c6273f18e158",
            "ae943ce02f164039803fb5610020de9b",
            "87a8008f2f7f46368efc5534cdb6d0ca",
            "f4fab0980b5c4df7860e6e436acbeb5d",
            "7660f3118ac8454e9f20be681769172d",
            "c50abc07e35a4d598417aa9abff95045",
            "762f60eb1213403b9e1f248b3019cbda",
            "8289ab30fc17460aa7dcc8750b272e0b",
            "8c2852ee79a4459bb4933c2152c90ba4",
            "14445da052ce4cc6a0e19e8a71cbf5bb",
            "1a5114b92b5445d0a17e5f6e638bf375",
            "061087a3721645ad996a58e361062d02",
            "e50c70cb121b4aa0a292e1d69f181c6c",
            "9b9701080f3847c7a05a81f5eb700172",
            "82fba73ecd144162b7ffcfd50495d567",
            "8c864b79388143f884029cbd1bf82954",
            "1e0b87479b4a4a32902539428630a56e",
            "93f5cba2795846cb9ab139eeb10c8131",
            "2b69e8f389ca460d807f9c40b9d9865e",
            "e567cc191d614917be6d0fd441ade59c",
            "0bbd77398cd24710994b4c47921dc877",
            "b1c6c16df8bf44c69e47b8cb46603b17",
            "5fad16a55def44a89a5a926216ab3b41",
            "864a39470ef34db49dfcc25dc9dfac75",
            "a9feb4b9ef09469e8f5f188bdb04e78c",
            "e3c8f308badf4daab162736d6d12b7d7",
            "efa201314d75401fb35486647752b372",
            "827168713ce14230bc341924435a77b6",
            "b7d6f5b8d7b54fd3a8ff500fc35b55f6",
            "ab85330605004b75ad62accc641ea5d5",
            "cb090eb5f6634d6f9b5a042db0e7ef34",
            "39d3df745b5147fd9a321411642546db",
            "27b3a4cc4bb24ea997a3cb843edee8ed",
            "6092461e70fa438b9835a9357c77adb6",
            "5c8cf3bdb2ab4402b512e3b0a4f422a5",
            "8bba4d6d9c2e4628ac84084f988088b5",
            "ab8adc3487b64d30bbd1a9860274c650",
            "980bb1b297994c2792141a6ed30955a1",
            "7f7b570055274ca385b3345b38ec73f6",
            "6dbe4686ba954182a14204b437ced7cf",
            "81b8b7d1fa5d4a2fba2b1a676398b4bf",
            "b0ba3ae1a09a4039b2ef598d8f4c41ff",
            "85e09e2c4eaa4f6f9a373c794b53b9e0",
            "155a6a8ee8f1434d98c994e4809ec51a",
            "dc103ad2e69a4d4394a89749763117d6",
            "3da4bfed5e7445e4b7bffeff850e0082",
            "06304f829258406987a1ca3623d3ef40",
            "07c448613be54019b73d864b2cbabe87",
            "e42dab6071c64dbb88e9c7a8afda92e2",
            "ea8a7ff93498466ba9e34e99bea7d635",
            "039c550d03cb4980ac37f5a839affd97",
            "cf353dffe24544448590e1da5bee8d2e",
            "ff9db870d87b44fd8ec04ea070bd2fd4",
            "89ca7989646348f4b36ec886bc7bd033",
            "a0da78d715f24ffba934aea5a3294e39",
            "fa021d19c34443d7aa57fb7a562d25bb",
            "f70e1e3b7ff84d9483fefcc31beb10e4",
            "cadf6bffdd66489eb0f0fa62bb1afc92",
            "3cdf5d674aa7419fbff5d1d3541079c3",
            "3045946e040a4d4385bb04b52fb767f1",
            "6c9de10fd26a438083827df73cc488ad",
            "f66f5b9a6c8a4ee3b28901ab3b002528",
            "12b970cb5cac4ccaa2229149e2b8b9a3",
            "24064388b5844000a34151bb53a0910c",
            "26056b62b9274f508f3c74c71f60eaa6",
            "5564ee9049704121a9b621a432cd1d70",
            "d1027237c09944dc83487a5381c4be8c",
            "a363ca5069e74f238afd49e3fdd64671",
            "5b9085594da2415983ef00b7701ee1c2",
            "a611161904e343ebae915f8b56d03409",
            "093d55ec7bcf4e90937053a85337990d",
            "3f49c1a751af4b0d9ed6429100713a14",
            "47572b4e39e04697a5726db6a62283c7",
            "2276e8e5983a497d99d5fd2333c284aa",
            "2bd264e858ba47ef9e88b0f4cf7ae181",
            "45a24e71f54a4ee6b7beb8b3532bd535",
            "653e5a8de7254562ab7b732b9686ca75",
            "318f752a5895491d8307dcefbeaad742",
            "38cc228083fb44a1a09b9aac8711bcfc",
            "0a451fd9250c4242bc721b5787be4e2d",
            "63871415a568462f91f528657e08fdbf",
            "00019ab7a4894a2e962f62f2647b441f",
            "a2c349bed6824206ae55e40cfe471a99",
            "3fc14a951c0e4710a42a5f63d506605d",
            "600c2ae1b07547a081e4f279aa91d4b8",
            "bab3a06e0f394ff89411eedb00499afb",
            "2095e9971a3c4fa6959eac81d0707996",
            "7c051150b3c54786b177761007c2ef46",
            "aaa89b8239da4178a8d10c82e2dd78b3",
            "a2c2fed15b7b41508aeba180bfaa4fb0"
          ]
        },
        "outputId": "261a99f1-53aa-42d8-a631-f2d92b794d97"
      },
      "execution_count": 28,
      "outputs": [
        {
          "output_type": "display_data",
          "data": {
            "text/plain": [
              "modules.json:   0%|          | 0.00/349 [00:00<?, ?B/s]"
            ],
            "application/vnd.jupyter.widget-view+json": {
              "version_major": 2,
              "version_minor": 0,
              "model_id": "f0199c681da84d4fb74ad46d237fc6b7"
            }
          },
          "metadata": {}
        },
        {
          "output_type": "display_data",
          "data": {
            "text/plain": [
              "config_sentence_transformers.json:   0%|          | 0.00/124 [00:00<?, ?B/s]"
            ],
            "application/vnd.jupyter.widget-view+json": {
              "version_major": 2,
              "version_minor": 0,
              "model_id": "03ebd7cdaa9f4d618f2ca585356f708d"
            }
          },
          "metadata": {}
        },
        {
          "output_type": "display_data",
          "data": {
            "text/plain": [
              "README.md:   0%|          | 0.00/90.3k [00:00<?, ?B/s]"
            ],
            "application/vnd.jupyter.widget-view+json": {
              "version_major": 2,
              "version_minor": 0,
              "model_id": "b3d0d5460f8e4a7d9cae549a814d1ad5"
            }
          },
          "metadata": {}
        },
        {
          "output_type": "display_data",
          "data": {
            "text/plain": [
              "sentence_bert_config.json:   0%|          | 0.00/52.0 [00:00<?, ?B/s]"
            ],
            "application/vnd.jupyter.widget-view+json": {
              "version_major": 2,
              "version_minor": 0,
              "model_id": "87a8008f2f7f46368efc5534cdb6d0ca"
            }
          },
          "metadata": {}
        },
        {
          "output_type": "display_data",
          "data": {
            "text/plain": [
              "config.json:   0%|          | 0.00/720 [00:00<?, ?B/s]"
            ],
            "application/vnd.jupyter.widget-view+json": {
              "version_major": 2,
              "version_minor": 0,
              "model_id": "9b9701080f3847c7a05a81f5eb700172"
            }
          },
          "metadata": {}
        },
        {
          "output_type": "display_data",
          "data": {
            "text/plain": [
              "model.safetensors:   0%|          | 0.00/1.34G [00:00<?, ?B/s]"
            ],
            "application/vnd.jupyter.widget-view+json": {
              "version_major": 2,
              "version_minor": 0,
              "model_id": "a9feb4b9ef09469e8f5f188bdb04e78c"
            }
          },
          "metadata": {}
        },
        {
          "output_type": "display_data",
          "data": {
            "text/plain": [
              "tokenizer_config.json:   0%|          | 0.00/366 [00:00<?, ?B/s]"
            ],
            "application/vnd.jupyter.widget-view+json": {
              "version_major": 2,
              "version_minor": 0,
              "model_id": "8bba4d6d9c2e4628ac84084f988088b5"
            }
          },
          "metadata": {}
        },
        {
          "output_type": "display_data",
          "data": {
            "text/plain": [
              "vocab.txt:   0%|          | 0.00/232k [00:00<?, ?B/s]"
            ],
            "application/vnd.jupyter.widget-view+json": {
              "version_major": 2,
              "version_minor": 0,
              "model_id": "06304f829258406987a1ca3623d3ef40"
            }
          },
          "metadata": {}
        },
        {
          "output_type": "display_data",
          "data": {
            "text/plain": [
              "tokenizer.json:   0%|          | 0.00/711k [00:00<?, ?B/s]"
            ],
            "application/vnd.jupyter.widget-view+json": {
              "version_major": 2,
              "version_minor": 0,
              "model_id": "cadf6bffdd66489eb0f0fa62bb1afc92"
            }
          },
          "metadata": {}
        },
        {
          "output_type": "display_data",
          "data": {
            "text/plain": [
              "special_tokens_map.json:   0%|          | 0.00/125 [00:00<?, ?B/s]"
            ],
            "application/vnd.jupyter.widget-view+json": {
              "version_major": 2,
              "version_minor": 0,
              "model_id": "5b9085594da2415983ef00b7701ee1c2"
            }
          },
          "metadata": {}
        },
        {
          "output_type": "display_data",
          "data": {
            "text/plain": [
              "1_Pooling/config.json:   0%|          | 0.00/191 [00:00<?, ?B/s]"
            ],
            "application/vnd.jupyter.widget-view+json": {
              "version_major": 2,
              "version_minor": 0,
              "model_id": "0a451fd9250c4242bc721b5787be4e2d"
            }
          },
          "metadata": {}
        }
      ]
    },
    {
      "cell_type": "code",
      "source": [
        "# from google.colab import userdata\n",
        "# OPENAI_API_KEY=userdata.get('OPENAI_API_KEY')"
      ],
      "metadata": {
        "id": "IFUJsrCHI2Gp"
      },
      "execution_count": null,
      "outputs": []
    },
    {
      "cell_type": "code",
      "source": [
        "# import os\n",
        "# os.environ[\"OPENAI_API_KEY\"]=OPENAI_API_KEY"
      ],
      "metadata": {
        "id": "oOavSXiA8TzW"
      },
      "execution_count": null,
      "outputs": []
    },
    {
      "cell_type": "code",
      "source": [
        "# openai_embeddings = OpenAIEmbeddings(openai_api_key=OPENAI_API_KEY)"
      ],
      "metadata": {
        "id": "1uf3FGgIJHrX",
        "colab": {
          "base_uri": "https://localhost:8080/"
        },
        "outputId": "71221cff-9df1-44af-d4a1-76746c6503ad"
      },
      "execution_count": null,
      "outputs": [
        {
          "output_type": "stream",
          "name": "stderr",
          "text": [
            "/usr/local/lib/python3.10/dist-packages/langchain_core/_api/deprecation.py:139: LangChainDeprecationWarning: The class `OpenAIEmbeddings` was deprecated in LangChain 0.0.9 and will be removed in 0.3.0. An updated version of the class exists in the langchain-openai package and should be used instead. To use it run `pip install -U langchain-openai` and import as `from langchain_openai import OpenAIEmbeddings`.\n",
            "  warn_deprecated(\n"
          ]
        }
      ]
    },
    {
      "cell_type": "markdown",
      "source": [
        "# Now ingest the Data into the Chroma Database"
      ],
      "metadata": {
        "id": "09wnx-HmIrmL"
      }
    },
    {
      "cell_type": "code",
      "source": [
        "from langchain.vectorstores import Chroma\n",
        "import chromadb"
      ],
      "metadata": {
        "id": "R5YZtmTzIEGG"
      },
      "execution_count": 29,
      "outputs": []
    },
    {
      "cell_type": "code",
      "source": [
        "import os\n",
        "os.getcwd()"
      ],
      "metadata": {
        "colab": {
          "base_uri": "https://localhost:8080/",
          "height": 36
        },
        "id": "j-9W8rfiIRxS",
        "outputId": "5c7efb68-1035-4d93-8c9a-6de5a7e59b81"
      },
      "execution_count": 30,
      "outputs": [
        {
          "output_type": "execute_result",
          "data": {
            "text/plain": [
              "'/content'"
            ],
            "application/vnd.google.colaboratory.intrinsic+json": {
              "type": "string"
            }
          },
          "metadata": {},
          "execution_count": 30
        }
      ]
    },
    {
      "cell_type": "code",
      "source": [
        "CURRENT_DIR = os.path.dirname(os.path.abspath(\".\"))"
      ],
      "metadata": {
        "id": "WA_V53CYIRzv"
      },
      "execution_count": 31,
      "outputs": []
    },
    {
      "cell_type": "code",
      "source": [
        "CURRENT_DIR"
      ],
      "metadata": {
        "colab": {
          "base_uri": "https://localhost:8080/",
          "height": 36
        },
        "id": "S2NElj3nIR2c",
        "outputId": "fc051f10-5d3a-43fa-9143-6dd6528c1616"
      },
      "execution_count": 32,
      "outputs": [
        {
          "output_type": "execute_result",
          "data": {
            "text/plain": [
              "'/'"
            ],
            "application/vnd.google.colaboratory.intrinsic+json": {
              "type": "string"
            }
          },
          "metadata": {},
          "execution_count": 32
        }
      ]
    },
    {
      "cell_type": "code",
      "source": [
        "DB_DIR = os.path.join(CURRENT_DIR, \"/content/db\")"
      ],
      "metadata": {
        "id": "PlBALwqgIR47"
      },
      "execution_count": 33,
      "outputs": []
    },
    {
      "cell_type": "code",
      "source": [
        "DB_DIR"
      ],
      "metadata": {
        "colab": {
          "base_uri": "https://localhost:8080/",
          "height": 36
        },
        "id": "ICo12gHbadYI",
        "outputId": "db3b96b5-b888-47d7-f848-0a2c6591bb6a"
      },
      "execution_count": 34,
      "outputs": [
        {
          "output_type": "execute_result",
          "data": {
            "text/plain": [
              "'/content/db'"
            ],
            "application/vnd.google.colaboratory.intrinsic+json": {
              "type": "string"
            }
          },
          "metadata": {},
          "execution_count": 34
        }
      ]
    },
    {
      "cell_type": "code",
      "source": [
        "client_settings = chromadb.config.Settings(\n",
        "    is_persistent=True,\n",
        "    persist_directory=DB_DIR,\n",
        "    anonymized_telemetry=False,\n",
        ")"
      ],
      "metadata": {
        "id": "UwOOnUaNIR7U"
      },
      "execution_count": 35,
      "outputs": []
    },
    {
      "cell_type": "code",
      "source": [
        "rag_vectorstore = Chroma.from_documents(text_rag,\n",
        "                                       hf_bge_embeddings,\n",
        "                                       client_settings=client_settings,\n",
        "                                       collection_name=\"rag\",\n",
        "                                       collection_metadata={\"hnsw\":\"cosine\"},\n",
        "                                       persist_directory=\"/store/rag\")"
      ],
      "metadata": {
        "id": "YKS58oWHIgot"
      },
      "execution_count": 36,
      "outputs": []
    },
    {
      "cell_type": "code",
      "source": [
        "transf_vectorstore = Chroma.from_documents(text_transf,\n",
        "                                       hf_bge_embeddings,\n",
        "                                       client_settings=client_settings,\n",
        "                                       collection_name=\"transf\",\n",
        "                                       collection_metadata={\"hnsw\":\"cosine\"},\n",
        "                                       persist_directory=\"/store/transf\")"
      ],
      "metadata": {
        "id": "dk0OU3NvIgrN"
      },
      "execution_count": 37,
      "outputs": []
    },
    {
      "cell_type": "markdown",
      "source": [
        " # Now Crearte a Retriever"
      ],
      "metadata": {
        "id": "WRHJ4hfQJLVj"
      }
    },
    {
      "cell_type": "code",
      "source": [
        "retriever_rag = rag_vectorstore.as_retriever(search_type=\"mmr\",search_kwargs={\"k\": 5, \"include_metadata\": True})"
      ],
      "metadata": {
        "id": "hHQSNWOZIgte"
      },
      "execution_count": 38,
      "outputs": []
    },
    {
      "cell_type": "code",
      "source": [
        "retriever_transf = transf_vectorstore.as_retriever(search_type=\"mmr\",search_kwargs={\"k\": 5, \"include_metadata\": True})"
      ],
      "metadata": {
        "id": "VYCpv9s1Igvb"
      },
      "execution_count": 39,
      "outputs": []
    },
    {
      "cell_type": "markdown",
      "source": [
        "# Let's Merge both Retriever"
      ],
      "metadata": {
        "id": "nTFvuWt-JTN_"
      }
    },
    {
      "cell_type": "markdown",
      "source": [
        "# It is also called lord of retriever(LOTR)"
      ],
      "metadata": {
        "id": "Eg0WIDadJdOc"
      }
    },
    {
      "cell_type": "code",
      "source": [
        "from langchain.retrievers.merger_retriever import MergerRetriever"
      ],
      "metadata": {
        "id": "bf9qpiQ0bYc8"
      },
      "execution_count": 40,
      "outputs": []
    },
    {
      "cell_type": "code",
      "source": [
        "lotr = MergerRetriever(retrievers=[retriever_rag, retriever_transf])"
      ],
      "metadata": {
        "id": "pKVt1XkJJW2N"
      },
      "execution_count": 41,
      "outputs": []
    },
    {
      "cell_type": "code",
      "source": [
        "for chunks in lotr.get_relevant_documents(\"What is transformer architecture\"):\n",
        "    print(chunks.page_content)\n",
        "    print(\"*\"*20)"
      ],
      "metadata": {
        "colab": {
          "base_uri": "https://localhost:8080/"
        },
        "id": "ev-OCloIJlAD",
        "outputId": "f82aa3e1-389f-448f-83c7-3d569eadb267"
      },
      "execution_count": 42,
      "outputs": [
        {
          "output_type": "stream",
          "name": "stdout",
          "text": [
            "work. These successes leverage different retrieval-based architectures and optimization techniques to\n",
            "achieve strong performance on a single task, while we show that a single retrieval-based architecture\n",
            "can be ﬁne-tuned for strong performance on a variety of tasks.\n",
            "Memory-based Architectures Our document index can be seen as a large external memory for\n",
            "neural networks to attend to, analogous to memory networks [ 64,55]. Concurrent work [ 14] learns\n",
            "********************\n",
            "Figure 1: The Transformer - model architecture.\n",
            "The Transformer follows this overall architecture using stacked self-attention and point-wise, fully\n",
            "connected layers for both the encoder and decoder, shown in the left and right halves of Figure 1,\n",
            "respectively.\n",
            "3.1 Encoder and Decoder Stacks\n",
            "Encoder: The encoder is composed of a stack of N= 6 identical layers. Each layer has two\n",
            "sub-layers. The first is a multi-head self-attention mechanism, and the second is a simple, position-\n",
            "********************\n",
            "athttps://huggingface.co/rag/\n",
            "2https://github.com/pytorch/fairseq\n",
            "3https://github.com/huggingface/transformers\n",
            "17\n",
            "********************\n",
            "To the best of our knowledge, however, the Transformer is the first transduction model relying\n",
            "entirely on self-attention to compute representations of its input and output without using sequence-\n",
            "aligned RNNs or convolution. In the following sections, we will describe the Transformer, motivate\n",
            "self-attention and discuss its advantages over models such as [17, 18] and [9].\n",
            "3 Model Architecture\n",
            "Most competitive neural sequence transduction models have an encoder-decoder structure [ 5,2,35].\n",
            "********************\n",
            "ﬂoating point arithmetic [ 40], distributing training across 8, 32GB NVIDIA V100 GPUs, though\n",
            "training and inference can be run on one GPU. We ﬁnd that doing Maximum Inner Product Search\n",
            "with FAISS is sufﬁciently fast on CPU, so we store document index vectors on CPU, requiring ∼100\n",
            "GB of CPU memory for all of Wikipedia. After submission, We have ported our code to HuggingFace\n",
            "Transformers [ 66]3, which achieves equivalent performance to the previous version but is a cleaner\n",
            "********************\n",
            "Attention mechanisms have become an integral part of compelling sequence modeling and transduc-\n",
            "tion models in various tasks, allowing modeling of dependencies without regard to their distance in\n",
            "the input or output sequences [ 2,19]. In all but a few cases [ 27], however, such attention mechanisms\n",
            "are used in conjunction with a recurrent network.\n",
            "In this work we propose the Transformer, a model architecture eschewing recurrence and instead\n",
            "********************\n",
            "editing prototypes. Transactions of the Association for Computational Linguistics , 6:437–450,\n",
            "2018. doi: 10.1162/tacl_a_00030. URL https://www.aclweb.org/anthology/Q18-1031 .\n",
            "11\n",
            "********************\n",
            "6 Results\n",
            "6.1 Machine Translation\n",
            "On the WMT 2014 English-to-German translation task, the big transformer model (Transformer (big)\n",
            "in Table 2) outperforms the best previously reported models (including ensembles) by more than 2.0\n",
            "BLEU, establishing a new state-of-the-art BLEU score of 28.4. The configuration of this model is\n",
            "listed in the bottom line of Table 3. Training took 3.5days on 8P100 GPUs. Even our base model\n",
            "********************\n",
            "minimize the negative marginal log-likelihood of each target,∑\n",
            "j−logp(yj|xj)using stochastic\n",
            "gradient descent with Adam [ 28]. Updating the document encoder BERTdduring training is costly as\n",
            "it requires the document index to be periodically updated as REALM does during pre-training [ 20].\n",
            "We do not ﬁnd this step necessary for strong performance, and keep the document encoder (and\n",
            "index) ﬁxed, only ﬁne-tuning the query encoder BERT qand the BART generator.\n",
            "2.5 Decoding\n",
            "********************\n",
            "Transformer (4 layers) WSJ only, discriminative 91.3\n",
            "Zhu et al. (2013) [40] semi-supervised 91.3\n",
            "Huang & Harper (2009) [14] semi-supervised 91.3\n",
            "McClosky et al. (2006) [26] semi-supervised 92.1\n",
            "Vinyals & Kaiser el al. (2014) [37] semi-supervised 92.1\n",
            "Transformer (4 layers) semi-supervised 92.7\n",
            "Luong et al. (2015) [23] multi-task 93.0\n",
            "Dyer et al. (2016) [8] generative 93.3\n",
            "increased the maximum output length to input length + 300. We used a beam size of 21andα= 0.3\n",
            "********************\n"
          ]
        },
        {
          "output_type": "stream",
          "name": "stderr",
          "text": [
            "/usr/local/lib/python3.10/dist-packages/langchain_core/_api/deprecation.py:139: LangChainDeprecationWarning: The method `BaseRetriever.get_relevant_documents` was deprecated in langchain-core 0.1.46 and will be removed in 0.3.0. Use invoke instead.\n",
            "  warn_deprecated(\n"
          ]
        }
      ]
    },
    {
      "cell_type": "code",
      "source": [
        "for chunks in lotr.get_relevant_documents(\"What is rag token?\"):\n",
        "    print(chunks.page_content)\n",
        "    print(\"*\"*30)"
      ],
      "metadata": {
        "id": "tn4-5rs2JnH1",
        "colab": {
          "base_uri": "https://localhost:8080/"
        },
        "outputId": "4aef7a3c-396b-487f-887a-a161017336be"
      },
      "execution_count": 43,
      "outputs": [
        {
          "output_type": "stream",
          "name": "stdout",
          "text": [
            "index) ﬁxed, only ﬁne-tuning the query encoder BERT qand the BART generator.\n",
            "2.5 Decoding\n",
            "At test time, RAG-Sequence and RAG-Token require different ways to approximate arg maxyp(y|x).\n",
            "RAG-Token The RAG-Token model can be seen as a standard, autoregressive seq2seq genera-\n",
            "tor with transition probability: p′\n",
            "θ(yi|x,y 1:i−1) =∑\n",
            "z∈top-k(p(·|x))pη(zi|x)pθ(yi|x,zi,y1:i−1)To\n",
            "decode, we can plug p′\n",
            "θ(yi|x,y 1:i−1)into a standard beam decoder.\n",
            "******************************\n",
            "Table 2: The Transformer achieves better BLEU scores than previous state-of-the-art models on the\n",
            "English-to-German and English-to-French newstest2014 tests at a fraction of the training cost.\n",
            "ModelBLEU Training Cost (FLOPs)\n",
            "EN-DE EN-FR EN-DE EN-FR\n",
            "ByteNet [18] 23.75\n",
            "Deep-Att + PosUnk [39] 39.2 1.0·1020\n",
            "GNMT + RL [38] 24.6 39.92 2.3·10191.4·1020\n",
            "ConvS2S [9] 25.16 40.46 9.6·10181.5·1020\n",
            "MoE [32] 26.03 40.56 2.0·10191.2·1020\n",
            "Deep-Att + PosUnk Ensemble [39] 40.4 8.0·1020\n",
            "******************************\n",
            "Doc 5Figure 2: RAG-Token document posterior p(zi|x,yi,y−i)for each generated token for input “Hem-\n",
            "ingway\" for Jeopardy generation with 5 retrieved documents. The posterior for document 1 is high\n",
            "when generating “A Farewell to Arms\" and for document 2 when generating “The Sun Also Rises\".\n",
            "Table 3: Examples from generation tasks. RAG models generate more speciﬁc and factually accurate\n",
            "responses. ‘?’ indicates factually incorrect responses, * indicates partially correct responses.\n",
            "******************************\n",
            "efficient inference and visualizations. Lukasz and Aidan spent countless long days designing various parts of and\n",
            "implementing tensor2tensor, replacing our earlier codebase, greatly improving results and massively accelerating\n",
            "our research.\n",
            "†Work performed while at Google Brain.\n",
            "‡Work performed while at Google Research.\n",
            "31st Conference on Neural Information Processing Systems (NIPS 2017), Long Beach, CA, USA.arXiv:1706.03762v7  [cs.CL]  2 Aug 2023\n",
            "******************************\n",
            "and TriviaQA. RAG compares favourably to the DPR QA system, which uses a BERT-based “cross-\n",
            "encoder” to re-rank documents, along with an extractive reader. RAG demonstrates that neither a\n",
            "re-ranker nor extractive reader is necessary for state-of-the-art performance.\n",
            "There are several advantages to generating answers even when it is possible to extract them. Docu-\n",
            "ments with clues about the answer but do not contain the answer verbatim can still contribute towards\n",
            "******************************\n",
            "Attention Visualizations\n",
            "Input-Input Layer5\n",
            "It\n",
            "is\n",
            "in\n",
            "this\n",
            "spirit\n",
            "that\n",
            "a\n",
            "majority\n",
            "of\n",
            "American\n",
            "governments\n",
            "have\n",
            "passed\n",
            "new\n",
            "laws\n",
            "since\n",
            "2009\n",
            "making\n",
            "the\n",
            "registration\n",
            "or\n",
            "voting\n",
            "process\n",
            "more\n",
            "difficult\n",
            ".\n",
            "<EOS>\n",
            "<pad>\n",
            "<pad>\n",
            "<pad>\n",
            "<pad>\n",
            "<pad>\n",
            "<pad>\n",
            "It\n",
            "is\n",
            "in\n",
            "this\n",
            "spirit\n",
            "that\n",
            "a\n",
            "majority\n",
            "of\n",
            "American\n",
            "governments\n",
            "have\n",
            "passed\n",
            "new\n",
            "laws\n",
            "since\n",
            "2009\n",
            "making\n",
            "the\n",
            "registration\n",
            "or\n",
            "voting\n",
            "process\n",
            "more\n",
            "difficult\n",
            ".\n",
            "<EOS>\n",
            "<pad>\n",
            "<pad>\n",
            "<pad>\n",
            "<pad>\n",
            "<pad>\n",
            "<pad>\n",
            "******************************\n",
            "10 20 30 40 50\n",
            "KR e t r i e v e dD o c s394041424344NQ Exact MatchRAG-Tok\n",
            "RAG-Seq\n",
            "10 20 30 40 50\n",
            "KR e t r i e v e dD o c s4050607080NQ Answer Recall @ KRAG-Tok\n",
            "RAG-Seq\n",
            "Fixed DPR\n",
            "BM25\n",
            "10 20 30 40 50\n",
            "KR e t r i e v e dD o c s4850525456Bleu-1 / Rouge-L scoreRAG-Tok R-L\n",
            "RAG-Tok B-1\n",
            "RAG-Seq R-L\n",
            "RAG-Seq B-1\n",
            "Figure 3: Left: NQ performance as more documents are retrieved. Center: Retrieval recall perfor-\n",
            "mance in NQ. Right: MS-MARCO Bleu-1 and Rouge-L as more documents are retrieved.\n",
            "5 Related Work\n",
            "******************************\n",
            "keeping the amount of computation constant, as described in Section 3.2.2. While single-head\n",
            "attention is 0.9 BLEU worse than the best setting, quality also drops off with too many heads.\n",
            "In Table 3 rows (B), we observe that reducing the attention key size dkhurts model quality. This\n",
            "suggests that determining compatibility is not easy and that a more sophisticated compatibility\n",
            "function than dot product may be beneficial. We further observe in rows (C) and (D) that, as expected,\n",
            "******************************\n",
            "more diverse than RAG-Token’s, and both are signiﬁcantly more diverse than BART without needing\n",
            "any diversity-promoting decoding.\n",
            "Retrieval Ablations A key feature of RAG is learning to retrieve relevant information for the task.\n",
            "To assess the effectiveness of the retrieval mechanism, we run ablations where we freeze the retriever\n",
            "during training. As shown in Table 6, learned retrieval improves results for all tasks.\n",
            "******************************\n",
            "mation and softmax function to convert the decoder output to predicted next-token probabilities. In\n",
            "our model, we share the same weight matrix between the two embedding layers and the pre-softmax\n",
            "linear transformation, similar to [ 30]. In the embedding layers, we multiply those weights by√dmodel.\n",
            "5\n",
            "******************************\n"
          ]
        }
      ]
    },
    {
      "cell_type": "markdown",
      "source": [
        "## See this result is too much messy now lets refine it according to the question and overcome the situation of lost in middle"
      ],
      "metadata": {
        "id": "F837e_8WJot6"
      }
    },
    {
      "cell_type": "markdown",
      "source": [
        "# Now After understanding step by step it create a pipeline for LLM"
      ],
      "metadata": {
        "id": "adVBzdP4Kjxe"
      }
    },
    {
      "cell_type": "code",
      "source": [
        "from langchain.document_transformers import (\n",
        "    EmbeddingsClusteringFilter,\n",
        "    EmbeddingsRedundantFilter,\n",
        ")\n",
        "from langchain.retrievers.document_compressors import DocumentCompressorPipeline\n",
        "from langchain.retrievers import ContextualCompressionRetriever\n",
        "from langchain.document_transformers import LongContextReorder"
      ],
      "metadata": {
        "id": "TkgJD6hu9HYt"
      },
      "execution_count": 44,
      "outputs": []
    },
    {
      "cell_type": "code",
      "source": [
        "from re import search\n",
        "filter = EmbeddingsRedundantFilter(embeddings=hf_bge_embeddings)\n",
        "reordering = LongContextReorder()\n",
        "pipeline = DocumentCompressorPipeline(transformers=[filter, reordering])\n",
        "compression_retriever_reordered = ContextualCompressionRetriever(\n",
        "    base_compressor=pipeline, base_retriever=lotr,search_kwargs={\"k\": 3, \"include_metadata\": True}\n",
        ")\n"
      ],
      "metadata": {
        "id": "uiOCgKcWKqNt"
      },
      "execution_count": 45,
      "outputs": []
    },
    {
      "cell_type": "code",
      "source": [
        "\"\"\"docs = compression_retriever_reordered.get_relevant_documents(\"What is esops?\")\n",
        "print(len(docs))\n",
        "#\n",
        "print(docs[0].page_content)\"\"\""
      ],
      "metadata": {
        "id": "E47YiiT6K2-k",
        "colab": {
          "base_uri": "https://localhost:8080/",
          "height": 36
        },
        "outputId": "407dfcd9-eb79-4a4e-bfad-cbdac67b0e6a"
      },
      "execution_count": 46,
      "outputs": [
        {
          "output_type": "execute_result",
          "data": {
            "text/plain": [
              "'docs = compression_retriever_reordered.get_relevant_documents(\"What is esops?\")\\nprint(len(docs))\\n#\\nprint(docs[0].page_content)'"
            ],
            "application/vnd.google.colaboratory.intrinsic+json": {
              "type": "string"
            }
          },
          "metadata": {},
          "execution_count": 46
        }
      ]
    },
    {
      "cell_type": "markdown",
      "source": [
        "# Load the model from huggingface"
      ],
      "metadata": {
        "id": "2M-BOy9mK7to"
      }
    },
    {
      "cell_type": "code",
      "source": [
        "!pip -q install llama-cpp-python\n",
        "!pip -q install bitsandbytes accelerate"
      ],
      "metadata": {
        "id": "9z4Jur-dK5up",
        "colab": {
          "base_uri": "https://localhost:8080/"
        },
        "outputId": "8cd50ba1-4823-43c4-fdc6-575f47fcd2ae"
      },
      "execution_count": 55,
      "outputs": [
        {
          "output_type": "stream",
          "name": "stdout",
          "text": [
            "Collecting llama-cpp-python\n",
            "  Downloading llama_cpp_python-0.2.85.tar.gz (49.3 MB)\n",
            "\u001b[2K     \u001b[90m━━━━━━━━━━━━━━━━━━━━━━━━━━━━━━━━━━━━━━━━\u001b[0m \u001b[32m49.3/49.3 MB\u001b[0m \u001b[31m12.6 MB/s\u001b[0m eta \u001b[36m0:00:00\u001b[0m\n",
            "\u001b[?25h  Installing build dependencies ... \u001b[?25l\u001b[?25hdone\n",
            "  Getting requirements to build wheel ... \u001b[?25l\u001b[?25hdone\n",
            "  Installing backend dependencies ... \u001b[?25l\u001b[?25hdone\n",
            "  Preparing metadata (pyproject.toml) ... \u001b[?25l\u001b[?25hdone\n",
            "Requirement already satisfied: typing-extensions>=4.5.0 in /usr/local/lib/python3.10/dist-packages (from llama-cpp-python) (4.12.2)\n",
            "Requirement already satisfied: numpy>=1.20.0 in /usr/local/lib/python3.10/dist-packages (from llama-cpp-python) (1.26.4)\n",
            "Collecting diskcache>=5.6.1 (from llama-cpp-python)\n",
            "  Downloading diskcache-5.6.3-py3-none-any.whl.metadata (20 kB)\n",
            "Requirement already satisfied: jinja2>=2.11.3 in /usr/local/lib/python3.10/dist-packages (from llama-cpp-python) (3.1.4)\n",
            "Requirement already satisfied: MarkupSafe>=2.0 in /usr/local/lib/python3.10/dist-packages (from jinja2>=2.11.3->llama-cpp-python) (2.1.5)\n",
            "Downloading diskcache-5.6.3-py3-none-any.whl (45 kB)\n",
            "\u001b[2K   \u001b[90m━━━━━━━━━━━━━━━━━━━━━━━━━━━━━━━━━━━━━━━━\u001b[0m \u001b[32m45.5/45.5 kB\u001b[0m \u001b[31m3.6 MB/s\u001b[0m eta \u001b[36m0:00:00\u001b[0m\n",
            "\u001b[?25hBuilding wheels for collected packages: llama-cpp-python\n",
            "  Building wheel for llama-cpp-python (pyproject.toml) ... \u001b[?25l\u001b[?25hdone\n",
            "  Created wheel for llama-cpp-python: filename=llama_cpp_python-0.2.85-cp310-cp310-linux_x86_64.whl size=2873144 sha256=087a167c8c7c46263cfa5c351ad282ecbb07d064b63782ca60053a79b896fdd3\n",
            "  Stored in directory: /root/.cache/pip/wheels/3f/e8/4e/29a754f9175ef52b6481cd75e3af4de38bf6dfa9c2972f75d4\n",
            "Successfully built llama-cpp-python\n",
            "Installing collected packages: diskcache, llama-cpp-python\n",
            "Successfully installed diskcache-5.6.3 llama-cpp-python-0.2.85\n"
          ]
        }
      ]
    },
    {
      "cell_type": "code",
      "source": [
        "model_name = \"HuggingFaceH4/zephyr-7b-beta\"\n",
        "\n",
        "import torch\n",
        "from transformers import ( AutoModelForCausalLM, AutoTokenizer, BitsAndBytesConfig, pipeline, )\n",
        "from langchain import HuggingFacePipeline"
      ],
      "metadata": {
        "id": "26-s9rra_wnT"
      },
      "execution_count": 48,
      "outputs": []
    },
    {
      "cell_type": "code",
      "source": [
        "# function for loading 4-bit quantized model\n",
        "def load_quantized_model(model_name: str):\n",
        "    \"\"\"\n",
        "    model_name: Name or path of the model to be loaded.\n",
        "    return: Loaded quantized model.\n",
        "    \"\"\"\n",
        "    bnb_config = BitsAndBytesConfig(\n",
        "        load_in_4bit=True,\n",
        "        bnb_4bit_use_double_quant=True,\n",
        "        bnb_4bit_quant_type=\"nf4\",\n",
        "        bnb_4bit_compute_dtype=torch.bfloat16,\n",
        "    )\n",
        "\n",
        "    model = AutoModelForCausalLM.from_pretrained(\n",
        "        model_name,\n",
        "        torch_dtype=torch.bfloat16,\n",
        "        quantization_config=bnb_config,\n",
        "    )\n",
        "    return model"
      ],
      "metadata": {
        "id": "cpnX-3CM_wkN"
      },
      "execution_count": 49,
      "outputs": []
    },
    {
      "cell_type": "code",
      "source": [
        "# initializing tokenizer\n",
        "def initialize_tokenizer(model_name: str):\n",
        "    \"\"\"\n",
        "    model_name: Name or path of the model for tokenizer initialization.\n",
        "    return: Initialized tokenizer.\n",
        "    \"\"\"\n",
        "    tokenizer = AutoTokenizer.from_pretrained(model_name, return_token_type_ids=False)\n",
        "    tokenizer.bos_token_id = 1  # Set beginning of sentence token id\n",
        "    return tokenizer"
      ],
      "metadata": {
        "id": "3hNqy1a1_wdz"
      },
      "execution_count": 50,
      "outputs": []
    },
    {
      "cell_type": "code",
      "source": [
        "!pip install -U bitsandbytes"
      ],
      "metadata": {
        "colab": {
          "base_uri": "https://localhost:8080/"
        },
        "id": "HhD5wPA9AQ7o",
        "outputId": "8b78c78c-7bb3-49e9-dbbe-4d03d2d7eee9"
      },
      "execution_count": 51,
      "outputs": [
        {
          "output_type": "stream",
          "name": "stdout",
          "text": [
            "Requirement already satisfied: bitsandbytes in /usr/local/lib/python3.10/dist-packages (0.43.3)\n",
            "Requirement already satisfied: torch in /usr/local/lib/python3.10/dist-packages (from bitsandbytes) (2.3.1+cu121)\n",
            "Requirement already satisfied: numpy in /usr/local/lib/python3.10/dist-packages (from bitsandbytes) (1.26.4)\n",
            "Requirement already satisfied: filelock in /usr/local/lib/python3.10/dist-packages (from torch->bitsandbytes) (3.15.4)\n",
            "Requirement already satisfied: typing-extensions>=4.8.0 in /usr/local/lib/python3.10/dist-packages (from torch->bitsandbytes) (4.12.2)\n",
            "Requirement already satisfied: sympy in /usr/local/lib/python3.10/dist-packages (from torch->bitsandbytes) (1.13.1)\n",
            "Requirement already satisfied: networkx in /usr/local/lib/python3.10/dist-packages (from torch->bitsandbytes) (3.3)\n",
            "Requirement already satisfied: jinja2 in /usr/local/lib/python3.10/dist-packages (from torch->bitsandbytes) (3.1.4)\n",
            "Requirement already satisfied: fsspec in /usr/local/lib/python3.10/dist-packages (from torch->bitsandbytes) (2024.6.1)\n",
            "Requirement already satisfied: nvidia-cuda-nvrtc-cu12==12.1.105 in /usr/local/lib/python3.10/dist-packages (from torch->bitsandbytes) (12.1.105)\n",
            "Requirement already satisfied: nvidia-cuda-runtime-cu12==12.1.105 in /usr/local/lib/python3.10/dist-packages (from torch->bitsandbytes) (12.1.105)\n",
            "Requirement already satisfied: nvidia-cuda-cupti-cu12==12.1.105 in /usr/local/lib/python3.10/dist-packages (from torch->bitsandbytes) (12.1.105)\n",
            "Requirement already satisfied: nvidia-cudnn-cu12==8.9.2.26 in /usr/local/lib/python3.10/dist-packages (from torch->bitsandbytes) (8.9.2.26)\n",
            "Requirement already satisfied: nvidia-cublas-cu12==12.1.3.1 in /usr/local/lib/python3.10/dist-packages (from torch->bitsandbytes) (12.1.3.1)\n",
            "Requirement already satisfied: nvidia-cufft-cu12==11.0.2.54 in /usr/local/lib/python3.10/dist-packages (from torch->bitsandbytes) (11.0.2.54)\n",
            "Requirement already satisfied: nvidia-curand-cu12==10.3.2.106 in /usr/local/lib/python3.10/dist-packages (from torch->bitsandbytes) (10.3.2.106)\n",
            "Requirement already satisfied: nvidia-cusolver-cu12==11.4.5.107 in /usr/local/lib/python3.10/dist-packages (from torch->bitsandbytes) (11.4.5.107)\n",
            "Requirement already satisfied: nvidia-cusparse-cu12==12.1.0.106 in /usr/local/lib/python3.10/dist-packages (from torch->bitsandbytes) (12.1.0.106)\n",
            "Requirement already satisfied: nvidia-nccl-cu12==2.20.5 in /usr/local/lib/python3.10/dist-packages (from torch->bitsandbytes) (2.20.5)\n",
            "Requirement already satisfied: nvidia-nvtx-cu12==12.1.105 in /usr/local/lib/python3.10/dist-packages (from torch->bitsandbytes) (12.1.105)\n",
            "Requirement already satisfied: triton==2.3.1 in /usr/local/lib/python3.10/dist-packages (from torch->bitsandbytes) (2.3.1)\n",
            "Requirement already satisfied: nvidia-nvjitlink-cu12 in /usr/local/lib/python3.10/dist-packages (from nvidia-cusolver-cu12==11.4.5.107->torch->bitsandbytes) (12.6.20)\n",
            "Requirement already satisfied: MarkupSafe>=2.0 in /usr/local/lib/python3.10/dist-packages (from jinja2->torch->bitsandbytes) (2.1.5)\n",
            "Requirement already satisfied: mpmath<1.4,>=1.1.0 in /usr/local/lib/python3.10/dist-packages (from sympy->torch->bitsandbytes) (1.3.0)\n"
          ]
        }
      ]
    },
    {
      "cell_type": "code",
      "source": [
        "# tokenizer = initialize_tokenizer(model_name)\n",
        "# model = load_quantized_model(model_name)"
      ],
      "metadata": {
        "id": "e6yR_w8v_wZl"
      },
      "execution_count": 53,
      "outputs": []
    },
    {
      "cell_type": "code",
      "source": [
        "llms = HuggingFacePipeline(pipeline=pipeline)"
      ],
      "metadata": {
        "id": "uKAwX5AQAboN"
      },
      "execution_count": null,
      "outputs": []
    },
    {
      "cell_type": "code",
      "source": [],
      "metadata": {
        "id": "8u2CSAyZAblK"
      },
      "execution_count": null,
      "outputs": []
    },
    {
      "cell_type": "code",
      "source": [],
      "metadata": {
        "id": "45jjEZAWAbht"
      },
      "execution_count": null,
      "outputs": []
    },
    {
      "cell_type": "code",
      "source": [
        "\n",
        "# pipeline = pipeline(\n",
        "#     \"text-generation\",\n",
        "#     model=model,\n",
        "#     tokenizer=tokenizer,\n",
        "#     use_cache=True,\n",
        "#     device_map=\"auto\",\n",
        "#     max_length=2048,\n",
        "#     do_sample=True,\n",
        "#     top_k=5,\n",
        "#     num_return_sequences=1,\n",
        "#     eos_token_id=tokenizer.eos_token_id,\n",
        "#     pad_token_id=tokenizer.pad_token_id,\n",
        "# )"
      ],
      "metadata": {
        "id": "DhkXFh_gAHWR"
      },
      "execution_count": null,
      "outputs": []
    },
    {
      "cell_type": "code",
      "source": [
        "# !wget https://huggingface.co/TheBloke/zephyr-7B-beta-GGUF/resolve/main/zephyr-7b-beta.Q4_0.gguf?download=true"
      ],
      "metadata": {
        "colab": {
          "base_uri": "https://localhost:8080/"
        },
        "id": "T9PkwQxAAHJg",
        "outputId": "0289e969-21ff-42fe-c104-a52cc1b5208e"
      },
      "execution_count": null,
      "outputs": [
        {
          "output_type": "stream",
          "name": "stdout",
          "text": [
            "--2024-08-01 17:49:55--  https://huggingface.co/TheBloke/zephyr-7B-beta-GGUF/resolve/main/zephyr-7b-beta.Q4_0.gguf?download=true\n",
            "Resolving huggingface.co (huggingface.co)... 18.164.174.55, 18.164.174.23, 18.164.174.17, ...\n",
            "Connecting to huggingface.co (huggingface.co)|18.164.174.55|:443... connected.\n",
            "HTTP request sent, awaiting response... 302 Found\n",
            "Location: https://cdn-lfs-us-1.huggingface.co/repos/fe/17/fe17596731f84a0d03bece77489780bc7e068323c0aeca88b6393d3e9e65dd49/b525eb8dccd26c1b439dd0772b3b4db9ce3755e3046792c8e622683bd8f10b03?response-content-disposition=attachment%3B+filename*%3DUTF-8%27%27zephyr-7b-beta.Q4_0.gguf%3B+filename%3D%22zephyr-7b-beta.Q4_0.gguf%22%3B&Expires=1722793795&Policy=eyJTdGF0ZW1lbnQiOlt7IkNvbmRpdGlvbiI6eyJEYXRlTGVzc1RoYW4iOnsiQVdTOkVwb2NoVGltZSI6MTcyMjc5Mzc5NX19LCJSZXNvdXJjZSI6Imh0dHBzOi8vY2RuLWxmcy11cy0xLmh1Z2dpbmdmYWNlLmNvL3JlcG9zL2ZlLzE3L2ZlMTc1OTY3MzFmODRhMGQwM2JlY2U3NzQ4OTc4MGJjN2UwNjgzMjNjMGFlY2E4OGI2MzkzZDNlOWU2NWRkNDkvYjUyNWViOGRjY2QyNmMxYjQzOWRkMDc3MmIzYjRkYjljZTM3NTVlMzA0Njc5MmM4ZTYyMjY4M2JkOGYxMGIwMz9yZXNwb25zZS1jb250ZW50LWRpc3Bvc2l0aW9uPSoifV19&Signature=PiYhuecwrZ4Zq6ZTl-3OhW4RBULmqfy%7Eg0Y-Uztdvq1Zw8b9pq2DWryzIYRTiP4VFRPBtRCjhFXkHBb2s5d9yDprOj3qsIEO8ZGMRq8g1MtzuMJLk8sHw03JpW55B8frly9-nOzYW2ZnpM4FnqbK%7Ek7mYQhEyrTn06q9ZEA55J9PKr5pAAWN0FMZCSICPXwlEv3tXgDMv3%7ExCohf8v4lESdXOWLcBpDNJuP5f4n97x0bY%7Ei7eoKVlFH-UiMTPXrm%7EUvz2ZPaToW0En9b0bpu6xIXbaqY5sg2B3BsqxGOrwCZ-PLimi24p6x-UBOiAgTIYpixyYzRSsdH0XV%7E9PrS1g__&Key-Pair-Id=K24J24Z295AEI9 [following]\n",
            "--2024-08-01 17:49:55--  https://cdn-lfs-us-1.huggingface.co/repos/fe/17/fe17596731f84a0d03bece77489780bc7e068323c0aeca88b6393d3e9e65dd49/b525eb8dccd26c1b439dd0772b3b4db9ce3755e3046792c8e622683bd8f10b03?response-content-disposition=attachment%3B+filename*%3DUTF-8%27%27zephyr-7b-beta.Q4_0.gguf%3B+filename%3D%22zephyr-7b-beta.Q4_0.gguf%22%3B&Expires=1722793795&Policy=eyJTdGF0ZW1lbnQiOlt7IkNvbmRpdGlvbiI6eyJEYXRlTGVzc1RoYW4iOnsiQVdTOkVwb2NoVGltZSI6MTcyMjc5Mzc5NX19LCJSZXNvdXJjZSI6Imh0dHBzOi8vY2RuLWxmcy11cy0xLmh1Z2dpbmdmYWNlLmNvL3JlcG9zL2ZlLzE3L2ZlMTc1OTY3MzFmODRhMGQwM2JlY2U3NzQ4OTc4MGJjN2UwNjgzMjNjMGFlY2E4OGI2MzkzZDNlOWU2NWRkNDkvYjUyNWViOGRjY2QyNmMxYjQzOWRkMDc3MmIzYjRkYjljZTM3NTVlMzA0Njc5MmM4ZTYyMjY4M2JkOGYxMGIwMz9yZXNwb25zZS1jb250ZW50LWRpc3Bvc2l0aW9uPSoifV19&Signature=PiYhuecwrZ4Zq6ZTl-3OhW4RBULmqfy%7Eg0Y-Uztdvq1Zw8b9pq2DWryzIYRTiP4VFRPBtRCjhFXkHBb2s5d9yDprOj3qsIEO8ZGMRq8g1MtzuMJLk8sHw03JpW55B8frly9-nOzYW2ZnpM4FnqbK%7Ek7mYQhEyrTn06q9ZEA55J9PKr5pAAWN0FMZCSICPXwlEv3tXgDMv3%7ExCohf8v4lESdXOWLcBpDNJuP5f4n97x0bY%7Ei7eoKVlFH-UiMTPXrm%7EUvz2ZPaToW0En9b0bpu6xIXbaqY5sg2B3BsqxGOrwCZ-PLimi24p6x-UBOiAgTIYpixyYzRSsdH0XV%7E9PrS1g__&Key-Pair-Id=K24J24Z295AEI9\n",
            "Resolving cdn-lfs-us-1.huggingface.co (cdn-lfs-us-1.huggingface.co)... 18.65.25.71, 18.65.25.119, 18.65.25.64, ...\n",
            "Connecting to cdn-lfs-us-1.huggingface.co (cdn-lfs-us-1.huggingface.co)|18.65.25.71|:443... connected.\n",
            "HTTP request sent, awaiting response... 200 OK\n",
            "Length: 4108916416 (3.8G) [binary/octet-stream]\n",
            "Saving to: ‘zephyr-7b-beta.Q4_0.gguf?download=true’\n",
            "\n",
            "zephyr-7b-beta.Q4_0 100%[===================>]   3.83G  36.5MB/s    in 1m 54s  \n",
            "\n",
            "2024-08-01 17:51:50 (34.4 MB/s) - ‘zephyr-7b-beta.Q4_0.gguf?download=true’ saved [4108916416/4108916416]\n",
            "\n"
          ]
        }
      ]
    },
    {
      "cell_type": "code",
      "source": [
        "from langchain.llms import LlamaCpp\n",
        "llms = LlamaCpp(streaming=True,\n",
        "                   model_path=\"/content/model/zephyr-7b-beta.Q4_0.gguf\",\n",
        "                   max_tokens = 500,\n",
        "                   temperature=0.5,\n",
        "                   top_p=1,\n",
        "                   gpu_layers=0,\n",
        "                   stream=True,\n",
        "                   verbose=True,n_threads = int(os.cpu_count()/2),\n",
        "                   n_ctx=4096)"
      ],
      "metadata": {
        "id": "hNiO_irtLDpO",
        "colab": {
          "base_uri": "https://localhost:8080/"
        },
        "outputId": "40c64aa3-6c11-4ff2-f4bf-4f200d0acbca"
      },
      "execution_count": 56,
      "outputs": [
        {
          "output_type": "stream",
          "name": "stderr",
          "text": [
            "llama_model_loader: loaded meta data with 21 key-value pairs and 291 tensors from /content/model/zephyr-7b-beta.Q4_0.gguf (version GGUF V3 (latest))\n",
            "llama_model_loader: Dumping metadata keys/values. Note: KV overrides do not apply in this output.\n",
            "llama_model_loader: - kv   0:                       general.architecture str              = llama\n",
            "llama_model_loader: - kv   1:                               general.name str              = huggingfaceh4_zephyr-7b-beta\n",
            "llama_model_loader: - kv   2:                       llama.context_length u32              = 32768\n",
            "llama_model_loader: - kv   3:                     llama.embedding_length u32              = 4096\n",
            "llama_model_loader: - kv   4:                          llama.block_count u32              = 32\n",
            "llama_model_loader: - kv   5:                  llama.feed_forward_length u32              = 14336\n",
            "llama_model_loader: - kv   6:                 llama.rope.dimension_count u32              = 128\n",
            "llama_model_loader: - kv   7:                 llama.attention.head_count u32              = 32\n",
            "llama_model_loader: - kv   8:              llama.attention.head_count_kv u32              = 8\n",
            "llama_model_loader: - kv   9:     llama.attention.layer_norm_rms_epsilon f32              = 0.000010\n",
            "llama_model_loader: - kv  10:                       llama.rope.freq_base f32              = 10000.000000\n",
            "llama_model_loader: - kv  11:                          general.file_type u32              = 2\n",
            "llama_model_loader: - kv  12:                       tokenizer.ggml.model str              = llama\n",
            "llama_model_loader: - kv  13:                      tokenizer.ggml.tokens arr[str,32000]   = [\"<unk>\", \"<s>\", \"</s>\", \"<0x00>\", \"<...\n",
            "llama_model_loader: - kv  14:                      tokenizer.ggml.scores arr[f32,32000]   = [0.000000, 0.000000, 0.000000, 0.0000...\n",
            "llama_model_loader: - kv  15:                  tokenizer.ggml.token_type arr[i32,32000]   = [2, 3, 3, 6, 6, 6, 6, 6, 6, 6, 6, 6, ...\n",
            "llama_model_loader: - kv  16:                tokenizer.ggml.bos_token_id u32              = 1\n",
            "llama_model_loader: - kv  17:                tokenizer.ggml.eos_token_id u32              = 2\n",
            "llama_model_loader: - kv  18:            tokenizer.ggml.unknown_token_id u32              = 0\n",
            "llama_model_loader: - kv  19:            tokenizer.ggml.padding_token_id u32              = 2\n",
            "llama_model_loader: - kv  20:               general.quantization_version u32              = 2\n",
            "llama_model_loader: - type  f32:   65 tensors\n",
            "llama_model_loader: - type q4_0:  225 tensors\n",
            "llama_model_loader: - type q6_K:    1 tensors\n",
            "llm_load_vocab: special tokens cache size = 3\n",
            "llm_load_vocab: token to piece cache size = 0.1637 MB\n",
            "llm_load_print_meta: format           = GGUF V3 (latest)\n",
            "llm_load_print_meta: arch             = llama\n",
            "llm_load_print_meta: vocab type       = SPM\n",
            "llm_load_print_meta: n_vocab          = 32000\n",
            "llm_load_print_meta: n_merges         = 0\n",
            "llm_load_print_meta: vocab_only       = 0\n",
            "llm_load_print_meta: n_ctx_train      = 32768\n",
            "llm_load_print_meta: n_embd           = 4096\n",
            "llm_load_print_meta: n_layer          = 32\n",
            "llm_load_print_meta: n_head           = 32\n",
            "llm_load_print_meta: n_head_kv        = 8\n",
            "llm_load_print_meta: n_rot            = 128\n",
            "llm_load_print_meta: n_swa            = 0\n",
            "llm_load_print_meta: n_embd_head_k    = 128\n",
            "llm_load_print_meta: n_embd_head_v    = 128\n",
            "llm_load_print_meta: n_gqa            = 4\n",
            "llm_load_print_meta: n_embd_k_gqa     = 1024\n",
            "llm_load_print_meta: n_embd_v_gqa     = 1024\n",
            "llm_load_print_meta: f_norm_eps       = 0.0e+00\n",
            "llm_load_print_meta: f_norm_rms_eps   = 1.0e-05\n",
            "llm_load_print_meta: f_clamp_kqv      = 0.0e+00\n",
            "llm_load_print_meta: f_max_alibi_bias = 0.0e+00\n",
            "llm_load_print_meta: f_logit_scale    = 0.0e+00\n",
            "llm_load_print_meta: n_ff             = 14336\n",
            "llm_load_print_meta: n_expert         = 0\n",
            "llm_load_print_meta: n_expert_used    = 0\n",
            "llm_load_print_meta: causal attn      = 1\n",
            "llm_load_print_meta: pooling type     = 0\n",
            "llm_load_print_meta: rope type        = 0\n",
            "llm_load_print_meta: rope scaling     = linear\n",
            "llm_load_print_meta: freq_base_train  = 10000.0\n",
            "llm_load_print_meta: freq_scale_train = 1\n",
            "llm_load_print_meta: n_ctx_orig_yarn  = 32768\n",
            "llm_load_print_meta: rope_finetuned   = unknown\n",
            "llm_load_print_meta: ssm_d_conv       = 0\n",
            "llm_load_print_meta: ssm_d_inner      = 0\n",
            "llm_load_print_meta: ssm_d_state      = 0\n",
            "llm_load_print_meta: ssm_dt_rank      = 0\n",
            "llm_load_print_meta: model type       = 7B\n",
            "llm_load_print_meta: model ftype      = Q4_0\n",
            "llm_load_print_meta: model params     = 7.24 B\n",
            "llm_load_print_meta: model size       = 3.83 GiB (4.54 BPW) \n",
            "llm_load_print_meta: general.name     = huggingfaceh4_zephyr-7b-beta\n",
            "llm_load_print_meta: BOS token        = 1 '<s>'\n",
            "llm_load_print_meta: EOS token        = 2 '</s>'\n",
            "llm_load_print_meta: UNK token        = 0 '<unk>'\n",
            "llm_load_print_meta: PAD token        = 2 '</s>'\n",
            "llm_load_print_meta: LF token         = 13 '<0x0A>'\n",
            "llm_load_print_meta: max token length = 48\n",
            "llm_load_tensors: ggml ctx size =    0.14 MiB\n",
            "llm_load_tensors:        CPU buffer size =  3917.87 MiB\n",
            "..................................................................................................\n",
            "llama_new_context_with_model: n_batch is less than GGML_KQ_MASK_PAD - increasing to 32\n",
            "llama_new_context_with_model: n_ctx      = 4096\n",
            "llama_new_context_with_model: n_batch    = 32\n",
            "llama_new_context_with_model: n_ubatch   = 32\n",
            "llama_new_context_with_model: flash_attn = 0\n",
            "llama_new_context_with_model: freq_base  = 10000.0\n",
            "llama_new_context_with_model: freq_scale = 1\n",
            "llama_kv_cache_init:        CPU KV buffer size =   512.00 MiB\n",
            "llama_new_context_with_model: KV self size  =  512.00 MiB, K (f16):  256.00 MiB, V (f16):  256.00 MiB\n",
            "llama_new_context_with_model:        CPU  output buffer size =     0.12 MiB\n",
            "llama_new_context_with_model:        CPU compute buffer size =    18.50 MiB\n",
            "llama_new_context_with_model: graph nodes  = 1030\n",
            "llama_new_context_with_model: graph splits = 1\n",
            "AVX = 1 | AVX_VNNI = 0 | AVX2 = 1 | AVX512 = 1 | AVX512_VBMI = 0 | AVX512_VNNI = 0 | AVX512_BF16 = 0 | FMA = 1 | NEON = 0 | SVE = 0 | ARM_FMA = 0 | F16C = 1 | FP16_VA = 0 | WASM_SIMD = 0 | BLAS = 0 | SSE3 = 1 | SSSE3 = 1 | VSX = 0 | MATMUL_INT8 = 0 | LLAMAFILE = 1 | \n",
            "Model metadata: {'tokenizer.ggml.padding_token_id': '2', 'tokenizer.ggml.unknown_token_id': '0', 'tokenizer.ggml.eos_token_id': '2', 'general.architecture': 'llama', 'llama.rope.freq_base': '10000.000000', 'llama.context_length': '32768', 'general.name': 'huggingfaceh4_zephyr-7b-beta', 'llama.embedding_length': '4096', 'llama.feed_forward_length': '14336', 'llama.attention.layer_norm_rms_epsilon': '0.000010', 'llama.rope.dimension_count': '128', 'tokenizer.ggml.bos_token_id': '1', 'llama.attention.head_count': '32', 'llama.block_count': '32', 'llama.attention.head_count_kv': '8', 'general.quantization_version': '2', 'tokenizer.ggml.model': 'llama', 'general.file_type': '2'}\n",
            "Using fallback chat format: llama-2\n",
            "/usr/local/lib/python3.10/dist-packages/langchain_core/utils/utils.py:234: UserWarning: WARNING! gpu_layers is not default parameter.\n",
            "                gpu_layers was transferred to model_kwargs.\n",
            "                Please confirm that gpu_layers is what you intended.\n",
            "  warnings.warn(\n",
            "/usr/local/lib/python3.10/dist-packages/langchain_core/utils/utils.py:234: UserWarning: WARNING! stream is not default parameter.\n",
            "                stream was transferred to model_kwargs.\n",
            "                Please confirm that stream is what you intended.\n",
            "  warnings.warn(\n"
          ]
        }
      ]
    },
    {
      "cell_type": "code",
      "source": [
        "from langchain.chains import RetrievalQA"
      ],
      "metadata": {
        "id": "cQU3kYJ8LIPQ"
      },
      "execution_count": 57,
      "outputs": []
    },
    {
      "cell_type": "code",
      "source": [
        "qa = RetrievalQA.from_chain_type(\n",
        "      llm=llms,\n",
        "      chain_type=\"stuff\",\n",
        "      retriever = compression_retriever_reordered,\n",
        "      return_source_documents = True\n",
        ")"
      ],
      "metadata": {
        "id": "qUbRD-MMLJnJ"
      },
      "execution_count": 58,
      "outputs": []
    },
    {
      "cell_type": "code",
      "source": [
        "import os\n",
        "os.listdir('/content')"
      ],
      "metadata": {
        "colab": {
          "base_uri": "https://localhost:8080/"
        },
        "id": "mumRS9rQ_FmI",
        "outputId": "ace61d0c-d425-4f20-8621-a98a313a20ab"
      },
      "execution_count": 59,
      "outputs": [
        {
          "output_type": "execute_result",
          "data": {
            "text/plain": [
              "['.config',\n",
              " '.ipynb_checkpoints',\n",
              " 'Transformer.pdf',\n",
              " 'model',\n",
              " 'Retrieval-Augmented-Generation-for-NLP.pdf',\n",
              " 'sample_data']"
            ]
          },
          "metadata": {},
          "execution_count": 59
        }
      ]
    },
    {
      "cell_type": "code",
      "source": [
        "result = qa(\"Explain multi head attention?\")"
      ],
      "metadata": {
        "colab": {
          "base_uri": "https://localhost:8080/"
        },
        "id": "5zI_7hiQCZnL",
        "outputId": "9fbf45df-65a7-49c6-ace2-e37a622298cf"
      },
      "execution_count": 62,
      "outputs": [
        {
          "output_type": "stream",
          "name": "stderr",
          "text": [
            "Llama.generate: prefix-match hit\n",
            "\n",
            "llama_print_timings:        load time =    2877.94 ms\n",
            "llama_print_timings:      sample time =     103.85 ms /   166 runs   (    0.63 ms per token,  1598.51 tokens per second)\n",
            "llama_print_timings: prompt eval time =       0.00 ms /     0 tokens (    -nan ms per token,     -nan tokens per second)\n",
            "llama_print_timings:        eval time =  147798.93 ms /   166 runs   (  890.36 ms per token,     1.12 tokens per second)\n",
            "llama_print_timings:       total time =  148109.89 ms /   166 tokens\n"
          ]
        }
      ]
    },
    {
      "cell_type": "code",
      "source": [
        "result.keys()"
      ],
      "metadata": {
        "colab": {
          "base_uri": "https://localhost:8080/"
        },
        "id": "E_zUyT7pO3fK",
        "outputId": "3ae6b66b-c520-400e-b735-99ea2e0f39f4"
      },
      "execution_count": 64,
      "outputs": [
        {
          "output_type": "execute_result",
          "data": {
            "text/plain": [
              "dict_keys(['query', 'result', 'source_documents'])"
            ]
          },
          "metadata": {},
          "execution_count": 64
        }
      ]
    },
    {
      "cell_type": "code",
      "source": [
        "# query =\"what is encoders?\"\n",
        "# results = qa(query)\n",
        "# print(results['result'])\n",
        "#\n",
        "# print(results[\"source_documents\"])\n",
        "result['result']"
      ],
      "metadata": {
        "id": "BVJoUUX7LLRV",
        "colab": {
          "base_uri": "https://localhost:8080/",
          "height": 140
        },
        "outputId": "76d925f1-1413-49a0-928f-87f64b6df419"
      },
      "execution_count": 65,
      "outputs": [
        {
          "output_type": "execute_result",
          "data": {
            "text/plain": [
              "' Multi Head Attention is a technique used in the Transformer architecture of neural networks. It allows the model to jointly attend to information from different representation subspaces at different positions by performing multiple instances of self-attention with different learned linear projections. This helps to overcome the limitations of single attention head, such as averaging inhibiting the ability to attend to multiple positions simultaneously. Multi Head Attention consists of several attention layers running in parallel, each with its own set of query, key, and value projections. The outputs of these parallel attention layers are then concatenated and projected again, resulting in the final values. This technique has been found beneficial for a variety of tasks such as reading comprehension, abstractive summarization, textual entailment, and learning task-independent sentence representations.'"
            ],
            "application/vnd.google.colaboratory.intrinsic+json": {
              "type": "string"
            }
          },
          "metadata": {},
          "execution_count": 65
        }
      ]
    },
    {
      "cell_type": "code",
      "source": [
        "#"
      ],
      "metadata": {
        "id": "NAaRNaAJ_lMB"
      },
      "execution_count": 66,
      "outputs": []
    },
    {
      "cell_type": "markdown",
      "source": [
        "\n",
        " Jon Snow is a character in George R.R. Martin's \"A Song of Ice and Fire\" series, which has been adapted into the popular HBO show \"Game of Thrones.\" In the context provided, he is described as Bran Stark's bastard brother and is mentioned as moving closer to Bran during a scene in which Bran witnesses his father, King Robert Baratheon, sentencing Ned Stark to death for treason. Jon Snow has been portrayed by actor Kit Harington on the TV show \"Game of Thrones.\""
      ],
      "metadata": {
        "id": "vd4_hOZr_roP"
      }
    },
    {
      "cell_type": "code",
      "source": [
        "results = qa(\"how the transformer architecture helps in building rag pipeline?\")\n",
        "print(results['result'])\n"
      ],
      "metadata": {
        "id": "Q-TSWYdRLNJA",
        "colab": {
          "base_uri": "https://localhost:8080/"
        },
        "outputId": "62c2544d-26f0-4a45-94a9-0299de0e74a2"
      },
      "execution_count": 67,
      "outputs": [
        {
          "output_type": "stream",
          "name": "stderr",
          "text": [
            "Llama.generate: prefix-match hit\n",
            "\n",
            "llama_print_timings:        load time =    2877.94 ms\n",
            "llama_print_timings:      sample time =     121.07 ms /   195 runs   (    0.62 ms per token,  1610.64 tokens per second)\n",
            "llama_print_timings: prompt eval time =  620031.23 ms /  1455 tokens (  426.14 ms per token,     2.35 tokens per second)\n",
            "llama_print_timings:        eval time =  166545.38 ms /   194 runs   (  858.48 ms per token,     1.16 tokens per second)\n",
            "llama_print_timings:       total time =  786947.63 ms /  1649 tokens\n"
          ]
        },
        {
          "output_type": "stream",
          "name": "stdout",
          "text": [
            " The Transformer, proposed in this work, is a model architecture that replaces recurrence with attention mechanisms, allowing for significantly more parallelization and enabling it to draw global dependencies between input and output sequences. This approach, as demonstrated by the authors' experiments, results in a new state of the art in translation quality after being trained for only twelve hours on eight P100 GPUs. The RAG (Retrieval-augmented Generation) pipeline, proposed in this paper, utilizes the Transformer architecture to learn to retrieve relevant information for the task and generates responses using either a sequence or token-level decoder. By learning to retrieve relevant information, as evidenced by ablations where the retriever is frozen during training, RAG achieves more diverse results than BART without needing any diversity-promoting decoding. The authors also provide scripts for running experiments with RAG and an interactive demo of a RAG model.\n"
          ]
        }
      ]
    },
    {
      "cell_type": "markdown",
      "source": [
        "Harry Potter is the main character in J.K. Rowling's series of novels and films about magic and wizards. He is an orphan who discovers that he has magical powers and goes to attend Hogwarts School of Witchcraft and Wizardry, where he makes friends and battles evil forces like Lord Voldemort."
      ],
      "metadata": {
        "id": "VMUTfRBG_0jN"
      }
    },
    {
      "cell_type": "code",
      "source": [
        "#\n",
        "print(results[\"source_documents\"])\n",
        "#\n"
      ],
      "metadata": {
        "colab": {
          "base_uri": "https://localhost:8080/"
        },
        "id": "orlPdwjQPdn3",
        "outputId": "7be4b1cc-e465-426e-e9b6-06a8e0b9b256"
      },
      "execution_count": 68,
      "outputs": [
        {
          "output_type": "stream",
          "name": "stdout",
          "text": [
            "[_DocumentWithState(metadata={'page': 2, 'source': '/content/Transformer.pdf'}, page_content='Figure 1: The Transformer - model architecture.\\nThe Transformer follows this overall architecture using stacked self-attention and point-wise, fully\\nconnected layers for both the encoder and decoder, shown in the left and right halves of Figure 1,\\nrespectively.\\n3.1 Encoder and Decoder Stacks\\nEncoder: The encoder is composed of a stack of N= 6 identical layers. Each layer has two\\nsub-layers. The first is a multi-head self-attention mechanism, and the second is a simple, position-', state={'embedded_doc': [0.025233056396245956, -0.014825851656496525, -0.01302702073007822, -0.028497273102402687, 0.010001987218856812, -0.006481351796537638, -0.005541581194847822, -0.005433953832834959, 0.009927929379045963, 0.037419356405735016, 0.04243699461221695, 0.004794339183717966, 0.023254549130797386, -0.05233170464634895, -0.021803954616189003, 0.04367738217115402, -0.034350693225860596, -0.014627313241362572, -0.05547945573925972, 0.0025374633260071278, 0.015630118548870087, -0.005816355347633362, -0.0624983012676239, -0.022451961413025856, -0.041336122900247574, 0.035214852541685104, 0.010390864685177803, 0.019055891782045364, 0.07507301867008209, 0.05654697120189667, -0.02820591814815998, -0.01735893450677395, 0.03705184534192085, -0.08374063670635223, -0.027122803032398224, -0.027741804718971252, 0.009539800696074963, -0.059449516236782074, -0.0175283532589674, -0.07595876604318619, 0.031228411942720413, -0.015199540182948112, 0.01626557484269142, -0.046820852905511856, -0.0571630597114563, -0.02277049608528614, 0.002458208240568638, -0.07707929611206055, -0.03280574083328247, -0.01943480409681797, 0.006326410919427872, -0.00836116261780262, 0.026812877506017685, 0.0032012483570724726, 0.005874860566109419, -0.04591701552271843, -0.0021271330770105124, 0.01637881062924862, -0.04061514511704445, 0.01663641259074211, 0.03960173949599266, 0.019490458071231842, -0.004018885083496571, -0.066098153591156, -0.0049906824715435505, 0.020306862890720367, -0.006917121820151806, -0.009936528280377388, 0.01868170127272606, -0.018937649205327034, -0.06132534146308899, 0.001762193045578897, -0.011424311436712742, -0.02996443770825863, -0.014231855981051922, 0.01197176706045866, -0.010189976543188095, -0.014899937435984612, -0.009480755776166916, -0.018369069322943687, 0.010745570063591003, 0.03528951108455658, -0.020296545699238777, 0.013561606407165527, -0.034954678267240524, -0.011521866545081139, -0.0006561842164956033, 0.008358652703464031, -0.02256898581981659, -0.00250616273842752, -0.016820022836327553, 0.03700493276119232, 0.004157932475209236, 0.03498074784874916, 0.02065936103463173, 0.047807078808546066, -0.024613186717033386, 0.03302272409200668, 0.00949128344655037, -0.00843879859894514, 0.04014159366488457, 0.07331247627735138, -0.01732204481959343, 0.047771744430065155, -0.02396809309720993, -0.04118916019797325, 0.006609542295336723, 0.018351348116993904, -0.00823257490992546, -0.01511042658239603, -0.000763429154176265, -0.007387321908026934, 0.0029309545643627644, 0.012618365697562695, 0.004472702741622925, 0.05394822359085083, 0.012228327803313732, 0.01094111893326044, -0.0622725710272789, 0.02036103792488575, 0.007351630367338657, 0.01511307992041111, 0.006104860920459032, -0.01398109644651413, 0.01944144256412983, -0.00040569331031292677, -0.007658674381673336, 0.02862737327814102, -0.004794983193278313, -0.016991648823022842, 0.010630449280142784, -0.01834213174879551, 0.00040590803837403655, 0.021184002980589867, -0.01834181509912014, 0.007927770726382732, -0.01717676967382431, 0.01984907127916813, 0.028943419456481934, -0.04889604449272156, 0.008652964606881142, -0.018812019377946854, 0.019647885113954544, 0.08543176203966141, 0.01520776841789484, 0.01123166736215353, -0.005951572675257921, -0.027461763471364975, -0.058187998831272125, -0.019365588203072548, -0.015011279843747616, 0.023782523348927498, 0.005443136673420668, 0.023778503760695457, -0.04315533488988876, -0.028978630900382996, -0.032861191779375076, 0.04643832892179489, 0.001925574615597725, 0.009361249394714832, -0.014297165907919407, -0.02618664875626564, -0.026249201968312263, 0.07959473133087158, -0.04603538289666176, 0.06037668138742447, -0.02449655346572399, -0.010378044098615646, -0.021609723567962646, -0.042202357202768326, 0.02886885590851307, 0.0006014549871906638, -0.019056953489780426, 0.03248295560479164, 0.022357789799571037, 0.028363697230815887, 0.0334547720849514, 0.01529349759221077, 0.010740352794528008, 0.010633501224219799, 0.003713627578690648, -0.00918726809322834, 0.018592506647109985, 0.061773695051670074, 0.004855080973356962, -0.031690336763858795, 0.0061744763515889645, -0.034445490688085556, -0.01398690789937973, -0.009785519912838936, -0.005410743877291679, 0.0681176409125328, -0.05784638226032257, 0.011144241318106651, -0.025143560022115707, 0.005550002213567495, -0.05346907302737236, 0.005007660482078791, 0.007221070118248463, -0.023623984307050705, -0.010352889075875282, 0.046275004744529724, -0.010402314364910126, 0.03308077156543732, -0.02018721029162407, -0.0001577373914187774, 0.03224484249949455, 0.06016340106725693, -0.04380756989121437, 0.006858858745545149, 0.023402666673064232, 0.001023557037115097, -0.0296781025826931, 0.0044930605217814445, 0.0176536925137043, -0.01684512384235859, -0.028490101918578148, 0.006907964590936899, 0.00836496613919735, 0.014581330120563507, 0.025271346792578697, 0.03203428536653519, 0.04431843012571335, 0.03230731934309006, -0.011434917338192463, -0.020657647401094437, 0.006352526601403952, 0.049164801836013794, 0.00461667962372303, 0.02087675966322422, 0.0065723261795938015, 0.03089691884815693, 0.02289414033293724, 0.017325395718216896, 0.03554895520210266, 0.02599298395216465, 0.024539373815059662, 0.04730478674173355, 0.01844368502497673, -0.007066044025123119, 0.016927912831306458, 0.005194499623030424, 0.02626940794289112, 0.01236368715763092, 0.007269000168889761, 0.03886495158076286, -0.036951176822185516, 0.0011128518963232636, -0.06329263746738434, 0.022967148572206497, 0.01182133611291647, 0.06766039878129959, 0.012104067951440811, 0.006997331976890564, -0.03535838797688484, -0.034086693078279495, -0.015029250644147396, 0.046551406383514404, -0.035427939146757126, -0.06206328794360161, 0.020709868520498276, -0.009126300923526287, 0.014927524141967297, -0.0030508197378367186, 0.032303012907505035, 0.0486549511551857, 0.017482511699199677, 0.03593670576810837, -0.0238993838429451, -0.054518718272447586, -0.03630697354674339, -0.050047457218170166, -0.0596223883330822, -0.007828377187252045, -0.050916146486997604, -0.04172167181968689, 0.013420761562883854, -0.015458974055945873, 0.029012029990553856, -0.017574291676282883, -0.014447459019720554, -0.016651082783937454, -0.02687186561524868, 0.0335426889359951, 0.020550021901726723, 0.03898496553301811, -0.04836427792906761, 0.02995712123811245, -0.012059574015438557, 0.006181005388498306, 0.010824782773852348, -0.055890630930662155, -0.003714689053595066, -0.02653651125729084, 0.00136589037720114, 0.010728271678090096, 0.011004389263689518, -0.0280448030680418, -0.04303637519478798, -0.028900017961859703, -0.03104863129556179, -0.03571853041648865, -0.030787337571382523, 0.019519168883562088, -0.016170093789696693, 0.060057900846004486, 0.01016884483397007, -0.03195590153336525, 0.03153311833739281, 0.0517137348651886, -0.038591157644987106, 0.03126896545290947, 0.023751594126224518, 0.03119683265686035, -0.02445567399263382, 0.07029445469379425, 0.05119592696428299, 0.038475483655929565, -0.016731509938836098, -0.02874075621366501, -0.021083399653434753, 0.004305381793528795, 0.011391347274184227, -0.05176062136888504, -0.03425735980272293, 0.040339358150959015, 0.010483745485544205, -0.056131038814783096, -0.007926153019070625, -0.06161145865917206, -0.052881237119436264, -0.006899573374539614, -0.02944830060005188, 0.0373641736805439, 0.04919291287660599, 0.03924509510397911, -0.026015926152467728, 0.007860646583139896, -0.010027355514466763, 0.02183053083717823, 0.007765202317386866, -0.01498331781476736, 0.03351319581270218, 0.03719272091984749, -0.019412226974964142, 0.02236502803862095, 0.057267509400844574, -0.03255045413970947, 0.014886635355651379, -0.0031389344949275255, -0.0019637723453342915, 0.020205216482281685, 0.0029026998672634363, -0.01974339969456196, 0.018352236598730087, 0.016856566071510315, -0.036455754190683365, 0.011738665401935577, -0.012329027988016605, 0.02975637838244438, 0.03155471384525299, -0.004474945832043886, -0.006345727480947971, 0.011452349834144115, -0.054955899715423584, -0.040605757385492325, 0.04332536831498146, 0.004281838424503803, 0.03954452648758888, -0.03581947460770607, 0.029329368844628334, 0.02463015355169773, -0.04152929037809372, 0.04234781116247177, -0.03916187211871147, -0.041062820702791214, 0.04674685001373291, -0.009320385754108429, 0.019961008802056313, -0.03936255723237991, 0.019072305411100388, 0.008386136032640934, -0.0016639112727716565, 0.03350862115621567, 0.0282056275755167, 0.024827344343066216, -0.012642670422792435, -0.02194741554558277, -0.020922156050801277, 0.03522038459777832, -0.0074594104662537575, -0.03710704669356346, -0.020538415759801865, -0.007316627074033022, -0.03625268116593361, -0.026511866599321365, 0.032861292362213135, 0.058643490076065063, 0.021531332284212112, -0.022987939417362213, 0.04461554065346718, 0.019551731646060944, 0.015886040404438972, 0.04383566975593567, -0.016777517274022102, -0.0031977451872080564, -0.04279887676239014, 0.04940609261393547, 0.019533945247530937, -0.032104987651109695, -0.014338291250169277, -0.023032449185848236, -0.006348600145429373, 0.027162756770849228, 0.0037558500189334154, -0.024401746690273285, -0.048728201538324356, 0.005505700595676899, -0.013527329079806805, 0.044944144785404205, -0.005467357113957405, -0.017752161249518394, -0.02709832787513733, 0.05011438578367233, 0.035559624433517456, -0.04301568493247032, 0.013480599969625473, -0.08021187782287598, 0.006287803407758474, 0.04301901161670685, -0.014701871201395988, -0.03082217089831829, -0.012296813540160656, -0.028562191873788834, -0.010378105565905571, 0.014337388798594475, 0.04381806030869484, -0.019423354417085648, 0.012282286770641804, -0.058303166180849075, 0.02834668755531311, 0.012174151837825775, -0.00949103757739067, 0.00680090207606554, 0.012432629242539406, 0.0007111964514479041, 0.01916670612990856, 0.038841426372528076, 0.001636688830330968, -0.012737374752759933, 0.025391753762960434, -0.05876719579100609, 0.01754392683506012, 0.002782590454444289, 0.002120841993018985, -0.0058366525918245316, 0.007505266927182674, -0.0015500672161579132, 0.0183891449123621, -0.0033888069447129965, -0.010347957722842693, -0.0063047814182937145, 0.02883788011968136, -0.061534564942121506, -0.06591050326824188, 0.024146711453795433, 0.029431678354740143, -0.018816405907273293, 0.04754206910729408, 0.03637046739459038, -0.023191066458821297, -0.007730425801128149, 0.026916246861219406, -0.05359505116939545, 0.03174220025539398, -0.009098255075514317, 0.023513877764344215, 0.028581146150827408, -0.03155108913779259, 0.012867504730820656, -0.009892798960208893, 0.04456648603081703, 0.0038238107226788998, -0.025990191847085953, -0.026644529774785042, -0.05829687416553497, -0.017789892852306366, 0.003927995450794697, -0.024692509323358536, -0.00032658211421221495, 0.05531137436628342, -0.008011121302843094, 0.004203588701784611, -0.023193707689642906, -0.008690931834280491, -0.04304814711213112, -0.02356368862092495, 0.018739111721515656, 0.011084954254329205, 0.018877636641263962, 0.06591379642486572, 0.0061145988292992115, 0.00841500610113144, -0.023732854053378105, -0.018521573394536972, -0.005356328096240759, -0.01920613832771778, 0.005164678208529949, -0.009887521155178547, 0.007953651249408722, -0.012733762152493, -0.016262270510196686, 0.00503339571878314, -0.0002468173624947667, 0.02472371608018875, -0.015662781894207, -0.0005888681043870747, -0.0009365559672005475, -0.00014580209972336888, 0.04936831444501877, -0.009433732368052006, -0.06468705832958221, -0.024292469024658203, 0.03926156088709831, 0.019893677905201912, 0.033025115728378296, 0.017918938770890236, -0.05969483405351639, -0.04133475199341774, -0.038388725370168686, 0.012638827785849571, -0.057082630693912506, 0.015478882007300854, -0.03370539844036102, 0.019995780661702156, -0.011725555174052715, 0.04576623812317848, 0.015480207279324532, -0.010852154344320297, 0.017645513638854027, -0.052019041031599045, -0.011248507536947727, -0.0501604825258255, -0.04309540614485741, -0.031057629734277725, -0.010911048389971256, -0.004009419120848179, 0.019065983593463898, 0.012452158145606518, -0.017860636115074158, 0.022508524358272552, 0.02272210270166397, 0.02637285180389881, 0.0150198545306921, -0.06447776407003403, -0.036673158407211304, -0.0041841561906039715, 0.009033676236867905, -0.024455232545733452, -0.00464485352858901, -0.025736942887306213, 0.033010005950927734, -0.016766570508480072, -0.017639489844441414, -0.03142862021923065, -0.0009109992533922195, 0.005882146302610636, 0.00014958229439798743, 0.044203177094459534, -0.024473601952195168, 0.011754917912185192, -0.022439343854784966, 0.03144238144159317, 0.05064420774579048, -0.00022310462372843176, -0.029059546068310738, -0.034392356872558594, -0.0319536067545414, -0.05317384749650955, 0.03936579450964928, -0.03129586949944496, 0.004838212393224239, -0.034238699823617935, 0.005562820006161928, 0.05647789686918259, -0.010206443257629871, 0.05699523538351059, 0.0530208982527256, -0.02076621539890766, -0.012782474979758263, -0.028908060863614082, 0.008382866159081459, 0.027529463171958923, -0.022244831547141075, -0.025284724310040474, 0.00024783750995993614, -0.03596197068691254, 0.014941675588488579, -0.05409598350524902, -0.04029422253370285, -0.04164687171578407, 0.016742043197155, 0.06949622184038162, -0.0024403166025877, 0.03345419839024544, 0.005266794469207525, -0.02848951332271099, -0.03857703506946564, 0.045720890164375305, -0.005314826965332031, -0.0014306578086689115, 0.02617519162595272, 0.01491551287472248, -0.04107821360230446, 0.03408152982592583, 0.0053157196380198, -0.04868040233850479, -0.06468915939331055, 0.0695667639374733, -0.008573479019105434, -0.03782373294234276, 0.02390803024172783, 0.04493814706802368, -0.04967575892806053, -0.047747500240802765, -0.00866311602294445, 0.019371530041098595, -0.015004334971308708, -0.060678135603666306, -0.004385394975543022, 0.01829218491911888, -0.015743941068649292, 0.023435672745108604, 0.025720829144120216, 0.016385456547141075, -0.006077230907976627, 0.05821329355239868, -0.005195732228457928, -0.04863505810499191, 0.02602994628250599, 0.041929882019758224, -0.01062191091477871, -0.027710607275366783, -0.025691773742437363, -0.0028290795162320137, -0.019924845546483994, -0.030757486820220947, 0.03824588283896446, -0.02316093258559704, 0.01438575703650713, 0.00528564490377903, -0.02499912865459919, 0.06984329223632812, -0.01922992430627346, -0.013204283080995083, 0.005213889293372631, -0.0012702910462394357, -0.061997197568416595, -0.006626360584050417, 0.03525475412607193, 0.0005016507930122316, 0.030285529792308807, -0.03816266730427742, 0.013893580064177513, 0.03689763695001602, 0.0161676574498415, -0.006907056551426649, -0.05608031898736954, -0.012400081381201744, -0.05244338512420654, -0.016011139377951622, -0.05366497486829758, -0.0459190309047699, 0.005862217862159014, 0.01099031139165163, 0.01859666407108307, -0.024511566385626793, 0.02201463282108307, 0.011458493769168854, -0.04347185790538788, 0.014254080131649971, -0.022059539332985878, 0.02100474387407303, -0.02943335473537445, 0.010597173124551773, -0.011841037310659885, 0.0004771296516992152, -0.017107373103499413, 0.0020752367563545704, 0.0009028094355016947, 0.004189373925328255, 0.03782719001173973, -0.00568346818909049, 0.01977159082889557, 0.022171657532453537, -0.01725197210907936, -0.02657220885157585, -0.04137705639004707, 0.009407971985638142, -0.028986670076847076, 0.03944125026464462, 0.03208334371447563, -0.03299655020236969, -0.002895880723372102, -0.002145064063370228, -0.03729424625635147, -0.012857952155172825, 0.03198014199733734, 0.02849481627345085, -0.005640738643705845, -0.014026087708771229, 0.0008878855151124299, 0.0340699777007103, -0.057420194149017334, 0.0026057225186377764, -0.004367902409285307, -0.010491280816495419, 0.018899187445640564, -0.02762661501765251, 0.026355573907494545, 0.07396921515464783, -0.012086473405361176, 0.05500064045190811, 0.022025439888238907, 0.03995763137936592, 0.01656074821949005, 0.033370159566402435, 0.007696213666349649, -0.00010329933138564229, 0.01779131032526493, -0.024682290852069855, -0.026849765330553055, 0.04400046914815903, -0.045853570103645325, 0.029313575476408005, -0.009135548025369644, -0.05195274204015732, -0.012699681334197521, 0.00075966224540025, 0.02891315519809723, 0.050496093928813934, 0.027343744412064552, -0.013159316033124924, -0.000869568670168519, -0.02133863978087902, -0.04189552366733551, -0.007761672604829073, -0.051486819982528687, -0.040604352951049805, 0.02976115047931671, -0.01920917257666588, -0.008112597279250622, -0.02257339097559452, -0.010047225281596184, -0.005005213897675276, 0.009844276122748852, 0.02048579975962639, -0.020717168226838112, 0.015337429009377956, -0.0032421969808638096, 0.018321959301829338, -0.045387882739305496, -0.004769949708133936, 0.01600131206214428, 0.04064231365919113, -0.03915385156869888, -0.03967912495136261, 0.027025990188121796, 0.04799901694059372, -0.04015333577990532, -0.00981337483972311, -0.019793638959527016, 0.0006763929268345237, 0.02745080180466175, 0.021726049482822418, -0.026030341163277626, 0.008939872495830059, -0.007004134356975555, 0.027644483372569084, -0.02378939650952816, -0.019096614792943, 0.020020075142383575, 0.029824145138263702, 0.0165389496833086, -0.02482876181602478, -0.017469216138124466, 0.03177182748913765, 0.05712909996509552, -0.015455435030162334, 0.03565600886940956, 0.002912822412326932, 0.03274169936776161, 0.012403699569404125, 0.01544204168021679, -0.024278488010168076, 0.047615163028240204, 0.03390207514166832, 0.009269566275179386, -0.0064264279790222645, 0.04610010236501694, 0.05340689793229103, 0.0038645053282380104, 0.017489222809672356, 0.04564088210463524, 0.026262862607836723, -0.007893732748925686, 0.009768792428076267, 0.0017471944447606802, 0.021424654871225357, 0.012236010283231735, 0.012849769555032253, 0.014244322665035725, -0.005128445569425821, -0.005411890335381031, -0.003626198973506689, -0.02313811704516411, 0.047553449869155884, -0.04952903091907501, -0.04724019765853882, -0.011229333467781544, 0.005966179072856903, 0.009482579305768013, 0.02842940390110016, 0.03378770500421524, -0.03900226205587387, 0.03868933022022247, 0.03236717730760574, -0.0002531116479076445, 0.035874005407094955, 0.03588153421878815, 0.009800950065255165, -0.01672201417386532, -0.001258611911907792, 0.0389283187687397, -0.013560432940721512, -0.020210305228829384, -0.04249443858861923, -0.06331930309534073, 0.029504947364330292, -0.04018331691622734, -0.019003311172127724, 0.053252510726451874, -0.06014446169137955, -0.03881299868226051, -0.05435153841972351, 0.03915761411190033, -0.04544432461261749, 0.0261833555996418, 0.009384621866047382, -0.021928444504737854, -0.02900075539946556, 0.05182076618075371, -0.021616986021399498, 0.020184257999062538, 0.010682298801839352, 0.04606863483786583, 0.007256231736391783, 0.08676488697528839, 0.04322534799575806, 0.023609492927789688, 0.03326676785945892, 0.029143866151571274, -0.05881984531879425, -0.023569902405142784, -0.007605450227856636, -0.03366594761610031, -0.0325382836163044, -0.014449803158640862, -0.026783740147948265, -0.00020557981042657048, 0.04724393039941788, -0.01222341600805521, -0.03993118926882744, -0.00611125398427248, 0.020858850330114365, -0.02961873449385166, 0.022196603938937187, 0.024866903200745583, 0.03177548944950104, -0.026653191074728966, -0.01053731981664896, 0.009991558268666267, -0.037339676171541214, -0.02124708704650402, -0.011609659530222416, 0.05394434183835983, -0.021667320281267166, -0.017986321821808815, -0.03510291129350662, -0.048333168029785156, -0.03466390073299408, 0.020329754799604416, -0.038540344685316086, 0.009271993301808834, 0.008028189651668072, 0.02964724227786064, 0.015288019552826881, 0.013108786195516586, -0.03883713111281395, -0.0079850098118186, 0.08164525032043457, 0.06080462411046028, 0.0039389473386108875, 0.05497465282678604, 0.04700345918536186, 0.017833121120929718, -0.016736695542931557, 0.007646293379366398, 0.03820456936955452, 0.0005695102154277265, -0.00933877658098936, -0.01237832847982645, 0.016591813415288925, -0.017889942973852158, -0.07880766689777374, 0.03813369944691658, 0.014699835330247879, -0.03899891674518585, -0.023101845756173134, -0.04352087527513504, -0.0014232886023819447, -0.04017460718750954, 0.005701655987650156, -0.029111968353390694, 0.053021159023046494, 0.013028083369135857, 0.00037285839789547026, -0.005742092151194811, -0.06388184428215027, 0.22002090513706207, 0.06802790611982346, 0.022169271484017372, 0.004922907799482346, 0.03095059283077717, 0.04800080507993698, 0.03917081281542778, -0.005918733309954405, 0.008580286987125874, -0.013101807795464993, 0.005181333050131798, -0.026566781103610992, -0.0035779511090368032, 0.006511170882731676, -0.0056780362501740456, 0.03912600502371788, -0.04265167936682701, -0.006255756132304668, -0.013648387044668198, -0.04741335287690163, -0.053388386964797974, 0.005657412577420473, -0.007823214866220951, 0.02880016714334488, 0.007785101421177387, 0.015921056270599365, 0.029048345983028412, -0.03627530857920647, 0.0023481580428779125, -0.04757692664861679, -0.036318112164735794, -0.03787562623620033, 0.04204191640019417, 0.018803853541612625, -0.03530367463827133, 0.014530069194734097, -0.008922282606363297, -0.033756375312805176, 0.000273076439043507, 0.021260101348161697, -0.03450087085366249, -0.012752382084727287, 0.021309643983840942, -0.04497750476002693, -0.004128733649849892, 0.06019585207104683, -0.022268006578087807, -0.0063043078407645226, 0.014391002245247364, -0.04875412955880165, 0.05592074990272522, -0.022097891196608543, 0.008249516598880291, -0.04278360679745674, -0.029544666409492493, 0.007211938500404358, -0.011710729449987411, -0.011724359355866909, -0.01567789725959301, 0.004441488068550825, 0.022506043314933777, 0.019339468330144882, -0.011073513887822628, 0.03797299042344093, -0.026311775669455528, 0.022864937782287598, 0.008903948590159416, 0.0555671788752079, -0.007915008813142776, 0.02622915245592594, 0.002642968436703086, -0.002325837966054678, -0.03738316521048546, -0.014665970578789711, 0.036899253726005554, 0.015107250772416592, 0.00048812327440828085, 0.03601951524615288, 0.004889308009296656, -0.030572649091482162, -0.023970952257514, -0.023750511929392815, -0.0012810949701815844, -0.03369903564453125, 0.0333453044295311, 0.06163877993822098, -0.05316033214330673, -0.038786012679338455, -0.01613115333020687, 0.03691532835364342, 0.030926799401640892, 0.04811142757534981, 0.028462674468755722, -0.023056279867887497, -0.028681941330432892]}), _DocumentWithState(metadata={'page': 1, 'source': '/content/Transformer.pdf'}, page_content='In this work we propose the Transformer, a model architecture eschewing recurrence and instead\\nrelying entirely on an attention mechanism to draw global dependencies between input and output.\\nThe Transformer allows for significantly more parallelization and can reach a new state of the art in\\ntranslation quality after being trained for as little as twelve hours on eight P100 GPUs.\\n2 Background\\nThe goal of reducing sequential computation also forms the foundation of the Extended Neural GPU', state={'embedded_doc': [0.01074615865945816, 0.015922430902719498, -0.02499976195394993, -0.018391553312540054, 0.002820779802277684, -0.02459222450852394, 0.016047710552811623, -0.01063951663672924, -0.006969437003135681, 0.017840737476944923, 0.03416763246059418, -0.0003039962030015886, 0.0066934190690517426, -0.04861071705818176, -0.007030060514807701, 0.01266227476298809, -0.015247575007379055, -0.056207723915576935, -0.04077231511473656, 0.0037194339092820883, 0.0022038333117961884, -0.025205543264746666, -0.06697499006986618, -0.02539088763296604, -0.021457524970173836, 0.03087015450000763, 0.02690223418176174, -0.0025239763781428337, 0.08692269772291183, 0.05648581683635712, -0.029830869287252426, -0.02736176736652851, 0.036686934530735016, -0.032981570810079575, -0.019965121522545815, -0.029379667714238167, 0.02266712486743927, -0.03199749439954758, -0.025736339390277863, -0.04339992627501488, 0.030873039737343788, -0.028138404712080956, 0.027961140498518944, -0.03249077498912811, -0.07330546528100967, 0.0023482642136514187, 0.01951824501156807, -0.07086020708084106, -0.01327214390039444, -0.04459662735462189, -0.0056484295055270195, -0.0024247600231319666, 0.015388223342597485, 0.0230984166264534, 0.009026137180626392, 0.007560060825198889, 0.014586711302399635, 0.002635444048792124, -0.0414394810795784, 0.017086630687117577, 0.034795138984918594, 0.024032173678278923, 0.0006893057143315673, -0.08915863931179047, 0.0140009056776762, 0.022154953330755234, 0.001551121473312378, -0.014108055271208286, 0.0007046641549095511, -0.019350552931427956, -0.042592037469148636, -0.01661461591720581, -0.00733195198699832, -0.044517312198877335, -0.0003516727010719478, 0.0029600400011986494, 0.0017123427242040634, 0.0008390333969146013, -0.02741142362356186, -0.004325564019382, 0.030363598838448524, 0.04060278832912445, -0.03451826050877571, 0.01110831182450056, -0.04830707982182503, -0.04406648501753807, 0.024525390937924385, -0.01139045786112547, -0.01010456308722496, -0.023261643946170807, -0.03045015223324299, 0.023421650752425194, 0.0032062542159110308, 0.024976590648293495, 0.004254976287484169, 0.0418836735188961, -0.02922428771853447, 0.04174470901489258, 0.0008969255140982568, 0.0026801633648574352, 0.019121382385492325, 0.07986466586589813, -0.03693816065788269, 0.061066970229148865, -0.04276623949408531, -0.032660942524671555, 0.026757247745990753, -0.012370425276458263, -0.005984234157949686, -0.04144654795527458, 0.001255107345059514, -0.003506680717691779, 0.0046411012299358845, 0.0210014209151268, -0.0077049280516803265, 0.05002491548657417, -0.02852933295071125, 0.015254656784236431, -0.0444616936147213, -0.0050241644494235516, 0.00878176186233759, -0.008953340351581573, 0.02904365584254265, -0.009395802393555641, 0.018741507083177567, -0.05378588289022446, -0.013848291710019112, 0.0401938259601593, -0.026743531227111816, -0.003928941208869219, 0.029078904539346695, -0.013636971823871136, -0.011775578372180462, 0.04017200320959091, -0.018887152895331383, -0.0021172477863729, -0.017673378810286522, 0.04367954656481743, 0.025123335421085358, -0.03562694042921066, 0.022582411766052246, -0.01219941396266222, 0.01124738808721304, 0.09335070848464966, -0.0024561898317188025, 0.01450346689671278, 0.01947590708732605, -0.006806714925915003, -0.06744563579559326, 0.05014650523662567, -0.023166190832853317, 0.029958460479974747, -0.004604950547218323, 0.03400387242436409, -0.03388398513197899, -0.01748756319284439, -0.017105553299188614, 0.02137713134288788, 0.009521447122097015, 0.017811326310038567, -0.010350283235311508, 0.007159770932048559, -0.045237503945827484, 0.06906314194202423, -0.005569944623857737, 0.0707186609506607, -0.0277874693274498, -0.014615587890148163, -0.01009178813546896, -0.03365562483668327, 0.028341619297862053, 0.007898086681962013, -0.002593635581433773, 0.02255835011601448, 0.04525250941514969, 0.0423169769346714, 0.0387084074318409, -0.00305326865054667, 0.03479968383908272, 0.01682913862168789, -0.012447178363800049, -0.0066919103264808655, -0.001965337200090289, 0.03673969581723213, 0.0066086002625525, -0.006678029894828796, -0.0071432869881391525, -0.007181648630648851, -0.01819632761180401, -0.0024233930744230747, -0.029618261381983757, 0.06031976267695427, -0.03992636874318123, 0.02726350538432598, -0.007588651962578297, 0.015319937840104103, -0.03401428088545799, -0.019963538274168968, 0.02015608176589012, -0.041796792298555374, -0.018903011456131935, 0.06747114658355713, -0.006159341428428888, 0.038560543209314346, -0.05772581323981285, -0.003521350445225835, 0.003245255211368203, 0.06848590075969696, -0.02534887008368969, -0.006913845427334309, 0.019038639962673187, -0.0047740573063492775, -0.0224238783121109, -0.014863856136798859, 0.030195409432053566, -0.030705319717526436, -0.030854469165205956, 0.02537054941058159, 0.004430277738720179, 0.025245394557714462, 0.03111795336008072, 0.008252749219536781, 0.029673583805561066, -0.0011487600859254599, 0.003653760766610503, -0.011302906088531017, 0.022427953779697418, 0.0449092760682106, -0.0012492106761783361, 0.014545181766152382, 0.003772325348109007, 0.048667944967746735, 0.010283583775162697, 0.04794248193502426, 0.03906998783349991, 0.024408670142292976, 0.04620961844921112, 0.04603661969304085, -0.006709812209010124, 0.0018545942148193717, 0.007028746418654919, -0.003431118791922927, 0.04443482309579849, 0.03241449594497681, -0.005246003158390522, 0.032753463834524155, -0.004807270132005215, -0.004192756488919258, -0.036715250462293625, 0.020377440378069878, -0.012966667301952839, 0.043436989188194275, 0.014293316751718521, -0.010438530705869198, -0.051659345626831055, -0.02059098705649376, 0.005041126161813736, 0.04671899601817131, -0.017138993367552757, -0.04247155040502548, 0.003711440833285451, 0.011917021125555038, -0.0019621504470705986, -0.013237124308943748, 0.03581273928284645, 0.04784618690609932, -0.016755692660808563, 0.03718447685241699, -0.007753235753625631, -0.030155781656503677, -0.03222690150141716, -0.057849716395139694, -0.08319851756095886, -0.026014739647507668, -0.05303620919585228, -0.04221160337328911, 0.032717566937208176, -0.02265467308461666, 0.02490459941327572, 0.0023989854380488396, -0.025655750185251236, -0.010658249258995056, -0.0337124764919281, 0.05160524696111679, 0.03405950590968132, 0.026154961436986923, -0.04504067823290825, 0.04882105067372322, 0.011298118159174919, 0.05689925700426102, -0.014877138659358025, -0.03871133551001549, -0.0052897692658007145, -0.011187362484633923, 0.027471674606204033, -0.00749414274469018, -0.009974357672035694, -0.013794834725558758, -0.06758033484220505, -0.014873574487864971, 0.0020124814473092556, -0.016156023368239403, -0.01624797284603119, 0.029238184913992882, -0.03146663308143616, 0.04740634560585022, 0.028010698035359383, -0.03489018231630325, 0.05144181847572327, 0.03558403253555298, -0.04114232957363129, 0.040147215127944946, -0.00351823796518147, 0.04439155012369156, -0.043318964540958405, 0.07785280048847198, 0.04212342947721481, 0.004441807046532631, -0.015384567901492119, -0.004271737299859524, -0.030167140066623688, 0.013753572478890419, 0.0031539127230644226, -0.04911134019494057, -0.036658454686403275, 0.0523458793759346, 0.016339920461177826, -0.06865482777357101, 0.024087879806756973, -0.056276045739650726, -0.05088656768202782, -0.011167273856699467, -0.02915407158434391, 0.03571077063679695, 0.034948740154504776, 0.03178165853023529, -0.021243732422590256, 0.014759798534214497, -0.02305029146373272, 0.026790093630552292, 0.02769501507282257, -0.04647314175963402, 0.030567798763513565, 0.032284803688526154, -0.019921476021409035, 0.01581845059990883, 0.05069280043244362, -0.040859516710042953, 0.00938989594578743, 0.019520731642842293, 0.02422301471233368, 0.03277755528688431, 0.027303965762257576, 0.010080798529088497, 0.015341205522418022, 0.009706542827188969, -0.03992946818470955, -0.020975405350327492, -0.00679026311263442, 0.024270962923765182, 0.042246561497449875, 0.03003968670964241, 0.031275346875190735, -0.004121354781091213, -0.026761621236801147, -0.029401076957583427, 0.014596397988498211, 0.01974957250058651, 0.06131954863667488, -0.034615784883499146, 0.04170287027955055, -0.0021456116810441017, -0.04598101228475571, 0.025346610695123672, -0.04122162237763405, -0.04060325026512146, 0.05088818073272705, -0.013160484842956066, 0.020724281668663025, -0.038007739931344986, 0.009261746890842915, 0.006142628379166126, 0.01605055294930935, 0.02931121550500393, 0.021314069628715515, 0.04523709416389465, -0.014880185015499592, -0.003727103816345334, -0.019255641847848892, 0.012268739752471447, -0.013864793814718723, -0.009659744799137115, -0.030307652428746223, -0.007620567921549082, -0.055931996554136276, -0.03203222155570984, 0.02004379965364933, 0.020237572491168976, 0.011903434991836548, -0.023238567635416985, 0.05896754935383797, -0.0027742264792323112, 0.029809478670358658, 0.03585316613316536, 0.005126244388520718, -0.029445692896842957, -0.05825880914926529, 0.03330312669277191, 0.01701984740793705, -0.031161097809672356, -0.015285843051970005, -0.015802301466464996, -0.04150508716702461, 0.02388153225183487, 0.013464702293276787, -0.0037743025459349155, -0.016144895926117897, 0.010545413009822369, 0.032815903425216675, 0.02582637593150139, -0.02279791422188282, 0.002943882020190358, -0.038609109818935394, 0.04015292227268219, 0.03192998096346855, -0.035231128334999084, 0.002289572963491082, -0.04473148658871651, 0.011171311140060425, 0.049714963883161545, -0.004102714359760284, -0.06681567430496216, -0.005603461526334286, -0.013949647545814514, -0.06375415623188019, 0.04656575992703438, 0.03360789269208908, -0.012393315322697163, 0.011806199327111244, -0.055584169924259186, 0.0254508163779974, 0.021282775327563286, -0.018034275621175766, -0.01841791160404682, 0.016410062089562416, 0.01267355028539896, -0.0053804493509233, 0.024889355525374413, 0.007032601162791252, -0.016028286889195442, 0.03988158330321312, -0.060956865549087524, 0.05698837339878082, -0.004235711880028248, -0.015742886811494827, -0.00851276982575655, 0.0012682287488132715, 0.01169038750231266, 0.016873465850949287, 0.0012088255025446415, -0.002674183575436473, -0.019439170137047768, 0.030225617811083794, -0.034268300980329514, -0.06639409065246582, 0.023114187642931938, 0.012357866391539574, -0.02965577505528927, 0.03733323886990547, 0.009363638237118721, -0.03934304043650627, 0.019418658688664436, 0.028962431475520134, -0.027823038399219513, 0.029318122193217278, -0.020814793184399605, 0.01834503933787346, 0.0013809732627123594, -0.05804713815450668, 0.018937962129712105, -0.0187947079539299, 0.03360622748732567, 0.0038558596279472113, -0.014440237544476986, -0.013372574001550674, -0.05105811730027199, -0.018078424036502838, 0.011463615112006664, -0.04035169631242752, 0.009291649796068668, 0.0168998371809721, -0.009467720054090023, 0.005143807735294104, -0.0064436933025717735, 0.0010434588184580207, -0.014971739612519741, -0.03969765454530716, 0.022185854613780975, 0.032381314784288406, 0.0364009290933609, 0.04692646488547325, -0.019614335149526596, -0.013162406161427498, 0.007618252653628588, -0.03208911046385765, -0.01791517622768879, -0.03338334709405899, -0.01657092012465, -0.015487859956920147, -0.013403614051640034, -0.018905270844697952, -0.022972354665398598, -0.0005253475974313915, 0.013105228543281555, 0.027199849486351013, 0.0048063695430755615, 0.020405936986207962, -0.009907602332532406, -0.010496818460524082, 0.06647224724292755, -0.002964950865134597, -0.07575573772192001, -0.04190739244222641, 0.04154351353645325, 0.00028485740767791867, -0.002542717382311821, 0.008926162496209145, -0.026251334697008133, -0.04486820846796036, -0.053553469479084015, 0.0012099475134164095, -0.04482221603393555, 0.017501231282949448, -0.03977271914482117, -0.030185529962182045, -0.0007976216729730368, 0.01855563558638096, 0.02474450320005417, -0.02408129908144474, 0.008788215927779675, -0.03719194605946541, 0.007973723113536835, -0.04748954996466637, -0.016203416511416435, -0.04211242496967316, 0.007940799929201603, -0.010919296182692051, 0.05583319440484047, 0.005395396146923304, -0.013305137865245342, -0.007558176293969154, 0.027787186205387115, 0.03166963905096054, 0.023724444210529327, -0.04737357795238495, -0.044385261833667755, 0.0013208272866904736, -0.024092813953757286, 0.023982388898730278, 0.007217059377580881, -0.02960210293531418, 0.03620369732379913, -0.030037498101592064, -0.0011901551624760032, -0.032715462148189545, -0.013142417185008526, -0.0023738262243568897, -0.03889315947890282, 0.028017623350024223, -0.025481360033154488, 0.01357351429760456, -0.027278680354356766, 0.020689677447080612, 0.046927738934755325, -0.01564100943505764, -0.021615654230117798, -0.014860650524497032, -0.05781523138284683, -0.05351899936795235, 0.0316535048186779, -0.05215781554579735, -0.004469670820981264, -0.02349202334880829, -0.0026086638681590557, 0.0598653219640255, -0.008409817703068256, 0.049731507897377014, 0.06487291306257248, 0.0009342925040982664, -0.013211317360401154, -0.031801752746105194, 0.04686584696173668, 0.02480839192867279, -0.009972479194402695, -0.011112499050796032, -0.027689417824149132, -0.05096682533621788, 0.00462312949821353, -0.05442528799176216, -0.058809105306863785, -0.022251218557357788, -0.003741371678188443, 0.06565823405981064, -0.02212200127542019, 0.033028967678546906, -0.013873359188437462, -0.02758079208433628, -0.059882622212171555, 0.06945954263210297, -0.0028281628619879484, 0.0035624331794679165, 0.0646221786737442, 0.0036151243839412928, -0.0054907952435314655, 0.02703058160841465, 0.0003261144447606057, -0.027104422450065613, -0.03280181437730789, 0.08932453393936157, 0.0009266287670470774, -0.037006642669439316, 0.03231078013777733, 0.028290076181292534, -0.02684888429939747, -0.05524672940373421, -0.017360858619213104, 0.02774157002568245, -0.012919657863676548, -0.061574168503284454, 0.009013459086418152, -0.023128045722842216, -0.015064799226820469, 0.0073501113802194595, 0.04489777609705925, -0.008615043014287949, 0.013646918348968029, 0.060810163617134094, -0.003917571622878313, -0.0581216998398304, 0.024995554238557816, 0.026867423206567764, -0.005283386446535587, -0.020098982378840446, -0.021968776360154152, -0.007876713760197163, 0.008980629965662956, -0.026770582422614098, 0.03307969123125076, -0.02491813525557518, 0.007123956922441721, 0.030297933146357536, 0.011754477396607399, 0.057947587221860886, -0.02176760323345661, -0.019825847819447517, -0.005021882709115744, -0.014653592370450497, -0.04422217234969139, -0.017041020095348358, 0.04923655092716217, -0.000669659289997071, 0.03520561009645462, -0.02771833725273609, 0.0021729827858507633, 0.04359434172511101, 0.0206880085170269, -0.04295284301042557, -0.07225841283798218, -0.004760156851261854, -0.04819878935813904, -0.01845911331474781, -0.03315415233373642, -0.03971979767084122, -0.007071901578456163, 0.014941617846488953, -0.002555626444518566, -0.02045632153749466, 0.02824154682457447, 0.01463813241571188, -0.05058605223894119, 0.007954083383083344, -0.02359464019536972, 0.025341840460896492, -0.022145980969071388, -0.017194712534546852, -0.006350027862936258, -0.020343907177448273, -0.00257493881508708, 0.027221104130148888, 0.0030403784476220608, 0.04846014454960823, 0.01209666021168232, 0.026680557057261467, 0.008827843703329563, 0.01524235401302576, -0.023510869592428207, -0.0049564721994102, -0.043924376368522644, 0.031658947467803955, -0.01601221039891243, 0.03924770653247833, 0.038568057119846344, -0.018053321167826653, 0.03089083917438984, 0.006425149738788605, -0.0141295175999403, -0.031134063377976418, 0.020053837448358536, 0.02532709203660488, -0.022084122523665428, 0.0002178004215238616, -0.018347393721342087, 0.031169749796390533, -0.04791506007313728, 0.006903202272951603, 0.010989602655172348, -0.0021752496249973774, -0.0351598747074604, 0.0046266610734164715, 0.03266860544681549, 0.07787354290485382, 0.007533365860581398, 0.05029730498790741, 0.018791668117046356, 0.03811804577708244, 0.030660171061754227, -0.0041512963362038136, 0.016039036214351654, 0.0203764159232378, -0.004301796667277813, -0.061188966035842896, 0.0038936063647270203, 0.0490848682820797, -0.022572698071599007, 0.008583525195717812, -0.006823269184678793, -0.03799932450056076, -0.026977643370628357, 0.00161251041572541, 0.03276413306593895, 0.045345671474933624, 0.029401253908872604, -0.00847161840647459, 0.0006084101041778922, -0.02141093835234642, -0.05583151802420616, -0.01523111667484045, -0.05761725455522537, -0.03507310152053833, 0.00846603512763977, -0.040198251605033875, 0.0098646841943264, -0.006839563604444265, -0.02824622392654419, -0.0052275145426392555, 0.043859224766492844, 0.019088732078671455, -0.036042794585227966, 0.03164639696478844, 0.018837634474039078, 0.046620193868875504, -0.043647151440382004, -0.0035388090182095766, 0.01294848881661892, 0.03344384953379631, -0.06625524908304214, -0.031985316425561905, 0.004905251786112785, 0.046491991728544235, -0.013262777589261532, -0.02143940143287182, -0.04407678544521332, 0.018168268725275993, 0.010085654444992542, 0.024502862244844437, -0.021957693621516228, 0.02391601726412773, 0.0039632078260183334, 0.03422341123223305, -0.034645676612854004, -0.023153813555836678, -0.007186857983469963, 0.03964558243751526, 0.0221819207072258, -0.0069109234027564526, -0.02692224271595478, 0.04526590183377266, 0.04109780117869377, -0.027164144441485405, 0.05230715125799179, -0.0062316772527992725, 0.028686705976724625, -0.009722747839987278, 0.014950607903301716, -0.010254056192934513, 0.033518508076667786, 0.03780854120850563, 0.0331152118742466, -0.0049552577547729015, 0.06406551599502563, 0.0413011759519577, -0.015328901819884777, 0.006161372177302837, 0.031876932829618454, 0.025626864284276962, -0.02636704221367836, -0.011614427901804447, -0.02020169422030449, 0.00934676919132471, -0.02026098035275936, -0.006397320423275232, 0.00421561673283577, -0.04132230952382088, 0.002659099642187357, 0.001271993387490511, -0.03491451218724251, 0.038131389766931534, -0.0032767148222774267, -0.02542753331363201, -0.006816473789513111, 0.010335360653698444, 0.018108123913407326, 0.029797516763210297, 0.019770890474319458, 0.0046158903278410435, 0.037025727331638336, 0.04538896679878235, 0.030932597815990448, 0.020331157371401787, 0.0192871131002903, 0.010621218010783195, -0.03519144654273987, 0.015280935913324356, 0.04966851696372032, -0.023930637165904045, -0.025780418887734413, -0.0369301475584507, -0.07457239180803299, 0.05578915774822235, -0.03215988725423813, -0.033931657671928406, 0.012986719608306885, -0.03822118043899536, -0.031208699569106102, -0.051767632365226746, 0.028883667662739754, -0.03882286697626114, 0.025041911751031876, 0.02127932198345661, -0.008320161141455173, -0.03246409446001053, 0.033224232494831085, -0.03545963764190674, 0.02917921170592308, 0.02125599794089794, 0.04265110567212105, -0.021077511832118034, 0.08885888755321503, 0.042925819754600525, 0.011798150837421417, -0.002695322735235095, 0.032900214195251465, -0.023840008303523064, -0.02384394407272339, -0.004738171584904194, -0.039213474839925766, -0.02088139019906521, -0.020385151728987694, -0.03216861933469772, 0.015095710754394531, 0.028347810730338097, -0.01668769121170044, -0.044211938977241516, 0.012454611249268055, 0.019197620451450348, -0.034073300659656525, 0.01740478351712227, 0.04427941516041756, 0.030288120731711388, 0.006454877555370331, -0.004969751928001642, -0.03109934739768505, -0.05402807146310806, 0.0023693079128861427, -0.033410169184207916, 0.029306350275874138, -0.016937246546149254, -0.0438094399869442, -0.04383893683552742, -0.03976374492049217, -0.03798064589500427, -0.018433384597301483, -0.02972441166639328, -0.029774783179163933, 0.05114784836769104, 0.033753909170627594, 0.01848822832107544, 0.02994510345160961, -0.02276748977601528, -0.023836622014641762, 0.06630519032478333, 0.052355408668518066, -0.002371941925957799, 0.06885194033384323, 0.053975511342287064, 0.00459371879696846, -0.009514848701655865, -0.011106855235993862, 0.04421473294496536, -0.015250368043780327, -0.013196533545851707, -0.0029269729275256395, 0.0004907193942926824, -0.02565070427954197, -0.06059296056628227, 0.018762094900012016, 0.028431616723537445, -0.005047752521932125, -0.03281310200691223, -0.05378511920571327, -0.012523731216788292, -0.02746128849685192, -0.0009045050828717649, -0.04282161965966225, 0.047460827976465225, 0.022374752908945084, -0.014992428943514824, -0.02301783114671707, -0.03818543255329132, 0.1779651939868927, 0.06236712262034416, 0.036265935748815536, -0.022861480712890625, 0.032546695321798325, 0.062461819499731064, 0.021587803959846497, 0.000630867260042578, 0.014919262379407883, -0.017061952501535416, 0.0065700295381248, -0.007446669973433018, 0.002188296290114522, -0.0014581074938178062, -0.012777111493051052, 0.027952855452895164, -0.04036920517683029, 0.009612812660634518, -0.025902152061462402, -0.06345462054014206, -0.027363674715161324, 0.006379463244229555, 0.0031497145537286997, 0.003412101184949279, -0.0017413260648027062, 0.026998046785593033, 0.009202818386256695, -0.033630769699811935, -0.010898889973759651, -0.04149012640118599, 0.005102184135466814, -0.026705896481871605, 0.038264401257038116, 0.002607398433610797, -0.015390431508421898, 0.040087249130010605, 0.0029018919449299574, -0.05050675570964813, 0.001375355408526957, 0.029579564929008484, -0.016271255910396576, -0.013486460782587528, 0.027881035581231117, -0.03672051429748535, -0.0035693736281245947, 0.04179657623171806, -0.019924655556678772, 0.006773427594453096, 0.026132963597774506, -0.056984324008226395, 0.06825005263090134, -0.04560183733701706, 0.02055811882019043, -0.009218187071383, -0.03774688392877579, -0.01705705188214779, -0.030519843101501465, -0.03291291743516922, -0.012144898995757103, 0.016814135015010834, 0.016659948974847794, 0.021869927644729614, 0.007565527688711882, 0.02482905238866806, -0.00433396315202117, 0.04141005128622055, 0.002450843108817935, 0.011302376165986061, -0.0362153984606266, -0.010467571206390858, -0.01664428412914276, 0.007478188257664442, 0.0067695206962525845, -0.028417300432920456, 0.029109273105859756, 0.03826151415705681, -0.016184795647859573, 0.023206355050206184, 0.0018339924281463027, -0.027972696349024773, -0.027153372764587402, -0.02818712592124939, 0.010965659283101559, -0.026191454380750656, 0.029727105051279068, 0.03881194815039635, -0.03792836517095566, 0.0058246818371117115, -0.0265500470995903, 0.03719666227698326, 0.02072492241859436, 0.051441092044115067, 0.006492361426353455, -0.009212886914610863, -0.003186892718076706]}), _DocumentWithState(metadata={'page': 7, 'source': '/content/Transformer.pdf'}, page_content='Table 2: The Transformer achieves better BLEU scores than previous state-of-the-art models on the\\nEnglish-to-German and English-to-French newstest2014 tests at a fraction of the training cost.\\nModelBLEU Training Cost (FLOPs)\\nEN-DE EN-FR EN-DE EN-FR\\nByteNet [18] 23.75\\nDeep-Att + PosUnk [39] 39.2 1.0·1020\\nGNMT + RL [38] 24.6 39.92 2.3·10191.4·1020\\nConvS2S [9] 25.16 40.46 9.6·10181.5·1020\\nMoE [32] 26.03 40.56 2.0·10191.2·1020\\nDeep-Att + PosUnk Ensemble [39] 40.4 8.0·1020', state={'embedded_doc': [0.016547059640288353, 4.945602631778456e-05, -0.04236988723278046, 0.011927911080420017, -0.025799907743930817, -0.01016179658472538, 0.010076617822051048, 0.0003755012294277549, -0.006735831033438444, 0.019218429923057556, 0.027996763586997986, 0.005494754295796156, 0.024701764807105064, -0.05126935616135597, -0.027778321877121925, 0.02830706164240837, -0.017996735870838165, -0.04744056984782219, -0.03643706813454628, -0.017631493508815765, 0.002985615050420165, -0.012117690406739712, -0.08329888433218002, -0.0027231357526034117, -0.037024639546871185, 0.04962918162345886, 0.03530991077423096, 0.009658158756792545, 0.07611372321844101, 0.058300308883190155, -0.0025159099604934454, -0.040929410606622696, 0.02806219272315502, -0.034447383135557175, -0.005308893974870443, -0.023173194378614426, 0.013484518975019455, -0.015452797524631023, -0.02882779762148857, -0.04136725515127182, 0.019834907725453377, -0.01536318939179182, 0.032973598688840866, -0.033056363463401794, -0.06040135398507118, 0.001638895133510232, -0.009272227063775063, -0.0641966238617897, -0.00022712427016813308, -0.02073502726852894, -0.014057474210858345, -0.015186109580099583, 0.021019436419010162, -0.02658751979470253, 0.01805771142244339, 0.002721198368817568, -0.021117117255926132, -0.015270288102328777, -0.04607968032360077, 0.004558547865599394, 0.01964321732521057, 0.017110204324126244, -0.005569932516664267, -0.07026247680187225, 0.014620846137404442, 0.00845526996999979, -0.005001102574169636, 0.005369668360799551, -0.004410454537719488, -0.03865380585193634, -0.01879463531076908, 0.0013716453686356544, -0.014891156926751137, -0.0455009825527668, -0.024514194577932358, -0.01560656912624836, -0.0009343883721157908, 0.00406009703874588, -0.03789648413658142, -0.006328285671770573, 0.019614368677139282, 0.044265732169151306, -0.012841050513088703, -0.0008078491082414985, -0.048934195190668106, -0.04523633047938347, 0.0223662331700325, 0.017398489639163017, -0.014133302494883537, -0.002615055302157998, -0.015526967123150826, 0.03288475424051285, -0.02921188995242119, -0.006979913450777531, 0.01439652219414711, 0.020625127479434013, -0.013295185752213001, 0.030879279598593712, -0.0035007221158593893, -0.0046472917310893536, 0.034230053424835205, 0.05755649134516716, -0.016418971121311188, 0.05420154333114624, -0.024203430861234665, -0.020727187395095825, 0.020147498697042465, -0.020085250958800316, -0.00838463194668293, -0.05065470188856125, -0.034710343927145004, 0.006918867584317923, 0.010289115831255913, 0.014314822852611542, -0.015014797449111938, 0.03936563804745674, -0.019185630604624748, 0.017640776932239532, -0.039989810436964035, 0.013882399536669254, 0.01924256607890129, -0.013681665062904358, 0.013681677170097828, -0.031361162662506104, 0.03633175417780876, -0.026329612359404564, -0.020820271223783493, 0.0670841783285141, -0.027538858354091644, -0.018964266404509544, 0.04236065596342087, -0.009123340249061584, 0.00048105863970704377, 0.052833423018455505, -0.016380084678530693, 0.011689840815961361, -0.02801564335823059, 0.030516276136040688, 0.02924589440226555, -0.0380006842315197, 0.04475788027048111, 0.01732099987566471, 0.0005344763048924506, 0.08919457346200943, 0.02226131781935692, 0.018407832831144333, 0.006102659739553928, -0.05183666944503784, -0.024566341191530228, 0.027257680892944336, -0.034579794853925705, 0.027278834953904152, 0.022932453081011772, 0.029788557440042496, -0.013632234185934067, 0.0029699611477553844, -0.007966476492583752, 0.03129967302083969, 0.007399625610560179, 0.005212105810642242, -0.012267619371414185, 0.013548594899475574, -0.05990184471011162, 0.06409096717834473, -0.012849071994423866, 0.049486711621284485, -0.013588741421699524, 0.014922044239938259, 0.008885614573955536, -0.03995770588517189, 0.008351641707122326, 0.00422333087772131, -0.01114627905189991, 0.05401003360748291, 0.026598947122693062, 0.07688267529010773, 0.03751826286315918, 0.004703058861196041, 0.03289404883980751, 0.002521594986319542, -0.008966413326561451, 0.001789813512004912, -0.019403977319598198, 0.039824873208999634, 0.004058748483657837, -0.009421326220035553, 0.012602724134922028, -0.024285150691866875, -0.011912250891327858, -0.034146782010793686, -0.02275322750210762, 0.032074224203825, -0.04284277185797691, 0.04443095251917839, -0.014260301366448402, 0.01910034939646721, -0.021615108475089073, -0.010845541954040527, 0.02319706790149212, -0.05068580061197281, -0.026668669655919075, 0.06015140563249588, -0.004951824899762869, 0.031695783138275146, -0.02730451337993145, -0.04498352110385895, 0.008976886980235577, 0.03598109260201454, -0.02460549958050251, 0.03246883675456047, 0.03000091016292572, 0.02014239691197872, -0.01499316468834877, -0.018135929480195045, 0.017414342612028122, -0.011277485638856888, -0.011274800635874271, 0.018948720768094063, 0.008375606499612331, 0.01945210061967373, 0.028936518356204033, 0.029083652421832085, 0.031083660200238228, 0.015801558271050453, -0.009948944672942162, -0.0006448447820730507, 0.004470609128475189, 0.06393126398324966, -0.020464269444346428, -0.010029156692326069, 0.0010571605525910854, 0.0318220891058445, 0.014851990155875683, 0.05296676978468895, 0.050118621438741684, -0.0009747531148605049, 0.05127454549074173, 0.032094214111566544, 0.024974925443530083, 0.01578533835709095, 0.012485228478908539, 0.003963383845984936, 0.019914479926228523, 0.03802172839641571, 0.0003287981089670211, 0.01874326355755329, -0.013410336337983608, -0.0071070874109864235, -0.03380483016371727, 0.03391103073954582, -0.017313936725258827, 0.050836484879255295, 0.010724426247179508, 0.007931382395327091, -0.06025251746177673, -0.0195035208016634, 0.02403351478278637, 0.060440193861722946, -0.0172970499843359, -0.049377940595149994, 0.0025023785419762135, 0.017107980325818062, 0.008645881898701191, -0.023329032585024834, 0.03347722813487053, 0.03492433577775955, -0.025797612965106964, 0.06720393151044846, 0.0079282745718956, -0.045792244374752045, -0.0327078253030777, -0.05858815088868141, -0.08843547850847244, -0.021633420139551163, -0.03759980946779251, -0.025770869106054306, 0.013944484293460846, -0.04702701419591904, 0.022387029603123665, 0.005720862653106451, -0.02544187754392624, -0.015361275523900986, -0.040201928466558456, 0.056738656014204025, 0.016901008784770966, 0.0435919426381588, -0.030722346156835556, 0.042959727346897125, 0.0073564606718719006, 0.02793416567146778, 0.003971371799707413, -0.02807510644197464, -0.016090592369437218, -0.03538880869746208, 0.01916014775633812, 0.006303837057203054, 0.004799379501491785, 0.0009528358932584524, -0.042359378188848495, -0.02682812139391899, -0.011387128382921219, 0.00584642868489027, -0.007169768679887056, 0.027828427031636238, -0.05305781587958336, 0.05296966806054115, 0.013199402019381523, -0.026400435715913773, 0.04249240458011627, 0.0428198017179966, -0.04589013382792473, 0.021587032824754715, 0.042784322053194046, 0.04307873174548149, -0.04309400916099548, 0.06578850746154785, 0.028996767476201057, 0.0165452491492033, -0.07121624797582626, -0.01562880352139473, -0.03683711960911751, -0.0029672773089259863, 0.022208768874406815, -0.019954457879066467, -0.03404007852077484, 0.0397314690053463, 0.00814292673021555, -0.0665002167224884, 0.020377716049551964, -0.059817951172590256, -0.053095147013664246, -0.014245732687413692, -0.02522113174200058, 0.048519112169742584, 0.051293063908815384, 0.01471611950546503, -0.04600423946976662, -0.0017121604178100824, 0.005494559183716774, 0.029694102704524994, 0.022494466975331306, -0.0241190604865551, 0.0073152631521224976, 0.054727789014577866, -0.012326003983616829, 0.021105889230966568, 0.004520358983427286, -0.016978034749627113, 0.006400081794708967, -0.010576937347650528, 0.012273473665118217, 0.01801915653049946, 0.013321949169039726, 0.019447585567831993, 0.020918944850564003, 0.028589511290192604, -0.0179792121052742, -0.007275271229445934, -0.001246677478775382, 0.010652854107320309, 0.024070516228675842, 0.026010069996118546, 0.026775052770972252, 0.013192671351134777, -0.06076914444565773, -0.028978658840060234, 0.02292613312602043, 0.011883244849741459, 0.03872064873576164, -0.04417312517762184, 0.03570777177810669, 0.006283313501626253, -0.04209286719560623, 0.042229991406202316, -0.02910446748137474, -0.015069355256855488, 0.054861415177583694, -0.0034644543193280697, 0.011241795495152473, -0.04337507486343384, 0.011303598061203957, -0.012117003090679646, -0.007330439984798431, 0.03924765810370445, 0.011938304640352726, 0.015700722113251686, -0.03160849213600159, -0.025073427706956863, -0.016047686338424683, 0.002923939609900117, -0.018107101321220398, -0.013063608668744564, -0.003028042148798704, 0.00280824676156044, -0.012980698607861996, -0.050162751227617264, 0.0159440990537405, 0.035972960293293, 0.01927931234240532, 0.0002467068552505225, 0.07264162600040436, -0.0004486998950596899, 0.016345473006367683, 0.029616951942443848, -0.016227828338742256, -0.009410422295331955, -0.0391688235104084, 0.02188137359917164, 0.012181280180811882, -0.00433299969881773, -0.001032019965350628, -0.00859162025153637, -0.02454492822289467, -0.008458083495497704, -0.02210853435099125, -0.00679133040830493, -0.03014526143670082, 0.009358643554151058, 0.005529724061489105, 0.047298043966293335, 0.006324144080281258, -0.026104679331183434, -0.021223733201622963, 0.03460874781012535, 0.030500730499625206, -0.019891848787665367, -0.00464520463719964, -0.038927264511585236, 0.02754666842520237, 0.034323904663324356, -0.013989700935781002, -0.0342712476849556, -0.032170869410037994, -0.04395120590925217, -0.0475323460996151, 0.020366227254271507, 0.047897808253765106, 0.001921882969327271, 0.004264181479811668, -0.06850509345531464, 0.03152443841099739, 0.03246355056762695, -0.01069822907447815, 0.015475329011678696, 0.03463899716734886, 0.007426876109093428, -0.005284550134092569, 0.020532237365841866, -0.012088998220860958, -0.032032422721385956, 0.038850296288728714, -0.06952421367168427, 0.04131552204489708, -0.02235470339655876, -0.01615110971033573, -0.017599860206246376, -0.000580449472181499, 0.012260113842785358, 0.006953297648578882, 0.0033906595781445503, -0.004379296209663153, -0.0034738013055175543, 0.03601137548685074, -0.04063540697097778, -0.045811787247657776, 0.026878414675593376, 0.018959052860736847, 0.004998972173780203, 0.03600429370999336, 0.011541738174855709, -0.003831210546195507, 0.029791874811053276, 0.01048346422612667, -0.026995284482836723, 0.03530474752187729, -0.009048604406416416, 0.023519685491919518, 0.0029620565474033356, -0.035946186631917953, 0.003561459481716156, -0.026205306872725487, 0.04023580625653267, -0.005898395087569952, -0.020437195897102356, -0.04426822438836098, -0.05860782414674759, -0.006816938519477844, -0.008787964470684528, -0.029177645221352577, 0.0026196101680397987, 0.025976601988077164, 0.007093275431543589, 0.0214253980666399, -0.0022682850249111652, -0.04155336320400238, -0.016899460926651955, -0.025738777592778206, 0.015353779308497906, 0.02477545291185379, 0.016382968053221703, 0.03058716468513012, -0.02073819190263748, -0.01546331588178873, -0.0186324343085289, 0.005171800032258034, -0.02760123275220394, -0.03480728715658188, 0.00080397620331496, -0.022067664191126823, -0.010619905777275562, -0.00829373486340046, 0.008837631903588772, -0.031797830015420914, -0.0017789030680432916, 0.011459154076874256, -0.011157899163663387, 0.01240826677531004, -0.03439945727586746, -0.008704787120223045, 0.08657608926296234, -0.017037130892276764, -0.031197497621178627, -0.05787837132811546, 0.028719130903482437, 0.013639467768371105, 0.03587713837623596, 0.003465410554781556, -0.027283065021038055, -0.05428730323910713, -0.0656980350613594, 0.009242563508450985, -0.0360611230134964, -0.007604973390698433, -0.06266579031944275, -0.03041059523820877, -0.011702047660946846, 0.048219840973615646, 0.008918119594454765, -0.012600873596966267, 0.02314922958612442, -0.0486723929643631, 0.011751743033528328, -0.04860741272568703, -0.03736775368452072, -0.01608586125075817, -0.009257226251065731, -0.03593269735574722, 0.0376596674323082, 0.00661423010751605, 0.03236454725265503, -0.007426645141094923, -0.00975814089179039, 0.023540308699011803, 0.0018342541297897696, -0.03927513584494591, -0.04784281551837921, 0.02102876827120781, -0.009753720834851265, -0.009532935917377472, -0.022807829082012177, -0.04760563373565674, 0.05133223161101341, -0.0716332271695137, 0.015616497956216335, -0.022967442870140076, -0.012107830494642258, -0.004165681544691324, -0.02891414612531662, 0.044272881001234055, -0.034216415137052536, 0.019392700865864754, -0.031464833766222, 0.03547551855444908, 0.03442034870386124, -0.009497160091996193, -0.053333133459091187, -0.01812499761581421, -0.040062543004751205, -0.05380770564079285, 0.0457833930850029, -0.027000758796930313, 0.023854246363043785, -0.05394366383552551, -0.01347876526415348, 0.04411953315138817, -0.019134094938635826, 0.041318926960229874, 0.05037064850330353, -0.01059452723711729, -0.00046203541569411755, -0.04235534369945526, 0.027355795726180077, 0.027252504602074623, -0.023416494950652122, -0.030691908672451973, 0.014319834299385548, -0.020800458267331123, 0.030724825337529182, -0.04497416317462921, -0.05497705563902855, -0.033601414412260056, 0.020140383392572403, 0.03914355859160423, -0.01824786514043808, 0.03131105378270149, -0.002812274731695652, -0.04995031654834747, -0.04774564504623413, 0.05383686348795891, 0.011856217868626118, 0.021264487877488136, 0.05437855422496796, 0.02226920612156391, -0.03714057430624962, 0.04506839066743851, 0.007848241366446018, -0.01485682837665081, -0.04416181892156601, 0.06938305497169495, -0.011970112100243568, -0.051995571702718735, 0.03815365210175514, 0.04252079129219055, -0.03710424154996872, -0.05108224228024483, -0.02280912548303604, 0.019515113905072212, -0.0039961934089660645, -0.031071163713932037, 0.015422101132571697, 0.03139342740178108, -0.010148455388844013, 0.01350311003625393, 0.026463346555829048, -0.02498755231499672, 0.021629182621836662, 0.03695283457636833, 0.00644569331780076, -0.0522957369685173, -0.014482922852039337, 0.031208252534270287, -0.032292552292346954, -0.02085634507238865, -0.020940203219652176, -0.006673190742731094, -0.009244288317859173, -0.025092560797929764, 0.05198422819375992, -0.027510670945048332, 0.009935050271451473, 0.03349439054727554, -0.01970299892127514, 0.07071557641029358, -0.0005668221856467426, -0.03436547890305519, 0.004737873561680317, -0.025398029014468193, -0.05079856887459755, -0.024928933009505272, 0.007559789810329676, 0.007058213464915752, 0.0442252941429615, -0.0335487499833107, 0.02355046011507511, 0.03215350955724716, 0.0056967968121171, -0.019700976088643074, -0.053064875304698944, -0.017202863469719887, -0.023289518430829048, -0.025781219825148582, -0.024805499240756035, -0.02880292944610119, 0.015121574513614178, 0.05351311340928078, 0.010833115316927433, -0.04393858462572098, 0.011387198232114315, 0.03255050256848335, -0.014427750371396542, 0.026907114312052727, -0.026337841525673866, 0.014720069244503975, -0.008537462912499905, -0.025384580716490746, -0.001982006710022688, -0.0049684722907841206, -0.0034031178802251816, 0.007066356483846903, -0.017405059188604355, 0.015369020402431488, 0.02800489403307438, 0.03746374696493149, -0.008870204910635948, 0.020842961966991425, -0.012556218542158604, -0.024587413296103477, -0.027005663141608238, -0.008494646288454533, -0.010482615791261196, 0.03124893642961979, 0.033678166568279266, -0.013218856416642666, 0.018565723672509193, -0.027573177590966225, 0.000254925835179165, -0.023561738431453705, 0.01401666458696127, 0.027126526460051537, 0.009472326375544071, -0.026098081842064857, -0.03713173046708107, 0.011885934509336948, -0.03692841902375221, 0.019079428166151047, -0.026462502777576447, -0.006315343081951141, 0.01089534256607294, 0.008929886855185032, 0.02833382971584797, 0.056414756923913956, -0.011305063031613827, 0.057398829609155655, 0.030952826142311096, 0.029011862352490425, 0.010614822618663311, 0.006478141527622938, 0.02836812660098076, 0.004441061057150364, -0.001784637221135199, -0.042873892933130264, 0.00979419331997633, 0.04979076236486435, -0.006429240107536316, 0.04120999947190285, -0.005045718979090452, -0.04811261594295502, -0.03644265606999397, -0.03201153874397278, 0.005464131012558937, 0.005896688438951969, 0.04332270100712776, -0.006349889561533928, 0.003005426609888673, -0.013438768684864044, -0.05738569051027298, -0.0018119849264621735, -0.04296955093741417, -0.04074634984135628, 0.037499088793992996, -0.03184279426932335, 0.0005930211045779288, -0.006869771983474493, -0.021084748208522797, -0.005417801905423403, 0.03349202871322632, 0.013263987377285957, -0.037533026188611984, 0.03496498614549637, 0.004633631557226181, 0.02862335741519928, -0.010120057500898838, -0.02685404382646084, 0.0053499978967010975, 0.023578040301799774, -0.05037447065114975, -0.05617847293615341, 0.012127791531383991, 0.06192391365766525, 0.002847230527549982, -0.026358716189861298, -0.009612642228603363, -0.028429215773940086, 0.008155873976647854, 0.018410183489322662, -0.049350809305906296, 0.026475852355360985, -0.0017103393329307437, 0.031614791601896286, -0.04357768967747688, -0.006478381343185902, 0.008078770712018013, 0.016660816967487335, 0.02191687561571598, -0.031750477850437164, -0.027742544189095497, 0.03902588039636612, 0.0362221859395504, -0.025682425126433372, 0.02192988246679306, 0.025752315297722816, 0.023699026554822922, -0.00017481620307080448, 0.028602657839655876, -0.017726460471749306, 0.04294929280877113, 0.000526777352206409, 0.009988803416490555, -0.011982914060354233, 0.031486690044403076, 0.030544739216566086, -0.004586472176015377, -0.005216616205871105, 0.04155753180384636, 0.033965956419706345, -0.017184041440486908, -0.00844762846827507, -0.03528126701712608, 0.03546794503927231, -0.0006076070130802691, -0.001770215923897922, 0.0167353767901659, -0.005585260223597288, 0.007621041499078274, -0.010127565823495388, -0.035622309893369675, 0.0302699226886034, -0.03773052617907524, -0.03371472284197807, 0.019127696752548218, 0.012964299879968166, 0.012577148154377937, 0.036241814494132996, 0.04133152589201927, -0.02814663201570511, 0.025114499032497406, 0.02460430935025215, 0.011740912683308125, 0.027923787012696266, 0.01014363020658493, 0.0035754782147705555, -0.010731198824942112, 0.038168467581272125, 0.013009126298129559, -0.03510497137904167, -0.03850157558917999, -0.029967693611979485, -0.07586628943681717, 0.04700873792171478, -0.0036137544084340334, -0.040609415620565414, 0.021649647504091263, -0.03420072793960571, -0.011740208603441715, -0.05002817139029503, 0.04458005353808403, -0.04856377840042114, -0.0007309350185096264, 0.006529351696372032, -0.02318570576608181, -0.035452477633953094, 0.042194664478302, -0.020031709223985672, 0.0205440204590559, 0.022460635751485825, 0.06726857274770737, -0.016155030578374863, 0.08437386155128479, 0.026979779824614525, -0.010879903100430965, -0.0029142345301806927, 0.014063326641917229, -0.04162808507680893, -0.022569626569747925, -0.020426176488399506, -0.010569811798632145, -2.495355874998495e-05, -0.03711707890033722, -0.04253821820020676, -0.0015581862535327673, 0.03378063440322876, 0.017082778736948967, -0.03506726026535034, -0.0021199833136051893, 0.02995561622083187, -0.05310799181461334, 0.019910404458642006, 0.04844825342297554, 0.03637038171291351, -0.02098502218723297, -0.01990067958831787, -0.0238505732268095, -0.05000200495123863, -0.009594239294528961, -0.016545815393328667, 0.06262628734111786, -0.035094279795885086, -0.06266900151968002, -0.0408366434276104, -0.04339294880628586, -0.023642219603061676, 0.017035391181707382, -0.0310556311160326, -0.03957195207476616, 0.04554344713687897, 0.026526911184191704, 0.014499331824481487, 0.01692991703748703, -0.018029654398560524, -0.003993356134742498, 0.028800148516893387, 0.049804989248514175, -0.001443187822587788, 0.07056222856044769, 0.040758166462183, 0.00917260441929102, 0.002488496480509639, 0.0026718094013631344, 0.032152365893125534, -0.00255128787830472, -0.014513102360069752, -0.02322380803525448, 0.02014288306236267, -0.014704016968607903, -0.06620192527770996, 0.01906503550708294, 0.015220709145069122, 0.01697210595011711, -0.03868578001856804, -0.08155275136232376, -0.0029689341317862272, -0.048812009394168854, 0.0026804597582668066, -0.0010074015008285642, 0.05338229611515999, -0.003002334851771593, -0.016408171504735947, -0.0037512897979468107, -0.056925054639577866, 0.23061729967594147, 0.048488762229681015, 0.02612467110157013, 0.02070777304470539, 0.01778424344956875, 0.028151104226708412, 0.059787947684526443, -0.002385093132033944, 0.022037269547581673, -0.011366038583219051, 0.0075303553603589535, -0.0042260861955583096, 0.00766129931434989, 0.020359935238957405, -0.0007270220085047185, 0.041495949029922485, -0.018987620249390602, -0.014039137400686741, 0.01919391006231308, -0.06773653626441956, -0.038600239902734756, -0.008104260079562664, 0.0027561362367123365, 0.023248795419931412, 0.019057169556617737, 0.004165703430771828, 0.012803612276911736, -0.050897449254989624, 0.015001692809164524, -0.02738354541361332, -0.004357919562608004, -0.06372663378715515, 0.03766198083758354, 0.02118859440088272, -0.03907302767038345, 0.0471881739795208, 0.009376701898872852, -0.05799637734889984, -0.008375574834644794, 0.027954768389463425, -0.01620386727154255, -0.0037718135863542557, 0.05905437469482422, -0.050681717693805695, -0.004052641335874796, 0.04261183738708496, -0.035852838307619095, 0.020808668807148933, 0.014188824221491814, -0.04492718353867531, 0.06674154847860336, -0.026854153722524643, 0.049144964665174484, -0.023537151515483856, -0.04342752695083618, -0.01702994294464588, -0.03774290531873703, -0.0449683740735054, 0.01024953555315733, 0.04487482085824013, 0.023092586547136307, 0.020633334293961525, -0.00027614759164862335, 0.03488709405064583, -0.018901094794273376, 0.013515752740204334, -0.00395788112655282, 0.04147810861468315, -0.01771734096109867, 0.0006731045432388783, -0.003727744333446026, -0.00426817499101162, -0.014926194213330746, 0.0021653948351740837, 0.028965841978788376, 0.040512558072805405, -0.014125925488770008, 0.03186526894569397, -0.026285143569111824, -0.02622680552303791, -0.007583050988614559, -0.009832564741373062, 0.0037350496277213097, -0.026408003643155098, 0.057474035769701004, 0.046979665756225586, -0.05124722048640251, -0.02522423304617405, -0.029614059254527092, 0.06081981211900711, 0.02814050205051899, 0.02524036355316639, 0.021058179438114166, -0.012709964998066425, -0.00924063939601183]}), _DocumentWithState(metadata={'page': 9, 'source': '/content/Transformer.pdf'}, page_content='Transformer (4 layers) WSJ only, discriminative 91.3\\nZhu et al. (2013) [40] semi-supervised 91.3\\nHuang & Harper (2009) [14] semi-supervised 91.3\\nMcClosky et al. (2006) [26] semi-supervised 92.1\\nVinyals & Kaiser el al. (2014) [37] semi-supervised 92.1\\nTransformer (4 layers) semi-supervised 92.7\\nLuong et al. (2015) [23] multi-task 93.0\\nDyer et al. (2016) [8] generative 93.3\\nincreased the maximum output length to input length + 300. We used a beam size of 21andα= 0.3', state={'embedded_doc': [0.009100125171244144, -0.0036656162701547146, -0.021663019433617592, 0.00560230016708374, -0.00323426048271358, -0.0179637148976326, 0.009349867701530457, 0.004328452050685883, -0.002856930484995246, 0.006887245457619429, 0.04107856750488281, -0.015219013206660748, 0.018163589760661125, -0.04981013014912605, -0.02627488598227501, 0.022886645048856735, -0.01869923435151577, -0.011164805851876736, -0.032756876200437546, 0.0042025544680655, 0.018152568489313126, 0.015758316963911057, -0.05790308117866516, -0.013108008541166782, -0.04216962307691574, 0.035669028759002686, 0.03262333571910858, 0.018891792744398117, 0.08620010316371918, 0.03390071913599968, -0.04653920605778694, -0.04846781864762306, 0.03768174350261688, -0.041859522461891174, -0.04951982945203781, -0.0018253102898597717, 0.02056109346449375, -0.015547272749245167, -0.02128436230123043, -0.05580500513315201, 0.04040520638227463, -0.03223816677927971, 0.024860912933945656, -0.0487903393805027, -0.04769899696111679, -0.0025826480705291033, -0.010384999215602875, -0.07014373689889908, -0.012938669882714748, -0.03718871623277664, -0.012336228042840958, -0.004413013346493244, 0.023518579080700874, -0.009011020883917809, 0.0183639544993639, -0.03263146057724953, -0.004637536127120256, -0.0018237143522128463, -0.03845580667257309, 0.005563865415751934, 0.041886232793331146, 0.021287795156240463, -0.002969016321003437, -0.07262125611305237, 0.0027835119981318712, 0.023711802437901497, -0.010121655650436878, 0.005136994644999504, 0.019533220678567886, -0.01587776280939579, -0.04060424864292145, 0.002193235792219639, -0.02957981266081333, -0.029373876750469208, -0.016273679211735725, -0.01528310589492321, 0.03859047591686249, -0.000882353400811553, -0.01658014766871929, 0.010884392075240612, 0.015883242711424828, 0.025500301271677017, -0.0176455806940794, -0.013755986467003822, -0.028598032891750336, -0.016866201534867287, 0.005220021121203899, 0.0020306380465626717, -0.012996196746826172, 0.007781535852700472, -0.013669115491211414, 0.0511292964220047, -0.01864035800099373, -0.019146393984556198, 0.0219751987606287, 0.03262365981936455, -0.0157355647534132, 0.0367942750453949, 0.009572239592671394, -0.010854853317141533, 0.026336897164583206, 0.06354399770498276, -0.004151571542024612, 0.0615326426923275, -0.04494297504425049, -0.019326629117131233, 0.033361174166202545, -0.0036220853216946125, 0.010807240381836891, -0.024891447275877, 0.01172782201319933, 0.007193525321781635, -0.012220374308526516, 0.014854075387120247, -0.012800798751413822, 0.03453819453716278, 0.00326745817437768, 0.0270826555788517, -0.03996754065155983, 0.021337583661079407, -0.002526323776692152, 0.0018255714094266295, 0.009927683509886265, -0.008665990084409714, 0.01489343959838152, -0.053776998072862625, -0.029163168743252754, 0.022616777569055557, -0.026030857115983963, -0.013974038884043694, 0.020353730767965317, 0.005677142180502415, -0.02656487748026848, 0.039957981556653976, -0.017640559002757072, 0.020115097984671593, 0.0035645856987684965, 0.034935008734464645, 0.004931124858558178, -0.052806489169597626, 0.01929132640361786, 0.003091482212767005, -0.023543665185570717, 0.08626308292150497, -0.00375481229275465, 0.02579706534743309, 0.012130526825785637, -0.006224611774086952, -0.07150346785783768, 0.006731278263032436, -0.043476492166519165, 0.049519386142492294, 0.009999847039580345, 0.02014300785958767, -0.02537783980369568, 0.0036995348054915667, -0.037061452865600586, 0.0320463590323925, 0.010034718550741673, 0.001625147880986333, -0.0027411722112447023, 0.002374966163188219, -0.024834483861923218, 0.04903886094689369, -0.02278875559568405, 0.0586463138461113, -0.0168694369494915, -0.009203669615089893, -0.004160216543823481, -0.05071866884827614, 0.03033089078962803, -0.0042731501162052155, -0.00983972754329443, 0.0371331088244915, 0.04176095500588417, 0.04314884915947914, 0.051468946039676666, -0.00236558192409575, 0.02604025788605213, 0.019563820213079453, -0.010210140608251095, -0.0048814150504767895, 0.03446786850690842, 0.0572579987347126, 0.0015534202102571726, -0.003825671738013625, -0.011979905888438225, -0.01966121792793274, -0.02340679243206978, -0.03163430467247963, -0.018745753914117813, 0.061065878719091415, -0.03833560273051262, 0.0066534080542624, -0.0245575662702322, 0.020313607528805733, -0.037125296890735626, 0.002113889204338193, 0.009098963811993599, -0.04343828186392784, -0.009906507097184658, 0.06521940231323242, -0.019941421225667, 0.02683791145682335, -0.037502117455005646, -0.019315548241138458, 0.02347651682794094, 0.06863141804933548, -0.02146090753376484, 0.01936359517276287, 0.036922115832567215, 0.021571962162852287, -0.004781514406204224, -0.004610101692378521, 0.029106637462973595, -0.013028211891651154, -0.0139375701546669, 0.04676149785518646, 0.0013104401296004653, 0.018737219274044037, 0.008125792257487774, 0.03418373689055443, 0.03265957534313202, -0.00040264669223688543, -0.004235781263560057, -0.012417889200150967, 0.0018856448587030172, 0.06800946593284607, 0.0005679939640685916, 0.03034115955233574, 0.005617941729724407, 0.017319362610578537, 0.025072526186704636, 0.03481185436248779, 0.032680582255125046, -0.0040651909075677395, 0.051664479076862335, 0.027259180322289467, 0.014033009298145771, 0.0019054730655625463, 0.02716425061225891, 0.017926691100001335, 0.013772067613899708, 0.013469652272760868, 0.007332649547606707, 0.06420464813709259, -0.0303347148001194, -0.020007628947496414, -0.027282822877168655, 0.02694765292108059, -0.0007239050464704633, 0.0518261082470417, 0.021690119057893753, -0.0028453837148845196, -0.03559110686182976, -0.002542188623920083, -0.0031473664566874504, 0.04859163239598274, -0.0113905631005764, -0.04687150940299034, 0.011304885149002075, 0.017132505774497986, -0.0157527606934309, -0.018198063597083092, 0.043016985058784485, 0.03610475733876228, 0.009429533034563065, 0.034800078719854355, 0.006092475261539221, -0.04976101964712143, -0.05960192531347275, -0.046637605875730515, -0.08702293783426285, -0.036677997559309006, -0.04152241721749306, -0.023700950667262077, 0.010868844576179981, -0.02739524655044079, 0.013811436481773853, 0.01797163113951683, -0.02073002979159355, -0.013800177723169327, -0.016709739342331886, 0.015864156186580658, 0.014922834932804108, 0.0543794259428978, -0.031342729926109314, 0.03910036012530327, 0.0074929906986653805, 0.0457790344953537, -0.006572287995368242, -0.03559938445687294, -0.03189575672149658, -0.02374861016869545, 0.04293191060423851, -0.004314507357776165, 0.01695927418768406, -0.017017753794789314, -0.04426902160048485, -0.022049453109502792, 0.0033635518047958612, -0.023364108055830002, -0.030440721660852432, 0.023758260533213615, -0.04180567339062691, 0.06051141768693924, 0.011156478896737099, -0.018539398908615112, 0.03594650328159332, 0.03910648450255394, -0.029462529346346855, 0.039816826581954956, 0.03127492964267731, 0.020504573360085487, -0.03746771812438965, 0.051084328442811966, 0.024110859259963036, 0.016841193661093712, -0.017111727967858315, -0.023525185883045197, -0.027707334607839584, 0.01015930250287056, 0.038799531757831573, -0.02797049656510353, -0.04059648886322975, 0.026876868680119514, -0.005339465104043484, -0.05909664183855057, 0.02037670463323593, -0.0849221795797348, -0.0516136959195137, -0.016219493001699448, -0.034959014505147934, 0.045182351022958755, 0.024110853672027588, 0.0004542605602182448, -0.02858663536608219, -0.016093682497739792, 0.003245656844228506, 0.03239765763282776, 0.024213125929236412, -0.02689315937459469, 0.005976950749754906, 0.048382602632045746, -0.011796204373240471, 0.0037519584875553846, 0.026492465287446976, -0.02642776258289814, 0.015014486387372017, 0.031732868403196335, 0.026986099779605865, 0.03914925828576088, 0.01930464804172516, -0.017213968560099602, 0.011361169628798962, 0.027164746075868607, -0.03817061334848404, -0.019832182675600052, -0.031467318534851074, 0.02175476960837841, 0.035493239760398865, -0.00999439973384142, 0.0019426054786890745, 0.00875123031437397, -0.058511871844530106, -0.04731664061546326, 0.03200960159301758, 0.00567938107997179, 0.07340828329324722, -0.04046551510691643, 0.029026171192526817, 0.0007348890649154782, -0.04305058717727661, 0.02137625776231289, -0.018865926191210747, -0.019226891919970512, 0.05156378448009491, -0.005257805809378624, 0.04087067022919655, -0.04002588614821434, 0.000898369587957859, 0.027714166790246964, 0.01212184876203537, 0.014981245622038841, 0.0226230900734663, 0.041260138154029846, -0.01963832601904869, -0.035195764154195786, -0.006697536446154118, -0.007923105731606483, -0.008562167175114155, -0.02736971527338028, -0.01402763556689024, -0.014826945960521698, -0.018005680292844772, -0.02583613619208336, 0.009228304959833622, 0.053613025695085526, 0.026534056290984154, 0.013522698543965816, 0.048667535185813904, 0.028525538742542267, 0.023780060932040215, 0.030992649495601654, -0.04470059275627136, -0.006435122340917587, -0.042939044535160065, 0.03935820236802101, 0.005012690555304289, -0.01603306643664837, -0.0077256811782717705, -0.013344382867217064, 0.015225698240101337, 0.029483851045370102, -0.022558117285370827, -0.01666625589132309, -0.03928583487868309, 0.0046804058365523815, 0.018152812495827675, 0.04445265606045723, 0.0008808448910713196, -0.009047296829521656, -0.02833183854818344, 0.04894920811057091, 0.039826150983572006, -0.0399492010474205, 0.015210947021842003, -0.06932110339403152, 0.022777145728468895, 0.04190034046769142, -0.008624110370874405, -0.04231783375144005, -0.0050913142040371895, -0.05275721848011017, -0.043006494641304016, 0.015341400168836117, 0.03273481875658035, -0.009480305947363377, 0.007398591842502356, -0.04522693157196045, 0.02564479224383831, -0.006775564048439264, -0.026685424149036407, -0.012882157228887081, 0.023954525589942932, 0.027034584432840347, 0.004718515556305647, 0.030877798795700073, -0.014403443783521652, -0.02173548936843872, 0.05807506665587425, -0.031146466732025146, 0.04600077122449875, -0.012504714541137218, 0.0009349064202979207, -0.0029395376332104206, 0.005929885432124138, -0.004896050784736872, 0.030029335990548134, -0.0006700330413877964, -0.011627287603914738, -0.004077453166246414, 0.028714517131447792, -0.0493914857506752, -0.048823896795511246, 0.004635270219296217, 0.01066329050809145, -0.027939852327108383, 0.04400147497653961, 0.005142631009221077, 0.002263833535835147, 0.02416529506444931, 0.03803667053580284, -0.052600473165512085, 0.03173494711518288, -0.030679315328598022, 0.02592766284942627, -0.009459545835852623, -0.048477739095687866, 0.02485845610499382, -0.034501321613788605, 0.038517631590366364, -0.0054252492263913155, -0.04237249493598938, -0.0034455680288374424, -0.04022064805030823, -0.025437302887439728, -0.008516226895153522, -0.04199051856994629, 0.023719599470496178, 0.026180939748883247, -0.0005250748945400119, 0.008631576783955097, -0.004334691911935806, -0.02129148505628109, -0.001265779254026711, -0.04127573221921921, 0.002462983364239335, 0.027640199288725853, 0.009619507938623428, 0.04596491903066635, -0.011453311890363693, -0.020299002528190613, 0.0008233846165239811, -0.019507551565766335, -0.018249494954943657, -0.039754536002874374, -0.005682307295501232, -0.01373875793069601, 0.007843198254704475, 0.0045133791863918304, 0.012772941030561924, -0.025248732417821884, 0.011552909389138222, 0.013954655267298222, -0.02625795640051365, -0.002632414922118187, -0.014251351356506348, -0.023056961596012115, 0.0561743788421154, -0.007183725945651531, -0.050251029431819916, -0.04494897648692131, 0.042542073875665665, 0.02913588657975197, 0.011193373240530491, 0.014042559079825878, -0.0671621710062027, -0.0704062357544899, -0.02706882543861866, -0.008100341074168682, -0.04175703227519989, 0.0078853415325284, -0.034801993519067764, -0.00856110267341137, -0.010552629828453064, 0.04576101899147034, 0.019749272614717484, 0.007366282865405083, 0.011679654940962791, -0.06150979548692703, -0.001501537743024528, -0.04645681008696556, -0.01845845952630043, -0.02293182536959648, -0.018809428438544273, -0.007539622485637665, 0.030523762106895447, 0.02148520201444626, -0.011023652739822865, 0.0144362673163414, -0.013370327651500702, 0.024617131799459457, 0.024315597489476204, -0.03219645097851753, -0.05877168849110603, 0.0013424630742520094, -0.0012778515229001641, 0.011510415002703667, -0.034245528280735016, -0.05220383405685425, 0.05604067072272301, -0.05351042374968529, 0.03420571610331535, -0.022369584068655968, -0.022898469120264053, 0.02476114220917225, -0.008153843693435192, 0.057551220059394836, -0.011136701330542564, -0.004753091838210821, -0.021996621042490005, 0.006474759895354509, 0.025760000571608543, 0.007658500224351883, -0.035531703382730484, -0.024333976209163666, -0.037502720952034, -0.0686149001121521, 0.02463148906826973, -0.0360371433198452, -0.018200797960162163, -0.017670216038823128, -0.014141309075057507, 0.061033014208078384, -0.011412321589887142, 0.07171013951301575, 0.0569889098405838, -0.00019073519797530025, 0.0006152969435788691, -0.024637354537844658, 0.021386930719017982, 0.017240270972251892, -0.015454192645847797, -0.01271738763898611, -0.02227632701396942, -0.014566575177013874, -0.014869220554828644, -0.0638091191649437, -0.05311606079339981, -0.02978644147515297, -0.015432598069310188, 0.04983282834291458, -0.025508692488074303, 0.05562126263976097, -0.005582479760050774, -0.05546225234866142, -0.0435798205435276, 0.04008420556783676, -0.00157274364028126, 0.01816624216735363, 0.04114938899874687, -0.0019095399184152484, -0.03088599443435669, 0.04147454351186752, -0.0018663541413843632, -0.036079369485378265, -0.030945001170039177, 0.07476150989532471, -0.016713550314307213, -0.041496191173791885, 0.03132154047489166, 0.05317037180066109, -0.05607820302248001, -0.053814589977264404, 0.014935421757400036, 0.00852684024721384, 0.0030332545284181833, -0.03434528782963753, -0.007004442624747753, 0.006687229964882135, -0.007176572922617197, 0.016041193157434464, 0.034649595618247986, 0.015384833328425884, 0.013482901267707348, 0.03282546252012253, -0.0032669201027601957, -0.03684701398015022, 0.029259925708174706, 0.046579211950302124, -0.01364873256534338, -0.03285793215036392, -0.005455694627016783, 0.0020121941342949867, -0.02150597982108593, -0.01747070625424385, 0.047749437391757965, -0.03227711096405983, 0.0015608397079631686, 0.029385579749941826, -0.007772900629788637, 0.06428340822458267, -0.046124417334795, -0.01557658240199089, 0.017564184963703156, 0.015874184668064117, -0.06642860919237137, -0.0073121958412230015, 0.055376216769218445, 0.02727147750556469, 0.046107545495033264, -0.0374121367931366, -0.014776007272303104, 0.0385819636285305, -0.006015409249812365, -0.007447108626365662, -0.06604386121034622, -0.014790810644626617, -0.05575096979737282, -0.00733455503359437, -0.036528293043375015, -0.018754858523607254, 0.010978029109537601, 0.02904558926820755, 0.018454832956194878, -0.014854277484118938, 0.0387578085064888, 0.028491739183664322, -0.03499985113739967, 0.05261607840657234, -0.03112885355949402, 0.029686570167541504, -0.02734796702861786, -0.009394627064466476, -0.019457917660474777, -0.004745087120682001, -0.01081214752048254, -0.007717734668403864, -0.008676303550601006, 0.018124591559171677, 0.04504803940653801, -0.008718516677618027, 0.010135472752153873, 0.041177015751600266, -0.01870877481997013, -0.01654941216111183, -0.031231356784701347, 0.001958494307473302, -0.032054949551820755, 0.016380704939365387, 0.026588832959532738, 0.0057981740683317184, -0.00416405638679862, 0.000710621359758079, 0.01063796877861023, -0.02388801984488964, 0.019268646836280823, 0.023318488150835037, -0.021704532206058502, -0.03874202445149422, -0.015923678874969482, 0.01299628708511591, -0.06271923333406448, 0.01796228066086769, -0.00216885469853878, -0.0070798820815980434, 0.0010954657336696982, -0.012706992216408253, 0.018250642344355583, 0.06733039766550064, 0.0027284540701657534, 0.03332652524113655, -0.0007949470891617239, 0.034658726304769516, 0.01411723718047142, 0.00878104753792286, 0.021060947328805923, 0.014500901103019714, 0.03578957915306091, -0.038231074810028076, 0.002238401211798191, 0.06698956340551376, -0.034568533301353455, 0.013173445127904415, 0.006224025506526232, -0.04418838024139404, 0.0003048442886210978, 0.0045288982801139355, 0.01788988895714283, 0.049275193363428116, 0.01937313750386238, 0.00034198639332316816, -0.006755179259926081, -0.017327580600976944, -0.05291559547185898, 0.02662453055381775, -0.06410948932170868, -0.06149902939796448, 0.03063444420695305, -0.004554567858576775, -0.007831229828298092, 0.010217985138297081, -0.014935445971786976, -0.020508093759417534, 0.027621932327747345, 0.026119012385606766, -0.0010965726105496287, 0.011833216063678265, -0.014411339536309242, 0.0468880832195282, -0.04575524479150772, -0.0013458362082019448, 0.011667790822684765, 0.044278375804424286, -0.07135075330734253, -0.05435805022716522, 0.013100787997245789, 0.06300073117017746, -0.0115310437977314, -0.0024566093925386667, -0.018671806901693344, 0.017482183873653412, 0.0030987390782684088, 0.02221183478832245, -0.046817388385534286, 0.014315119944512844, -0.009540221653878689, 0.03512188047170639, -0.03286805748939514, -0.02213965356349945, 0.013727347366511822, 0.014546490274369717, -0.020076684653759003, -0.02070235088467598, -0.031130675226449966, 0.026783660054206848, 0.03471409156918526, -0.011696365661919117, 0.02035791054368019, 0.02206258289515972, 0.0305960513651371, 0.0011616963893175125, -0.0016537888441234827, -0.0053366138599812984, 0.03751986473798752, 0.03333771601319313, 0.03261149674654007, -0.0037430375814437866, 0.03488666191697121, 0.0640166699886322, 0.004255575593560934, 0.02271529659628868, 0.04462512955069542, 0.007786442991346121, -0.02337924763560295, -0.003003869205713272, -0.01061298418790102, 0.022965116426348686, 0.010495195165276527, -0.008131118491292, 0.003332703374326229, -0.015862712636590004, 0.0043924483470618725, 0.005008509382605553, -0.012601755559444427, 0.05091404542326927, -0.039749473333358765, -0.03822188079357147, -0.015415433794260025, -0.008355160243809223, 0.020281599834561348, 0.03636921942234039, 0.023322710767388344, -0.018127115443348885, 0.04095544293522835, 0.017214717343449593, 0.04094649478793144, 0.023914840072393417, 0.0181533582508564, -0.015583226457238197, -0.02971339412033558, 0.008791372179985046, 0.045433409512043, -0.013130065985023975, -0.04785820469260216, -0.03659394755959511, -0.051374468952417374, 0.03591390326619148, -0.023442108184099197, -0.03010997176170349, 0.02881818637251854, -0.06474702060222626, -0.021258020773530006, -0.02790931984782219, 0.03312322124838829, -0.035847485065460205, -0.003099262248724699, 0.022906837984919548, -0.031825028359889984, -0.029850810766220093, 0.037659451365470886, -0.03361503779888153, 0.019006667658686638, 0.024653946980834007, 0.06344449520111084, -0.007964719086885452, 0.0959143117070198, 0.03885679692029953, -0.015408003702759743, 0.017639249563217163, 0.04197976365685463, -0.061613745987415314, -0.018922079354524612, -0.029969478026032448, 0.0007929952116683125, -0.03541230037808418, -0.03374721482396126, -0.018483774736523628, 0.010548926889896393, 0.01815967634320259, 0.0025983320083469152, -0.019837355241179466, 0.009865228086709976, 0.0054429457522928715, -0.05214812979102135, -0.0036869726609438658, 0.0394008494913578, 0.005445052869617939, -0.009149227291345596, 0.015449345111846924, -0.014394198544323444, -0.041381556540727615, -0.009508149698376656, -0.01587712951004505, 0.06436873972415924, 0.007544125430285931, -0.03847312927246094, -0.028745513409376144, -0.06495152413845062, -0.022505585104227066, 0.01322155725210905, -0.029650945216417313, -0.03228873386979103, 0.02537991665303707, 0.01910652033984661, 0.005329830572009087, 0.025049595162272453, -0.03645920008420944, -0.03157031536102295, 0.06854679435491562, 0.04071981459856033, 0.006663414649665356, 0.047787364572286606, 0.04458978399634361, 0.026324154809117317, 0.0002019969397224486, -0.004026256036013365, 0.029651770368218422, -0.03924402594566345, -0.02328655682504177, -0.02720428630709648, 0.02962196059525013, -0.006854180712252855, -0.05355405807495117, 0.008683999069035053, 0.02005041018128395, -0.007948477752506733, -0.03705628588795662, -0.07082898169755936, -0.018855085596442223, -0.04971661418676376, 0.024433111771941185, -0.0106830894947052, 0.05086878314614296, 0.0046338364481925964, -0.010556014254689217, 0.0017812829464673996, -0.06481397151947021, 0.21255144476890564, 0.05008490011096001, 0.04331206530332565, -0.012881048955023289, 0.012231937609612942, 0.04656798765063286, 0.043123602867126465, -0.02999735064804554, -0.019870389252901077, -0.004233310930430889, -0.016789594665169716, -0.026569431647658348, 0.003332693362608552, 0.01790218986570835, -0.0019917041063308716, 0.038284577429294586, -0.04340716823935509, -0.029795316979289055, -0.00901917926967144, -0.069666787981987, -0.05694854259490967, 0.02136886864900589, 0.010841370560228825, 0.03663075715303421, -0.005592048168182373, 0.04114416241645813, 0.0025672914925962687, -0.03583606705069542, -0.010201651602983475, -0.01438236702233553, -0.015935631468892097, -0.05256214365363121, 0.04639817774295807, -0.006562398746609688, -0.017933567985892296, 0.028623143211007118, -0.013507724739611149, -0.04809042438864708, -0.042800530791282654, -0.003698078915476799, -0.018608028069138527, 0.007819237187504768, 0.014482960104942322, -0.047946322709321976, -0.01302904263138771, 0.024365948513150215, -0.020550891757011414, -0.007452943362295628, 0.04095961153507233, -0.08611291646957397, 0.06537648290395737, -0.038549285382032394, 0.02719695493578911, -0.017565907910466194, -0.036898527294397354, -0.016208169981837273, -0.0330284982919693, -0.006116155534982681, -0.0076459129340946674, -0.004011812619864941, 0.03545419126749039, 0.0061296275816857815, 0.005881846882402897, 0.06675252318382263, -0.028904099017381668, 0.03629273921251297, 0.012812012806534767, 0.013190103694796562, 0.023414913564920425, -0.00439213402569294, 0.01936267875134945, 0.006887585390359163, 0.0019236949738115072, -0.013172448612749577, 0.02198479138314724, 0.03869401291012764, -0.010239513590931892, 0.033920276910066605, 0.01593189500272274, -0.016979847103357315, -0.021019835025072098, -0.014509069733321667, 0.0018144354689866304, -0.0371406152844429, 0.013408449478447437, 0.048233333975076675, -0.060922909528017044, -0.020548773929476738, -0.02152750827372074, 0.028317969292402267, 0.012906772084534168, 0.037416838109493256, 0.010359566658735275, -0.03953052684664726, 0.005823012441396713]}), _DocumentWithState(metadata={'page': 5, 'source': '/content/Transformer.pdf'}, page_content='dependencies is a key challenge in many sequence transduction tasks. One key factor affecting the\\nability to learn such dependencies is the length of the paths forward and backward signals have to\\ntraverse in the network. The shorter these paths between any combination of positions in the input\\nand output sequences, the easier it is to learn long-range dependencies [ 12]. Hence we also compare\\nthe maximum path length between any two input and output positions in networks composed of the', state={'embedded_doc': [0.0051582204177975655, 0.01403731107711792, 0.003473540535196662, 0.028257759287953377, -0.020864112302660942, -0.00994414184242487, -0.019141260534524918, -0.00679593114182353, -0.010159093886613846, 0.06096283718943596, 0.02974766679108143, -0.00039370969170704484, -0.001182312611490488, -0.05504218116402626, -0.011424800381064415, 0.030009230598807335, -0.008711226284503937, -0.037316545844078064, -0.03225548192858696, -0.011587304063141346, 0.01649663597345352, -0.0001969828299479559, -0.06198994070291519, -0.013069606386125088, -0.01667056977748871, 0.04287674278020859, 0.042873505502939224, 0.00851008016616106, 0.07227694243192673, 0.051767878234386444, -0.009365319274365902, -0.04719982668757439, 0.030103448778390884, -0.053214624524116516, -0.027432970702648163, -0.027480991557240486, 0.022957095876336098, -0.005751118529587984, -0.009586239233613014, -0.052549876272678375, 0.04453025013208389, -0.013952041044831276, 0.03366617485880852, -0.04738333448767662, -0.05412611737847328, 0.008693167939782143, -0.009597296826541424, -0.05917781591415405, -0.016645507887005806, -0.03139951825141907, -0.024530619382858276, 0.012881510891020298, 0.032403118908405304, 0.02065984345972538, 0.008004818111658096, 0.01189214363694191, 0.02000603824853897, -0.01198062114417553, -0.033193036913871765, 0.03909507766366005, 0.005230000242590904, -0.0012045536423102021, -0.009916837327182293, -0.07813408225774765, 0.01746050827205181, 0.037966206669807434, -0.0022276435047388077, -0.019157132133841515, 0.0007088080747053027, -0.0451660118997097, -0.027171144261956215, -0.029074937105178833, -0.0152732003480196, -0.032366588711738586, 0.025243490934371948, 0.03364434465765953, 0.004172877408564091, -0.020380260422825813, -0.035054195672273636, 0.028874125331640244, 0.006632229313254356, 0.03955075144767761, -0.01325417309999466, -0.007576957810670137, -0.048337191343307495, -0.019796302542090416, -0.011763611808419228, 0.024956554174423218, 0.0014672733377665281, -0.0022200988605618477, -0.0022419090382754803, 0.0458032451570034, -0.0011261488543823361, -0.0023206654004752636, 0.01524097379297018, 0.05356092378497124, -0.02818387560546398, 0.05178362503647804, 0.00807984359562397, -0.011978664435446262, 0.0125424237921834, 0.05934004858136177, -0.007249488495290279, 0.07423970848321915, -0.02752274088561535, -0.00965102668851614, 0.03491039574146271, 0.00010057877079816535, -0.016459954902529716, -0.0522286593914032, -0.02882959507405758, -0.02747638151049614, 0.004478772636502981, 0.015735555440187454, -0.012797421775758266, 0.03304959461092949, 0.005861656740307808, 0.007115577347576618, -0.062354546040296555, 0.025115571916103363, 0.02618136629462242, -0.01165077742189169, 0.06546199321746826, -0.010457096621394157, 0.023819899186491966, -0.03151319921016693, -0.04288021847605705, 0.023137954995036125, -0.026878362521529198, -0.0036812422331422567, -0.004528268240392208, -0.03792416304349899, -0.02043129689991474, 0.0539705753326416, -0.0009241373627446592, 0.013058677315711975, -0.0354749821126461, 0.030413668602705002, 0.01690305955708027, -0.04137149080634117, 0.022496161982417107, -0.012294274754822254, -0.014395679347217083, 0.08413901180028915, 0.011185229755938053, 0.03078364208340645, 0.009409225545823574, -0.01860431581735611, -0.03321082144975662, 0.01883474364876747, -0.04002220183610916, 0.02826313115656376, -0.015447748824954033, -0.01690729521214962, -0.009046382270753384, 0.007174029480665922, -0.021964039653539658, 0.031447671353816986, 0.020309077575802803, 0.01602132059633732, -0.00279845017939806, 0.014765311032533646, -0.03446207568049431, 0.0558856762945652, -0.024436060339212418, 0.036632005125284195, -0.03860027715563774, -0.0023655430413782597, -0.008969996124505997, -0.02977873384952545, 0.03824535757303238, -0.005390095058828592, -0.013987593352794647, 0.03889301046729088, 0.036408040672540665, 0.05023698881268501, 0.04449981451034546, -0.0033637788146734238, 0.029690628871321678, -0.0006580066401511431, -0.012990779243409634, -0.005866183899343014, 0.016107482835650444, 0.0407317653298378, 0.02228696085512638, -0.014946303330361843, 0.0014044421259313822, 0.015403373166918755, -0.03626779839396477, -0.03198717534542084, -0.02761007472872734, 0.05007234960794449, -0.034719135612249374, 0.019075030460953712, -0.0018027068581432104, 0.02603445015847683, -0.02322171814739704, 0.00328571954742074, 0.020625708624720573, -0.035544995218515396, -0.02965412475168705, 0.046841856092214584, -0.015859991312026978, 0.02768295258283615, -0.03269005939364433, 0.0027097060810774565, 0.01016396377235651, 0.07551805675029755, -0.04824170842766762, -0.0013313230592757463, 0.012808844447135925, 0.003043516306206584, -0.0031908717937767506, 0.001003551878966391, -0.009845299646258354, -0.03409156948328018, -0.0371113047003746, 0.036602526903152466, 0.01149612944573164, -0.004334737546741962, 0.03607938066124916, 0.011450083926320076, 0.04819479212164879, 0.006356451194733381, 0.009555608034133911, -0.014788296073675156, 0.017601747065782547, 0.05502215027809143, -0.002383191604167223, 0.03709690272808075, -0.008267618715763092, 0.045853063464164734, 0.012862957082688808, 0.045479074120521545, 0.023325186222791672, 0.015549663454294205, 0.0439722053706646, 0.04807363077998161, 0.007816794328391552, 0.018481716513633728, 0.03882569074630737, 0.02312282659113407, 0.014945323579013348, 0.037022531032562256, 0.0010237275855615735, 0.0358770526945591, -0.02300899475812912, 0.011810333468019962, -0.039021994918584824, 0.02842763252556324, -0.035059086978435516, 0.06975303590297699, 0.013051695190370083, 0.020607678219676018, -0.04604865238070488, 0.0008396232151426375, 0.013152089901268482, 0.046635352075099945, -0.02240225300192833, -0.047150809317827225, 0.00975373201072216, 0.012090490199625492, -0.01475750096142292, -0.010700404644012451, 0.040903933346271515, 0.05454375594854355, 0.00200955499894917, 0.055267591029405594, -0.004762421362102032, -0.028086941689252853, -0.03947572782635689, -0.03879943862557411, -0.06923960149288177, -0.04643820971250534, -0.04145335778594017, -0.03752695396542549, 0.03323938325047493, -0.026393383741378784, 0.021262791007757187, 0.012411574833095074, -0.026166602969169617, -0.03482144698500633, -0.023132601752877235, 0.034903235733509064, 0.023024732246994972, 0.03540278226137161, -0.04758036881685257, 0.06831900775432587, 0.0003765735018532723, 0.04370028153061867, 0.011661611497402191, -0.028139276430010796, -0.025384696200489998, -0.031378891319036484, 0.05052700266242027, 0.003698712447658181, 0.00022999171051196754, 0.0013986150734126568, -0.049902189522981644, -0.01826370321214199, -0.026634659618139267, -0.005898251198232174, -0.0138601278886199, 0.0320858471095562, -0.05495169386267662, 0.05369468033313751, 0.03363378718495369, -0.03539925068616867, 0.05839373543858528, 0.04877185821533203, -0.04569391533732414, 0.050586409866809845, 0.01130471657961607, 0.0020186766050755978, -0.03320647031068802, 0.08964404463768005, 0.05231606960296631, 0.0019944277592003345, 0.0002970733039546758, -0.012869510799646378, -0.03271711990237236, 0.026004262268543243, 0.03131921589374542, -0.03099329024553299, -0.02655073255300522, 0.08001167327165604, 0.00461780559271574, -0.05235360935330391, 0.01624154858291149, -0.04341437667608261, -0.060356345027685165, 0.006968387868255377, -0.014238499104976654, 0.0363181047141552, 0.05162712559103966, 0.021265225484967232, -0.03844062611460686, -0.01176411285996437, -0.010537135414779186, 0.03997962549328804, 0.03545493260025978, -0.040147650986909866, 0.022011958062648773, 0.03653746470808983, 0.018884656950831413, -0.0029551670886576176, 0.049133263528347015, -0.03107408620417118, 0.008316842839121819, 0.01777426153421402, 0.02217872068285942, 0.044963713735342026, 0.024092571809887886, 0.02593975141644478, -0.0015782649861648679, 0.033244166523218155, -0.03993868827819824, -0.020428482443094254, -0.01688099466264248, 0.027284638956189156, 0.020409807562828064, -0.0008346553076989949, 0.012104342691600323, -0.008517957292497158, -0.033138420432806015, -0.05098336562514305, 0.04373743757605553, -0.018041886389255524, 0.06299995630979538, -0.04156925156712532, 0.05287894234061241, 0.013509852811694145, -0.04335179552435875, 0.019873976707458496, -0.030604856088757515, -0.011614479124546051, 0.0424545593559742, -0.012745445594191551, 0.04474712908267975, -0.06694064289331436, -0.00875172484666109, 0.018979975953698158, 0.011453012935817242, 0.04542461782693863, 0.012413952499628067, 0.03055652044713497, -0.027996163815259933, -0.014293118380010128, -0.04587465524673462, 0.014719602651894093, 0.001065584016032517, -0.02965226210653782, -0.011247911490499973, -0.028045572340488434, -0.030489366501569748, -0.03760967403650284, 0.026948347687721252, 0.04029232636094093, -0.0028580904472619295, 0.004108605906367302, 0.026784710586071014, 0.0010088970884680748, 0.03142712265253067, 0.024619461968541145, -0.004692400805652142, -0.007145374082028866, -0.05601198226213455, 0.02919604443013668, 0.013903610408306122, -0.009300031699240208, -0.02225295826792717, -0.02868501842021942, -0.012999008409678936, 0.013211129233241081, -0.021740619093179703, -0.013907655142247677, -0.034405745565891266, 0.013569438830018044, 0.009992656297981739, 0.020670637488365173, 0.0010277284309267998, 0.00025305579765699804, -0.04566977918148041, 0.04706987738609314, 0.03192535787820816, -0.06078633666038513, -0.0038478828500956297, -0.055207349359989166, 0.014572101645171642, 0.02964874729514122, -0.01783609390258789, -0.04064174368977547, -0.004629072267562151, -0.04238131642341614, -0.052493561059236526, 0.020813539624214172, 0.06510564684867859, -0.0413631945848465, 0.014052091166377068, -0.03627583011984825, 0.006585142575204372, -0.018826724961400032, -0.012820394709706306, -0.015973279252648354, -0.004843320231884718, 0.047872144728899, 0.0005038987146690488, 0.03503028303384781, -0.021966420114040375, -0.011851071380078793, 0.02597353421151638, -0.06599148362874985, 0.031275324523448944, -0.019049445167183876, 0.015437348745763302, 0.021230056881904602, -0.0207162294536829, -0.015510228462517262, 0.017114881426095963, -0.013534783385694027, 0.008150188252329826, -0.00832108873873949, 0.03666737675666809, -0.032046400010585785, -0.053050410002470016, 0.022086793556809425, 0.0003584858786780387, -0.039235394448041916, 0.04331843554973602, 0.021111179143190384, -0.02121446467936039, 0.006464094389230013, 0.033808376640081406, -0.048616718500852585, 0.02086004987359047, -0.02576080709695816, 0.012802931480109692, -0.024949656799435616, -0.05181027203798294, 0.002967161126434803, -0.026974806562066078, 0.03262529894709587, -0.01203853078186512, -0.04202451556921005, -0.026970919221639633, -0.04569531977176666, -0.02823299914598465, -0.00509414030238986, -0.04809136688709259, -0.006806050892919302, 0.021242160350084305, -0.02092152088880539, -2.300893720530439e-05, -0.014007879421114922, -0.010725786909461021, -0.01886541210114956, -0.033804431557655334, 0.005280182231217623, 0.027853919193148613, 0.032664697617292404, 0.05007832497358322, -0.013064132072031498, -0.012516804039478302, 0.01049939077347517, -0.025563841685652733, -0.009762504138052464, -0.03265473619103432, 0.01178489625453949, -0.006194293964654207, -0.029827367514371872, -0.015433588065207005, -0.02144700102508068, 0.003645750693976879, 0.0013117010239511728, 0.02842365950345993, 0.010950436815619469, 0.004473221022635698, 0.009200505912303925, -0.017660891637206078, 0.03926156833767891, 0.0007481945212930441, -0.06286127120256424, -0.021779149770736694, 0.0512920618057251, -0.03492475301027298, 0.029857974499464035, 0.012514871545135975, -0.05452831834554672, -0.03761809319257736, -0.05564047768712044, 0.008295631036162376, -0.04705995321273804, 0.01606825925409794, -0.05734343081712723, -0.027623005211353302, 0.0033604875206947327, 0.038280703127384186, 0.047692425549030304, -0.012156437151134014, -0.011601668782532215, -0.051628440618515015, 0.012644411996006966, -0.04361290857195854, -0.02567603811621666, -0.03524661436676979, -0.0075306277722120285, 0.0017783496296033263, 0.05896306782960892, 0.007139374502003193, -0.025862980633974075, 0.004906992893666029, 0.016913216561079025, 0.05229552462697029, 0.010996032506227493, -0.03906058892607689, -0.028299923986196518, -0.0007849800167605281, 0.009670397266745567, 0.005596930626779795, 0.0003990897093899548, -0.02971246838569641, 0.016639553010463715, -0.037806931883096695, 0.011735130101442337, -0.025319160893559456, -0.014401262626051903, -0.0028153422754257917, -0.00804273970425129, 0.06664308160543442, -0.02177916280925274, 0.006647499743849039, -0.0185856856405735, 0.02207961492240429, 0.017200807109475136, -0.017458610236644745, -0.0287364199757576, -0.00940827839076519, -0.056590624153614044, -0.06470302492380142, 0.015355110168457031, -0.027715202420949936, -0.012421938590705395, -0.004025889094918966, 0.004998421762138605, 0.05377746745944023, -0.026296842843294144, 0.06948956102132797, 0.05668440833687782, -0.01698412373661995, 0.002835797378793359, -0.007108574267476797, 0.03428618237376213, 0.023147620260715485, -0.029591457918286324, 0.0004004185611847788, -0.0008923292625695467, -0.023006660863757133, 0.010314937680959702, -0.03380895033478737, -0.04549480602145195, -0.036895718425512314, -0.010651964694261551, 0.06657620519399643, -0.015597631223499775, 0.03708373382687569, -0.008105512708425522, -0.03583358973264694, -0.04395591840147972, 0.06892358511686325, -0.012406537309288979, 0.01867593079805374, 0.0437253937125206, 0.017729705199599266, -0.0032067063730210066, -0.009361602365970612, -0.01742318458855152, -0.03532971069216728, -0.022321391850709915, 0.08245502412319183, -0.023159941658377647, -0.02372949756681919, 0.021732503548264503, 0.043012458831071854, -0.049890223890542984, -0.05386186018586159, -0.006542798597365618, 0.016459455713629723, -0.0010658300016075373, -0.04646800085902214, 0.003280806588009, 0.005159290973097086, 0.004378227517008781, -0.011237737722694874, 0.023418286815285683, -0.020784003660082817, 0.03378043323755264, 0.014786794781684875, -0.007133398205041885, -0.05025706812739372, 0.03810766711831093, 0.049939267337322235, -0.014130832627415657, -0.033334385603666306, -0.028943339362740517, 0.010107207112014294, -0.006832384504377842, -0.012235983274877071, 0.05509287118911743, -0.033381521701812744, 0.011477358639240265, 0.02280135452747345, 0.02582608535885811, 0.01636621728539467, 0.0015465039759874344, -0.0010565165430307388, 0.05530214309692383, -0.02196270227432251, -0.0503661073744297, 0.004421703051775694, 0.047152966260910034, 0.020640904083848, 0.04855894297361374, -0.041465360671281815, 0.0006810121703892946, 0.0404042974114418, 0.008297647349536419, -0.04105719178915024, -0.07318500429391861, -0.01685250923037529, -0.06859786063432693, -0.028804713860154152, -0.04046449065208435, -0.03666625916957855, 0.02172408439218998, 0.026708023622632027, 0.006228236015886068, -0.04447156935930252, 0.012383495457470417, 0.015400314703583717, -0.028805546462535858, 0.027479881420731544, -0.04705597460269928, 0.02665654569864273, -0.041905477643013, -0.03542711213231087, -0.018135035410523415, -0.012300718575716019, -0.036517124623060226, -0.004758125636726618, -0.024990106001496315, 0.036356911063194275, 0.009395815432071686, 0.020636316388845444, 0.009358237497508526, 0.020649297162890434, -0.023198919370770454, -0.009083772078156471, -0.03356916084885597, 0.03439688682556152, -0.0008830557344481349, 0.062216486781835556, 0.01555605698376894, -0.007155790459364653, 0.03926309570670128, 0.024200377985835075, -0.003017715411260724, -0.04838738590478897, 0.0036868376191705465, 0.01304028369486332, -0.016348881646990776, -0.01063250657171011, 0.009915031492710114, 0.025708919391036034, -0.06580768525600433, 0.008788702078163624, -0.013497080653905869, -0.015852520242333412, 0.013620361685752869, -0.010407417081296444, 0.03557921200990677, 0.0707257017493248, -0.011073948815464973, 0.019374199211597443, -0.013152279891073704, 0.03638594597578049, 0.02923482470214367, -0.009303489699959755, 0.010675611905753613, 0.026814907789230347, -0.00619127182289958, -0.06362086534500122, 0.01087806187570095, 0.024244748055934906, -0.03953811526298523, 0.010297462344169617, 0.003877149196341634, -0.01810603030025959, -0.026360901072621346, 0.012557930313050747, 0.008606967516243458, 0.027977026998996735, 0.0073703983798623085, -0.018843255937099457, -0.011097497306764126, -0.024800434708595276, -0.03738507628440857, 0.006682490464299917, -0.08544919639825821, -0.03148896247148514, 0.025951137766242027, -0.011165350675582886, -0.04488346353173256, -0.029953397810459137, -0.03857690468430519, 0.005590516142547131, 0.025574151426553726, 0.01501755602657795, -0.02633979730308056, 0.023649128153920174, -0.018377816304564476, 0.04754558578133583, -0.017115281894803047, -0.008272595703601837, 0.020077770575881004, 0.039022140204906464, -0.0642155259847641, -0.030878685414791107, -0.01299761887639761, 0.04154953733086586, -0.015193218365311623, -0.00029898391221649945, -0.026668529957532883, 0.004259911831468344, 0.012237840332090855, 0.004089938011020422, -0.02668154239654541, 0.01647128537297249, -0.0014665165217593312, 0.011554666794836521, -0.030100569128990173, -0.014378981664776802, -0.01899315044283867, 0.048002224415540695, -2.4687444238224998e-05, -0.004493274725973606, -0.03057749941945076, 0.030965808779001236, 0.02930195815861225, -0.010126867331564426, 0.03672940284013748, -0.01488757785409689, 0.05344387888908386, 0.013608265668153763, 0.02668391540646553, 0.017847616225481033, 0.025561822578310966, 0.02464698813855648, 0.03557007014751434, -0.0029309154488146305, 0.04386662691831589, 0.03440900146961212, 0.0010454406728968024, -0.03909557685256004, 0.03817987069487572, 0.029292689636349678, -0.028698468580842018, 0.0010686763562262058, -0.026682723313570023, 0.04222998023033142, 0.0019663707353174686, -0.01323177944868803, 0.003964596427977085, -0.027250582352280617, -0.018642060458660126, -0.003866713959723711, -0.019952252507209778, 0.04765667766332626, -0.015493803657591343, -0.013965773396193981, 0.009240156039595604, -0.02444380521774292, 0.03304377198219299, 0.03645886108279228, 0.013067004270851612, 0.011374274268746376, 0.0578886978328228, 0.04261918365955353, 0.018869346007704735, 0.040044572204351425, 0.012502338737249374, -0.004004231654107571, -0.04113074019551277, 0.0161723829805851, 0.029095280915498734, 0.0003877266135532409, -0.036684878170490265, -0.04684905707836151, -0.06742706894874573, 0.03211737796664238, -0.03922087326645851, -0.0404159352183342, 0.01948603056371212, -0.021154329180717468, -0.003146408824250102, -0.029060689732432365, 0.0552220419049263, -0.061328426003456116, 0.0005397599306888878, 0.02402648515999317, -0.012464010156691074, -0.04563011974096298, 0.029732784256339073, -0.021505465731024742, 0.030254002660512924, 0.020671924576163292, 0.052582837641239166, -0.01082882285118103, 0.09423507750034332, 0.04176453873515129, 0.02218264527618885, 0.002556768711656332, 0.03520895168185234, -0.029728345572948456, -0.034102246165275574, -0.01397127378731966, -0.03591560572385788, 0.00358562427572906, -0.03865600749850273, -0.03680277243256569, -0.014475750736892223, 0.018976030871272087, -0.04163820669054985, -0.018723608925938606, -0.012905846349895, 0.03181722015142441, -0.035219956189394, 0.018012715503573418, 0.02019740268588066, 0.02588518150150776, -0.004618984647095203, 0.004061980172991753, -0.03340275585651398, -0.04244258999824524, 0.023250078782439232, -0.025326400995254517, 0.027488181367516518, -0.016933074221014977, -0.010803203098475933, -0.028031764551997185, -0.03485335037112236, -0.019856076687574387, -0.011711019091308117, -0.04820231720805168, -0.03307247534394264, 0.03602689877152443, 0.011507928371429443, 0.019550492987036705, 0.0006240487564355135, -0.041172679513692856, -0.006124388892203569, 0.04195756837725639, 0.04417222738265991, -0.005810549017041922, 0.05760025233030319, 0.0222819484770298, -0.007829359732568264, -0.01201592292636633, -0.0002979337878059596, 0.019700661301612854, -0.023050621151924133, -0.013811929151415825, -0.016140108928084373, 0.020519016310572624, -0.038474250584840775, -0.05952681973576546, 0.038075413554906845, 0.015706846490502357, 0.008862217888236046, -0.04788424074649811, -0.06586198508739471, -0.014197437092661858, -0.04324942082166672, -0.0010546015109866858, -0.031936392188072205, 0.03761835768818855, 0.006073948927223682, -0.029411818832159042, -0.021716240793466568, -0.046432603150606155, 0.1888706386089325, 0.06034495681524277, 0.03930157423019409, -0.013663609512150288, 0.03157830983400345, 0.06268566846847534, 0.00743638863787055, -0.0020144761074334383, -0.022847317159175873, -0.003239294048398733, 0.0169844850897789, -0.0022231549955904484, -0.013033059425652027, 0.020243875682353973, 0.027310943230986595, 0.03707997500896454, -0.039234235882759094, -0.0024887248873710632, -0.014573469758033752, -0.07247819006443024, -0.04094371944665909, 0.005812346935272217, -0.009409735910594463, -0.027733061462640762, 0.005239384714514017, 0.03657789155840874, 0.01941252499818802, -0.0392947718501091, -0.003027302911505103, -0.019668331369757652, 0.0027819350361824036, -0.03078845888376236, 0.051957372575998306, -0.005918321665376425, -0.01454797014594078, 0.024017667397856712, 0.020778777077794075, -0.021758586168289185, 0.012749874033033848, 0.023713914677500725, 0.010313184931874275, 0.017340028658509254, 0.02631516009569168, -0.026871373876929283, -0.020527897402644157, 0.02552795596420765, -0.03665823116898537, 0.007659968454390764, 0.022832203656435013, -0.043216124176979065, 0.06648598611354828, -0.030651390552520752, 0.03601245954632759, -0.021752243861556053, -0.03957102820277214, -0.0019520092755556107, -0.004618334583938122, -0.02485361136496067, -0.009756169281899929, 0.009819768369197845, 0.035282548516988754, 0.02793692797422409, 0.002758040791377425, 0.027217233553528786, -0.005731926765292883, 0.03028489463031292, 0.010514982976019382, 0.012146621942520142, -0.0012499113800004125, 0.013209846802055836, -0.005284041166305542, -0.01835264265537262, -0.022989140823483467, -0.03440292552113533, 0.03170088306069374, 0.016919827088713646, -0.02584589272737503, 0.023220382630825043, 0.0368858203291893, -0.026325765997171402, -0.019844019785523415, -0.027422741055488586, 0.0104178162291646, -0.03666719049215317, 0.03279156610369682, 0.04332607984542847, -0.02385958470404148, -0.006396531593054533, -0.0352468378841877, 0.028705524280667305, 0.030618930235505104, 0.03931600600481033, 0.0028529276605695486, -0.018832415342330933, -0.014363203197717667]}), _DocumentWithState(metadata={'page': 9, 'source': '/content/Retrieval-Augmented-Generation-for-NLP.pdf'}, page_content='content [ 54]. Advanced language models may also lead to the automation of various jobs in the\\ncoming decades [ 16]. In order to mitigate these risks, AI systems could be employed to ﬁght against\\nmisleading content and automated spam/phishing.\\nAcknowledgments\\nThe authors would like to thank the reviewers for their thoughtful and constructive feedback on this\\npaper, as well as HuggingFace for their help in open-sourcing code to run RAG models. The authors', state={'embedded_doc': [0.010008202865719795, 0.011104099452495575, -0.00637641130015254, 0.013537748716771603, -0.008963219821453094, -0.01122843474149704, -7.962565723573789e-05, -0.008525531738996506, 0.0012909003999084234, 0.025794807821512222, 0.0229053795337677, -0.01772540621459484, -0.006099486257880926, -0.034362826496362686, -0.03289123624563217, 0.00949626974761486, -0.02450620010495186, -0.033340878784656525, -0.0154015077278018, -0.002230888931080699, 0.028811853379011154, 0.0023209769278764725, -0.07296855002641678, -0.023645615205168724, -0.044010259211063385, 0.04141314700245857, 0.05741847679018974, -0.005613272078335285, 0.07439916580915451, 0.07045755535364151, -0.021690046414732933, 0.0021630763076245785, 0.04683540388941765, -0.04621410369873047, -0.02592286467552185, -0.035259395837783813, 0.024194518104195595, -0.046106405556201935, -0.04625637084245682, -0.05088575556874275, 0.011828675866127014, -0.016657445579767227, 0.04222976043820381, -0.0462728887796402, -0.06026744842529297, 0.014792661182582378, -0.01956556737422943, -0.031763505190610886, -0.01153838261961937, -0.04220055043697357, 0.008354938589036465, 0.01131358090788126, 0.027337245643138885, 0.00039502422441728413, 0.010583236813545227, -0.012299027293920517, -0.014387736096978188, -0.00988959800451994, -0.03218763694167137, -0.0013359679142013192, 0.026964154094457626, 0.004941558465361595, -0.020123060792684555, -0.0736473947763443, 0.013928690925240517, 0.012310528196394444, 0.0020802372600883245, -0.0077875033020973206, -0.011276056058704853, -0.02054135873913765, -0.013620048761367798, 0.004929675254970789, -0.039404354989528656, -0.03859822079539299, -0.019439557567238808, -0.013396763242781162, 0.004751048982143402, 0.0048286947421729565, -0.030525416135787964, 0.022492380812764168, 0.01231096126139164, 0.04486159607768059, 0.031204989179968834, 0.02074800617992878, -0.028080519288778305, -0.02142302133142948, 0.04463692381978035, 0.01486261934041977, 0.003927010577172041, -0.008979090489447117, -0.013238416984677315, 0.024724680930376053, -0.005273573566228151, 0.006505142897367477, 0.00884121935814619, 0.034247398376464844, -0.01363202091306448, 0.06012376397848129, 0.0037852635141462088, 0.000410356093198061, 0.026588039472699165, 0.04262382164597511, -0.017041511833667755, 0.06346875429153442, -0.04614773392677307, -0.002569480100646615, 0.038994621485471725, -0.023104717954993248, -0.010105619207024574, -0.03556186333298683, -0.018819395452737808, -0.01530897431075573, -0.0022582628298550844, -0.013114796951413155, -0.013246140442788601, 0.03258278965950012, -0.002320921514183283, 0.015243057161569595, -0.019871048629283905, 0.027576137334108353, -0.01419197116047144, -0.019255125895142555, 0.030180787667632103, -0.015415431931614876, 0.009965058416128159, -0.01114534679800272, 0.0024729124270379543, 0.06957738101482391, -0.0563993863761425, 0.009734632447361946, 0.00881305243819952, -0.014220758341252804, -0.020573899149894714, 0.03701856732368469, 0.005193051882088184, 0.007538045756518841, 0.026118023321032524, 0.04054728150367737, 0.036922719329595566, -0.04317774996161461, 0.016515323892235756, 0.0068810139782726765, -0.0014866902492940426, 0.07999644428491592, -0.010638318955898285, 0.014499074779450893, 0.028816740959882736, -0.015586321242153645, -0.044815290719270706, 0.038866687566041946, -0.03336519002914429, 0.029557490721344948, 0.009778186678886414, 0.027156110852956772, -0.022149192169308662, -0.002273511840030551, -0.0015369354514405131, 0.007185249589383602, 0.023439805954694748, 0.008441591635346413, -0.02081093192100525, 0.03007105551660061, -0.04237644001841545, 0.06887852400541306, -0.02999088354408741, 0.03892331197857857, -0.014848224818706512, -0.017417829483747482, -0.0027035705279558897, -0.06107528507709503, 0.012910068966448307, -0.008479586802423, -0.02944543957710266, 0.056878071278333664, 0.022672252729535103, 0.05558731034398079, 0.04990585520863533, -0.007816711440682411, 0.04308675602078438, 0.027987264096736908, -0.02020087093114853, -0.008922210894525051, 0.00685560517013073, 0.07152184098958969, 0.0055330838076770306, -0.004330962896347046, 0.023333920165896416, -0.016768306493759155, -0.010481266304850578, -0.009378346614539623, 0.004517191555351019, 0.02788987196981907, -0.023232340812683105, 0.02263079769909382, 0.020860768854618073, 0.002788582816720009, -0.03472818434238434, -0.0017689965898171067, 0.02946055866777897, -0.05889154598116875, -0.015019122511148453, 0.058639831840991974, -0.013612838461995125, 0.04188999906182289, -0.03915265202522278, -0.0007586564752273262, -0.004157659597694874, 0.05076337605714798, -0.055892352014780045, 0.02472512610256672, 0.023178711533546448, 0.016211863607168198, -0.019988009706139565, -0.029795516282320023, 0.02938047982752323, -0.013198993168771267, -0.05037255212664604, 0.02351052686572075, -0.016686556860804558, 0.0031058629974722862, -0.010135642252862453, 0.020420311018824577, 0.006101284641772509, 0.02868605963885784, 3.856960029224865e-05, 0.0035887437406927347, -0.005392157938331366, 0.036460597068071365, -0.009819568134844303, -0.012431991286575794, 0.018200283870100975, 0.037463001906871796, 0.004207951482385397, 0.057029109448194504, 0.03781020641326904, 0.000749549304600805, 0.06581445038318634, 0.045810747891664505, -0.007798655889928341, 0.015415702946484089, 0.015168866142630577, 0.019626224413514137, 0.04066735506057739, 0.039876390248537064, -0.004956619814038277, 0.01525783073157072, -0.007116234395653009, -0.00826884713023901, 0.000309513823594898, 0.023636581376194954, -0.035746607929468155, 0.036897946149110794, 0.03275243565440178, 0.04708270728588104, -0.04731783643364906, -0.012109415605664253, 0.02567112073302269, 0.052806951105594635, -0.034239575266838074, -0.04541845992207527, -0.02124154008924961, 0.003974873572587967, 0.011204465292394161, -0.0019295167876407504, 0.03368780016899109, 0.016491688787937164, -0.0024189737159758806, 0.0399242639541626, -0.054802969098091125, -0.042876746505498886, -0.03952177241444588, -0.049591150134801865, -0.08610386401414871, -0.00981001928448677, -0.030873330309987068, -0.005699575878679752, -0.005815449636429548, -0.06510461866855621, 0.014857764355838299, -0.030734503641724586, -0.008314872160553932, 0.016564659774303436, -0.03928637132048607, 0.028033189475536346, 0.015859970822930336, 0.04139667749404907, -0.03540686145424843, 0.041533030569553375, -0.008829452097415924, 0.029744800180196762, -0.004691242706030607, -0.008139305748045444, -0.027592090889811516, -0.008888804353773594, 0.037937507033348083, 0.0069550382904708385, 0.023522065952420235, -0.0008700962061993778, -0.04327899217605591, -0.02714979648590088, -0.02190127596259117, 0.0012792794732376933, -0.013769499026238918, -0.018702704459428787, -0.05231822654604912, 0.047619473189115524, 0.021199120208621025, -0.03319602459669113, 0.05182348191738129, 0.041688598692417145, -0.05427679792046547, 0.04625248163938522, -0.00315402215346694, 0.01466475147753954, -0.05507019907236099, 0.07450143992900848, 0.028391845524311066, 0.0009102656040340662, -0.01480241771787405, -0.0378497838973999, -0.03504651039838791, 0.0014235808048397303, 0.03308079019188881, -0.03710553050041199, -0.029309922829270363, 0.03399321064352989, 0.01440037228167057, -0.07690468430519104, 0.021740378811955452, -0.06573107093572617, -0.054300788789987564, -0.034951869398355484, -0.04166851192712784, 0.033240240067243576, 0.04543732479214668, 0.016532953828573227, -0.012938536703586578, -0.010552560910582542, -0.007059080991894007, 0.04904237389564514, 0.015874747186899185, -0.020434705540537834, 0.025724448263645172, 0.055975575000047684, -0.031720664352178574, 0.029319681227207184, 0.019583947956562042, -0.01500468049198389, 0.01998469978570938, -0.011499741114675999, 0.004324748180806637, 0.04735657945275307, 0.020362921059131622, -0.004419481847435236, 0.027205951511859894, 0.03590232506394386, -0.04109833762049675, 0.001402280293405056, 0.004294591024518013, 0.007890203036367893, 0.0366983525454998, 0.040926381945610046, 0.0032114675268530846, -0.008646213449537754, -0.02551093138754368, -0.028555331751704216, 0.005970512516796589, 0.0007986285490915179, 0.045774467289447784, -0.039707377552986145, 0.03832857310771942, -0.01484133955091238, -0.05658651888370514, 0.02922041527926922, -0.041997477412223816, -0.0384928360581398, 0.043207213282585144, 0.007465200498700142, 0.059115152806043625, -0.046184953302145004, 0.022612588480114937, -0.005914715584367514, 0.025183100253343582, 0.04395170882344246, -0.02124587632715702, 0.024889979511499405, -0.041938427835702896, -0.02901584841310978, -0.02534707635641098, 0.00045508798211812973, -0.02219211868941784, -0.01988385058939457, -0.02534196898341179, 0.020411215722560883, -0.03776484355330467, -0.07734044641256332, 0.038752805441617966, 0.03996073454618454, 0.025033079087734222, 0.0020901989191770554, 0.051770783960819244, -0.015766076743602753, 0.027192123234272003, 0.021738138049840927, 0.009464745409786701, -0.0020163801964372396, -0.05654985085129738, 0.02964255027472973, -0.011763283982872963, -0.024915169924497604, -0.0022359108552336693, -0.0014752772403880954, -0.006090490613132715, 0.027052827179431915, -0.01419814769178629, -0.015516752377152443, -0.03227817267179489, 0.006359918043017387, 0.024015089496970177, 0.03846915438771248, -0.018692638725042343, -0.007948538288474083, -0.016677765175700188, 0.03190949931740761, 0.04779636114835739, -0.03180016949772835, 0.012225337326526642, -0.04277489334344864, 0.027186764404177666, 0.03591715544462204, 0.0017625717446208, -0.05450742691755295, -0.01687387377023697, -0.04321825131773949, -0.04238947108387947, 0.005833903793245554, 0.0478178970515728, -0.030067777261137962, 0.028484119102358818, -0.04434442147612572, 0.05897766724228859, 0.022517023608088493, -0.02364744246006012, -0.013103663921356201, 0.012942366302013397, -0.0028484805952757597, -0.008756588213145733, 0.055553752928972244, -0.01423181127756834, -0.0507378913462162, 0.012766974978148937, -0.0319739505648613, 0.031112218275666237, -0.048524778336286545, -0.015269534662365913, -0.020891299471259117, 0.03237885981798172, 0.0012285687262192369, 0.01649354211986065, 0.007721747271716595, 0.02688240073621273, 0.006514021661132574, 0.04050459340214729, -0.054371364414691925, -0.03616190701723099, 0.03467182070016861, 0.02263696864247322, -0.030380068346858025, 0.04620391130447388, 0.007889016531407833, -0.03409409523010254, -0.011447221972048283, 0.005703028757125139, -0.030079921707510948, 0.016779661178588867, -0.03499908372759819, 0.02550514228641987, -0.006702711805701256, -0.047242358326911926, -0.01446800772100687, -0.03397500142455101, 0.04981230944395065, 0.000968724547419697, -0.047921597957611084, -0.03472510352730751, -0.05062614753842354, -0.0008541757706552744, 0.00511478167027235, -0.047023992985486984, 0.024363625794649124, 0.009064308367669582, -0.017053883522748947, 0.01647362858057022, 0.009179309010505676, -0.04024079069495201, -0.0024805956054478884, -0.035480376332998276, 0.006156160496175289, 0.016896076500415802, 0.03468620404601097, 0.06325452774763107, -0.014228405430912971, -0.020068969577550888, 0.0036120829172432423, -0.004994520451873541, -0.004447656217962503, -0.05168774351477623, 0.0013602422550320625, -0.01180496159940958, 0.0011639209697023034, -0.016382278874516487, -0.008158153854310513, -0.007708732038736343, 0.024954626336693764, 0.04809463396668434, -0.010816341266036034, 0.02785894274711609, -0.0006923499167896807, -0.03442642465233803, 0.05724266543984413, 0.014403990469872952, -0.05775347724556923, -0.04837118461728096, 0.03795410320162773, 0.00216811615973711, 0.0328175388276577, 0.025069987401366234, -0.049572329968214035, -0.038936540484428406, -0.05733394995331764, 0.014405780471861362, -0.05526994541287422, -0.0022251091431826353, -0.05384626239538193, -0.005713445600122213, 0.0040747919119894505, 0.048765964806079865, 0.01246203389018774, -0.007311499677598476, -0.017436815425753593, -0.03362863510847092, 0.023693609982728958, -0.051888320595026016, -0.017931513488292694, -0.026202477514743805, -0.028902487829327583, -0.003775468096137047, 0.056312501430511475, 0.014182460494339466, 0.0007267024484463036, -0.021143747493624687, 0.027064716443419456, 0.02703743427991867, 0.004499152302742004, -0.048024218529462814, -0.031093208119273186, 0.000899370526894927, -0.0043122959323227406, 0.023630192503333092, 0.0035586808808147907, -0.045867931097745895, 0.045186735689640045, -0.02319195121526718, -0.0035400085616856813, -0.014092495664954185, -0.018741274252533913, -0.003740547224879265, -0.03260653465986252, 0.048865340650081635, -0.01664908602833748, 0.0019309811759740114, -0.026533687487244606, 0.03745768964290619, 0.03588149696588516, 0.007108458783477545, -0.04889300465583801, -0.029214102774858475, -0.06236914172768593, -0.04942912608385086, 0.02396381087601185, -0.03529044985771179, -0.007323444355279207, -0.03109489195048809, -0.019194915890693665, 0.03621191158890724, -0.02860908955335617, 0.04218922182917595, 0.05340408533811569, -0.014222858473658562, -0.017736488953232765, -0.02787686139345169, 0.046970270574092865, 0.0210709348320961, -0.006856509484350681, -0.0008955236407928169, 0.014162310399115086, -0.04428011551499367, -0.009368035942316055, -0.04326055198907852, -0.044540487229824066, -0.04426202178001404, -0.006139677483588457, 0.05721046030521393, -0.027756724506616592, 0.05163116753101349, -0.009076835587620735, -0.043353330343961716, -0.02312728390097618, 0.050211213529109955, -0.006942910607904196, 0.021838966757059097, 0.050989530980587006, 0.015704087913036346, -0.013829401694238186, 0.019400807097554207, -0.011670674197375774, -0.018727317452430725, -0.044465940445661545, 0.08689801394939423, 0.0017083369893953204, -0.040565699338912964, 0.019845454022288322, 0.06592243909835815, -0.024553652852773666, -0.04361409693956375, 0.005413795821368694, -0.001699334243312478, 0.0019654822535812855, -0.031416911631822586, 0.028223326429724693, 0.0116900485008955, -0.024975763633847237, 0.01116427592933178, 0.04472137242555618, -0.009230228140950203, 0.03249821811914444, 0.02847614698112011, 0.01964733749628067, -0.056994687765836716, 0.015557872131466866, 0.03861469030380249, 0.0025146373081952333, -0.0229770727455616, -0.02827618271112442, -0.005465204827487469, 0.017289873212575912, -0.006287210620939732, 0.07758210599422455, -0.013067739084362984, 0.005948480684310198, 0.04675048962235451, -0.00678233103826642, 0.04930291697382927, -0.03756913170218468, -0.02597644552588463, 0.0006783062126487494, -0.02575097419321537, -0.05014709010720253, -0.037026554346084595, 0.017037995159626007, -0.0032281079329550266, 0.023981334641575813, -0.04346351698040962, 0.024470124393701553, 0.03419056162238121, 0.04286836460232735, -0.014277784153819084, -0.055527206510305405, -0.021026739850640297, -0.05466937646269798, -0.026943523436784744, -0.030218372121453285, -0.022491689771413803, -0.005699325352907181, 0.0278149601072073, 0.005729364231228828, -0.029204053804278374, -0.012799115851521492, 0.03897600993514061, -0.040580879896879196, -0.008172955363988876, -0.026920758187770844, 0.021755503490567207, -0.02373049035668373, -0.01789703220129013, -0.004068364854902029, -0.002578992396593094, -0.0012847540201619267, -0.0012459814315661788, 0.010171755217015743, 0.03213026374578476, 0.006740485318005085, 0.01892617903649807, 0.0012417935067787766, 0.020301932469010353, -0.0347505547106266, -0.00996831338852644, -0.031066855415701866, 0.007625791244208813, -0.039222508668899536, 0.03636830672621727, 0.021026333793997765, -0.01954236999154091, 0.027946757152676582, -0.0011397453490644693, -0.015801869332790375, -0.007398880086839199, 0.0029980160761624575, 0.025787264108657837, -0.006695825140923262, -0.020245607942342758, -0.03377861902117729, 0.004589908756315708, -0.04999510571360588, 0.013540158048272133, -0.020998623222112656, -0.017056724056601524, 0.03473280370235443, -0.0045515005476772785, -0.00041567336302250624, 0.04609668254852295, -0.0018028903286904097, 0.047739773988723755, -0.006278487388044596, 0.036367516964673996, 0.013608132489025593, 0.024286003783345222, 0.03270620480179787, 0.008481505326926708, 0.02326616644859314, -0.037171538919210434, 0.022989220917224884, 0.02964562177658081, -0.004447773098945618, 0.0027510791551321745, -0.0008532828651368618, -0.0385478250682354, -0.04847044125199318, -0.0383196622133255, 0.02406330779194832, 0.04835992678999901, 0.019844695925712585, 0.015062863007187843, 0.010253435000777245, 0.013844924978911877, -0.0346854068338871, 0.02301017753779888, -0.06852944940328598, -0.02732175588607788, 0.03788093104958534, -0.0006845022435300052, -0.03313647210597992, -0.023610398173332214, -0.01677343063056469, -0.014471306465566158, 0.022630861029028893, 0.0160845797508955, 0.006636126898229122, 0.03336796909570694, 0.005511004477739334, 0.04139971360564232, -0.0047499872744083405, -0.014019659720361233, -0.028053971007466316, 0.037655338644981384, -0.040636058896780014, -0.04661811888217926, 0.023617353290319443, 0.05158916488289833, -0.020946601405739784, -0.01938001438975334, -0.027678916230797768, 0.029978936538100243, -0.02255374565720558, 0.022675899788737297, -0.03785575553774834, 0.025359610095620155, -0.021336030215024948, 0.03597242012619972, 0.001035964349284768, 0.016662508249282837, -0.025615083053708076, 0.029442625120282173, 0.013664763420820236, -0.02048562839627266, -0.021799057722091675, 0.021576058119535446, 0.033796776086091995, -0.030019907280802727, 0.02560609206557274, 0.012581014074385166, 0.038119472563266754, -0.0023490702733397484, 0.010668758302927017, -0.02199137583374977, 0.05511946231126785, 0.035743389278650284, 0.020357094705104828, -0.006620228290557861, 0.04663613438606262, 0.0478181317448616, -0.005431550554931164, -0.023176586255431175, 0.026172395795583725, 0.012212423607707024, -0.025666618719697, -0.019171113148331642, -0.035132426768541336, 0.010612457990646362, -0.030384382233023643, -0.021753598004579544, 0.007406910881400108, -0.03486420214176178, -0.00020854106696788222, -0.044891539961099625, -0.05227703973650932, 0.04422862082719803, -0.013460115529596806, -0.0632963627576828, -0.015889223664999008, -0.0024373959749937057, 0.018192006275057793, 0.04517386853694916, 0.03329384699463844, -0.00011776377505157143, 0.054565880447626114, 0.037871696054935455, 0.010758092626929283, 0.008772843517363071, 0.01275929156690836, -0.004404875449836254, -0.03728458657860756, 0.0036626115906983614, 0.01447844784706831, -0.023723257705569267, -0.010533256456255913, -0.02700410597026348, -0.04190072789788246, 0.0681440532207489, -0.005202147178351879, -0.024889444932341576, 0.024761905893683434, -0.03231557458639145, -0.019252989441156387, -0.028910422697663307, 0.03612428158521652, -0.045579396188259125, -0.0005224334890954196, 0.031198222190141678, -0.009410325437784195, -0.03642922267317772, 0.028041355311870575, -0.01943127252161503, 0.03913155570626259, 0.008654054254293442, 0.045617613941431046, 0.007210336625576019, 0.06976983696222305, 0.05888579040765762, -0.009618271142244339, 0.007963532581925392, 0.018945515155792236, -0.008037651889026165, -0.036035798490047455, -0.027421528473496437, -0.015583770349621773, -0.007583753205835819, -0.013109727762639523, -0.057633787393569946, -0.006118380464613438, 0.023060699924826622, 0.006196331698447466, -0.019953105598688126, -0.007875418290495872, 0.027018021792173386, -0.041320592164993286, 0.010406066663563251, 0.009080967865884304, 0.012293928302824497, -0.010930389165878296, -0.011026808060705662, 0.0038302806206047535, -0.05817209184169769, -0.0014366700779646635, -0.043644215911626816, 0.030008915811777115, -0.010463783517479897, -0.03866971656680107, -0.03110954724252224, -0.04107847437262535, -0.002178623341023922, 0.0021545321214944124, -0.01979740522801876, -0.02737201564013958, 0.04784663766622543, 0.042593181133270264, 0.03694925457239151, 0.02102877013385296, -0.009454600512981415, -0.0025126058608293533, 0.058275558054447174, 0.0662197694182396, 0.02565389685332775, 0.051987674087285995, 0.032679878175258636, -0.008884553797543049, 0.004535422194749117, -0.02233569510281086, 0.03829255700111389, -0.006774637382477522, -0.02169109508395195, -0.027706803753972054, 0.017995763570070267, -0.030684664845466614, -0.06381355226039886, 0.032718490809202194, 0.06972953677177429, 0.03350380063056946, -0.04685523360967636, -0.06927734613418579, -0.012160654179751873, -0.05163833126425743, -0.002973937662318349, -0.02593541517853737, 0.036929577589035034, 0.019245179370045662, -0.017572710290551186, -0.009338264353573322, -0.05163571983575821, 0.2103995829820633, 0.05292721465229988, 0.021162059158086777, 0.0034586703404784203, 0.03655444458127022, 0.050054628401994705, 0.036597561091184616, -0.01330792997032404, 0.022292541339993477, -0.02591289021074772, 0.03211382403969765, -0.030839452520012856, 0.015698255971074104, 0.02440462075173855, 0.009106826968491077, 0.027828820049762726, -0.032337289303541183, -0.02163439244031906, -0.019007010385394096, -0.03873081132769585, -0.0430133081972599, 0.021227078512310982, 0.0014795548049733043, 0.025743890553712845, 0.008821796625852585, 0.012324483133852482, 0.013442064635455608, -0.0336059145629406, 0.005530740134418011, -0.027297701686620712, 0.02210976369678974, -0.037070684134960175, 0.03172668442130089, -0.015691164880990982, -0.02737828902900219, 0.03043760545551777, -0.0009423161973245442, -0.06478507071733475, -0.01396141853183508, 0.030981356278061867, -0.012376966886222363, 0.006528602913022041, 0.025879980996251106, -0.04322146624326706, 0.0019098945194855332, 0.052552830427885056, -0.03126910701394081, 0.009358097799122334, 0.0415995717048645, -0.06118273362517357, 0.037231817841529846, -0.051745012402534485, 0.02517482452094555, -0.020818542689085007, -0.03410867229104042, -0.011448603123426437, 0.000388090789783746, -0.0216534361243248, -0.022475408390164375, 0.017889367416501045, 0.011332058347761631, 0.037393998354673386, -0.027354948222637177, 0.040356241166591644, -0.026007745414972305, -0.0051296669989824295, 0.014443270862102509, -0.0026401211507618427, -0.01062444131821394, -0.02001688815653324, -0.024304429069161415, 0.018695319071412086, -0.012030987069010735, -0.025472847744822502, 0.01205109991133213, 0.028113817796111107, -0.008277244865894318, 0.03405400738120079, 0.015242219902575016, -0.03602902218699455, -0.01745143160223961, -0.017368732020258904, -0.004491766449064016, -0.02823670580983162, 0.025482483208179474, 0.05176395922899246, -0.050815995782613754, -0.008972679264843464, -0.016541587188839912, 0.05612853541970253, 0.012333210557699203, -0.01164412871003151, 0.0033825018908828497, -0.017847904935479164, 0.011570828035473824]}), _DocumentWithState(metadata={'page': 5, 'source': '/content/Retrieval-Augmented-Generation-for-NLP.pdf'}, page_content='4.4 Fact Veriﬁcation\\nTable 2 shows our results on FEVER. For 3-way classiﬁcation, RAG scores are within 4.3% of\\nstate-of-the-art models, which are complex pipeline systems with domain-speciﬁc architectures and\\nsubstantial engineering, trained using intermediate retrieval supervision, which RAG does not require.\\n6', state={'embedded_doc': [0.02120218053460121, 0.0019456706941127777, -0.017148306593298912, 0.008387822657823563, -0.01837066374719143, 0.01065083872526884, 0.010160022415220737, -0.007393479812890291, -0.0025889049284160137, 0.03017936274409294, 0.042536791414022446, -0.025128480046987534, 0.02841300517320633, -0.02914242632687092, -0.029772961512207985, 0.005157021339982748, -0.028652289882302284, -0.013059288263320923, -0.017394958063960075, -0.004484090022742748, 0.021077599376440048, 0.008962426334619522, -0.06805543601512909, 0.0009565040236338973, -0.02988201379776001, 0.041948504745960236, 0.04670918732881546, 0.026189222931861877, 0.060312625020742416, 0.08503834903240204, -0.013566658832132816, -0.035854388028383255, 0.04468498006463051, -0.009269699454307556, -0.03669925779104233, -0.019244886934757233, 0.02437305450439453, -0.020341208204627037, -0.03407151252031326, -0.05893368273973465, 0.013693921267986298, -0.010295344516634941, 0.03199164941906929, -0.02638247422873974, -0.06237335503101349, 0.013421060517430305, -0.009825378656387329, -0.04180769994854927, 0.016315270215272903, -0.058197248727083206, -0.009895168244838715, -0.008533072657883167, 0.0364956334233284, -0.028095465153455734, 0.007084415294229984, 0.01008341833949089, -0.018708722665905952, -6.34686293778941e-05, -0.03595578670501709, 0.008791089989244938, 0.041373275220394135, -0.006986056920140982, -0.005339788272976875, -0.05135130509734154, -0.006393528543412685, 0.019910674542188644, -0.0035547276493161917, -0.018919507041573524, 0.001224104780703783, -0.050768960267305374, -0.01818929798901081, -0.0014163946034386754, -0.05058847367763519, -0.04387732595205307, -0.05946612358093262, -0.007496093865483999, 0.02773495577275753, 0.01148942206054926, -0.010425679385662079, 0.027743559330701828, 0.019873736426234245, 0.04265809804201126, 0.02101474441587925, 0.0273512564599514, -0.025177964940667152, -0.018357429653406143, 0.016039269044995308, 0.010878082364797592, 0.021120037883520126, -0.016722872853279114, -0.004593382589519024, 0.03916863352060318, -0.007496958132833242, -0.01806245557963848, 0.008985709398984909, 0.004758041352033615, 0.006451685447245836, 0.03705038130283356, 0.03950547054409981, -0.012949982658028603, 0.025788918137550354, 0.05212259292602539, -0.002595097292214632, 0.052308835089206696, -0.028709232807159424, -0.006009168457239866, 0.02977164089679718, -0.02029823698103428, 0.017875492572784424, -0.06430894881486893, -0.012239486910402775, -0.01009160652756691, -0.02447267808020115, -0.00021651801944244653, -0.013643899001181126, 0.031813714653253555, 0.023636220023036003, 0.017620829865336418, -0.015861382707953453, 0.030512094497680664, 0.003025081241503358, -0.035901136696338654, 0.03346063196659088, -0.02903296798467636, 0.019621117040514946, -0.03355460613965988, -0.010038267821073532, 0.04739486426115036, -0.0325714647769928, 0.0004385750798974186, 0.0009782942943274975, -0.01674635335803032, -0.016170402988791466, 0.037922199815511703, 0.013346589170396328, -0.0029439751524478197, 0.02154223993420601, 0.06576782464981079, 0.03886611387133598, -0.047093816101551056, 0.033321063965559006, -0.004459653049707413, -0.00012517043796833605, 0.06563860923051834, -0.01962669938802719, 0.036638759076595306, 0.015039324760437012, -0.021047569811344147, -0.041001949459314346, 0.01723848283290863, -0.04201972857117653, 0.0434211865067482, 0.014392457902431488, 0.01720382273197174, -0.023652667179703712, 0.009721625596284866, -0.014753485098481178, 0.03866767883300781, -0.0070988996885716915, 0.005736738909035921, -0.014347328804433346, 0.006800629198551178, -0.04033614695072174, 0.057379189878702164, -0.022380609065294266, 0.04523636773228645, 0.01254341471940279, -0.024227628484368324, -0.009481136687099934, -0.03622326999902725, 0.0396549254655838, -0.016039976850152016, -0.004726502578705549, 0.06088593974709511, 0.028055911883711815, 0.061884090304374695, 0.04895348474383354, 0.007491540163755417, 0.03820977732539177, 0.03678435459733009, -0.0503508485853672, -0.02566148154437542, 0.023362932726740837, 0.056663233786821365, 0.003891897387802601, 0.016366196796298027, 0.016094667837023735, -0.017923802137374878, -0.0220101960003376, -0.014334240928292274, -0.023298129439353943, 0.04194800183176994, -0.03396500647068024, 0.018518859520554543, -0.011375132948160172, -0.010722777806222439, -0.0348581038415432, -0.011308381333947182, 0.0270097479224205, -0.03790982812643051, -0.02230856381356716, 0.0724833682179451, -0.008744172751903534, 0.01078595221042633, -0.019315313547849655, 0.005431307479739189, 0.01446194015443325, 0.025807879865169525, -0.04963405802845955, -0.0050512393936514854, 0.017024129629135132, 0.014423225075006485, -0.001524704392068088, -0.044278282672166824, 0.011947255581617355, 0.006515905261039734, -0.018484236672520638, 0.026998862624168396, -0.012200743891298771, -0.03102416917681694, 0.006394108757376671, 0.040550317615270615, 0.033683810383081436, 0.02349560149013996, 0.01242764201015234, -0.014625457115471363, -0.0028613994363695383, 0.07494896650314331, -0.01249406673014164, 0.003129843156784773, -0.0063649555668234825, 0.07517259567975998, -0.004770422354340553, 0.05294697359204292, 0.050362154841423035, -0.008726841770112514, 0.042768754065036774, 0.03905513510107994, 0.0033976135309785604, 0.02428562007844448, -0.0033082342706620693, 0.024113666266202927, 0.03482450917363167, 0.0029794673901051283, -0.009965001605451107, 0.030805643647909164, -0.022948622703552246, -0.009693615138530731, -0.028330886736512184, 0.03329537808895111, -0.03627776354551315, 0.026310592889785767, 0.008928685449063778, 0.026642926037311554, -0.06200749799609184, -0.0214969702064991, 0.0017364233499392867, 0.04693932458758354, -0.04369807615876198, -0.024957824498414993, 0.0012919086730107665, 0.02611742913722992, -0.005566000007092953, -0.004822273273020983, 0.02448609657585621, 0.03177061676979065, -0.020633719861507416, 0.04682208225131035, -0.003940700087696314, -0.03254728019237518, -0.06469430029392242, -0.05553111433982849, -0.09786735475063324, -0.028899947181344032, -0.013532478362321854, -0.015386896207928658, -0.017604324966669083, -0.02842891961336136, 0.004943537525832653, 0.0036539884749799967, -0.027140377089381218, -0.0022064715158194304, -0.0200753565877676, 0.05578315258026123, 0.0014603858580812812, 0.03559856116771698, -0.020973436534404755, 0.04361645504832268, -0.008565759286284447, 0.017283836379647255, 0.00784608256071806, -0.03801487013697624, -0.05583072453737259, -0.03512601554393768, 0.031054794788360596, -0.006285003386437893, 0.0299342330545187, -4.791152605321258e-05, -0.04303025081753731, -0.02178034745156765, -0.014142405241727829, -0.013699717819690704, -0.015716183930635452, 0.017350414767861366, -0.036332253366708755, 0.04849351942539215, 0.014274775981903076, -0.04299011081457138, 0.02689170278608799, 0.04635119065642357, -0.04645569249987602, 0.05774084851145744, 0.032761041074991226, 0.0184402484446764, -0.042279455810785294, 0.055529046803712845, 0.01851573958992958, 0.01631392352283001, -0.04412547126412392, -0.013225478120148182, -0.03639712184667587, 0.001503956038504839, 0.023927299305796623, -0.06057474762201309, -0.039166394621133804, 0.03190884739160538, -0.005489044357091188, -0.05669816583395004, 0.019217340275645256, -0.05144935101270676, -0.05894157662987709, -0.019057823345065117, -0.06808755546808243, 0.023542318493127823, 0.04914982244372368, 0.007738017477095127, -0.04780733212828636, -0.029354380443692207, 0.017417648807168007, 0.03662105277180672, 0.031615328043699265, -0.013432771898806095, 0.02173209935426712, 0.05580516904592514, 0.005826197098940611, 0.014321024529635906, 0.003791341558098793, -0.013372702524065971, 0.013382202945649624, 0.008494860492646694, -0.0007326430059038103, 0.04578959196805954, 0.02022234909236431, 0.005129176191985607, 0.006720371078699827, 0.050204772502183914, -0.04103837534785271, 0.004659907426685095, 0.018802834674715996, 0.010838919319212437, 0.04121348261833191, 0.0049077593721449375, -0.007490101270377636, -0.002844290342181921, -0.04098673164844513, -0.0385424979031086, 0.023382002487778664, 0.009786722250282764, 0.04558226838707924, -0.05500258877873421, 0.06128406897187233, -0.011536073870956898, -0.0076624564826488495, 0.04725196585059166, -0.03759045526385307, -0.0366009846329689, 0.04450176656246185, 0.025333603844046593, 0.06469599157571793, -0.03796364739537239, 0.017763569951057434, 0.002838492626324296, 0.03284633904695511, 0.029339749366044998, -0.011267413385212421, 0.029513102024793625, -0.03514065220952034, -0.029511766508221626, -0.02636953629553318, -0.010874690487980843, 2.6707712095230818e-05, -0.002717202063649893, -0.031840428709983826, -0.0044975499622523785, -0.021763361990451813, -0.059212926775217056, 0.03774414584040642, 0.04287462309002876, 0.038421209901571274, 0.009441031143069267, 0.04663987457752228, -0.008496529422700405, 0.014031053520739079, 0.04472440108656883, 0.0016038562171161175, -0.0010155229829251766, -0.028845522552728653, 0.03351202979683876, 0.0019923963118344545, -0.021635783836245537, -0.009565908461809158, -0.01411830447614193, -0.013976470567286015, 0.005487769842147827, -0.01310413796454668, -0.005345743149518967, -0.04020977392792702, -0.003109570359811187, -0.004047526512295008, 0.014358090236783028, -0.013698769733309746, -0.05615222081542015, -0.019434403628110886, 0.05206528306007385, 0.004162214230746031, -0.06100068986415863, 0.014802314341068268, -0.05298258736729622, 0.013174345716834068, 0.04687921702861786, -0.029352502897381783, -0.053577277809381485, -0.008764746598899364, -0.05205122381448746, -0.029452389106154442, -0.005527585744857788, 0.05831153318285942, -0.008653644472360611, 0.00341141689568758, -0.058825377374887466, 0.020464956760406494, 0.013489935547113419, -0.010404836386442184, -0.01864519901573658, 0.00129350321367383, 0.02984010800719261, 0.020456628873944283, 0.04723712056875229, -0.02440069243311882, -0.017122458666563034, 0.009901697747409344, -0.06252075731754303, 0.03732971101999283, -0.018023299053311348, -0.008956152945756912, 0.00024044491874519736, 0.02189759537577629, -0.01894943229854107, 0.009173032827675343, -0.0017578868428245187, 0.0066484310664236546, -0.0024466020986437798, 0.05307359620928764, -0.010102055966854095, -0.03727797418832779, 0.0331362709403038, 0.0352981835603714, 0.009400635026395321, 0.03880763053894043, -0.0012743278639391065, -0.017514759674668312, 0.016806431114673615, 0.008595996536314487, -0.005191477946937084, 0.05208306014537811, -0.023187890648841858, 0.044008947908878326, -0.004735880997031927, -0.02678113430738449, -0.00798365380614996, -0.02923368103802204, 0.05630076304078102, -0.006051996257156134, -0.020913058891892433, -0.03454538807272911, -0.04619661346077919, -0.019425509497523308, 0.0006221412331797183, -0.05133211985230446, 0.022668922320008278, 0.004878466483205557, -0.026191934943199158, -0.0007731035584583879, 0.013454806059598923, -0.061432983726263046, -0.006507959216833115, -0.03535106033086777, 0.019954940304160118, 0.017950046807527542, 0.024872003123164177, 0.020398514345288277, -0.021684322506189346, -0.047305136919021606, 0.002889770781621337, -0.018455617129802704, -0.013745083473622799, -0.03774159029126167, 0.023108912631869316, -0.0092719541862607, 0.00011821151565527543, -0.006353324744850397, 0.02079482562839985, -0.007315986789762974, 0.015306367538869381, 0.03400394693017006, -0.0365649051964283, 0.015583538450300694, -0.014507998712360859, -0.05021936446428299, 0.04380344972014427, -0.0035609074402600527, -0.05714353546500206, -0.03795241564512253, 0.030381130054593086, 0.007133087608963251, 0.03471572697162628, 0.009935441426932812, -0.055379219353199005, -0.04348137229681015, -0.05914165824651718, 0.009835870005190372, -0.05220101773738861, 0.002396344905719161, -0.036682892590761185, -0.03336117044091225, -0.006525454577058554, 0.05100606381893158, 0.01899045892059803, 0.008062776178121567, -0.014993726275861263, -0.045701514929533005, 0.02319192700088024, -0.050865281373262405, -0.02516227960586548, -0.034027207642793655, -0.013845870271325111, 0.00899890623986721, 0.009852654300630093, -0.009331337176263332, 0.018171457573771477, -0.024453438818454742, 0.0015956447459757328, 0.014541774988174438, -0.008801635354757309, -0.04560553655028343, -0.04801049828529358, 0.011942392215132713, -0.022843211889266968, -0.006171260494738817, -0.0232006274163723, -0.04752806946635246, 0.03166981041431427, -0.06098243594169617, 0.01594209484755993, -0.030306918546557426, -0.03406555578112602, 0.01102367416024208, -0.02232515439391136, 0.07484644651412964, -0.004811382852494717, 0.011292345821857452, -0.005610728170722723, 0.014580437913537025, 0.007979463785886765, -0.003523140447214246, -0.06160962954163551, -0.04635576158761978, -0.026467667892575264, -0.040256090462207794, 0.03936881572008133, -0.0317397341132164, 0.01367600541561842, -0.022904906421899796, -0.003864155150949955, 0.059381645172834396, 0.00866788811981678, 0.06719741225242615, 0.039646271616220474, -0.009055936709046364, -0.0037713712081313133, -0.02477407455444336, 0.03549961373209953, 0.030217433348298073, -0.002350489143282175, -0.014262344688177109, -0.006977679207921028, -0.042799606919288635, 0.0161134023219347, -0.0155639024451375, -0.041844915598630905, -0.027944941073656082, -0.0004386399232316762, 0.051422640681266785, -0.015034502372145653, 0.042647749185562134, 0.009744846262037754, -0.0253800880163908, -0.037494562566280365, 0.04781011864542961, -0.011004623956978321, 0.02906702645123005, 0.067978136241436, 0.007891202345490456, -0.042600058019161224, 0.029415715485811234, -0.004391929134726524, -0.0064643933437764645, -0.04845518246293068, 0.08001643419265747, -0.017921317368745804, -0.05036216974258423, 0.028549015522003174, 0.038382451981306076, -0.04805539920926094, -0.026444101706147194, 0.00023161880380939692, -0.032024893909692764, 0.012846024706959724, -0.012773174792528152, 0.019090963527560234, 0.00020325210061855614, -0.013512793928384781, -0.009727494791150093, 0.032336968928575516, -0.011722639203071594, 0.023732297122478485, 0.007242784835398197, 0.005737180821597576, -0.04940401017665863, 0.025058133527636528, 0.05263706296682358, -0.03056316450238228, -0.01563626155257225, -0.028171613812446594, 0.00665324367582798, 0.009268522262573242, -0.004499917384237051, 0.03225376456975937, -0.045446209609508514, -0.005859960801899433, 0.05066598951816559, -0.022677375003695488, 0.011298829689621925, -0.013549542985856533, -0.019186006858944893, 0.01024698931723833, -0.011125684715807438, -0.03414059430360794, -0.031006373465061188, 0.015183191746473312, 0.023061491549015045, 0.007383566815406084, -0.029800498858094215, 0.035485778003931046, 0.031416893005371094, 0.037852682173252106, 0.015072988346219063, -0.05105849727988243, -0.04152676463127136, -0.02553657628595829, -0.04425401985645294, -0.028722723945975304, -0.0366576611995697, -0.011074886657297611, 0.01281008217483759, 0.008957134559750557, -0.03891681879758835, 0.014745318330824375, 0.014469098299741745, 0.0030277182813733816, 0.013920385390520096, -0.03773542866110802, 0.0314168818295002, -0.02345525473356247, -0.014743360690772533, -0.03152524307370186, 0.014619809575378895, 0.008583505637943745, 0.021019278094172478, -0.0395914725959301, 0.0086821299046278, 0.06192292645573616, 0.024788720533251762, 0.007078648079186678, 0.032207224518060684, -0.03770105540752411, -0.009376263245940208, -0.036460671573877335, 0.0025119830388575792, -0.04483302682638168, 0.04847685247659683, 0.010465973056852818, -0.014887704513967037, 0.03305049613118172, 0.010269830003380775, -0.0020218626596033573, -0.022621791809797287, -0.0016664182767271996, 0.029913805425167084, -0.004402030725032091, -0.014869985170662403, -0.019707608968019485, -0.0026941816322505474, -0.045038264244794846, 0.020891113206744194, -0.010411522351205349, -0.027464112266898155, 0.01926751621067524, -0.0020955114159733057, 0.00048790982691571116, 0.060896117240190506, 0.004672448616474867, 0.033303290605545044, 0.01488865353167057, 0.036661531776189804, 0.022930743172764778, 0.01521302293986082, 0.04925313964486122, 0.03146227449178696, -0.004254490602761507, -0.029438041150569916, 0.01602882519364357, 0.04644247144460678, -0.0035256703849881887, -0.0014163274317979813, -0.004963546991348267, -0.023599056527018547, -0.03544886037707329, -0.010391906835138798, -0.012704690918326378, 0.04555857181549072, 0.03665437176823616, 0.038387272506952286, 0.004011812619864941, -0.016514001414179802, -0.049629952758550644, 0.009662117809057236, -0.08184514939785004, -0.02594282664358616, 0.04227173328399658, -0.007823574356734753, -0.025886720046401024, -0.03376123309135437, -0.03726193681359291, -0.04138065129518509, 0.03990660607814789, 0.02203221805393696, -0.012854404747486115, 0.04062458127737045, 4.014549631392583e-05, 0.03768988698720932, 0.009977427311241627, -0.012968920171260834, 0.00659081619232893, 0.032760050147771835, -0.04017047956585884, -0.044731803238391876, 0.024879496544599533, 0.05669442191720009, -0.0040037487633526325, -0.0014006018172949553, -0.026217671111226082, 0.031188473105430603, -0.02487272024154663, 0.010444859974086285, -0.03343203663825989, 0.009454881772398949, -0.006517656147480011, 0.029300831258296967, -0.01593567244708538, 0.005798514001071453, -0.03397945314645767, 0.029177015647292137, -0.0035502274986356497, -0.046994078904390335, -0.02551320753991604, 0.009395045228302479, 0.018964290618896484, -0.031459514051675797, 0.04630139097571373, 0.007095548324286938, 0.041707780212163925, -0.018928615376353264, 0.00033530007931403816, 0.018152711912989616, 0.0621856190264225, 0.020205531269311905, 0.01564781926572323, -0.036400195211172104, 0.008886300027370453, 0.04496356472373009, 0.0008769744890742004, -0.003355960827320814, 0.045199960470199585, -0.006628283765166998, -0.008983616717159748, -0.0003857382107526064, -0.019693506881594658, 0.040332384407520294, -0.0221982654184103, -0.0054627894423902035, 0.005153218749910593, -0.0012993597192689776, -0.013433902524411678, -0.0022874155547469854, -0.021879367530345917, 0.03638460859656334, -0.06093638017773628, -0.040759071707725525, -0.0064826104789972305, -0.004361252766102552, 0.0015594810247421265, 0.04686659574508667, 0.022069329395890236, -0.0058956327848136425, 0.04517843574285507, 0.03773178905248642, 0.0013065680395811796, 0.05820362642407417, 0.022228335961699486, 0.0062923613004386425, -0.051798779517412186, -0.007389361504465342, 0.005367683246731758, -0.009899021126329899, -0.03193488344550133, -0.026729580014944077, -0.04298683628439903, 0.02132279984652996, 0.011118011549115181, -0.011658614501357079, 0.03194515034556389, -0.03534437343478203, -0.00033930392237380147, -0.03237197920680046, 0.02282487228512764, -0.05814453214406967, -0.01306180004030466, 0.034827858209609985, -0.021038508042693138, -0.024334631860256195, 0.04309264197945595, -0.00929167028516531, 0.043119143694639206, 0.018884895369410515, 0.047878462821245193, 0.005381314549595118, 0.055515874177217484, 0.0342569500207901, -0.006191503722220659, -0.0021177087910473347, 0.03340377286076546, -0.03418319299817085, -0.026011554524302483, -0.012796534225344658, -0.0025480063632130623, 0.006622649263590574, -0.009539593942463398, -0.0361848920583725, 0.0072911689057946205, 0.015265321359038353, 0.015814825892448425, -0.05044158175587654, -0.018496805801987648, 0.007297311443835497, -0.04273498058319092, 0.035385552793741226, 0.033316757529973984, 0.018886690959334373, -0.015065149404108524, 0.004446405917406082, -0.01971314288675785, -0.04575705528259277, -0.016152273863554, -0.009516306221485138, 0.06435533612966537, -0.009817925281822681, -0.047644879668951035, -0.026345407590270042, -0.04488390311598778, -0.01593688316643238, 0.020759403705596924, -0.034083228558301926, -0.03990720584988594, 0.04085369035601616, 0.030206825584173203, 0.03242327645421028, -0.013577764853835106, -0.028902074322104454, -0.00875546969473362, 0.0417586974799633, 0.031113721430301666, 0.007815659046173096, 0.054511528462171555, 0.030075982213020325, 0.0024411447811871767, 0.01678229123353958, -0.014494606293737888, 0.03263290598988533, -0.017867201939225197, -0.011683175340294838, -0.001413517165929079, 0.006528045516461134, -0.014352047815918922, -0.0402662456035614, 0.027190949767827988, 0.06948419660329819, -0.004715150687843561, -0.047322243452072144, -0.04643476754426956, 0.009051241911947727, -0.05473753437399864, 0.026395317167043686, -0.038455430418252945, 0.053705405443906784, 0.0034848395735025406, -0.016224361956119537, 0.00040668074507266283, -0.059254419058561325, 0.23822690546512604, 0.028565850108861923, 0.028913825750350952, -0.0010970993898808956, 0.0021177507005631924, 0.03157477825880051, 0.04939134046435356, 0.005784494802355766, 0.004078533034771681, -0.031035756692290306, 0.026093846186995506, -0.026260271668434143, 0.006248483434319496, 0.005811047274619341, 0.012524938210844994, 0.012057320214807987, -0.03834185749292374, -0.04198094457387924, 0.005359473638236523, -0.05909749120473862, -0.03421218320727348, 0.01697234809398651, -0.023465599864721298, 0.03844306617975235, -0.025187775492668152, -0.01822604425251484, 0.0388777032494545, -0.022008225321769714, 0.021680228412151337, -0.006832578219473362, 0.017474206164479256, -0.044046591967344284, 0.04877796769142151, -0.02855905517935753, -0.044205136597156525, 0.003748320508748293, 0.0034359206911176443, -0.0687217265367508, 0.008342219516634941, 0.010597864165902138, -0.016770610585808754, 0.016202282160520554, 0.04232042282819748, -0.02135399915277958, -0.022393539547920227, 0.0285890381783247, -0.05995379760861397, 0.0024509120266884565, 0.048128943890333176, -0.06450583040714264, 0.03842158615589142, -0.039321061223745346, 0.0350673608481884, -0.028566615656018257, -0.03235276788473129, -0.021117422729730606, -0.023355843499302864, -0.0421687550842762, -0.004636649042367935, 0.017727991566061974, 0.008778338320553303, 0.009172418154776096, -0.010458019562065601, 0.017579009756445885, -0.012554282322525978, 0.01762666553258896, 0.025504786521196365, -0.00634181872010231, 0.026202239096164703, -0.015145262703299522, 0.00788957066833973, 0.004890881944447756, -0.009822449646890163, -0.023019995540380478, 0.01406722329556942, 0.011995919980108738, -0.03707040101289749, 0.045848798006772995, 0.0029873026069253683, -0.035758454352617264, -0.01968992128968239, -0.012927164323627949, 0.010030604898929596, -0.027111126109957695, 0.04151206836104393, 0.041659627109766006, -0.05342549830675125, -0.017685232684016228, -0.02713756449520588, 0.04900312051177025, 0.04284144565463066, 0.02384011447429657, 0.0165664404630661, -0.011124648153781891, 0.011836867779493332]}), _DocumentWithState(metadata={'page': 3, 'source': '/content/Retrieval-Augmented-Generation-for-NLP.pdf'}, page_content='index) ﬁxed, only ﬁne-tuning the query encoder BERT qand the BART generator.\\n2.5 Decoding\\nAt test time, RAG-Sequence and RAG-Token require different ways to approximate arg maxyp(y|x).\\nRAG-Token The RAG-Token model can be seen as a standard, autoregressive seq2seq genera-\\ntor with transition probability: p′\\nθ(yi|x,y 1:i−1) =∑\\nz∈top-k(p(·|x))pη(zi|x)pθ(yi|x,zi,y1:i−1)To\\ndecode, we can plug p′\\nθ(yi|x,y 1:i−1)into a standard beam decoder.', state={'embedded_doc': [0.03467920422554016, 0.007846501655876637, 0.013166310265660286, 0.011207764968276024, -0.01709190383553505, -0.005367772653698921, -0.018394876271486282, 0.005217340309172869, -0.008353179320693016, 0.06399991363286972, 0.032552000135183334, -0.01656201109290123, -0.0007182959816418588, -0.034877605736255646, -0.0209374837577343, 0.02292211353778839, -0.030555227771401405, -0.055539339780807495, -0.028482114896178246, 0.006341693457216024, 0.013276053592562675, 0.0018942009191960096, -0.08193915337324142, -0.01993091031908989, -0.015554872341454029, 0.04851669818162918, 0.018272075802087784, 0.008451312780380249, 0.07599698752164841, 0.08542522042989731, 0.008013327606022358, -0.007442586589604616, 0.029486581683158875, -0.036483991891145706, -0.010847481898963451, -0.02288922853767872, -0.0004415565636008978, -0.028854742646217346, -0.04536857083439827, -0.04637593403458595, 0.029149172827601433, -0.012248670682311058, 0.03930750861763954, -0.019338611513376236, -0.051993802189826965, 0.0008135570678859949, -0.019795874133706093, -0.05902893841266632, -0.021198194473981857, -0.03317146748304367, -0.027104396373033524, -0.019278936088085175, 0.03328681364655495, -0.0026738373562693596, -0.00035295041743665934, -0.008105406537652016, -0.015054102055728436, 0.0065001980401575565, -0.044992972165346146, 0.017621731385588646, 0.04011347144842148, -0.0008383575477637351, -0.019500449299812317, -0.06127868592739105, -0.004776373039931059, 0.012719469144940376, 0.01355227455496788, 0.00810584332793951, 0.007226960733532906, -0.04445147514343262, -0.014412627555429935, 0.005978475324809551, -0.024179596453905106, -0.03606351837515831, -0.03301204741001129, -0.0011068143649026752, 0.03742535412311554, 0.0035629875492304564, -0.03368428722023964, 0.04814660921692848, 0.00981808826327324, 0.029648222029209137, -0.003194760764017701, 0.002423070603981614, -0.03468605875968933, -0.017131147906184196, 0.029414331540465355, 0.01021005492657423, -0.0015200378838926554, -0.0283563993871212, -0.015753215178847313, 0.03693204000592232, 0.003367286641150713, 0.013799050822854042, 0.013423789292573929, 0.040737152099609375, -0.019132619723677635, 0.0652552992105484, 0.012354699894785881, -0.00454653799533844, 0.012226922437548637, 0.05764598771929741, -0.042283862829208374, 0.04963718727231026, -0.016101570799946785, -0.004982928745448589, 0.03328218683600426, 0.010494411922991276, -0.031027166172862053, -0.03344924375414848, -0.025879286229610443, -0.012877275235950947, 0.0027409500908106565, -0.004046440590173006, 0.008530214428901672, 0.03399137407541275, 0.0028850147500634193, 0.009037570096552372, -0.03469504788517952, -0.002191377803683281, 0.0055830697529017925, 0.005417581647634506, 0.03889160230755806, -0.018239477649331093, 0.020038699731230736, -0.046754296869039536, 0.0013772615930065513, 0.01925540342926979, -0.05766351521015167, -0.004453421104699373, 0.035486653447151184, -0.018411174416542053, -0.007656537462025881, 0.03129241243004799, 0.014784345403313637, 0.02999688684940338, -0.008075806312263012, 0.05779765546321869, 0.034831929951906204, -0.04337403178215027, 0.017371704801917076, 0.017620250582695007, -0.008821039460599422, 0.08009493350982666, -0.01691356860101223, 0.026686934754252434, 0.016552062705159187, -0.023781538009643555, -0.0336003378033638, 0.005275575909763575, -0.05663116276264191, 0.02647373080253601, -0.00800431426614523, 0.01627620868384838, -0.019101038575172424, -0.00276879477314651, -0.009839450009167194, 0.040091294795274734, -0.014270651154220104, -0.0063596973195672035, -0.01609398052096367, 0.0111088240519166, -0.04667818173766136, 0.05825323238968849, -0.040604833513498306, 0.051292143762111664, 0.002635619370266795, -0.026023007929325104, -0.0207639429718256, -0.01979866996407509, 0.03990146145224571, -0.028972990810871124, 0.0028674956411123276, 0.050316598266363144, 0.017161628231406212, 0.04864785447716713, 0.05621517822146416, -0.007262047845870256, 0.04610848426818848, 0.01247489359229803, -0.011152851395308971, -0.013400993309915066, 0.014774812385439873, 0.052146922796964645, 0.004578085150569677, 0.022114112973213196, 0.022658366709947586, 0.0019858358427882195, -0.03334639221429825, -0.017747046425938606, -0.024608001112937927, 0.04180653765797615, -0.01465087290853262, 0.01635742373764515, -0.022358186542987823, 0.012159042991697788, -0.029140854254364967, -0.04066067188978195, -0.0027704760432243347, -0.03085540235042572, -0.002737811068072915, 0.06514279544353485, 0.0026063923723995686, 0.01993008889257908, -0.04301987588405609, -0.010608801618218422, 0.017447689548134804, 0.040249280631542206, -0.04626188799738884, -0.004061272833496332, 0.028339959681034088, 0.018210122361779213, -0.021003257483243942, 0.00853108149021864, 0.022645555436611176, 0.006227848585695028, -0.03239546716213226, 0.025328880175948143, 0.012659306637942791, 0.004844597540795803, -0.0019279310945421457, 0.025731980800628662, 0.04103393107652664, 0.017623212188482285, 0.008636143058538437, -0.023809991776943207, 0.014592673629522324, 0.08113779872655869, -0.008292511105537415, 0.018055178225040436, 0.016661416739225388, 0.03294508159160614, -0.00274647050537169, 0.045879729092121124, 0.03980502858757973, 0.0006468525971285999, 0.04261966049671173, 0.06222136318683624, 0.011385851539671421, 0.01788073405623436, 0.004638363607227802, -0.006647516507655382, 0.03959115594625473, 0.001919460715726018, 0.01632806658744812, 0.004189344123005867, -0.022976847365498543, -0.031573038548231125, -0.028649134561419487, 0.044652827084064484, -0.02263161540031433, 0.05013645067811012, 0.0391417071223259, 0.020276455208659172, -0.03901972249150276, -0.021056193858385086, 0.017167774960398674, 0.03768375143408775, -0.010577717795968056, -0.020352482795715332, 0.014246460050344467, 0.006512392312288284, 0.029468072578310966, -0.017486143857240677, 0.02136293426156044, 0.03515414148569107, 0.013478858396410942, 0.053613223135471344, -0.023183690384030342, -0.036637090146541595, -0.027745172381401062, -0.07048128545284271, -0.049156975001096725, -0.023060651496052742, -0.0028945349622517824, -0.019513031467795372, -0.013953895308077335, -0.058733981102705, 0.014623351395130157, -0.02787308394908905, -0.011869348585605621, -0.0006889223004691303, -0.04397759214043617, 0.0429929681122303, 0.0019520996138453484, 0.036166295409202576, -0.03675476089119911, 0.047887589782476425, -0.009132499806582928, 0.04763776436448097, 0.0124179283156991, -0.010386398062109947, -0.013136832043528557, -0.01880374737083912, -0.0020811818540096283, 0.002064427128061652, 0.006408092565834522, 0.0029135975055396557, -0.0352851077914238, -0.0008543659932911396, -0.023390257731080055, 0.03107704035937786, -0.031565506011247635, 0.01666778326034546, -0.04596485570073128, 0.05571884661912918, 0.037111103534698486, -0.049005959182977676, 0.0422125980257988, 0.06675545871257782, -0.05409485846757889, 0.03642681613564491, 0.018924789503216743, 0.02024931274354458, -0.022420667111873627, 0.0568929947912693, 0.031483717262744904, 0.02450406178832054, -0.023971624672412872, -0.019601332023739815, -0.04442927986383438, -0.00021658522018697113, 0.024463267996907234, -0.0340646430850029, -0.01746358722448349, 0.06642445176839828, 0.009312494657933712, -0.04664826765656471, 0.0026371662970632315, -0.06373921036720276, -0.04811886325478554, -0.03141848370432854, -0.025587640702724457, 0.0412425696849823, 0.06699497252702713, 0.011897148564457893, -0.03320002555847168, -0.016565436497330666, 0.010298291221261024, 0.04795907437801361, 0.010852710343897343, -0.015194547362625599, 0.03371202573180199, 0.060977376997470856, 0.02686779759824276, 0.03758712112903595, 0.02990449219942093, -0.03050231747329235, 0.004184969700872898, 0.018474727869033813, -0.011734484694898129, 0.03861577808856964, 0.01853955164551735, -0.0066298977471888065, 0.010461590252816677, 0.02290496975183487, -0.03946515917778015, -0.0031059933826327324, 0.0006732037290930748, -0.02000054344534874, 0.03093992918729782, 0.020765630528330803, -0.008224383927881718, -0.002741103759035468, -0.018977845087647438, -0.026889555156230927, -0.010966244153678417, 0.007500226143747568, 0.0307619571685791, -0.05598488822579384, 0.051020972430706024, 0.006577303633093834, -0.017995644360780716, 0.013720259070396423, -0.020984115079045296, -0.02434968203306198, 0.02741670049726963, 0.0046926746144890785, 0.04551584646105766, -0.05538714677095413, 0.022109784185886383, 0.014761027880012989, 0.010014437139034271, 0.04153740033507347, 0.028107449412345886, 0.02631376124918461, -0.015729067847132683, -0.03318585455417633, -0.03492634370923042, -0.016612358391284943, 0.006655863486230373, -0.02876865305006504, -0.016723662614822388, -0.008809988386929035, -0.042750220745801926, -0.05101794749498367, 0.04329027608036995, 0.04515651986002922, 0.02249271236360073, 0.013844193890690804, 0.05220116302371025, -0.009442056529223919, 0.014194630086421967, 0.025174086913466454, 0.0014371562283486128, -0.009934412315487862, -0.0415269173681736, 0.04105466976761818, -0.010473106056451797, -0.012412434443831444, -0.007660290692001581, -0.01290192548185587, -0.03176188841462135, 0.023836463689804077, 0.011464376002550125, 0.001522938720881939, -0.04052015766501427, 0.022220304235816002, 0.003945739008486271, 0.03442296385765076, 0.006844640709459782, -0.020711397752165794, 0.008507052436470985, 0.0322696678340435, 0.013874826021492481, -0.04942799359560013, 0.008447624742984772, -0.06201152876019478, 0.011874054558575153, 0.039051834493875504, -0.00030264133238233626, -0.05146634206175804, -0.01609957590699196, -0.02905290387570858, -0.026787355542182922, 0.014781779609620571, 0.05870342254638672, -0.0026281136088073254, 0.03127902001142502, -0.05052853748202324, 0.04215632751584053, 0.011064695194363594, -0.00948045589029789, 0.00026557035744190216, 0.037669338285923004, 0.024472514167428017, -0.015147462487220764, 0.035832490772008896, -0.010375182144343853, -0.025610370561480522, 0.014026705175638199, -0.044600486755371094, 0.04113367199897766, -0.043138884007930756, -0.024070385843515396, -0.01339341327548027, 0.011824632994830608, -0.0016900576883926988, 0.033802345395088196, -0.010601221583783627, -0.0030246248934417963, 0.0028414952103048563, 0.03959228843450546, -0.05031843110918999, -0.023742321878671646, 0.016444353386759758, 0.011779522523283958, -0.019829850643873215, 0.04922255501151085, -0.001397028099745512, 0.002340839011594653, 0.013980437070131302, 0.02192372828722, -0.023205693811178207, 0.02493516355752945, -0.00515366718173027, 0.05697815865278244, -0.007212070748209953, -0.012855423614382744, -0.01645689830183983, -0.03832486271858215, 0.040289297699928284, -0.029093563556671143, -0.021739114075899124, -0.004123630467802286, -0.055084165185689926, -0.007039831485599279, -0.021397629752755165, -0.02500102110207081, 0.02753439173102379, 0.031246129423379898, -0.02692718617618084, 0.005006371531635523, -0.008304656483232975, -0.03327832743525505, -0.036901116371154785, -0.03892170637845993, 0.021919645369052887, 0.030265288427472115, 0.04167797043919563, 0.04422275349497795, -0.02157266065478325, -0.029741935431957245, 0.010783608071506023, -0.00845983438193798, -0.005260610952973366, -0.028236210346221924, 0.010772457346320152, 0.0027453526854515076, -0.013309651985764503, -0.018559789285063744, 0.0012164416257292032, 0.009966304525732994, 0.0197997335344553, 0.02058069035410881, -0.02182403765618801, 0.023721234872937202, -0.021155284717679024, -0.012224387377500534, 0.05062064528465271, -0.003261690493673086, -0.10348659008741379, -0.01945224590599537, 0.022056065499782562, -0.013496136292815208, 0.036440104246139526, 0.039735447615385056, -0.019757796078920364, -0.032169632613658905, -0.03861527889966965, 0.023714706301689148, -0.021934492513537407, 0.015987999737262726, -0.03934617340564728, -0.021195534616708755, -0.00925171934068203, 0.03155132383108139, 0.020415974780917168, -0.018706493079662323, -0.00566937355324626, -0.04238186031579971, 0.025169841945171356, -0.03258537873625755, -0.021290460601449013, -0.020656730979681015, -0.01731926016509533, 0.03437473997473717, 0.03825363889336586, -0.008686813525855541, 0.0004188277234788984, 0.00933102797716856, 0.007763642817735672, 0.01894325204193592, 0.025952884927392006, -0.033141013234853745, -0.017586877569556236, -0.011357930488884449, -0.012797080911695957, 0.00269818352535367, -0.040946464985609055, -0.03374374285340309, 0.07471656054258347, -0.04344463720917702, 0.014579448848962784, -0.025205304846167564, -0.05449433624744415, -0.033420149236917496, 0.00424744701012969, 0.0633690133690834, -0.024700265377759933, -0.006619333755224943, -0.005132537800818682, 0.02099677361547947, 0.03499147668480873, 0.00673304870724678, -0.034483831375837326, -0.023605890572071075, -0.034645140171051025, -0.06122827157378197, 0.05194257199764252, -0.027367418631911278, -0.021803101524710655, -0.03050953708589077, -0.008987155742943287, 0.06229338422417641, -0.02932654693722725, 0.050388045608997345, 0.06881083548069, -0.004313918296247721, 0.009730152785778046, -0.044461313635110855, 0.05835570767521858, 0.026192152872681618, -0.021995391696691513, -0.012449948117136955, -0.013482877984642982, -0.04251992702484131, 0.010643793269991875, -0.03624831512570381, -0.044068966060876846, -0.01939990743994713, -0.007134982384741306, 0.04728752002120018, 0.005146424751728773, 0.042369354516267776, -0.015298422425985336, -0.032805029302835464, -0.06148083135485649, 0.04872337728738785, 0.012490591034293175, 0.018529143184423447, 0.052715953439474106, -0.026967644691467285, 0.007177265826612711, 0.021433351561427116, 0.010057762265205383, -0.01927242800593376, -0.07917719334363937, 0.08059955388307571, -0.015449756756424904, -0.04255868121981621, 0.03796364367008209, 0.013010136783123016, -0.04748816788196564, -0.05293058604001999, -0.020089350640773773, -0.01803193800151348, -0.004260062240064144, -0.010934747755527496, 0.0076191178523004055, 0.0058872876688838005, -0.046482332050800323, 0.01852966658771038, 0.01784832403063774, -0.04077131673693657, 0.017466019839048386, 0.018532434478402138, -0.020654218271374702, -0.04374445974826813, 0.05443735420703888, 0.05382055416703224, -0.03261646628379822, -0.01527666300535202, -0.0587562620639801, 0.0006198068731464446, -0.012840990908443928, -0.013971540145576, 0.037253912538290024, -0.021991774439811707, 0.02287512831389904, 0.01806512661278248, 0.002509381389245391, 0.043877892196178436, -0.007999570108950138, -0.018563078716397285, 0.008887600153684616, -0.01934325136244297, -0.07397525012493134, -0.01785994879901409, 0.033193256705999374, -0.0007688115583732724, 0.03253667429089546, -0.044152695685625076, 0.024520792067050934, 0.04130855202674866, 0.056531280279159546, -0.014870931394398212, -0.06286636739969254, -0.0287487730383873, -0.02718243934214115, -0.02757217176258564, -0.04226946085691452, -0.04055919125676155, 0.0014146561734378338, 0.0558055080473423, -0.01107416395097971, -0.030508803203701973, 0.02477884665131569, 0.007235044613480568, -0.018424145877361298, 0.00758918235078454, -0.03249671682715416, 0.002899011131376028, -0.036320675164461136, -0.006597565487027168, -0.03666488453745842, -0.0342075414955616, -0.01198474783450365, 0.02012627199292183, 0.011864954605698586, 0.04079458490014076, -0.021852638572454453, 0.026089556515216827, 0.02285577729344368, -0.0012022432638332248, 0.002110718982294202, -0.021873880177736282, -0.018565092235803604, 0.0051941717974841595, -0.017853843048214912, 0.052677933126688004, 0.015227679163217545, -0.0016781218582764268, 0.014926754869520664, 0.00580710731446743, -0.03132374957203865, -0.009747689589858055, -0.000287736882455647, 0.0340200737118721, -0.0047553232870996, -0.011648086830973625, -0.04590599611401558, 0.02233138680458069, -0.06034736707806587, 0.0240036454051733, -0.006032006815075874, -0.02261515147984028, 0.01850260980427265, 0.02386697381734848, 0.015978125855326653, 0.04721856117248535, 0.042002275586128235, 0.06103070080280304, 0.013552900403738022, 0.013021107763051987, 0.021963832899928093, 0.019704697653651237, 0.018052006140351295, 0.030447952449321747, 0.01942768506705761, -0.050907738506793976, 0.012871479615569115, 0.027447478845715523, -0.011797647923231125, 0.0031355186365544796, 0.0064291940070688725, -0.019889289513230324, -0.03469746559858322, -0.02431677281856537, 0.010156641714274883, 0.004296099301427603, 0.021379170939326286, 0.0009425833122804761, -0.006134867202490568, -0.012602237053215504, -0.014681692235171795, -0.0037170236464589834, -0.08446165174245834, -0.047543518245220184, 0.0347742959856987, -0.021631332114338875, -0.024997562170028687, -0.022378334775567055, -0.03293055668473244, -0.017891762778162956, 0.019899360835552216, 0.024912821128964424, -0.00966986920684576, 0.02801085263490677, -0.005279161501675844, 0.03435077518224716, -0.00577228469774127, -0.011299379169940948, 0.013062646612524986, 0.03171360865235329, -0.04803705960512161, -0.02023402415215969, 0.009171726182103157, 0.05734547972679138, 0.007386476267129183, -0.0035916930064558983, -0.03629641234874725, 0.008715189062058926, -0.016223343089222908, 0.013295065611600876, -0.051590871065855026, 0.0013955212198197842, -0.015409217216074467, 0.02699124626815319, -0.03400639072060585, -0.021551992744207382, -0.024371258914470673, 0.028726622462272644, 0.01811137981712818, -0.02704477310180664, -0.026781607419252396, 0.024701878428459167, 0.03537140041589737, -0.021013831719756126, 0.008192580193281174, 0.02695254050195217, 0.02686719037592411, -0.012037854641675949, 0.003127513686195016, -0.013146263547241688, 0.04051638022065163, 0.05577508360147476, 0.01767437905073166, -0.024629825726151466, 0.03474460914731026, 0.047227658331394196, -0.020171932876110077, -0.0352819450199604, 0.03526254743337631, 0.02726018987596035, -0.011823583394289017, 0.016239019110798836, -0.001225698972120881, 0.012887098826467991, -0.03955826535820961, -0.02283427119255066, 0.007765579503029585, 0.0003833152586594224, -0.006010939832776785, -0.007909290492534637, -0.024715902283787727, 0.04896199703216553, -0.024581672623753548, -0.04027092829346657, -0.00857508834451437, -0.004538319073617458, 0.008737274445593357, 0.05442223325371742, -0.0019856086000800133, -0.011882147751748562, 0.03948568180203438, 0.035017699003219604, 0.02673826552927494, 0.03328687325119972, 0.013317837379872799, 0.018111076205968857, -0.0026359574403613806, 0.0036392526235431433, 0.00023619658895768225, -0.01815587282180786, -0.026953749358654022, -0.03281073644757271, -0.07770233601331711, 0.03188212215900421, -0.024121666327118874, -0.04346281290054321, 0.02143867127597332, -0.02888205461204052, -0.004894189070910215, -0.025369759649038315, 0.05153827741742134, -0.027288230136036873, -0.0076886136084795, 0.00829453393816948, -0.017947284504771233, -0.023116745054721832, 0.038402166217565536, -0.04584123566746712, 0.03260526806116104, 0.01076863519847393, 0.05390173941850662, -0.024055656045675278, 0.09333129227161407, 0.03398571535944939, -0.013360128737986088, 0.0024187429808080196, 0.013981891795992851, -0.0071486239321529865, -0.030368397012352943, -0.012952495366334915, -0.0305336806923151, 0.005614583846181631, -0.05523019656538963, -0.03454163298010826, -0.033957019448280334, 0.023696094751358032, -0.010425970889627934, -0.054949719458818436, -0.0014935331419110298, -0.013900576159358025, -0.03934774920344353, 0.01612144149839878, 0.04833875223994255, 0.02164808101952076, -0.025096241384744644, 0.011415649205446243, -0.001511986250989139, -0.051886286586523056, 0.001016818336211145, -0.024063991382718086, 0.02739057131111622, -0.01446853019297123, -0.03721185401082039, -0.02915336936712265, -0.03421711549162865, -0.012485633604228497, 0.00576701620593667, -0.039970651268959045, -0.009891405701637268, 0.03593285754323006, 0.055979836732149124, 0.043065961450338364, -0.003909416031092405, -0.015128026716411114, -0.0013702985597774386, 0.027224943041801453, 0.06007684767246246, 0.015883591026067734, 0.042209383100271225, 0.031120840460062027, 0.0035718416329473257, -0.026855608448386192, -0.02466975897550583, 0.024829890578985214, -0.01038665883243084, -0.019650202244520187, -0.03620464354753494, -0.003110602032393217, -0.03250427171587944, -0.07730305939912796, -0.0013035981683060527, 0.02603180706501007, 0.010957201942801476, -0.030727116391062737, -0.05584349110722542, 0.00037820081342943013, -0.049219198524951935, -0.0015445109456777573, -0.0326693132519722, 0.04111946001648903, -0.004389066249132156, -0.01397830992937088, -0.01666918955743313, -0.0668889582157135, 0.23717522621154785, 0.04420379549264908, 0.06178077310323715, -0.016691097989678383, 0.01853344403207302, 0.038805946707725525, 0.035351160913705826, -0.035697825253009796, 0.011935790069401264, -0.00946914404630661, -0.010404761880636215, -0.012761733494699001, -0.005187117960304022, 0.019686667248606682, -0.010550456121563911, 0.0371406115591526, -0.05734483525156975, -0.005254813004285097, -0.007031690329313278, -0.07353492826223373, -0.040962621569633484, 0.01108650304377079, -0.008855793625116348, 0.0383121520280838, 0.0006537261069752276, 0.01315068919211626, 0.03327386826276779, -0.050122328102588654, 0.03110094740986824, -0.019844546914100647, -0.007804416585713625, -0.04019486531615257, 0.022698478773236275, 0.009534075856208801, -0.03881491348147392, 0.03523501008749008, 0.011264219880104065, -0.06931665539741516, -0.0035364723298698664, 0.02764858677983284, 0.010359182022511959, -0.0214937012642622, 0.011578240431845188, -0.02697833813726902, -0.012003634124994278, 0.021149257197976112, -0.028403837233781815, 0.013707335107028484, 0.016576435416936874, -0.06546585261821747, 0.044810421764850616, -0.03483980894088745, 0.04187430813908577, -0.03300732374191284, -0.04195503890514374, -0.01084913033992052, -0.025836654007434845, -0.04164090007543564, -0.004980573430657387, 0.03508975729346275, 0.011162149719893932, 0.026284269988536835, -0.010839145630598068, -0.006363960914313793, -0.006625568959861994, 0.050090596079826355, -0.007855987176299095, -0.018923990428447723, -0.002134843962267041, 0.021391211077570915, 0.005473187193274498, -0.016860101372003555, -0.014681225642561913, -0.04314589127898216, 0.0049744355492293835, 0.008846789598464966, -0.01903080940246582, 0.019538143649697304, -0.018525127321481705, -0.03844621032476425, -0.0018391826888546348, -0.0353630855679512, -0.01806250400841236, -0.019518917426466942, 0.02851809188723564, 0.06636758148670197, -0.04459966719150543, -0.018858235329389572, 0.004518287256360054, 0.04797494783997536, 0.029902538284659386, 0.030833816155791283, 0.020393621176481247, -0.030006449669599533, -0.02656450867652893]}), _DocumentWithState(metadata={'page': 6, 'source': '/content/Retrieval-Augmented-Generation-for-NLP.pdf'}, page_content='more diverse than RAG-Token’s, and both are signiﬁcantly more diverse than BART without needing\\nany diversity-promoting decoding.\\nRetrieval Ablations A key feature of RAG is learning to retrieve relevant information for the task.\\nTo assess the effectiveness of the retrieval mechanism, we run ablations where we freeze the retriever\\nduring training. As shown in Table 6, learned retrieval improves results for all tasks.', state={'embedded_doc': [0.028614794835448265, 0.0030700804200023413, -0.027364972978830338, 0.013379652984440327, -0.029261991381645203, -0.02105136401951313, -0.003934208303689957, 0.0010455695446580648, 0.016601188108325005, 0.06529004871845245, 0.022757023572921753, -0.009720700792968273, 0.00209280988201499, -0.028100499883294106, -0.01917521096765995, -0.00875531230121851, -0.02805466577410698, -0.037241943180561066, -0.031945791095495224, -0.01488720066845417, -0.0009187785326503217, 0.007975681684911251, -0.06339317560195923, -0.006634090095758438, -0.012426769360899925, 0.044350434094667435, 0.012026989832520485, 0.006968342233449221, 0.07360950112342834, 0.0826505497097969, -0.0221047755330801, -0.01847919635474682, 0.029018878936767578, -0.05198865383863449, -0.020802434533834457, -0.016587048768997192, 0.021778671070933342, -0.016093099489808083, -0.03258731588721275, -0.04683886095881462, 0.025079282000660896, -0.02147199958562851, 0.019427232444286346, -0.03626482933759689, -0.0724099650979042, -0.002966627012938261, -0.0038153300993144512, -0.06173320114612579, -0.009070820175111294, -0.053420666605234146, 0.00019594274635892361, -0.007516574114561081, 0.008546026423573494, -0.02767126075923443, 0.023092953488230705, 0.00019782671006396413, 0.008773327805101871, 0.0004910086863674223, -0.022061754018068314, 0.016822339966893196, 0.030121102929115295, 0.009291195310652256, -0.008528148755431175, -0.06231317296624184, 0.028422227129340172, 0.03405189514160156, -0.00883202813565731, -0.013554520905017853, -0.011922957375645638, -0.050946567207574844, -0.02925332821905613, 0.010672729462385178, -0.03529135137796402, -0.07552635669708252, -0.022889604791998863, -0.008788053877651691, 0.017109356820583344, 0.011126585304737091, -0.03237634524703026, 0.012679817155003548, 0.00851664412766695, 0.03826696798205376, -0.01887945644557476, 0.015197604894638062, -0.03907934948801994, -0.03252507746219635, 0.01081991195678711, 0.014011955820024014, 0.00939011387526989, -0.012766582891345024, -0.013011216185986996, 0.028110742568969727, -0.010722493752837181, 0.011988932266831398, 0.023769628256559372, 0.054780684411525726, -0.02031019888818264, 0.04848591610789299, 0.015991300344467163, -0.0009402366122230887, 0.017434174194931984, 0.049023792147636414, -0.02555578388273716, 0.06468983739614487, -0.037913061678409576, -0.026153841987252235, 0.02664807066321373, 0.007617287803441286, 0.011164595372974873, -0.049576014280319214, -0.009846850298345089, -0.009718072600662708, -0.009230662137269974, 0.031079567968845367, 0.0032114984933286905, 0.04118691012263298, 0.0039178235456347466, 0.012080291286110878, -0.02843993902206421, 0.014621014706790447, 0.004292231518775225, -0.016078602522611618, 0.027744702994823456, -0.015383373945951462, 0.02812817320227623, -0.020851409062743187, -0.010883275419473648, 0.03813432157039642, -0.03768938034772873, 0.008134080097079277, 0.011531305499374866, -0.007614749018102884, -0.001185544184409082, 0.055461812764406204, 0.019001653417944908, 0.03258270397782326, -0.01690134033560753, 0.052002836018800735, 0.022463958710432053, -0.0476158931851387, 0.0226048082113266, -0.0158860944211483, 0.0003114925930276513, 0.08650185912847519, -0.015461754985153675, 0.016688883304595947, 0.03153213486075401, -0.026494476944208145, -0.0428568571805954, 0.016118597239255905, -0.019317593425512314, 0.02263152413070202, 0.013263669796288013, 0.0015445174649357796, -0.009606328792870045, 0.005589419510215521, -0.012709423899650574, 0.04690907523036003, 0.008469517342746258, 0.010433517396450043, -0.04490101337432861, 0.021120542660355568, -0.0415995717048645, 0.058867793530225754, -0.0045233662240207195, 0.046943340450525284, 0.0027847583405673504, -0.025211220607161522, 0.011045786552131176, -0.05359199270606041, 0.014555324800312519, 0.0008452741894870996, 0.015108417719602585, 0.04104138910770416, 0.03153787925839424, 0.05751093477010727, 0.04796384647488594, 0.01979486458003521, 0.036826133728027344, 0.012903220020234585, 0.006637559738010168, -0.018276114016771317, 0.011319124139845371, 0.057600878179073334, -0.006291167810559273, 0.0028513248544186354, 0.006248592399060726, -0.01771881803870201, -0.027142886072397232, -0.022788936272263527, -0.01949859969317913, 0.05365552380681038, -0.031712014228105545, 0.023288078606128693, 0.008511940948665142, 0.021333733573555946, -0.01895023137331009, -0.019390789791941643, 0.01984577439725399, -0.06693653017282486, -0.0121705187484622, 0.07859349995851517, -0.0025224601849913597, 0.01778828352689743, -0.020613281056284904, -0.023482218384742737, 0.029206711798906326, 0.0429600290954113, -0.03379620984196663, -0.00894062127918005, 0.015321057289838791, 0.02324679121375084, -0.01170065626502037, -0.013913859613239765, 0.027457483112812042, 0.0008302770438604057, -0.01634027622640133, 0.006759982090443373, 0.02670481987297535, -0.005739148240536451, 0.0040010423399508, 0.011886616237461567, 0.02840406633913517, 0.02043890953063965, -0.006874851416796446, -0.005204427056014538, 0.007625902071595192, 0.06303363293409348, -0.0016262048156931996, 0.015508477576076984, -7.688850746490061e-05, 0.047105904668569565, 0.0016867012018337846, 0.04864710196852684, 0.04314516857266426, 0.021135510876774788, 0.0346553772687912, 0.056174471974372864, 0.021775776520371437, 0.012553934939205647, 0.024423526600003242, 0.02417916990816593, 0.017235441133379936, 0.017865994945168495, -0.005669032223522663, 0.026073595508933067, -0.02492239885032177, 0.007750155404210091, -0.04198497533798218, 0.029033873230218887, -0.023942578583955765, 0.02632201835513115, 0.004769541323184967, 0.029050396755337715, -0.05959649384021759, -0.024359630420804024, 0.018039530143141747, 0.034287478774785995, -0.027701934799551964, -0.02997780404984951, -0.017021695151925087, 0.027869457378983498, 0.00452290428802371, -0.03138618916273117, 0.04731086641550064, 0.0481378473341465, 0.016147101297974586, 0.053467512130737305, -0.020701445639133453, -0.03616173937916756, -0.06023751199245453, -0.05727141723036766, -0.058158885687589645, -0.02189885452389717, -0.022316429764032364, -0.03216318413615227, -0.015389880165457726, -0.05850908160209656, 0.025234125554561615, -0.0033919240813702345, 0.013703675009310246, 0.00017165232566185296, -0.029960710555315018, 0.006391996052116156, -0.012207851745188236, 0.04862675070762634, -0.023614700883626938, 0.038349803537130356, 0.005219443701207638, 0.056658558547496796, 0.008344623260200024, -0.015361962839961052, -0.030343851074576378, -0.03042992204427719, 0.02617586962878704, 0.0007115686894394457, 0.021481437608599663, -0.009471090510487556, -0.029554054141044617, -0.0264715775847435, -0.004342363215982914, -0.006979510188102722, -0.026214512065052986, 0.010290995240211487, -0.05861315503716469, 0.03913494199514389, 0.058891527354717255, -0.031924210488796234, 0.055265363305807114, 0.055201757699251175, -0.044259484857320786, 0.047105513513088226, 0.003540480975061655, -0.015052158385515213, -0.04662971943616867, 0.07640295475721359, 0.03201515972614288, 0.03574933484196663, -0.0317813865840435, -0.01809636875987053, -0.027229905128479004, -0.019427010789513588, 0.04255365580320358, -0.041928283870220184, -0.03982427716255188, 0.05307839438319206, -0.009302924387156963, -0.05059356614947319, 0.039108000695705414, -0.05237860605120659, -0.05495293065905571, -0.0057227290235459805, -0.039804570376873016, 0.032528094947338104, 0.04379895329475403, 0.017531458288431168, -0.040269315242767334, -0.0164700448513031, 0.023570382967591286, 0.04731911048293114, 0.03511691465973854, -0.03068465366959572, 0.02286117896437645, 0.04481078311800957, 0.019051235169172287, -0.0011526989983394742, 0.01171349361538887, -0.039685435593128204, 0.014901954680681229, 0.003975562751293182, -0.009098931215703487, 0.04128604754805565, 0.026553377509117126, -0.0073004234582185745, 0.021353010088205338, 0.027567798271775246, -0.05439911410212517, 0.00611526845023036, 0.005266591906547546, 0.02404973655939102, 0.04462937265634537, 0.01716909371316433, 0.0006059512961655855, -0.013466333039104939, -0.025016022846102715, -0.0360206738114357, 0.02902236394584179, -0.0046590291894972324, 0.03412226215004921, -0.051037922501564026, 0.04354781657457352, -0.003933429252356291, -0.0065877726301550865, 0.026355691254138947, -0.045223746448755264, -0.0026667520869523287, 0.03568565845489502, -0.0014785281382501125, 0.07381850481033325, -0.052746135741472244, 0.01990947127342224, 0.01494680717587471, 0.032787878066301346, 0.020739663392305374, 0.00777657562866807, 0.023917529731988907, -0.016632812097668648, -0.011575384996831417, -0.0225006565451622, -0.00430474616587162, 0.02453368715941906, -0.020623715594410896, -0.013594826683402061, -0.0353749543428421, -0.01776982843875885, -0.041591256856918335, 0.04381081461906433, 0.03654172271490097, 0.017879122868180275, -0.0189301036298275, 0.032162733376026154, -0.0091596944257617, 0.007554527372121811, 0.021430350840091705, 0.010220133699476719, -0.021955620497465134, -0.026483220979571342, 0.010360348038375378, -0.012552645988762379, -0.015857283025979996, -0.03283490985631943, -0.01200547069311142, -0.03719930350780487, 0.024275971576571465, 0.005934413522481918, 0.01742098666727543, -0.05792500451207161, 0.01602742075920105, 0.001507416251115501, 0.03530297055840492, 0.013364060781896114, -0.031190726906061172, -0.021616479381918907, 0.04316990077495575, 0.001976573606953025, -0.054476141929626465, 0.010036989115178585, -0.04021284729242325, 0.009623671881854534, 0.05736150965094566, -0.014551679603755474, -0.034918997436761856, -0.004560825414955616, -0.05787026509642601, -0.0319100022315979, 0.018632613122463226, 0.057566087692976, -0.019193222746253014, 0.015552346594631672, -0.04320936277508736, 0.027438953518867493, 0.004209528211504221, -0.017558932304382324, 0.017932018265128136, -0.00278818653896451, 0.03182606399059296, -0.00885664764791727, 0.044152192771434784, -0.025912800803780556, -0.023342499509453773, 0.0026614563539624214, -0.0591101199388504, 0.02836638130247593, -0.03570874035358429, -0.01692865416407585, -0.008795210160315037, 0.00941610150039196, -0.008574031293392181, 0.023956863209605217, -0.010646726004779339, 0.0021236627362668514, 0.011642629280686378, 0.04639589786529541, -0.04466785863041878, -0.03614448755979538, 0.02656327560544014, -0.007178119383752346, -0.014959514141082764, 0.03287860378623009, 0.011800359934568405, -0.0037753053475171328, 0.009605053812265396, 0.01201080996543169, -0.046780314296483994, 0.03207000717520714, -0.019028402864933014, 0.02802048623561859, -0.00782829336822033, -0.027925657108426094, -0.014376631006598473, -0.022904274985194206, 0.028936171904206276, -0.0038167955353856087, -0.031718287616968155, -0.05040198937058449, -0.04156751558184624, -0.039383772760629654, 0.004072553478181362, -0.037478432059288025, 0.008547213859856129, 0.0034893511328846216, -0.022000810131430626, 0.017140738666057587, -0.0005064082215540111, -0.04712093994021416, -0.014500056393444538, -0.01784328557550907, 0.013008596375584602, 0.045412711799144745, -0.000982646713964641, 0.03836296498775482, -0.03205461800098419, -0.050479769706726074, 0.011801106855273247, -0.00941360741853714, -0.0015876766992732882, -0.036551523953676224, 0.00403172429651022, -0.00895668100565672, 0.0076184398494660854, -0.026281408965587616, -0.0008379603968933225, -0.019248344004154205, 0.01040627434849739, 0.026357626542448997, 0.008547265082597733, -0.002415155991911888, -0.03334642946720123, -0.040847938507795334, 0.07060667872428894, -0.005226331762969494, -0.08713255822658539, -0.040775787085294724, 0.055682167410850525, -0.0073868571780622005, 0.02095004916191101, 0.03358883410692215, -0.02661830745637417, -0.020366178825497627, -0.029422564432024956, 0.021018462255597115, -0.04751471430063248, 0.003880096599459648, -0.046029701828956604, -0.013173339888453484, -0.0071314298547804356, 0.04857812076807022, 0.04365897178649902, 0.0180321354418993, -0.0003051319799851626, -0.033419471234083176, 0.014919809065759182, -0.04189985990524292, -0.01320160087198019, -0.02518950216472149, -0.02550865337252617, 0.0007358245202340186, 0.056770600378513336, 0.007661991752684116, 0.016955051571130753, -0.00722817936912179, 0.009851894341409206, 0.02545788884162903, 0.017223147675395012, -0.036334287375211716, -0.03798866644501686, -0.015481245703995228, -0.03261366859078407, 0.018414674326777458, -0.03797348961234093, -0.056539878249168396, 0.03548979014158249, -0.05791149288415909, 0.0245989877730608, -0.03797067701816559, -0.0011903626145794988, -0.02738611213862896, -0.01717749424278736, 0.05530742183327675, -0.01741475984454155, 0.02556554228067398, -0.005132012069225311, 0.009108180180191994, 0.026654362678527832, 0.022045470774173737, -0.04629269614815712, -0.00878000445663929, -0.03726145625114441, -0.0788365826010704, 0.033587586134672165, -0.04083450138568878, 0.015599633567035198, -0.028127556666731834, -0.014605848118662834, 0.05264635756611824, -0.022639326751232147, 0.06543292105197906, 0.05303770303726196, -0.008069614879786968, 0.005756705533713102, -0.01429680734872818, 0.03214314207434654, 0.049324072897434235, -0.008983515202999115, -0.01932106912136078, -0.014253418892621994, -0.06046180799603462, -0.004266597330570221, -0.03107961267232895, -0.03573324903845787, -0.023766955360770226, 0.0033801053650677204, 0.04898792877793312, -0.036637082695961, 0.05158151313662529, -0.018000232055783272, -0.05027342215180397, -0.051309481263160706, 0.0471554696559906, 0.0014045946300029755, 0.027050312608480453, 0.057692933827638626, -0.009402950294315815, -0.02662402205169201, 0.011059918440878391, -0.02147517167031765, -0.012481188401579857, -0.03992537036538124, 0.07744983583688736, -0.024140579625964165, -0.03661932796239853, 0.04363655671477318, -0.006760140415281057, -0.04008333012461662, -0.05359140411019325, -0.009830241091549397, -0.006554407067596912, -0.01042722538113594, 0.0006374989752657712, -2.3561235138913617e-05, 0.011020597070455551, -0.04087410494685173, -0.024334274232387543, 0.016385545954108238, -0.020035427063703537, 0.02287844754755497, 0.03232893347740173, -0.009069896303117275, -0.05208886042237282, 0.027583684772253036, 0.05604413151741028, -0.028739966452121735, -0.015226757153868675, -0.014382901601493359, 0.014652195386588573, -0.028011688962578773, -0.00833837315440178, 0.035383179783821106, -0.049213726073503494, 0.02183973230421543, 0.013531207107007504, 0.008518517948687077, 0.03793114423751831, -0.029291784390807152, -0.009533857926726341, 0.02598015032708645, -0.02876562997698784, -0.049456264823675156, -0.008321481756865978, 0.026574738323688507, 0.01259694341570139, 0.03240908309817314, -0.03170609101653099, 0.017661409452557564, 0.05296245217323303, 0.0011384662939235568, -0.02952682599425316, -0.0484800823032856, -0.03287925943732262, -0.04893685504794121, -0.02523474022746086, -0.023647086694836617, -0.029090797528624535, 0.0003126617521047592, 0.030500341206789017, -0.01097862794995308, -0.03976738080382347, 0.018270714208483696, 0.022120725363492966, -0.030116287991404533, -0.008664888329803944, -0.030141422525048256, 0.017656715586781502, -0.038503240793943405, -0.01889115199446678, -0.010893483646214008, -0.0195151399821043, -0.019587012007832527, 0.0002240091416751966, -0.023873915895819664, 0.04140728712081909, 0.015790661796927452, 0.03997432067990303, 0.0032563384156674147, 0.01853528805077076, -0.03175495192408562, -0.015300428494811058, -0.032286353409290314, 0.0085679916664958, 0.000446636404376477, 0.04140561446547508, 0.025503790006041527, 0.004132907837629318, 0.0435103178024292, 0.01946260966360569, -0.03433099761605263, -0.02540452405810356, 0.009195891208946705, 0.005365684628486633, 0.011346065439283848, -0.015876756981015205, -0.013144705444574356, 0.04343470558524132, -0.06332854926586151, 0.03436759486794472, -0.01687697507441044, -0.004084806423634291, 0.018550561740994453, 0.004645056091248989, 0.03048618882894516, 0.06904350966215134, 0.017625709995627403, 0.054913341999053955, 0.02459660917520523, 0.010553713887929916, 0.020126067101955414, 0.020727917551994324, 0.033488646149635315, 0.018589911982417107, -0.015479096211493015, -0.046587537974119186, 0.01535110268741846, 0.02606145292520523, -0.019245442003011703, 0.011686851270496845, -0.005042556673288345, 0.0008233211119659245, -0.03126182034611702, -0.013245154172182083, -0.015787731856107712, 0.0017658158903941512, 0.04684330150485039, 0.034598059952259064, 0.008028642274439335, -0.02373610809445381, -0.03675209730863571, 0.018307659775018692, -0.06536564975976944, -0.028882281854748726, 0.043469905853271484, -0.017664412036538124, -0.04032973572611809, -0.05341656878590584, -0.02017657458782196, -0.014905160292983055, 0.021609192714095116, 0.016603194177150726, -0.024669064208865166, 0.023241614922881126, -0.008280372247099876, 0.030285224318504333, -0.0021715452894568443, 0.005769452080130577, 0.007440220098942518, 0.022999754175543785, -0.05014822259545326, -0.04280515015125275, 0.007599045988172293, 0.05936437100172043, -0.011013664305210114, -0.01832650415599346, -0.01444089226424694, 0.035105150192976, -0.01755666732788086, 0.0004660995036829263, -0.04501904547214508, 0.013714085333049297, 0.0013671732740476727, 0.023322202265262604, -0.016600457951426506, -0.014961081556975842, -0.01651059277355671, 0.03722416236996651, -0.002746190410107374, -0.05106014013290405, -0.01699715293943882, 0.025188691914081573, 0.03109867125749588, -0.016439002007246017, 0.039897821843624115, 0.005778186023235321, 0.021477941423654556, -0.025588368996977806, 0.0235823392868042, 5.376479384722188e-05, 0.03632010519504547, 0.03923379257321358, 0.013872424140572548, -0.034584254026412964, 0.043037332594394684, 0.03266046941280365, -0.01415669173002243, -0.0194682739675045, 0.05045270547270775, 0.03632096201181412, -0.02922840788960457, 0.0032405222300440073, -0.011035855859518051, 0.024229634553194046, -0.010685679502785206, -0.012336693704128265, 0.0059860143810510635, -0.00811073835939169, -0.005956560838967562, -0.002082230756059289, -0.03843063861131668, 0.04485216736793518, -0.031608883291482925, -0.0428120419383049, -0.0040290504693984985, -0.008983161300420761, 0.005922897718846798, 0.031219137832522392, 0.028503190726041794, -0.032965753227472305, 0.044143497943878174, 0.021535230800509453, 0.003348051570355892, 0.05494396388530731, 0.003985327202826738, -0.01865260675549507, -0.022105567157268524, -0.010526886209845543, 0.04616105183959007, -0.011711166240274906, -0.025877991691231728, -0.01700611226260662, -0.04346238821744919, 0.04032015800476074, -0.02083495445549488, -0.05168734863400459, 0.024664072319865227, -0.03650902584195137, -0.003167255548760295, -0.04806762561202049, 0.041640810668468475, -0.056891459971666336, -0.022734230384230614, 0.025485433638095856, -0.0187899861484766, -0.02532283589243889, 0.011378317140042782, -0.034671079367399216, 0.03160155564546585, 0.004165340214967728, 0.04477958008646965, -0.0033601566683501005, 0.06734068691730499, 0.02492457628250122, -0.007496056146919727, -0.02836110070347786, 0.026360588148236275, -0.01066187396645546, -0.04902033507823944, -0.02079062908887863, -0.007476890459656715, -0.0014743985375389457, -0.03202503174543381, -0.026656003668904305, 0.007783255539834499, 0.01325334794819355, -0.0017388995038345456, -0.03733742982149124, -0.0015408961335197091, 0.027837522327899933, -0.03225572034716606, 0.02462620474398136, 0.04605606943368912, 0.0005645910277962685, -0.00723592285066843, 0.020691510289907455, -0.029895974323153496, -0.06086323410272598, -0.013383313082158566, -0.015933439135551453, 0.04113055765628815, -0.0023597674444317818, -0.04908331111073494, -0.015420569106936455, -0.055609844624996185, 0.007216823752969503, 0.022839250043034554, -0.04703661799430847, -0.02327733114361763, 0.03293536603450775, 0.045883987098932266, 0.02090715616941452, -0.004428391344845295, 0.0023291914258152246, 0.002197648398578167, 0.04927535727620125, 0.047245707362890244, 0.015080266632139683, 0.05385427549481392, 0.026906928047537804, -0.012649279087781906, 0.01025828905403614, -0.02562740445137024, 0.044724900275468826, -0.014885171316564083, -0.018733426928520203, -0.027470547705888748, 0.024055415764451027, -0.04099331423640251, -0.042328428477048874, 0.017686277627944946, 0.05445121228694916, 0.015614857897162437, -0.028015265241265297, -0.05220319703221321, -0.00800255686044693, -0.03849499300122261, 0.007190309464931488, -0.034914057701826096, 0.02961989864706993, 0.010582244023680687, -0.0157465897500515, 0.002763839205726981, -0.06128077208995819, 0.21933594346046448, 0.03860890492796898, 0.05880815163254738, -0.0060808174312114716, 0.006285338196903467, 0.06834091246128082, 0.07371281832456589, -0.02065870724618435, 0.02467508427798748, -0.03179270029067993, 0.032311998307704926, -0.012437568046152592, -0.00887814350426197, 0.002555637853220105, 0.013552631251513958, 0.03575710952281952, -0.03761368989944458, -0.023924730718135834, 0.0068149506114423275, -0.07054679840803146, -0.014125182293355465, 0.010627148672938347, -0.02957812324166298, 0.028367824852466583, -0.004057685844600201, -0.001600332441739738, 0.03755492344498634, -0.042247965931892395, 0.04227007180452347, -0.012963484041392803, -0.012267149984836578, -0.01473291590809822, 0.02490166388452053, -0.012948042713105679, -0.02706875465810299, 0.042211148887872696, 0.0048304288648068905, -0.06679002195596695, -9.78185998974368e-05, 0.027549881488084793, 0.0003011844528373331, -0.008947011083364487, 0.025609903037548065, -0.029225347563624382, -0.003404400311410427, 0.023650119081139565, -0.016346760094165802, -0.00208512251265347, 0.038054902106523514, -0.059486933052539825, 0.07201455533504486, -0.04130614921450615, 0.036396682262420654, -0.03488047048449516, -0.03995553031563759, -0.013089624233543873, -0.024386264383792877, -0.048157211393117905, 0.008221198804676533, 0.011393915861845016, 0.04326067492365837, 0.013458482921123505, -0.005121591966599226, 0.024319592863321304, 0.0029310924001038074, 0.026546794921159744, 0.01881740428507328, -0.003172138938680291, 0.011939953081309795, 0.00841216929256916, 0.008229022845625877, 0.004566417075693607, -0.01721096783876419, -0.02339114248752594, 0.030281318351626396, 0.015331744216382504, -0.032969944179058075, 0.02687171846628189, 0.009534214623272419, -0.03691902384161949, -0.014737660065293312, -0.04263964667916298, -0.02768329530954361, -0.041684310883283615, 0.03749728575348854, 0.053136877715587616, -0.04831891506910324, -0.03625696897506714, -0.03836853802204132, 0.05447534844279289, 0.04839571565389633, 0.022690126672387123, -0.01272275298833847, -0.007607183884829283, 0.009650347754359245]}), _DocumentWithState(metadata={'page': 16, 'source': '/content/Retrieval-Augmented-Generation-for-NLP.pdf'}, page_content='Transformers [ 66]3, which achieves equivalent performance to the previous version but is a cleaner\\nand easier to use implementation. This version is also open-sourced. We also compress the document\\nindex using FAISS’s compression tools, reducing the CPU memory requirement to 36GB. Scripts to\\nrun experiments with RAG can be found at https://github.com/huggingface/transformers/\\nblob/master/examples/rag/README.md and an interactive demo of a RAG model can be found\\nathttps://huggingface.co/rag/', state={'embedded_doc': [0.014103924855589867, -0.011099905706942081, -0.00872640497982502, -0.011200337670743465, -0.030802015215158463, -0.013420650735497475, -0.00972119253128767, -0.01503222156316042, 0.019277067855000496, 0.020987628027796745, 0.04877421259880066, -0.015828410163521767, 0.029317865148186684, -0.0505148246884346, -0.012906737625598907, 0.043412141501903534, -0.017811637371778488, -0.04522762447595596, -0.03517065942287445, 0.0013923888327553868, 0.0021889798808842897, -0.00843761581927538, -0.08225881308317184, -0.03933984786272049, -0.031497567892074585, 0.05213640257716179, 0.03400680422782898, -0.010489930398762226, 0.07506253570318222, 0.04666107892990112, -0.05240524932742119, -0.034068282693624496, 0.014405804686248302, -0.04378005862236023, -0.012148845940828323, -0.018022384494543076, 0.008737841621041298, -0.02146955393254757, -0.018969496712088585, -0.060921527445316315, -0.0026320754550397396, -0.04478166624903679, 0.03810156136751175, -0.054727405309677124, -0.070377878844738, 0.005027046427130699, 9.678673814050853e-05, -0.05421082675457001, -0.02247857116162777, -0.04702720791101456, -0.00942186824977398, 0.0016583360265940428, 0.026311147958040237, 0.00589788518846035, 0.01015262957662344, 0.0015363971469923854, -0.01542668603360653, -0.010706087574362755, -0.04522896185517311, 0.014795406721532345, 0.046655166894197464, 0.018533585593104362, 0.0016235344810411334, -0.044968944042921066, -0.001738858874887228, 0.037667058408260345, -0.007803068030625582, -0.009151515550911427, 0.008380315266549587, -0.01641116850078106, -0.0061136758886277676, 0.0101722227409482, -0.04135463014245033, -0.06282952427864075, -0.012577617540955544, -0.008982248604297638, 0.023750606924295425, -0.0009112080442719162, -0.03228946775197983, 0.016706395894289017, 0.014438934624195099, 0.05197025462985039, 0.01506061665713787, 0.012421393766999245, -0.024866066873073578, -0.054558370262384415, 0.0015143488999456167, -0.014253481291234493, 0.004531965125352144, -0.007717083673924208, -0.01610339619219303, 0.03649432212114334, -0.017770500853657722, 0.013119637966156006, 0.006738065741956234, 0.027332093566656113, -0.02499867044389248, 0.05193792283535004, -0.009733826853334904, -0.00729918759316206, 0.033354002982378006, 0.0746619775891304, -0.021005189046263695, 0.05388671159744263, -0.027156701311469078, -0.01005730964243412, 0.02383294329047203, 0.0007663152064196765, -0.00334867718629539, -0.05871850252151489, 0.01222940906882286, -0.02634212002158165, 0.0004603677080012858, -0.0024636811576783657, -0.0027721691876649857, 0.04044952616095543, -0.006905016489326954, 0.019060323014855385, -0.024413421750068665, 0.015091467648744583, -0.0035415124148130417, -0.012914169579744339, 0.0011810086434707046, -0.028746437281370163, -0.003237796248868108, -0.025283169001340866, -0.009073921479284763, 0.03904515504837036, -0.015640821307897568, -0.016626978293061256, 0.016099246218800545, -0.015954982489347458, -0.015241743996739388, 0.03929005190730095, 0.006427839398384094, 0.010977406986057758, -0.001233406481333077, 0.025992732495069504, 0.020971054211258888, -0.04504826292395592, -0.0029967098962515593, -0.016198134049773216, -0.009693721309304237, 0.09013322740793228, 0.009455005638301373, 0.030518727377057076, 0.025911791250109673, -0.04411432519555092, -0.036103907972574234, 0.029591284692287445, -0.025301620364189148, 0.02431248314678669, 0.005276304669678211, 0.02137528732419014, -0.025812627747654915, 0.001333377556875348, -0.024390703067183495, 0.035334233194589615, 0.03313316032290459, 0.0018768886802718043, -0.01997670717537403, 0.014688249677419662, -0.035023417323827744, 0.06727608293294907, -0.041492827236652374, 0.05644991248846054, -0.008580713532865047, -0.01378151960670948, 0.005172249395400286, -0.034850042313337326, 0.007196627091616392, 0.0022008155938237906, -0.0110037662088871, 0.04571886360645294, 0.031127264723181725, 0.02639988251030445, 0.05297244340181351, -0.009690738283097744, 0.027735071256756783, 0.010867497883737087, -0.00514821195974946, -0.0038174784276634455, 0.00859803892672062, 0.05378551036119461, 0.0026015215553343296, 0.019245008006691933, 0.007026605308055878, -0.01878715492784977, -0.017078790813684464, -0.018811266869306564, -0.014169770292937756, 0.06668812781572342, -0.04654082655906677, -0.0003270969318691641, -0.013160555623471737, -0.016312599182128906, -0.027126356959342957, -0.013387691229581833, 0.01631525717675686, -0.06173696368932724, -0.016788732260465622, 0.06342741847038269, 0.0014467602595686913, 0.02592640370130539, -0.009658915922045708, -0.019426673650741577, 0.005322085693478584, 0.043012235313653946, -0.02887016534805298, -0.0023526204749941826, 0.05016300827264786, 0.018914544954895973, -0.006551182828843594, -0.007929332554340363, 0.025075770914554596, -0.007757098414003849, -0.017585230991244316, 0.017773037776350975, 0.0023869406431913376, 0.015076405368745327, 0.0039138286374509335, 0.031159458681941032, 0.03653673082590103, 0.013711068779230118, -0.0034352147486060858, 0.005602884106338024, 0.00981160905212164, 0.0588235929608345, -0.02141614444553852, 0.010401719249784946, -0.005025891121476889, 0.048746462911367416, 0.028440503403544426, 0.032209184020757675, 0.038622744381427765, 0.016481857746839523, 0.044659409672021866, 0.02907651476562023, -0.014021110720932484, 0.023099984973669052, 0.015265007503330708, 0.015599853359162807, 0.0382695347070694, 0.02463051676750183, 0.015289368107914925, 0.02368061989545822, -0.00815746933221817, -0.01149025373160839, -0.018577152863144875, 0.05947389453649521, -0.01926766335964203, 0.047310974448919296, 0.01200864091515541, 0.008079471997916698, -0.04234245419502258, -0.013748109340667725, 0.004818234127014875, 0.03850197046995163, -0.018944289535284042, -0.0213616993278265, 0.0033474054653197527, 0.014646152965724468, 0.012556667439639568, 0.0049076322466135025, 0.0448761023581028, 0.044408444315195084, -0.007200433406978846, 0.01678825542330742, -0.015900470316410065, -0.05075807124376297, -0.05398009344935417, -0.03670578449964523, -0.08473735302686691, -0.02049783430993557, -0.036529287695884705, 0.01746208779513836, 0.005323202349245548, -0.05582412704825401, 0.00020686104835476726, -0.0069831376895308495, -0.013445231132209301, 0.01786063238978386, -0.033351436257362366, 0.02852616086602211, 0.02914425916969776, 0.06151040270924568, -0.023837681859731674, 0.03489333763718605, 0.0006814561784267426, 0.025627342984080315, -0.0021761844400316477, -0.03203717991709709, -0.02411145344376564, -0.024067362770438194, 0.03696250170469284, 0.003549611195921898, 0.004552625119686127, -0.0010451411362737417, -0.05678717419505119, -0.0361289381980896, -0.019076284021139145, -0.01665908470749855, -0.031092816963791847, 0.003675696672871709, -0.043525293469429016, 0.05843643099069595, 0.01247692946344614, -0.03610285744071007, 0.04841355234384537, 0.06356542557477951, -0.04603904113173485, 0.017939908429980278, -0.002466732170432806, 0.007358862552791834, -0.054197508841753006, 0.0914904922246933, 0.044204507023096085, 0.021257398650050163, -0.03522363305091858, -0.009950961917638779, -0.020999211817979813, -0.005813170690089464, 0.01992836222052574, -0.040681689977645874, -0.049251265823841095, 0.04413105174899101, 0.013708273880183697, -0.06730828434228897, 0.024879679083824158, -0.03150549530982971, -0.03183732554316521, -0.015447546727955341, -0.03224590793251991, 0.03638073801994324, 0.028040317818522453, 0.016095293685793877, -0.03132867068052292, 0.005333968438208103, 0.014002413488924503, 0.03130694851279259, 0.014499087817966938, -0.020802706480026245, -0.006735560018569231, 0.06872428208589554, -0.03758825361728668, 0.00424425071105361, 0.03035602904856205, -0.032336339354515076, 0.02842574380338192, 0.009223351255059242, -0.010861530900001526, 0.05572737753391266, 0.03206559270620346, 0.006159656681120396, 0.03578539192676544, 0.024052735418081284, -0.048572614789009094, -0.01022861897945404, -0.0139098409563303, 0.008551346138119698, 0.07032907009124756, 0.010595772415399551, 0.016196662560105324, -0.0004006426897831261, -0.05752769485116005, -0.053714025765657425, 0.012288815341889858, 0.014002435840666294, 0.041652094572782516, -0.06568653881549835, 0.047625791281461716, -0.0015083190519362688, -0.042872004210948944, 0.04350832849740982, -0.01663118787109852, -0.035720258951187134, 0.054942600429058075, -0.0002174470864702016, 0.05201810970902443, -0.04564550518989563, 0.010738231241703033, -0.01610647514462471, -0.008897324092686176, 0.05110079422593117, -0.010386805050075054, 0.035321664065122604, -0.01841512694954872, -0.034136682748794556, -0.031574152410030365, -0.004014945589005947, -0.0024945675395429134, -0.021426592022180557, -0.00030629432876594365, -0.020717056468129158, 0.00428186496719718, -0.059872668236494064, 0.04054886847734451, 0.05040586367249489, 0.022167399525642395, -0.006848256103694439, 0.05010787025094032, 0.016120489686727524, -0.003948188852518797, 0.04029498249292374, -0.022280460223555565, 0.006378865800797939, -0.05594787374138832, 0.03375467285513878, 0.0165835153311491, -0.023961426690220833, -0.014315595850348473, -0.030231161043047905, -0.0062160915695130825, 0.02838161215186119, -0.015429922379553318, -0.010264500044286251, -0.043866273015737534, -0.006080882158130407, -0.005659900140017271, 0.025428133085370064, -0.003555508330464363, -0.017367221415042877, -0.038692571222782135, 0.04030536487698555, 0.03237690031528473, -0.026225384324789047, 0.0001119459921028465, -0.05913015455007553, -0.006640004925429821, 0.04333281144499779, -0.0031834053806960583, -0.03349927440285683, -0.03843023255467415, -0.018638327717781067, -0.015869585797190666, 0.02337474189698696, 0.04887175187468529, 0.007765417452901602, 0.0031231793109327555, -0.06835608184337616, 0.05493238568305969, 0.01471100002527237, -0.027989638969302177, 0.013737949542701244, 0.010242203250527382, 0.0333072803914547, -0.0002699181204661727, 0.03076767548918724, 0.030125167220830917, -0.027619702741503716, 0.02795402519404888, -0.03163359686732292, 0.05315116047859192, -0.029265815392136574, -0.0028891314286738634, -0.014108117669820786, -0.009809964336454868, 0.019480828195810318, 0.002441733842715621, 0.009526713751256466, 0.004493107087910175, 0.01128327939659357, 0.026179101318120956, -0.06315851956605911, -0.05127190425992012, 0.0479704886674881, 0.012113654986023903, -0.016302306205034256, 0.04367624968290329, 0.01859208382666111, -0.031923532485961914, 0.040105655789375305, 0.030823614448308945, -0.01385649386793375, 0.030991123989224434, -0.037441615015268326, 0.030455337837338448, -0.004900102037936449, -0.02937900833785534, -0.029597193002700806, -0.022615402936935425, 0.04789111390709877, 0.007690387312322855, 0.001357484026812017, -0.041034918278455734, -0.05482509732246399, -0.022485604509711266, -0.000764146912842989, -0.031713541597127914, 0.01682155206799507, 0.025304052978754044, -0.00593126006424427, -0.0008133384981192648, 0.008180337958037853, -0.02092885598540306, -0.030017759650945663, -0.03426336124539375, -0.001843448611907661, 0.029168281704187393, 0.015016468241810799, 0.04155783727765083, -0.010036827996373177, -0.03781277686357498, -0.0006189669948071241, -0.018940597772598267, 0.00323054869659245, -0.03820328041911125, 0.03624281287193298, -0.019126102328300476, -0.0029916863422840834, 0.00705361645668745, 0.010302607901394367, -0.006092675495892763, -0.002670831745490432, 0.017104120925068855, -0.008006244897842407, 0.01711137592792511, -0.003535632509738207, -0.0274308193475008, 0.06917254626750946, -0.004619272891432047, -0.05356215313076973, -0.048909544944763184, 0.03845313936471939, 0.005175725091248751, 0.04321300610899925, 0.01696000061929226, -0.04161672666668892, -0.033190563321113586, -0.04725789651274681, 0.015221172012388706, -0.04186360165476799, 0.00537291681393981, -0.03888659551739693, -0.03342970460653305, -0.008497330360114574, 0.014097641222178936, 0.022453151643276215, -0.007746937684714794, 2.6479292500880547e-06, -0.03815716132521629, 0.017897609621286392, -0.045841410756111145, -0.020746901631355286, -0.02843085490167141, -0.029800716787576675, -0.013055647723376751, 0.04084347188472748, 0.002326501766219735, 0.003356503089889884, -0.016294188797473907, -0.0009242779924534261, 0.01755460537970066, 0.00569916982203722, -0.04590940475463867, -0.05345071107149124, 0.012794100679457188, -0.023515265434980392, 0.007437856402248144, -0.015378369949758053, -0.04461313411593437, 0.052799444645643234, -0.07459186762571335, 0.009370730258524418, -0.016349542886018753, -0.032525960355997086, -0.00604223320260644, -0.04345206916332245, 0.046680428087711334, -0.007926272228360176, -0.00243255402892828, 0.00785079039633274, 0.017582962289452553, 0.04606591910123825, 0.031436339020729065, -0.02468515932559967, -0.0289782602339983, -0.03320476785302162, -0.06493869423866272, 0.04332095384597778, -0.02957252413034439, -0.0005905760335735977, -0.02226705104112625, 0.004120411351323128, 0.050954997539520264, -0.008994911797344685, 0.046705398708581924, 0.05045297369360924, -0.010170653462409973, 0.0096655348315835, -0.031823597848415375, 0.04463408142328262, 0.03466160595417023, -0.02440769597887993, -0.016067763790488243, -0.0038245676551014185, -0.04559113830327988, 0.019293881952762604, -0.052023760974407196, -0.0426923930644989, -0.03743673115968704, -0.004626564681529999, 0.0670052170753479, -0.006995723117142916, 0.03352624177932739, -0.0032249558717012405, -0.051211316138505936, -0.047357287257909775, 0.06895054876804352, -0.007613704539835453, 0.007656412664800882, 0.04438578709959984, -0.012410172261297703, -0.014978856779634953, 0.008995707146823406, -0.020486460998654366, -0.0023518740199506283, -0.036310985684394836, 0.0941636711359024, -0.03340989723801613, -0.05333720147609711, 0.017663029953837395, 0.04178695008158684, -0.04389128088951111, -0.03670414537191391, -0.025174152106046677, 0.03304573893547058, -0.014180903322994709, -0.03886265680193901, 0.028595449402928352, 0.018932340666651726, -0.03742530569434166, 0.0163347739726305, 0.03858306631445885, 0.011448442004621029, 0.012291946448385715, 0.04648250341415405, 0.014454476535320282, -0.01107100397348404, 0.018148144707083702, 0.04424316808581352, -0.009563016705214977, -0.03974659740924835, -0.031021252274513245, -0.005984680261462927, -0.009282012470066547, -0.02043951116502285, 0.04944882169365883, -0.03718072175979614, 0.005275925621390343, 0.039082836359739304, -0.003564215498045087, 0.05517079308629036, -0.032991595566272736, -0.00976473093032837, 0.016555586829781532, -0.019325464963912964, -0.054995011538267136, -0.020458484068512917, 0.016439082100987434, 0.01288537122309208, 0.020942529663443565, -0.053125087171792984, 0.0069066500291228294, 0.04316479712724686, 0.01171876210719347, -0.0145044457167387, -0.08476291596889496, -0.012457134202122688, -0.047118157148361206, -0.0002049371978500858, -0.0047155036590993404, -0.03889402747154236, -0.001320025185123086, 0.0295507051050663, 0.03612527251243591, -0.04616914689540863, 0.011905599385499954, 0.038140784949064255, -0.04249648377299309, 0.01895054057240486, -0.01024957001209259, 0.026080122217535973, -0.03862158581614494, -0.024156363680958748, -0.01159417163580656, 0.0020768598187714815, -0.002160316798835993, -0.002528022974729538, -0.026969056576490402, 0.010940461419522762, 0.029875498265028, 0.015348182991147041, -0.00836227461695671, 0.012546456418931484, -0.030223533511161804, -0.002423894591629505, -0.016162369400262833, -0.00804914254695177, -0.023903174325823784, 0.01918366365134716, 0.027115900069475174, -0.0018038945272564888, 0.019903240725398064, 0.01127250213176012, -0.025454716756939888, -0.01991669274866581, 0.04874255880713463, 0.03799890726804733, -0.0025801907759159803, -0.024637794122099876, -0.02307073585689068, 0.030918410047888756, -0.048639070242643356, 0.02275574393570423, -0.0064239888451993465, -0.007468728814274073, 0.005652273539453745, 0.007128274068236351, -0.003670538542792201, 0.08937403559684753, 0.005796321667730808, 0.028386762365698814, 0.00806377548724413, -0.0034308412577956915, 0.019530389457941055, -0.0068524666130542755, 0.03327685967087746, 0.004212796222418547, 0.029609985649585724, -0.04202401638031006, 0.016551554203033447, 0.04500633105635643, 0.003168173134326935, 0.013965723104774952, 0.006268580909818411, -0.018680451437830925, -0.00947236455976963, -0.014166724868118763, 0.039725665003061295, 0.05957736819982529, 0.035486746579408646, 0.00786576047539711, -0.009670324623584747, -0.0005759586347267032, -0.041748326271772385, 0.01208000909537077, -0.06569302827119827, -0.04055395722389221, 0.037204399704933167, -0.02482389658689499, -0.01055503636598587, -0.03238571435213089, 0.001651320024393499, 7.960523362271488e-05, 0.001558890682645142, 0.010242996737360954, 0.0022415020503103733, 0.0123142646625638, -0.014808774925768375, 0.06479191035032272, -0.025825005024671555, -0.014484750106930733, -0.001528870197944343, 0.06125893071293831, -0.04038522392511368, -0.03380111977458, 0.012677754275500774, 0.06966914981603622, 0.002761817304417491, -0.00294240890070796, -0.024000292643904686, 0.006625142879784107, 0.013813362456858158, 0.017014559358358383, -0.041624169796705246, -0.007601960562169552, -0.01730414107441902, 0.04160941019654274, -0.02298928238451481, -0.016604173928499222, -0.03269534558057785, 0.03934231773018837, -0.0006101806065998971, -0.005797031335532665, -0.012595202773809433, 0.0347510389983654, 0.029835525900125504, -0.010523299686610699, 0.00357284233905375, 0.01565280370414257, 0.032035548239946365, -0.03127453476190567, 0.01424957811832428, -0.01566205359995365, 0.04896261915564537, 0.025965377688407898, 0.011149981059134007, -0.0002938217076007277, 0.021859459578990936, 0.05631323158740997, -0.013577013276517391, -0.015111751854419708, 0.02728748694062233, 0.006544941104948521, -0.03454943373799324, -0.01590801402926445, -0.0036823954433202744, -0.001068032463081181, 0.009939778596162796, -0.023003997281193733, 0.03856091946363449, -0.024158142507076263, -0.011781454086303711, -0.005661191418766975, -0.01984655112028122, 0.051557257771492004, -0.05005320534110069, -0.045225344598293304, 0.0049176085740327835, -0.0019022346241399646, 0.011106600053608418, 0.039088815450668335, 0.03844958916306496, -0.006468041334301233, 0.03464294970035553, 0.014103853143751621, 0.018335379660129547, 0.029843874275684357, 0.018560217693448067, 0.016095448285341263, -0.024291468784213066, 0.004227730445563793, 0.01910325698554516, -0.02927069179713726, -0.037074312567710876, -0.02339811995625496, -0.04793371260166168, 0.030825553461909294, -0.023703821003437042, -0.007708182092756033, 0.030209625139832497, -0.06278911232948303, -0.0296129509806633, -0.048160865902900696, 0.02771715633571148, -0.05917343124747276, 0.017863202840089798, 0.02439613826572895, -0.020165467634797096, -0.05565720424056053, 0.02576391026377678, -0.024131717160344124, 0.020604601129889488, 0.004141098354011774, 0.03998536244034767, -0.001485319691710174, 0.0850372165441513, 0.031839046627283096, -0.009371286258101463, 0.02175532653927803, 0.035463638603687286, -0.053442005068063736, -0.04001797363162041, -0.024708282202482224, -0.032445766031742096, -0.0076621538028120995, -0.009899495169520378, -0.036571212112903595, -0.0035517585929483175, 0.04424789920449257, -0.02152722142636776, -0.04930873215198517, -0.004802280571311712, 0.027902400121092796, -0.04271045699715614, 0.008263887837529182, 0.0338020920753479, 0.01932937651872635, -0.005011715926229954, -0.017635852098464966, -0.00786688830703497, -0.039832159876823425, -0.038741953670978546, -0.019585594534873962, 0.049878086894750595, -0.006806681398302317, -0.019884753972291946, -0.04333869367837906, -0.04484349489212036, -0.01950140669941902, 0.006590811535716057, -0.01757488213479519, -0.008745354600250721, 0.0546642430126667, 0.039672479033470154, 0.032855790108442307, 0.012958628125488758, -0.019565630704164505, -0.01889416202902794, 0.04740893468260765, 0.061194390058517456, 0.014189433306455612, 0.07612642645835876, 0.04226601496338844, 0.02778463065624237, -0.00018696521874517202, -0.00585258798673749, 0.03744738548994064, -0.03054395690560341, -0.003233150113373995, -0.008356002159416676, 0.014932290650904179, -0.022845691069960594, -0.058314867317676544, -0.011027622036635876, 0.04130525141954422, 0.014405988156795502, -0.022024523466825485, -0.04771427437663078, -0.007212224416434765, -0.05830950289964676, -0.00766892172396183, -0.03251567855477333, 0.026548471301794052, 0.00940885953605175, -0.02199830301105976, -0.0030896118842065334, -0.06981227546930313, 0.21319274604320526, 0.04095832258462906, 0.02759603224694729, 0.020098717883229256, -0.010142485611140728, 0.051738496869802475, 0.036190230399370193, -0.005399003159254789, 0.008112342096865177, -0.019167475402355194, 0.021669484674930573, -0.024629803374409676, 0.019929513335227966, 0.030714627355337143, 0.0017518617678433657, 0.030492207035422325, -0.04221110790967941, -0.02049824222922325, -0.004599773325026035, -0.06459710747003555, -0.04599342122673988, 0.004519854672253132, -0.014868165366351604, 0.02485698275268078, 0.012732441537082195, 0.011128724552690983, 0.012735881842672825, -0.03547932207584381, -0.006409535650163889, -0.015241472981870174, 0.008264479227364063, -0.033652983605861664, 0.022561952471733093, 0.018654046580195427, -0.005529355723410845, 0.02146879956126213, 0.001462278887629509, -0.04895384609699249, -0.014790516346693039, 0.028975365683436394, -0.012220988981425762, 0.009171521291136742, 0.04081457853317261, -0.035893600434064865, 0.014542607590556145, 0.0301824901252985, -0.03538741543889046, -0.008755997754633427, 0.028097841888666153, -0.06157848238945007, 0.04038875177502632, -0.024692801758646965, 0.021360019221901894, -0.009914304129779339, -0.041618186980485916, -0.012659295462071896, -0.01924656704068184, -0.03989849239587784, 0.0027299963403493166, 0.01452138926833868, 0.024053994566202164, -0.005757788196206093, 0.014596852473914623, 0.03814226761460304, -0.04459401220083237, 0.03269347921013832, -0.03822711855173111, 0.01788008026778698, 0.01033127773553133, -0.011674657464027405, 0.010762994177639484, -0.01866731606423855, -0.010285135358572006, -0.023018697276711464, 0.027462627738714218, 0.023471089079976082, -0.010519538074731827, 0.03740278631448746, 0.009179915301501751, -0.03741366043686867, -0.0006170814740471542, -0.013346690684556961, -0.015018952079117298, -0.030473703518509865, 0.026844454929232597, 0.05498640611767769, -0.0646168440580368, -0.04198562353849411, 0.007719667162746191, 0.03534771502017975, 0.028934122994542122, 0.035793598741292953, -0.004086221102625132, -0.034519366919994354, 0.022303130477666855]})]\n"
          ]
        }
      ]
    },
    {
      "cell_type": "code",
      "source": [
        "for source in  results[\"source_documents\"]:\n",
        "    print(source.metadata)"
      ],
      "metadata": {
        "colab": {
          "base_uri": "https://localhost:8080/"
        },
        "id": "1PZgkIPJPgQf",
        "outputId": "a3c0c013-4757-4630-b327-e77943cee496"
      },
      "execution_count": 69,
      "outputs": [
        {
          "metadata": {
            "tags": null
          },
          "name": "stdout",
          "output_type": "stream",
          "text": [
            "{'page': 2, 'source': '/content/Transformer.pdf'}\n",
            "{'page': 1, 'source': '/content/Transformer.pdf'}\n",
            "{'page': 7, 'source': '/content/Transformer.pdf'}\n",
            "{'page': 9, 'source': '/content/Transformer.pdf'}\n",
            "{'page': 5, 'source': '/content/Transformer.pdf'}\n",
            "{'page': 9, 'source': '/content/Retrieval-Augmented-Generation-for-NLP.pdf'}\n",
            "{'page': 5, 'source': '/content/Retrieval-Augmented-Generation-for-NLP.pdf'}\n",
            "{'page': 3, 'source': '/content/Retrieval-Augmented-Generation-for-NLP.pdf'}\n",
            "{'page': 6, 'source': '/content/Retrieval-Augmented-Generation-for-NLP.pdf'}\n",
            "{'page': 16, 'source': '/content/Retrieval-Augmented-Generation-for-NLP.pdf'}\n"
          ]
        }
      ]
    }
  ]
}